{
 "cells": [
  {
   "cell_type": "markdown",
   "id": "096ef305-dac4-430a-97bd-14412912ad88",
   "metadata": {},
   "source": [
    "### [NLTK Inaugural]"
   ]
  },
  {
   "cell_type": "code",
   "execution_count": 2,
   "id": "e55bc792-eb64-4e34-9446-44ee849872b0",
   "metadata": {},
   "outputs": [
    {
     "name": "stdout",
     "output_type": "stream",
     "text": [
      "showing info https://raw.githubusercontent.com/nltk/nltk_data/gh-pages/index.xml\n"
     ]
    },
    {
     "data": {
      "text/plain": [
       "True"
      ]
     },
     "execution_count": 2,
     "metadata": {},
     "output_type": "execute_result"
    }
   ],
   "source": [
    "import nltk\n",
    "nltk.download() #lookup\n",
    "# 전체 코퍼스를 한번 다 다운 받으면 오류 안남"
   ]
  },
  {
   "cell_type": "markdown",
   "id": "acba38c7",
   "metadata": {},
   "source": []
  },
  {
   "cell_type": "code",
   "execution_count": 3,
   "id": "0a1d3ac0-c05e-4da8-82e4-4f44c9ce1bae",
   "metadata": {},
   "outputs": [
    {
     "name": "stderr",
     "output_type": "stream",
     "text": [
      "[nltk_data] Downloading package brown to\n",
      "[nltk_data]     C:\\Users\\Jung_a\\AppData\\Roaming\\nltk_data...\n",
      "[nltk_data]   Package brown is already up-to-date!\n",
      "[nltk_data] Downloading package inaugural to\n",
      "[nltk_data]     C:\\Users\\Jung_a\\AppData\\Roaming\\nltk_data...\n",
      "[nltk_data]   Package inaugural is already up-to-date!\n"
     ]
    },
    {
     "data": {
      "text/plain": [
       "True"
      ]
     },
     "execution_count": 3,
     "metadata": {},
     "output_type": "execute_result"
    }
   ],
   "source": [
    "# import nltk\n",
    "nltk.download(['brown','inaugural'])"
   ]
  },
  {
   "cell_type": "code",
   "execution_count": 5,
   "id": "fae6e909-bc8b-4152-9d0d-554491a4f041",
   "metadata": {},
   "outputs": [],
   "source": [
    "brown = nltk.corpus.brown"
   ]
  },
  {
   "cell_type": "code",
   "execution_count": 6,
   "id": "c79d9ee3-f957-444b-9411-1f92f37718d0",
   "metadata": {},
   "outputs": [
    {
     "name": "stdout",
     "output_type": "stream",
     "text": [
      "                  can could would  will might   may \n",
      "      adventure    46   151   191    50    58     5 \n",
      " belles_lettres   246   213   392   236   113   207 \n",
      "      editorial   121    56   180   233    39    74 \n",
      "        fiction    37   166   287    52    44     8 \n",
      "     government   117    38   120   244    13   153 \n",
      "        hobbies   268    58    78   264    22   131 \n",
      "          humor    16    30    56    13     8     8 \n",
      "        learned   365   159   319   340   128   324 \n",
      "           lore   170   141   186   175    49   165 \n",
      "        mystery    42   141   186    20    57    13 \n",
      "           news    93    86   244   389    38    66 \n",
      "       religion    82    59    68    71    12    78 \n",
      "        reviews    45    40    47    58    26    45 \n",
      "        romance    74   193   244    43    51    11 \n",
      "science_fiction    16    49    79    16    12     4 \n"
     ]
    }
   ],
   "source": [
    "## 전체 카테고리에서 특정 단어들의 빈도수를 한번에 보여주기\n",
    "\n",
    "#1. tabulate함수에서 modals와 카테고리 연결해주기\n",
    "# CFD\n",
    "cfd = nltk.ConditionalFreqDist(\n",
    "    (genre,word)\n",
    "    for genre in brown.categories()\n",
    "    for word in brown.words(categories=genre) #fileids도 쓸 수 있음 ex- words(categories=\"\",fileids=\"\")\n",
    ")\n",
    "\n",
    "# 모든 장르에서 modal의 빈도수\n",
    "modals = ['can','could','would','will','might','may']\n",
    "cfd.tabulate(conditions=brown.categories(),samples=modals)\n",
    "# brown.categories() : all 장르\n",
    "# word.lower()을 안했기 때문에 아래랑 값이 다름"
   ]
  },
  {
   "cell_type": "code",
   "execution_count": 8,
   "id": "6479f3a8-3ad3-41e1-83f6-164fcd36d451",
   "metadata": {},
   "outputs": [
    {
     "name": "stdout",
     "output_type": "stream",
     "text": [
      "                  can could   may might  will would \n",
      "      adventure    48   154     7    59    51   194 \n",
      " belles_lettres   249   216   221   113   246   397 \n",
      "      editorial   124    57    79    39   235   185 \n",
      "        fiction    39   168    10    44    56   291 \n",
      "     government   119    38   179    13   244   120 \n",
      "        hobbies   276    59   143    22   269    83 \n",
      "          humor    17    33     8     8    13    56 \n",
      "        learned   367   159   336   128   340   321 \n",
      "           lore   170   142   170    50   178   188 \n",
      "        mystery    45   145    15    57    25   189 \n",
      "           news    94    87    93    38   389   246 \n",
      "       religion    84    59    79    12    72    69 \n",
      "        reviews    45    40    47    26    61    48 \n",
      "        romance    79   195    11    51    49   247 \n",
      "science_fiction    16    49     4    12    17    80 \n"
     ]
    }
   ],
   "source": [
    "#2. cfd에서 한번에 연결하기\n",
    "\n",
    "# modals의 빈도수가 포함된 cfd (word -> modal_verb)\n",
    "cfd1 = nltk.ConditionalFreqDist(\n",
    "    (genre, modal)\n",
    "    for genre in brown.categories()\n",
    "    for modal in ['can','could','would','will','might','may']\n",
    "    \n",
    "    for word in brown.words(categories=genre) # genre와 modal을 이어주기 위해\n",
    "        if word.lower() == modal\n",
    ")\n",
    "cfd1.tabulate()\n"
   ]
  },
  {
   "cell_type": "code",
   "execution_count": null,
   "id": "d965bcfe-459c-43cd-aee6-dd293434d74f",
   "metadata": {},
   "outputs": [],
   "source": []
  },
  {
   "cell_type": "markdown",
   "id": "8323b7b8-19e1-4780-b2d3-1e60642d5706",
   "metadata": {},
   "source": [
    "### [Inaugural]\n",
    " - 연설문 코퍼스\n",
    " "
   ]
  },
  {
   "cell_type": "code",
   "execution_count": 9,
   "id": "86061d9a-2778-45b7-90a2-7aca08b9e45b",
   "metadata": {},
   "outputs": [],
   "source": [
    "inaugural = nltk.corpus.inaugural"
   ]
  },
  {
   "cell_type": "code",
   "execution_count": 10,
   "id": "b8eaee9e-bd7f-4240-8a42-528d9cdcf633",
   "metadata": {
    "collapsed": true,
    "jupyter": {
     "outputs_hidden": true
    },
    "tags": []
   },
   "outputs": [
    {
     "data": {
      "text/plain": [
       "['1789-Washington.txt',\n",
       " '1793-Washington.txt',\n",
       " '1797-Adams.txt',\n",
       " '1801-Jefferson.txt',\n",
       " '1805-Jefferson.txt',\n",
       " '1809-Madison.txt',\n",
       " '1813-Madison.txt',\n",
       " '1817-Monroe.txt',\n",
       " '1821-Monroe.txt',\n",
       " '1825-Adams.txt',\n",
       " '1829-Jackson.txt',\n",
       " '1833-Jackson.txt',\n",
       " '1837-VanBuren.txt',\n",
       " '1841-Harrison.txt',\n",
       " '1845-Polk.txt',\n",
       " '1849-Taylor.txt',\n",
       " '1853-Pierce.txt',\n",
       " '1857-Buchanan.txt',\n",
       " '1861-Lincoln.txt',\n",
       " '1865-Lincoln.txt',\n",
       " '1869-Grant.txt',\n",
       " '1873-Grant.txt',\n",
       " '1877-Hayes.txt',\n",
       " '1881-Garfield.txt',\n",
       " '1885-Cleveland.txt',\n",
       " '1889-Harrison.txt',\n",
       " '1893-Cleveland.txt',\n",
       " '1897-McKinley.txt',\n",
       " '1901-McKinley.txt',\n",
       " '1905-Roosevelt.txt',\n",
       " '1909-Taft.txt',\n",
       " '1913-Wilson.txt',\n",
       " '1917-Wilson.txt',\n",
       " '1921-Harding.txt',\n",
       " '1925-Coolidge.txt',\n",
       " '1929-Hoover.txt',\n",
       " '1933-Roosevelt.txt',\n",
       " '1937-Roosevelt.txt',\n",
       " '1941-Roosevelt.txt',\n",
       " '1945-Roosevelt.txt',\n",
       " '1949-Truman.txt',\n",
       " '1953-Eisenhower.txt',\n",
       " '1957-Eisenhower.txt',\n",
       " '1961-Kennedy.txt',\n",
       " '1965-Johnson.txt',\n",
       " '1969-Nixon.txt',\n",
       " '1973-Nixon.txt',\n",
       " '1977-Carter.txt',\n",
       " '1981-Reagan.txt',\n",
       " '1985-Reagan.txt',\n",
       " '1989-Bush.txt',\n",
       " '1993-Clinton.txt',\n",
       " '1997-Clinton.txt',\n",
       " '2001-Bush.txt',\n",
       " '2005-Bush.txt',\n",
       " '2009-Obama.txt',\n",
       " '2013-Obama.txt',\n",
       " '2017-Trump.txt',\n",
       " '2021-Biden.txt']"
      ]
     },
     "execution_count": 10,
     "metadata": {},
     "output_type": "execute_result"
    }
   ],
   "source": [
    "inaugural.fileids() # 연도-대통령 이름.text"
   ]
  },
  {
   "cell_type": "code",
   "execution_count": null,
   "id": "24e81860-d287-4104-96cf-e03153d6c7f0",
   "metadata": {},
   "outputs": [],
   "source": [
    "## 아메리카와 시티즌이 년도별로 얼마나 쓰였는지 보기\n",
    "\n",
    "# ['america','citizen'] 빈도수를 cfd로 만들어라. == 보다는 다르게 가는 게 좋다. 왜냐면 citizens를 포함해야해서. citizen's도.\n",
    "cfd1 = nltk.ConditionalFreqDist(\n",
    "    (file,inau)\n",
    "    for file in inaugural.fileids()\n",
    "    for inau in ['america','citizen'] # 소문자인 이유가 있음\n",
    "    \n",
    "    for word in inaugural.words(fileids=file)\n",
    "        if word.lower() == inau\n",
    ")\n",
    "cfd1.tabulate() #결과를 표로 만들어주는 함수 (테이블을 만들어줌)"
   ]
  },
  {
   "cell_type": "code",
   "execution_count": 15,
   "id": "7861149b-8c48-4754-bd98-735c6b2f5837",
   "metadata": {},
   "outputs": [
    {
     "name": "stdout",
     "output_type": "stream",
     "text": [
      "        1789-Washington 1793-Washington      1797-Adams  1801-Jefferson  1805-Jefferson    1809-Madison    1813-Madison     1817-Monroe     1821-Monroe      1825-Adams    1829-Jackson    1833-Jackson   1837-VanBuren   1841-Harrison       1845-Polk     1849-Taylor     1853-Pierce   1857-Buchanan    1861-Lincoln    1865-Lincoln      1869-Grant      1873-Grant      1877-Hayes   1881-Garfield  1885-Cleveland   1889-Harrison  1893-Cleveland   1897-McKinley   1901-McKinley  1905-Roosevelt       1909-Taft     1917-Wilson    1921-Harding   1925-Coolidge     1929-Hoover  1933-Roosevelt  1937-Roosevelt  1941-Roosevelt  1945-Roosevelt     1949-Truman 1953-Eisenhower 1957-Eisenhower    1961-Kennedy    1965-Johnson      1969-Nixon      1973-Nixon     1977-Carter     1981-Reagan     1985-Reagan       1989-Bush    1993-Clinton    1997-Clinton       2001-Bush       2005-Bush      2009-Obama      2013-Obama      2017-Trump      2021-Biden \n",
      "america               2               1               8               0               1               0               1               1               2               0               0               2               2               7               0               2               2               3               2               1               0               0               1               2               4               6               9               9               7               0              12               4              24              11              12               2               5              12               2               4               6               7               7              10              10              23               5              16              21              11              33              31              20              30              15              19              35              40 \n",
      "citizen               5               1               6               7              10               1               4              14              15               3               2               3               7              38              11               2               4               7               7               0               5               3               9               9              13              12              10              10               2               1               6               3               6               5              12               1               2               1               1               1               7               0               5               4               1               1               0               3               6               3               2              10              11               7               2               8               4               1 \n"
     ]
    }
   ],
   "source": [
    "cfd2 = nltk.ConditionalFreqDist(\n",
    "    (target_word,fileid[:-4]) #.txt를 없애기 위해서 [:-4] 해줌\n",
    "    #(fileid[:-4],target_word) # 위치를 바꾸면 x축, y축이 바뀐다.\n",
    "    for fileid in inaugural.fileids()\n",
    "    for target_word in ['america','citizen']\n",
    "    \n",
    "    for word in inaugural.words(fileids=fileid)\n",
    "        # if word.lower() == target_word \n",
    "        # if target_word in word.lower()\n",
    "        if word.lower().startswith(target_word)\n",
    ")\n",
    "cfd2.tabulate()"
   ]
  },
  {
   "cell_type": "code",
   "execution_count": 18,
   "id": "618632da-8532-41e3-8218-1acfcf099cf8",
   "metadata": {},
   "outputs": [
    {
     "name": "stdout",
     "output_type": "stream",
     "text": [
      "Requirement already satisfied: matplotlib in c:\\anaconda\\lib\\site-packages (3.4.3)\n",
      "Requirement already satisfied: numpy>=1.16 in c:\\anaconda\\lib\\site-packages (from matplotlib) (1.20.3)\n",
      "Requirement already satisfied: pillow>=6.2.0 in c:\\anaconda\\lib\\site-packages (from matplotlib) (8.4.0)\n",
      "Requirement already satisfied: cycler>=0.10 in c:\\anaconda\\lib\\site-packages (from matplotlib) (0.10.0)\n",
      "Requirement already satisfied: pyparsing>=2.2.1 in c:\\anaconda\\lib\\site-packages (from matplotlib) (3.0.4)\n",
      "Requirement already satisfied: python-dateutil>=2.7 in c:\\anaconda\\lib\\site-packages (from matplotlib) (2.8.2)\n",
      "Requirement already satisfied: kiwisolver>=1.0.1 in c:\\anaconda\\lib\\site-packages (from matplotlib) (1.3.1)\n",
      "Requirement already satisfied: six in c:\\anaconda\\lib\\site-packages (from cycler>=0.10->matplotlib) (1.16.0)\n"
     ]
    },
    {
     "data": {
      "image/png": "[encoded data removed]",
      "text/plain": [
       "<Figure size 864x360 with 1 Axes>"
      ]
     },
     "metadata": {
      "needs_background": "light"
     },
     "output_type": "display_data"
    },
    {
     "data": {
      "text/plain": [
       "<AxesSubplot:xlabel='Samples', ylabel='Counts'>"
      ]
     },
     "execution_count": 18,
     "metadata": {},
     "output_type": "execute_result"
    }
   ],
   "source": [
    "!pip install matplotlib\n",
    "import matplotlib.pyplot as plt\n",
    "plt.figure(figsize=(12,5))\n",
    "cfd1.plot()"
   ]
  },
  {
   "cell_type": "code",
   "execution_count": 16,
   "id": "866ece6c-4f05-4f72-95ef-348984086863",
   "metadata": {},
   "outputs": [
    {
     "data": {
      "image/png": "[encoded data removed]",
      "text/plain": [
       "<Figure size 432x288 with 1 Axes>"
      ]
     },
     "metadata": {
      "needs_background": "light"
     },
     "output_type": "display_data"
    },
    {
     "data": {
      "text/plain": [
       "<AxesSubplot:xlabel='Samples', ylabel='Counts'>"
      ]
     },
     "execution_count": 16,
     "metadata": {},
     "output_type": "execute_result"
    }
   ],
   "source": [
    "cfd2.plot() #(그림을 그려줌)"
   ]
  },
  {
   "cell_type": "code",
   "execution_count": 19,
   "id": "1f767a54-e4ca-4d51-92e7-66eeffe68210",
   "metadata": {},
   "outputs": [
    {
     "data": {
      "image/png": "[encoded data removed]",
      "text/plain": [
       "<Figure size 864x360 with 1 Axes>"
      ]
     },
     "metadata": {
      "needs_background": "light"
     },
     "output_type": "display_data"
    },
    {
     "data": {
      "text/plain": [
       "<AxesSubplot:xlabel='Samples', ylabel='Counts'>"
      ]
     },
     "execution_count": 19,
     "metadata": {},
     "output_type": "execute_result"
    }
   ],
   "source": [
    "# 각 년도별로 시티즌, 아메리카 얼마나 썼는지 보여줌\n",
    "# 즉, 각 장르(파일 아이디)별로 내가 원하는 단어의 빈도수를 볼 수 있음\n",
    "plt.figure(figsize=(12,5)) \n",
    "cfd2.plot()"
   ]
  },
  {
   "cell_type": "code",
   "execution_count": null,
   "id": "9bd7bd68-ae2f-4e6c-8ed4-cff9f6a3d337",
   "metadata": {},
   "outputs": [],
   "source": []
  },
  {
   "cell_type": "markdown",
   "id": "0097c044-403e-460a-8a35-4544a636ae11",
   "metadata": {},
   "source": [
    "### [Tuple & List]\n",
    "- 튜플: 불변객체\n",
    "- 리스트: 가변 객체"
   ]
  },
  {
   "cell_type": "code",
   "execution_count": 20,
   "id": "0d527529-c05e-4d87-9364-d48513cb3ad0",
   "metadata": {},
   "outputs": [
    {
     "data": {
      "text/plain": [
       "((), [])"
      ]
     },
     "execution_count": 20,
     "metadata": {},
     "output_type": "execute_result"
    }
   ],
   "source": [
    "# 생성\n",
    "emptyT = () \n",
    "emptyT = tuple()\n",
    "\n",
    "emptyL = []\n",
    "emptyL = list()\n",
    "\n",
    "emptyT, emptyL"
   ]
  },
  {
   "cell_type": "code",
   "execution_count": 21,
   "id": "425eddb5-4b81-48e9-bed0-4a0a7842138d",
   "metadata": {},
   "outputs": [
    {
     "data": {
      "text/plain": [
       "('a', 'b')"
      ]
     },
     "execution_count": 21,
     "metadata": {},
     "output_type": "execute_result"
    }
   ],
   "source": [
    "# 1.1 요소가 여러개일 때\n",
    "# alphabetT = ('a','b')\n",
    "alphabetT = 'a','b' #괄호 없이도 가능. 편해서 많이 쓴다\n",
    "alphabetT"
   ]
  },
  {
   "cell_type": "code",
   "execution_count": null,
   "id": "0e99e8de-e3de-4d14-a4f5-b927cf607edf",
   "metadata": {},
   "outputs": [],
   "source": [
    "alphabetL = ['a','b']"
   ]
  },
  {
   "cell_type": "code",
   "execution_count": 23,
   "id": "74c644da-9773-4d4c-a999-c1b473051224",
   "metadata": {},
   "outputs": [
    {
     "data": {
      "text/plain": [
       "str"
      ]
     },
     "execution_count": 23,
     "metadata": {},
     "output_type": "execute_result"
    }
   ],
   "source": [
    "# 1.2 요소가 1개일 때, 주의! #################주의주의주의################\n",
    "alphaT = ('a')\n",
    "type(alphaT)\n",
    "# 튜플일 줄 알았는데? str임. "
   ]
  },
  {
   "cell_type": "code",
   "execution_count": 24,
   "id": "3eba8e10-47e7-4dc4-b420-50433118ea4f",
   "metadata": {},
   "outputs": [
    {
     "data": {
      "text/plain": [
       "tuple"
      ]
     },
     "execution_count": 24,
     "metadata": {},
     "output_type": "execute_result"
    }
   ],
   "source": [
    "# str하나를 튜플로 넣고 싶다면! 쉼표를 넣어라.\n",
    "# alphaT = 'b',\n",
    "alphaT = ('b',)\n",
    "type(alphaT)"
   ]
  },
  {
   "cell_type": "markdown",
   "id": "0588de29-ebc8-4153-aeba-727b2f6a2095",
   "metadata": {},
   "source": [
    "- packing: 한 변수에 여러 데이터 할당\n",
    "    - list, tuple 자체가 패킹. \n",
    "    - a = [1,2,3] 하나에 여러개 뭉치를 할당\n",
    "- unpacking: 한 변수에 여러 데이터가 들어 있을 때 여러 변수에 나누는 것\n",
    "    - a = 'k', b ='i',c ='m'"
   ]
  },
  {
   "cell_type": "code",
   "execution_count": 25,
   "id": "08ab1f52-a73a-46be-95c3-63dcc6bcb1e9",
   "metadata": {},
   "outputs": [
    {
     "data": {
      "text/plain": [
       "('k', 'i', 'm')"
      ]
     },
     "execution_count": 25,
     "metadata": {},
     "output_type": "execute_result"
    }
   ],
   "source": [
    "a,b,c = 'kim' #unpacking\n",
    "a,b,c"
   ]
  },
  {
   "cell_type": "code",
   "execution_count": null,
   "id": "1e549140-604b-4092-961f-d365b3d5e7a1",
   "metadata": {},
   "outputs": [],
   "source": [
    "# 값 교환하기\n",
    "pwd = 'abcd'\n",
    "userid = 'sky'\n",
    "\"\"\"\n",
    "temp1 = userid\n",
    "temp2 = pwd\n",
    "pwd = temp1\n",
    "userid = temp2 \n",
    "\n",
    "\"\"\""
   ]
  },
  {
   "cell_type": "code",
   "execution_count": null,
   "id": "a0824073-0ed3-4ba6-832e-0039837f18a2",
   "metadata": {},
   "outputs": [],
   "source": [
    "# 값 교환하는 다른 방법!\n",
    "pwd, userid = userid, pwd\n",
    "pwd, userid"
   ]
  },
  {
   "cell_type": "code",
   "execution_count": 27,
   "id": "68513c08-3d71-4975-877d-7e64617e715a",
   "metadata": {},
   "outputs": [
    {
     "data": {
      "text/plain": [
       "(1, 2, 1, 2, 1, 2)"
      ]
     },
     "execution_count": 27,
     "metadata": {},
     "output_type": "execute_result"
    }
   ],
   "source": [
    "# 튜플끼리 연산\n",
    "('a',) + (1,2) # >>> ('a', 1, 2)\n",
    "(1,2) * 3 # >>> (1, 2, 1, 2, 1, 2)"
   ]
  },
  {
   "cell_type": "code",
   "execution_count": 28,
   "id": "de1459f1-1658-43ff-a6dc-db1fc40632b7",
   "metadata": {},
   "outputs": [
    {
     "data": {
      "text/plain": [
       "('a', 1, 2)"
      ]
     },
     "execution_count": 28,
     "metadata": {},
     "output_type": "execute_result"
    }
   ],
   "source": [
    "# 어떻게 튜플이 연산이 가능한가?\n",
    "x = ('a',)\n",
    "y = (1,2)\n",
    "x+y"
   ]
  },
  {
   "cell_type": "code",
   "execution_count": 29,
   "id": "16fc3b5c-2296-46d2-84d5-6beca424c6e7",
   "metadata": {},
   "outputs": [
    {
     "data": {
      "text/plain": [
       "(1837856672256, 1837853308288)"
      ]
     },
     "execution_count": 29,
     "metadata": {},
     "output_type": "execute_result"
    }
   ],
   "source": [
    "id(x), id(x+y) #x값은 변하지 않았음. 즉, x+y라는 새로운 변수에 할당이 된 것"
   ]
  },
  {
   "cell_type": "code",
   "execution_count": 30,
   "id": "76255b5f-1555-42ea-aec0-6f35990b7556",
   "metadata": {},
   "outputs": [
    {
     "data": {
      "text/plain": [
       "True"
      ]
     },
     "execution_count": 30,
     "metadata": {},
     "output_type": "execute_result"
    }
   ],
   "source": [
    "# 퓨틀끼리 비교도 가능하다\n",
    "x = 1,2\n",
    "y = 1,6\n",
    "\n",
    "x < y # 두번째 인자에서 비교"
   ]
  },
  {
   "cell_type": "code",
   "execution_count": 31,
   "id": "427eb048-39b3-4f46-8399-546f85301f5c",
   "metadata": {},
   "outputs": [
    {
     "name": "stdout",
     "output_type": "stream",
     "text": [
      "(1, 2)\n",
      "(1, 2)\n"
     ]
    }
   ],
   "source": [
    "# 튜플 순회\n",
    "for i in x:\n",
    "    print(x)"
   ]
  },
  {
   "cell_type": "code",
   "execution_count": 32,
   "id": "029b0b1a-9116-4fbe-924f-e6b5c149ffe9",
   "metadata": {},
   "outputs": [
    {
     "data": {
      "text/plain": [
       "[1, 2]"
      ]
     },
     "execution_count": 32,
     "metadata": {},
     "output_type": "execute_result"
    }
   ],
   "source": [
    "#1.  lsit comprehension\n",
    "[i for i in x] # 제일 많이 사용"
   ]
  },
  {
   "cell_type": "code",
   "execution_count": 34,
   "id": "09838da4-06ef-4627-9cc8-67cbb1b5e6e5",
   "metadata": {},
   "outputs": [
    {
     "data": {
      "text/plain": [
       "(1, 2)"
      ]
     },
     "execution_count": 34,
     "metadata": {},
     "output_type": "execute_result"
    }
   ],
   "source": [
    "#2 tuple 컴프리헨션은 없다. 그러나 튜플로 변경할 순 있음.\n",
    "tuple([i for i in x]) "
   ]
  },
  {
   "cell_type": "code",
   "execution_count": 33,
   "id": "a34acfad-2a19-4b28-a86a-948250ddb493",
   "metadata": {},
   "outputs": [
    {
     "data": {
      "text/plain": [
       "(1, 2)"
      ]
     },
     "execution_count": 33,
     "metadata": {},
     "output_type": "execute_result"
    }
   ],
   "source": [
    "#3. 리스트를 튜플로 변경하는 방법\n",
    "*[i for i in x], #그러나 느림 굳이 튜플로 변경할 필요는 없음"
   ]
  },
  {
   "cell_type": "code",
   "execution_count": 39,
   "id": "a9b465ec-dd38-40d5-a389-30e3f613ed58",
   "metadata": {},
   "outputs": [
    {
     "data": {
      "text/plain": [
       "('d', 'o', 'g')"
      ]
     },
     "execution_count": 39,
     "metadata": {},
     "output_type": "execute_result"
    }
   ],
   "source": [
    "# str을 튜플로 형 변환시 주의 : tuple('dog') vs ('dog',) vs list('dog')\n",
    "dog = 'dog'\n",
    "tuple(dog) "
   ]
  },
  {
   "cell_type": "code",
   "execution_count": 36,
   "id": "577581eb-a935-439c-88ef-f55849faf7be",
   "metadata": {},
   "outputs": [
    {
     "data": {
      "text/plain": [
       "('dog',)"
      ]
     },
     "execution_count": 36,
     "metadata": {},
     "output_type": "execute_result"
    }
   ],
   "source": [
    "# 결과: 'str'이 튜플로 들어감\n",
    "(dog,)"
   ]
  },
  {
   "cell_type": "code",
   "execution_count": 43,
   "id": "c5beaa48-397e-4713-acc0-565f798203e3",
   "metadata": {},
   "outputs": [
    {
     "data": {
      "text/plain": [
       "['dog']"
      ]
     },
     "execution_count": 43,
     "metadata": {},
     "output_type": "execute_result"
    }
   ],
   "source": [
    "list(('dog',))"
   ]
  },
  {
   "cell_type": "code",
   "execution_count": 44,
   "id": "67852b7a-6bea-4f40-8dce-6d0d5d4ede17",
   "metadata": {},
   "outputs": [
    {
     "data": {
      "text/plain": [
       "['d', 'o', 'g']"
      ]
     },
     "execution_count": 44,
     "metadata": {},
     "output_type": "execute_result"
    }
   ],
   "source": [
    "list('dog')"
   ]
  },
  {
   "cell_type": "code",
   "execution_count": null,
   "id": "1520c895-f948-421a-8a59-03cf94d0e2fa",
   "metadata": {},
   "outputs": [],
   "source": [
    "# slicing\n",
    "dogT = tuple(dog) #튜플도 슬라이싱 가능\n",
    "dogT[0]"
   ]
  },
  {
   "cell_type": "markdown",
   "id": "d2f94185-13ee-4240-89da-4582223ad903",
   "metadata": {},
   "source": [
    "[정리]\n",
    "- tuple 장점\n",
    "    - 변하지 않는 데이터 시퀀스를 만들 수 있다. \n",
    "    - 다른 사람들이 변경할 수 없음. 타인의 접근 막음\n",
    "        - blue=1,white=2,..코드를 만들었을 때 많이 사용\n",
    "    - 메모리 사용 적다.\n",
    "\n",
    "- list 장점\n",
    "    - 튜플 장점 필요업을 때 전부 리스트 사용\n",
    "    - 데이터를 순차적으로 파악할 때\n",
    "    - 중복 데이터 쓸 수 있음 vs set / tuple 도 중복 가능\n",
    "    "
   ]
  },
  {
   "cell_type": "markdown",
   "id": "3084422b-a90a-4af0-a7bf-ea579d40aacd",
   "metadata": {},
   "source": [
    "### [리스트의 유용한 함수들]\n",
    "- 변경, 삭제, 추가\n",
    "- 리스트컴프리 업그레이드"
   ]
  },
  {
   "cell_type": "code",
   "execution_count": 45,
   "id": "8607069f-37bf-4a08-8705-7be8f1d624ad",
   "metadata": {},
   "outputs": [
    {
     "data": {
      "text/plain": [
       "['a', 'b', 'c', 'd']"
      ]
     },
     "execution_count": 45,
     "metadata": {},
     "output_type": "execute_result"
    }
   ],
   "source": [
    "list('abcd')"
   ]
  },
  {
   "cell_type": "code",
   "execution_count": 46,
   "id": "b1c1ec97-1ae3-47e9-ae75-8a437afccdca",
   "metadata": {},
   "outputs": [
    {
     "data": {
      "text/plain": [
       "[0, 1, 2, 3, 4]"
      ]
     },
     "execution_count": 46,
     "metadata": {},
     "output_type": "execute_result"
    }
   ],
   "source": [
    "num = list(range(5))\n",
    "num"
   ]
  },
  {
   "cell_type": "code",
   "execution_count": 47,
   "id": "dbc1a603-0701-4509-948e-0dd4bd402bdb",
   "metadata": {},
   "outputs": [
    {
     "data": {
      "text/plain": [
       "[0, 1, 2, 3, 4, 6]"
      ]
     },
     "execution_count": 47,
     "metadata": {},
     "output_type": "execute_result"
    }
   ],
   "source": [
    "# 추가\n",
    "num.append(6) # 맨 뒤에 요소 1개를 추가, 여러개 한번에 추가 X\n",
    "num"
   ]
  },
  {
   "cell_type": "code",
   "execution_count": 48,
   "id": "f5fb17d4-a3f8-4254-a684-76ef5184a8bc",
   "metadata": {},
   "outputs": [
    {
     "data": {
      "text/plain": [
       "[8, 0, 1, 2, 3, 4, 6]"
      ]
     },
     "execution_count": 48,
     "metadata": {},
     "output_type": "execute_result"
    }
   ],
   "source": [
    "# insert(index,item)\n",
    "num.insert(0,8)\n",
    "num"
   ]
  },
  {
   "cell_type": "code",
   "execution_count": 49,
   "id": "58ad35bd-c71f-4585-baba-c7fc2ab150e6",
   "metadata": {},
   "outputs": [
    {
     "data": {
      "text/plain": [
       "[8, 0, 1, 2, 3, 4, 6, 6, 6, 6]"
      ]
     },
     "execution_count": 49,
     "metadata": {},
     "output_type": "execute_result"
    }
   ],
   "source": [
    "# 여러개 추가하고 싶을 땐 extend() / 인자를 리스트로 가져가야함 \n",
    "# 코드 만질 때 주의해야함. 어팬드할때마다 계속 추가됨\n",
    "x = [6,6,6]\n",
    "num.extend(x)\n",
    "num "
   ]
  },
  {
   "cell_type": "code",
   "execution_count": 50,
   "id": "f189552c-337d-4de2-acc6-34d0ebcc3d32",
   "metadata": {},
   "outputs": [
    {
     "data": {
      "text/plain": [
       "[8, 0, 1, 2, 3, 4, 6, 6, 6, 6, [6, 6, 6]]"
      ]
     },
     "execution_count": 50,
     "metadata": {},
     "output_type": "execute_result"
    }
   ],
   "source": [
    "num.append(x) #리스트를 append하면 리스트로 들어간다! / append != extend\n",
    "num"
   ]
  },
  {
   "cell_type": "code",
   "execution_count": 95,
   "id": "fe8100cf-3309-4325-ae31-7a274f429151",
   "metadata": {},
   "outputs": [
    {
     "data": {
      "text/plain": [
       "[4, 3, 2, 1, 0, 6, 6, 6]"
      ]
     },
     "execution_count": 95,
     "metadata": {},
     "output_type": "execute_result"
    }
   ],
   "source": [
    "# extend와 같은 방법\n",
    "num += x # 튜플은 안된다\n",
    "num"
   ]
  },
  {
   "cell_type": "code",
   "execution_count": 51,
   "id": "b7c4a3ee-3132-401e-9bd4-701d5ad6b9a4",
   "metadata": {},
   "outputs": [
    {
     "data": {
      "text/plain": [
       "[9, 0, 1, 2, 3, 4, 6, 6, 6, 6, [6, 6, 6]]"
      ]
     },
     "execution_count": 51,
     "metadata": {},
     "output_type": "execute_result"
    }
   ],
   "source": [
    "# offset\n",
    "num[0] = 9\n",
    "num"
   ]
  },
  {
   "cell_type": "code",
   "execution_count": 52,
   "id": "81c51fba-f8f2-41a8-a1d2-964f99f4fcd0",
   "metadata": {},
   "outputs": [
    {
     "data": {
      "text/plain": [
       "[2, 2, 2, 2, 3, 4, 6, 6, 6, 6, [6, 6, 6]]"
      ]
     },
     "execution_count": 52,
     "metadata": {},
     "output_type": "execute_result"
    }
   ],
   "source": [
    "# slice\n",
    "num[:3] = 2,2,2\n",
    "num"
   ]
  },
  {
   "cell_type": "code",
   "execution_count": 54,
   "id": "4fbe2956-9315-475c-a213-825a833e2434",
   "metadata": {},
   "outputs": [
    {
     "data": {
      "text/plain": [
       "['cat', 2, 3, 4, 6, 6, 6, 6, [6, 6, 6]]"
      ]
     },
     "execution_count": 54,
     "metadata": {},
     "output_type": "execute_result"
    }
   ],
   "source": [
    "num[:3] = ('cat',) #앞에서 3개가 없어지고 'cat'하나만 들어감\n",
    "num"
   ]
  },
  {
   "cell_type": "code",
   "execution_count": 55,
   "id": "fb47e5f5-cc31-4761-ac61-e57dddf5c116",
   "metadata": {},
   "outputs": [
    {
     "data": {
      "text/plain": [
       "['c', 'a', 't', 4, 6, 6, 6, 6, [6, 6, 6]]"
      ]
     },
     "execution_count": 55,
     "metadata": {},
     "output_type": "execute_result"
    }
   ],
   "source": [
    "num[:3] = 'cat' #언팩킹이 되어서 들어간다는것 주의\n",
    "num"
   ]
  },
  {
   "cell_type": "code",
   "execution_count": 56,
   "id": "a07f4884-4116-4510-b0a2-09aadd3bf246",
   "metadata": {},
   "outputs": [
    {
     "data": {
      "text/plain": [
       "[4, 6, 6, 6, 6, [6, 6, 6]]"
      ]
     },
     "execution_count": 56,
     "metadata": {},
     "output_type": "execute_result"
    }
   ],
   "source": [
    "# 삭제\n",
    "del num[:3] #특정 offset 지우기\n",
    "num"
   ]
  },
  {
   "cell_type": "code",
   "execution_count": 60,
   "id": "9b7def69-3a67-4353-82ba-8029094e497b",
   "metadata": {},
   "outputs": [
    {
     "data": {
      "text/plain": [
       "[4, 6, [6, 6, 6]]"
      ]
     },
     "execution_count": 60,
     "metadata": {},
     "output_type": "execute_result"
    }
   ],
   "source": [
    "# remove(value): 특정 값을 지우기\n",
    "# 보니까 이게 한번에 다 지워지는게 아니라 remove 한번에 하나씩 지워지네 (45m)\n",
    "num.remove(6)\n",
    "num"
   ]
  },
  {
   "cell_type": "code",
   "execution_count": 61,
   "id": "5cf1add3-7cd5-407c-8676-be69ccc2c336",
   "metadata": {},
   "outputs": [
    {
     "data": {
      "text/plain": [
       "[4, 6]"
      ]
     },
     "execution_count": 61,
     "metadata": {},
     "output_type": "execute_result"
    }
   ],
   "source": [
    "# pop(index) 기본값 = -1 / 맨 뒤에 하나가 제거됨\n",
    "num.pop()\n",
    "num"
   ]
  },
  {
   "cell_type": "code",
   "execution_count": 62,
   "id": "80881c84-1581-4ed5-92ab-2ba96b070144",
   "metadata": {},
   "outputs": [
    {
     "data": {
      "text/plain": [
       "[6]"
      ]
     },
     "execution_count": 62,
     "metadata": {},
     "output_type": "execute_result"
    }
   ],
   "source": [
    "num.pop(0)# 인덱스가 제거\n",
    "num"
   ]
  },
  {
   "cell_type": "code",
   "execution_count": 63,
   "id": "0a1bf62f-95a5-4a2a-8278-cd2daa75a247",
   "metadata": {},
   "outputs": [
    {
     "data": {
      "text/plain": [
       "[]"
      ]
     },
     "execution_count": 63,
     "metadata": {},
     "output_type": "execute_result"
    }
   ],
   "source": [
    "num.clear() # 다 지우기\n",
    "num"
   ]
  },
  {
   "cell_type": "code",
   "execution_count": 64,
   "id": "ccb25c62-a3b7-4b57-8125-cac03d0ce4c1",
   "metadata": {},
   "outputs": [
    {
     "data": {
      "text/plain": [
       "4"
      ]
     },
     "execution_count": 64,
     "metadata": {},
     "output_type": "execute_result"
    }
   ],
   "source": [
    "# 인덱스\n",
    "num = list(range(5))\n",
    "num.index(4)"
   ]
  },
  {
   "cell_type": "code",
   "execution_count": 65,
   "id": "81deca1b-92bb-4350-8b74-ac4ff4836a7f",
   "metadata": {},
   "outputs": [
    {
     "data": {
      "text/plain": [
       "True"
      ]
     },
     "execution_count": 65,
     "metadata": {},
     "output_type": "execute_result"
    }
   ],
   "source": [
    "0 in num"
   ]
  },
  {
   "cell_type": "code",
   "execution_count": null,
   "id": "8e54fa60-111a-4d23-af85-e049e253ba0c",
   "metadata": {},
   "outputs": [],
   "source": [
    "# 정렬: sort(), sorted()\n",
    "sorted(num,reverse=True) #변한 값만 복사해서 출력"
   ]
  },
  {
   "cell_type": "code",
   "execution_count": 66,
   "id": "a3583fea-177b-43eb-b34c-ff76328bfd30",
   "metadata": {},
   "outputs": [
    {
     "data": {
      "text/plain": [
       "[0, 1, 2, 3, 4]"
      ]
     },
     "execution_count": 66,
     "metadata": {},
     "output_type": "execute_result"
    }
   ],
   "source": [
    "num"
   ]
  },
  {
   "cell_type": "code",
   "execution_count": 68,
   "id": "1e148350-c812-44d3-9d9b-c358c9ff0040",
   "metadata": {},
   "outputs": [],
   "source": [
    "num.sort(reverse=True) # 리스트.sort()/ 값을 할당하지 않아도 됨"
   ]
  },
  {
   "cell_type": "code",
   "execution_count": 69,
   "id": "60800e51-7464-4650-8f45-0fac6f74e7ea",
   "metadata": {},
   "outputs": [
    {
     "data": {
      "text/plain": [
       "[4, 3, 2, 1, 0]"
      ]
     },
     "execution_count": 69,
     "metadata": {},
     "output_type": "execute_result"
    }
   ],
   "source": [
    "num"
   ]
  },
  {
   "cell_type": "code",
   "execution_count": null,
   "id": "74e07b49-dfac-4010-9dab-190fe87f0e63",
   "metadata": {},
   "outputs": [],
   "source": [
    "# reverse(), reversed() <---> sort(),serted() 관계와 비슷\n",
    "num.reverse()\n",
    "reversed(num) "
   ]
  },
  {
   "cell_type": "code",
   "execution_count": 70,
   "id": "d208355f-edb6-469c-b562-159221f0f8b3",
   "metadata": {},
   "outputs": [
    {
     "data": {
      "text/plain": [
       "[1, 2, 3, 4]"
      ]
     },
     "execution_count": 70,
     "metadata": {},
     "output_type": "execute_result"
    }
   ],
   "source": [
    "# 할당\n",
    "a = list(range(1,5))\n",
    "a"
   ]
  },
  {
   "cell_type": "code",
   "execution_count": 71,
   "id": "16b47956-b906-4e15-95d4-af1027e9b293",
   "metadata": {},
   "outputs": [
    {
     "data": {
      "text/plain": [
       "([6, 2, 3, 4], [6, 2, 3, 4])"
      ]
     },
     "execution_count": 71,
     "metadata": {},
     "output_type": "execute_result"
    }
   ],
   "source": [
    "b = a # '='는 같은 메모리 주소를 참조하는 것임\n",
    "b[0] = 6\n",
    "a,b\n",
    "# 둘다 변한다."
   ]
  },
  {
   "cell_type": "code",
   "execution_count": 72,
   "id": "f164b0a8-1f90-4d31-bfe9-58c9cf999af0",
   "metadata": {},
   "outputs": [
    {
     "data": {
      "text/plain": [
       "(1837857887680, 1837857887680)"
      ]
     },
     "execution_count": 72,
     "metadata": {},
     "output_type": "execute_result"
    }
   ],
   "source": [
    "# 메모리 주소\n",
    "id(a),id(b)"
   ]
  },
  {
   "cell_type": "code",
   "execution_count": 74,
   "id": "da3bbb7b-c733-4015-ada3-0030a132250f",
   "metadata": {},
   "outputs": [
    {
     "data": {
      "text/plain": [
       "(1837857887680, 1837857037248, 1837857877824, 1837857889216)"
      ]
     },
     "execution_count": 74,
     "metadata": {},
     "output_type": "execute_result"
    }
   ],
   "source": [
    "# shallow copy: 참조하지 않고 새로운 객체에 할당하는 방법. 얉은 복사\n",
    "c = a.copy()\n",
    "d = list(a)\n",
    "e = a[:]\n",
    "id(a),id(c),id(d),id(e) #메모리 주소가 다 다름"
   ]
  },
  {
   "cell_type": "code",
   "execution_count": 73,
   "id": "953af7e6-d228-4a42-a7c3-d4acd4689446",
   "metadata": {},
   "outputs": [
    {
     "data": {
      "text/plain": [
       "[6, 2, 3, 4, [1, 2, 3]]"
      ]
     },
     "execution_count": 73,
     "metadata": {},
     "output_type": "execute_result"
    }
   ],
   "source": [
    "# 딥카피가 아니면 어떤 일이 일어나는가\n",
    "a.append([1,2,3])\n",
    "a"
   ]
  },
  {
   "cell_type": "code",
   "execution_count": 75,
   "id": "63c359fb-1f9f-45c6-bed0-dcc87d44355e",
   "metadata": {},
   "outputs": [
    {
     "data": {
      "text/plain": [
       "(1837857887680, 1837857875264)"
      ]
     },
     "execution_count": 75,
     "metadata": {},
     "output_type": "execute_result"
    }
   ],
   "source": [
    "f = a.copy()\n",
    "id(a), id(f)"
   ]
  },
  {
   "cell_type": "code",
   "execution_count": 76,
   "id": "6f1772e2-9c81-495c-9a52-8e7909a3cfc4",
   "metadata": {},
   "outputs": [
    {
     "data": {
      "text/plain": [
       "([6, 2, 3, 4, [9, 2, 3]], [6, 2, 3, 4, [9, 2, 3]])"
      ]
     },
     "execution_count": 76,
     "metadata": {},
     "output_type": "execute_result"
    }
   ],
   "source": [
    "f[-1][0] = 9\n",
    "a,f #a에도 추가됨!! 메모리 주소가 다름에도 불구하고, 중첩된 리스트 요소가 같이 바뀐다."
   ]
  },
  {
   "cell_type": "code",
   "execution_count": 77,
   "id": "5259f351-93a7-4cd4-9930-ed0dd461a419",
   "metadata": {},
   "outputs": [
    {
     "data": {
      "text/plain": [
       "[6, 2, 3, 4, [9, 2, 3]]"
      ]
     },
     "execution_count": 77,
     "metadata": {},
     "output_type": "execute_result"
    }
   ],
   "source": [
    "# deepcopy: 깊은 복사, 하위에 중첩된 리스트 요소가 안 바뀌도록!!\n",
    "import copy\n",
    "g = copy.deepcopy(a)\n",
    "g"
   ]
  },
  {
   "cell_type": "code",
   "execution_count": 78,
   "id": "c0e4d867-8801-4d54-9f23-1345fe499364",
   "metadata": {},
   "outputs": [
    {
     "data": {
      "text/plain": [
       "([6, 2, 3, 4, [9, 2, 3]], [6, 2, 3, 4, [10, 2, 3]])"
      ]
     },
     "execution_count": 78,
     "metadata": {},
     "output_type": "execute_result"
    }
   ],
   "source": [
    "g[-1][0] = 10 # copy를 해도 a의 하위 집합이 변하지 않음!!\n",
    "a,g"
   ]
  },
  {
   "cell_type": "code",
   "execution_count": 79,
   "id": "ed13c438-2e60-4287-8d4a-c7f4cc58be13",
   "metadata": {},
   "outputs": [
    {
     "name": "stdout",
     "output_type": "stream",
     "text": [
      "('kaa', 77)\n",
      "('royce', 44)\n",
      "('phil', 54)\n"
     ]
    }
   ],
   "source": [
    "# 리스트 순회: zip, enumerate\n",
    "name = ['kaa','royce','phil']\n",
    "age = [77,44,54,99] #더 짧은걸 기준으로 끝난다. age가 하나 더 많지만 99출력 X\n",
    "\n",
    "# (name, age)\n",
    "for item1, item2 in zip(name,age):\n",
    "    print((item1,item2))"
   ]
  },
  {
   "cell_type": "code",
   "execution_count": 81,
   "id": "bf230d6c-7622-445b-8ed3-edcff15a5e54",
   "metadata": {},
   "outputs": [
    {
     "name": "stdout",
     "output_type": "stream",
     "text": [
      "('kaa', 77)\n",
      "('kaa', 44)\n",
      "('kaa', 54)\n",
      "('kaa', 99)\n",
      "('royce', 77)\n",
      "('royce', 44)\n",
      "('royce', 54)\n",
      "('royce', 99)\n",
      "('phil', 77)\n",
      "('phil', 44)\n",
      "('phil', 54)\n",
      "('phil', 99)\n"
     ]
    }
   ],
   "source": [
    "for item1 in name:\n",
    "    for item2 in age:\n",
    "        print((item1,item2))"
   ]
  },
  {
   "cell_type": "code",
   "execution_count": 82,
   "id": "a532a5bc-cc82-4714-a421-8e31e0986341",
   "metadata": {},
   "outputs": [
    {
     "data": {
      "text/plain": [
       "[('kaa', 77), ('royce', 44), ('phil', 54)]"
      ]
     },
     "execution_count": 82,
     "metadata": {},
     "output_type": "execute_result"
    }
   ],
   "source": [
    "list(zip(name,age))"
   ]
  },
  {
   "cell_type": "code",
   "execution_count": 83,
   "id": "c60804d4-170e-4445-aef2-da6adfa81655",
   "metadata": {},
   "outputs": [
    {
     "name": "stdout",
     "output_type": "stream",
     "text": [
      "0 kaa\n",
      "1 royce\n",
      "2 phil\n"
     ]
    }
   ],
   "source": [
    "# 리스트+인덱스: enumerate\n",
    "for idx, item in enumerate(name):\n",
    "    print(idx,item)"
   ]
  },
  {
   "cell_type": "code",
   "execution_count": null,
   "id": "9cc7b1ae-b979-41d4-a409-075a58e90549",
   "metadata": {},
   "outputs": [],
   "source": []
  },
  {
   "cell_type": "code",
   "execution_count": 84,
   "id": "1ac090c4-2bb3-43da-a1e7-41b2b28da00b",
   "metadata": {},
   "outputs": [
    {
     "data": {
      "text/plain": [
       "[(0, 'kaa'), (1, 'royce'), (2, 'phil')]"
      ]
     },
     "execution_count": 84,
     "metadata": {},
     "output_type": "execute_result"
    }
   ],
   "source": [
    "# 리스트 컴프리로?\n",
    "[(idx,item) for idx, item in enumerate(name)]"
   ]
  },
  {
   "cell_type": "code",
   "execution_count": 87,
   "id": "dce5d18b-1d2d-4291-b1f3-2987ce3c7ab1",
   "metadata": {},
   "outputs": [
    {
     "data": {
      "text/plain": [
       "[('kaa', 77),\n",
       " ('kaa', 44),\n",
       " ('kaa', 54),\n",
       " ('kaa', 99),\n",
       " ('royce', 77),\n",
       " ('royce', 44),\n",
       " ('royce', 54),\n",
       " ('royce', 99),\n",
       " ('phil', 77),\n",
       " ('phil', 44),\n",
       " ('phil', 54),\n",
       " ('phil', 99)]"
      ]
     },
     "execution_count": 87,
     "metadata": {},
     "output_type": "execute_result"
    }
   ],
   "source": [
    "# [('kaa', 77), ('royce', 44), ('phil', 54)] 를 리스트 컴프리로 만들면?\n",
    "[(item1,item2) for item1 in name for item2 in age]\n",
    "# 이렇게 하면 안됨!"
   ]
  },
  {
   "cell_type": "code",
   "execution_count": 86,
   "id": "e115b618-0019-4d06-a059-3d69a0abae6c",
   "metadata": {},
   "outputs": [
    {
     "data": {
      "text/plain": [
       "[('kaa', 77), ('royce', 44), ('phil', 54)]"
      ]
     },
     "execution_count": 86,
     "metadata": {},
     "output_type": "execute_result"
    }
   ],
   "source": [
    "# 정답\n",
    "[(item1,item2) for item1,item2 in zip(name,age)]\n",
    "# [ items for items in zip(name,age)] 도 가능! 다만, 아이템 요소 하나 하나를 수정할순 없음"
   ]
  },
  {
   "cell_type": "markdown",
   "id": "854db6ed-7cce-4d7f-8bde-43e50e96366f",
   "metadata": {},
   "source": [
    "name = ['kaa','royce','phil']\n",
    "age = [77,44,54,99] #더 짧은걸 기준으로 끝난다.\n",
    "\n",
    "# (name, age)\n",
    "for item1, item2 in zip(name,age):\n",
    "    print((item1,item2))"
   ]
  },
  {
   "cell_type": "code",
   "execution_count": 88,
   "id": "a3987a83-e92f-4d09-88fa-0898a27c8afc",
   "metadata": {},
   "outputs": [
    {
     "data": {
      "text/plain": [
       "[('kaa', 77), ('royce', 44), ('phil', 54)]"
      ]
     },
     "execution_count": 88,
     "metadata": {},
     "output_type": "execute_result"
    }
   ],
   "source": [
    "[(i,j) for i,j in zip(name,age)]"
   ]
  },
  {
   "cell_type": "code",
   "execution_count": 89,
   "id": "0a09de0b-a5d7-4e46-8f5c-e247a2f1490f",
   "metadata": {},
   "outputs": [
    {
     "name": "stdout",
     "output_type": "stream",
     "text": [
      "[('kaa', 77), ('royce', 44), ('phil', 54)]\n"
     ]
    }
   ],
   "source": [
    "# name, age를 이용해서 리스트를 만드는데 (이름,나이) for문 사용 (리컴 사용 X)\n",
    "\n",
    "newList = []\n",
    "for i,j in zip(name,age):\n",
    "    newList.append((i,j))\n",
    "print(newList)"
   ]
  },
  {
   "cell_type": "code",
   "execution_count": null,
   "id": "09dde600-909f-4d89-8623-460075a0a94a",
   "metadata": {},
   "outputs": [],
   "source": []
  },
  {
   "cell_type": "markdown",
   "id": "e18b407a-905b-47f8-a747-6ac8f1285f1f",
   "metadata": {},
   "source": [
    "#### [(i,j) for i,j in zip(name,age)] 에 대해서"
   ]
  },
  {
   "cell_type": "code",
   "execution_count": 90,
   "id": "6ac81852-cd9b-4e87-808a-0b43c8156962",
   "metadata": {},
   "outputs": [
    {
     "name": "stdout",
     "output_type": "stream",
     "text": [
      "kaa 77\n",
      "kaa 44\n",
      "kaa 54\n",
      "kaa 99\n",
      "royce 77\n",
      "royce 44\n",
      "royce 54\n",
      "royce 99\n",
      "phil 77\n",
      "phil 44\n",
      "phil 54\n",
      "phil 99\n"
     ]
    }
   ],
   "source": [
    "#1. for문을  리스트 컴프리로 바꾸기\n",
    "for i in name:\n",
    "    for j in age:\n",
    "        print(i,j)"
   ]
  },
  {
   "cell_type": "code",
   "execution_count": null,
   "id": "e630628f-83ac-45ae-a90c-8249eb23d934",
   "metadata": {},
   "outputs": [],
   "source": [
    "#1. 풀이\n",
    "[(i,j) for i in name for j in age]"
   ]
  },
  {
   "cell_type": "code",
   "execution_count": 97,
   "id": "6ea76048-0429-4db6-bf15-ae032a609844",
   "metadata": {},
   "outputs": [
    {
     "name": "stdout",
     "output_type": "stream",
     "text": [
      "kaa 77\n",
      "kaa 44\n",
      "kaa 54\n",
      "kaa 99\n",
      "royce 77\n",
      "royce 44\n",
      "royce 54\n",
      "royce 99\n",
      "phil 77\n",
      "phil 44\n",
      "phil 54\n",
      "phil 99\n",
      "\n",
      "[[('kaa', 77), ('kaa', 44), ('kaa', 54), ('kaa', 99)], [('royce', 77), ('royce', 44), ('royce', 54), ('royce', 99)], [('phil', 77), ('phil', 44), ('phil', 54), ('phil', 99)]]\n"
     ]
    }
   ],
   "source": [
    "#2. [i,j] 리스트의 리스트로 바꿔보기 (리.컴)\n",
    "\n",
    "\"\"\" output \n",
    "\n",
    "[[(kate,77),(kate,44),(kate,54)],[] ..]\n",
    "\n",
    "\"\"\"\n",
    "output = []\n",
    "for i in name:\n",
    "    empty = []\n",
    "    for j in age:\n",
    "        print(i,j)\n",
    "        empty.append((i,j))\n",
    "    output.append(empty)\n",
    "print()\n",
    "print(output)"
   ]
  },
  {
   "cell_type": "code",
   "execution_count": 94,
   "id": "a2dd1e2f-352f-4fd2-8cb1-5cff29e7ed91",
   "metadata": {},
   "outputs": [
    {
     "data": {
      "text/plain": [
       "[[('kaa', 77), ('kaa', 44), ('kaa', 54), ('kaa', 99)],\n",
       " [('royce', 77), ('royce', 44), ('royce', 54), ('royce', 99)],\n",
       " [('phil', 77), ('phil', 44), ('phil', 54), ('phil', 99)]]"
      ]
     },
     "execution_count": 94,
     "metadata": {},
     "output_type": "execute_result"
    }
   ],
   "source": [
    "[[(i,j) for j in age] for i in name]"
   ]
  },
  {
   "cell_type": "code",
   "execution_count": null,
   "id": "0dd39a3e-1d09-478b-a014-e7ea0a294a4b",
   "metadata": {},
   "outputs": [],
   "source": [
    "#2. 풀이\n",
    "[[(i,j) for j in age] for i in name] \n",
    "# age가 왜 안이고 name이 왜 밖인지?\n",
    "# >>> 저걸 이중 for문으로 작성한다 치면, name 한번 돌때 age가 다 출력되야 하므로 name이 밖, age가 안.\n",
    "\"\"\"\n",
    "for name:\n",
    "    for age \n",
    "\"\"\""
   ]
  },
  {
   "cell_type": "code",
   "execution_count": 99,
   "id": "0f8818e6-d17b-43a1-a7d9-8a1a068fd869",
   "metadata": {},
   "outputs": [],
   "source": [
    "sentence = \"do not judge a book by its cover\"\n",
    "\n",
    "# (대문자, 첫글자 대문자 타이틀, 글자 수) 리스트로 만들기"
   ]
  },
  {
   "cell_type": "code",
   "execution_count": 100,
   "id": "6e8ad3e7-81cc-46a8-b89a-e9b612c8fd70",
   "metadata": {},
   "outputs": [
    {
     "data": {
      "text/plain": [
       "[('DO', 'Do', 2),\n",
       " ('NOT', 'Not', 3),\n",
       " ('JUDGE', 'Judge', 5),\n",
       " ('A', 'A', 1),\n",
       " ('BOOK', 'Book', 4),\n",
       " ('BY', 'By', 2),\n",
       " ('ITS', 'Its', 3),\n",
       " ('COVER', 'Cover', 5)]"
      ]
     },
     "execution_count": 100,
     "metadata": {},
     "output_type": "execute_result"
    }
   ],
   "source": [
    "# 내 풀이\n",
    "[(word.upper(),word.title(),len(word)) for word in sentence.split()]"
   ]
  },
  {
   "cell_type": "code",
   "execution_count": 102,
   "id": "50c36b0d-6e43-4264-8e03-7dae07c0f66a",
   "metadata": {},
   "outputs": [
    {
     "data": {
      "text/plain": [
       "[['Sunja', 'said', 'goodnight', 'to', 'her', 'mother'],\n",
       " ['was', 'no', 'in', 'no', 'longer', 'in', 'Busan']]"
      ]
     },
     "execution_count": 102,
     "metadata": {},
     "output_type": "execute_result"
    }
   ],
   "source": [
    "text = [\n",
    "    ['Sunja','said','goodnight','to','her','mother'],\n",
    "    ['was','no','in','no','longer','in','Busan']\n",
    "]\n",
    "text"
   ]
  },
  {
   "cell_type": "code",
   "execution_count": 107,
   "id": "c478127b-0a0b-4dd5-b5ca-c13eb2418c32",
   "metadata": {},
   "outputs": [
    {
     "data": {
      "text/plain": [
       "['Sunja said goodnight to her mother', 'was no in no longer in Busan']"
      ]
     },
     "execution_count": 107,
     "metadata": {},
     "output_type": "execute_result"
    }
   ],
   "source": [
    "#1. 문장마다 스트링으로 변환해서 리스트로 변환\n",
    "# ['문장1','문장2']\n",
    "[' '.join(sent) for sent in text]"
   ]
  },
  {
   "cell_type": "code",
   "execution_count": null,
   "id": "54f7ad94-ec7d-4155-a09e-646a554f632c",
   "metadata": {},
   "outputs": [],
   "source": [
    "#2. 전체를 스트링으로 변환\n",
    "    # '문장1 문장2'"
   ]
  },
  {
   "cell_type": "code",
   "execution_count": 109,
   "id": "b11a6ae4-1fee-4a2a-990a-1cbab9958a1f",
   "metadata": {},
   "outputs": [
    {
     "data": {
      "text/plain": [
       "'Sunja said goodnight to her mother was no in no longer in Busan'"
      ]
     },
     "execution_count": 109,
     "metadata": {},
     "output_type": "execute_result"
    }
   ],
   "source": [
    "# 2 내 풀이\n",
    "(\" \".join(text[0]) + \" \".join(text[1]))\n",
    "# 2 답\n",
    "' '.join([' '.join(sent) for sent in text])"
   ]
  },
  {
   "cell_type": "code",
   "execution_count": null,
   "id": "9aa77911-4c0d-4639-8e73-d26894c1f9c2",
   "metadata": {},
   "outputs": [],
   "source": [
    "#3. 전체 단어 리스트 가져오기\n",
    "# [sunja, said, ..]"
   ]
  },
  {
   "cell_type": "code",
   "execution_count": 112,
   "id": "7fd411be-69cf-43fe-86be-9bdc2831eb85",
   "metadata": {},
   "outputs": [
    {
     "data": {
      "text/plain": [
       "['Sunja',\n",
       " 'said',\n",
       " 'goodnight',\n",
       " 'to',\n",
       " 'her',\n",
       " 'motherwas',\n",
       " 'no',\n",
       " 'in',\n",
       " 'no',\n",
       " 'longer',\n",
       " 'in',\n",
       " 'Busan']"
      ]
     },
     "execution_count": 112,
     "metadata": {},
     "output_type": "execute_result"
    }
   ],
   "source": [
    "#3. 내 풀이\n",
    "[word for word in (\" \".join(text[0]) + \" \".join(text[1])).split()]"
   ]
  },
  {
   "cell_type": "code",
   "execution_count": 113,
   "id": "f226aa2f-ef8a-4e2f-bd07-c13dfd774df0",
   "metadata": {},
   "outputs": [
    {
     "data": {
      "text/plain": [
       "['Sunja',\n",
       " 'said',\n",
       " 'goodnight',\n",
       " 'to',\n",
       " 'her',\n",
       " 'mother',\n",
       " 'was',\n",
       " 'no',\n",
       " 'in',\n",
       " 'no',\n",
       " 'longer',\n",
       " 'in',\n",
       " 'Busan']"
      ]
     },
     "execution_count": 113,
     "metadata": {},
     "output_type": "execute_result"
    }
   ],
   "source": [
    "# 3번 답\n",
    "# 이거 왜 생각못했을까!! ㅠㅠ ㅋㅋ\n",
    "[word for sent in text for word in sent]"
   ]
  },
  {
   "cell_type": "code",
   "execution_count": 114,
   "id": "4bc73e43-5183-41fc-9ccd-52c01aaa82f0",
   "metadata": {},
   "outputs": [
    {
     "data": {
      "text/plain": [
       "[0, 1, 2, 3, 4, 5, 6, 7, 8, 9]"
      ]
     },
     "execution_count": 114,
     "metadata": {},
     "output_type": "execute_result"
    }
   ],
   "source": [
    "# if - > else\n",
    "[i for i in range(10)] #짝수면 가져오고 홀수는 = '홀수'"
   ]
  },
  {
   "cell_type": "code",
   "execution_count": null,
   "id": "9b02ff33-b24c-4d88-b1b2-f2eddf111fd0",
   "metadata": {},
   "outputs": [],
   "source": [
    "[i for i in range(10) if i %2 == 0 else \"홀수\"] # 이렇게 하면 안됨"
   ]
  },
  {
   "cell_type": "code",
   "execution_count": 115,
   "id": "291b5258-2f0b-4e91-aac0-a5cfcd461de5",
   "metadata": {},
   "outputs": [
    {
     "data": {
      "text/plain": [
       "[0, '홀수', 2, '홀수', 4, '홀수', 6, '홀수', 8, '홀수']"
      ]
     },
     "execution_count": 115,
     "metadata": {},
     "output_type": "execute_result"
    }
   ],
   "source": [
    "[i if i%2 ==0 else \"홀수\" for i in range(10)] # 조건문을 앞으로 가져와야 함"
   ]
  },
  {
   "cell_type": "code",
   "execution_count": null,
   "id": "ab69a8df-4add-4e45-b53a-3f1fb91c23e6",
   "metadata": {},
   "outputs": [],
   "source": []
  },
  {
   "cell_type": "code",
   "execution_count": null,
   "id": "efbcb703-de59-40b8-a0d9-699bdfc41732",
   "metadata": {},
   "outputs": [],
   "source": [
    "# 과제: brown 정제하기"
   ]
  },
  {
   "cell_type": "code",
   "execution_count": null,
   "id": "a2561dff-5fc7-4c42-8c94-83ea935b6aee",
   "metadata": {},
   "outputs": [],
   "source": [
    "import nltk\n",
    "nltk.download('brown') \n",
    "brown = nltk.corpus.brown"
   ]
  },
  {
   "cell_type": "code",
   "execution_count": null,
   "id": "6b704404-ee6d-4273-97ea-a4ed0b80390d",
   "metadata": {},
   "outputs": [],
   "source": [
    "[f for f in inaugural.fileids() if '' in f]"
   ]
  },
  {
   "cell_type": "code",
   "execution_count": null,
   "id": "91d64c0b-dac3-437c-b1ba-ec7dcbed6f0e",
   "metadata": {},
   "outputs": [],
   "source": [
    "inaugural.raw('2021-Biden.txt')"
   ]
  },
  {
   "cell_type": "code",
   "execution_count": null,
   "id": "05408a3a-ee36-4707-937b-d00faac2acdc",
   "metadata": {},
   "outputs": [],
   "source": [
    "brown.raw(categories='romance')[:500]"
   ]
  },
  {
   "cell_type": "code",
   "execution_count": null,
   "id": "b99e7488-eb4d-459b-a196-adb552d1b55c",
   "metadata": {
    "jp-MarkdownHeadingCollapsed": true,
    "tags": []
   },
   "outputs": [],
   "source": [
    "# brown.raw(categories='romance')[:5000] 으로 5000만 불러오기\n",
    "# ex) [['They','neither','liked','nor'],['다음 문장']]\n",
    "# 정제를 해서\n",
    "# 정규식 x. 배운것만\n",
    "# 문장 분절 -> 단어 분절 \n",
    "# 불필요한 것들 제거하기\n",
    " ## 문장 부호\n",
    " ## 품사 pos 제거 (/cc 이런거)\n",
    "## 's , 'nt 도 여력이 되면  처리하기\n",
    "(she's -> she, 's)\n",
    "(don't -> do, 'nt)\n",
    "('fly-dotted' -> fly,dotted)\n",
    "# 모든 품사를 다 손으로 쳐야하는 하드 코딩 하지 마라"
   ]
  }
 ],
 "metadata": {
  "kernelspec": {
   "display_name": "Python 3 (ipykernel)",
   "language": "python",
   "name": "python3"
  },
  "language_info": {
   "codemirror_mode": {
    "name": "ipython",
    "version": 3
   },
   "file_extension": ".py",
   "mimetype": "text/x-python",
   "name": "python",
   "nbconvert_exporter": "python",
   "pygments_lexer": "ipython3",
   "version": "3.9.7"
  }
 },
 "nbformat": 4,
 "nbformat_minor": 5
}
