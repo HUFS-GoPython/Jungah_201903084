{
 "cells": [
  {
   "cell_type": "markdown",
   "id": "2a829870-3125-4f69-b918-fdd47594b56e",
   "metadata": {},
   "source": [
    "### [파일과 디렉터리]\n",
    "- 디렉터리: 폴더의 다른 말. 파일이 논리적으로 묶인 단위 (원래 디렉터리가 먼저 그다음에 폴더 아이콘이 생김)\n",
    "- 파일: 컴퓨터를 실행하는 기본 단위\n",
    "    - 파일명 + 확장자\n",
    "    - 확장자: 파일의 쓰임을 구분하는 글자\n",
    "        - .pdf, .xlsx, .txt, ..\n",
    "    - 종류: 바이너리 파일, 텍스트 파일\n",
    "        - 바이너리: 이진 정보로 저장됨\n",
    "            - 내용을 확인 못 함.\n",
    "            - 해당 확장자를 열 수 있는 프로그램이 필요함.\n",
    "        - 텍스트: 사람이 이해할 수 있는 문자열로 저장됨\n",
    "            - 메모장, html, py\n",
    "            - 변경 기준: 아스키코드, 유니 코드\n",
    "            - 인코딩 (encoding)\n",
    "            - utf-8\n",
    "            - cp494 (window)\n"
   ]
  },
  {
   "cell_type": "markdown",
   "id": "a2e5f5c0-f0a4-4bf8-98d1-f66bf3b58dd4",
   "metadata": {},
   "source": [
    "#### [파일 열기]\n",
    "- open(파일명, 모드)\n",
    "- 모드\n",
    "    - r: read (default)    \n",
    "    - w: write - 파일이 있으면 덮어쓰고, 없으면 생성\n",
    "    - x: 파일이 없을 때만 생성\n",
    "    - a: 있을 때 마지막 라인에 추가\n",
    "    \n",
    "    추가 모드\n",
    "    - b: binary\n",
    "    - t: text (default)\n",
    "    \n",
    "    'rb', 'rt'\n",
    "    "
   ]
  },
  {
   "cell_type": "code",
   "execution_count": 14,
   "id": "e1752807-63b2-4f3d-9500-fc2f45912b2d",
   "metadata": {},
   "outputs": [],
   "source": [
    "file = \"test.txt\"\n",
    "f = open(file,'r')"
   ]
  },
  {
   "cell_type": "code",
   "execution_count": 3,
   "id": "3a641b57-805d-4a31-864a-73841a0e3523",
   "metadata": {},
   "outputs": [
    {
     "data": {
      "text/plain": [
       "<_io.TextIOWrapper name='test.txt' mode='r' encoding='cp949'>"
      ]
     },
     "execution_count": 3,
     "metadata": {},
     "output_type": "execute_result"
    }
   ],
   "source": [
    "f"
   ]
  },
  {
   "cell_type": "markdown",
   "id": "76655c1a-8fea-4e0e-873c-c8a82fd26b8c",
   "metadata": {},
   "source": [
    "#### [파일 읽기]\n",
    "- read(): 전체를 하나의 str 로 가져옴\n",
    "    - 포인터\n",
    "- readline(): 한 줄만 str\n",
    "- readlines(): 전체를 list, 각 줄이 한 str"
   ]
  },
  {
   "cell_type": "code",
   "execution_count": 4,
   "id": "cf9b3c70-e55c-41ab-bdab-bb70086e3a1c",
   "metadata": {},
   "outputs": [
    {
     "data": {
      "text/plain": [
       "\"hello wold\\nI'm reading a book\""
      ]
     },
     "execution_count": 4,
     "metadata": {},
     "output_type": "execute_result"
    }
   ],
   "source": [
    "# 파일 읽기\n",
    "f.read()"
   ]
  },
  {
   "cell_type": "code",
   "execution_count": 6,
   "id": "9287f2c6-d482-4017-9df8-06f70c453364",
   "metadata": {},
   "outputs": [
    {
     "data": {
      "text/plain": [
       "''"
      ]
     },
     "execution_count": 6,
     "metadata": {},
     "output_type": "execute_result"
    }
   ],
   "source": [
    "f.read()\n",
    "# 포인터가 있기에 다시 열어야함 -> f.close()로 닫아야함"
   ]
  },
  {
   "cell_type": "code",
   "execution_count": 7,
   "id": "27fbc7a5-b404-45ae-b94c-2f938c7aae08",
   "metadata": {},
   "outputs": [],
   "source": [
    "f.close()"
   ]
  },
  {
   "cell_type": "code",
   "execution_count": 13,
   "id": "ecc98406-0473-49ab-bd0c-29cde2e0d344",
   "metadata": {},
   "outputs": [],
   "source": [
    "# 일부만 읽을 수도 있음\n",
    "f.read(5)\n",
    "f.close()"
   ]
  },
  {
   "cell_type": "code",
   "execution_count": 11,
   "id": "48d4426a-2379-40a7-b07e-f9786390f609",
   "metadata": {},
   "outputs": [
    {
     "data": {
      "text/plain": [
       "' wold\\n'"
      ]
     },
     "execution_count": 11,
     "metadata": {},
     "output_type": "execute_result"
    }
   ],
   "source": [
    "f.readline()"
   ]
  },
  {
   "cell_type": "code",
   "execution_count": 15,
   "id": "2af7d224-2370-4714-8166-03ef60d78e75",
   "metadata": {},
   "outputs": [
    {
     "data": {
      "text/plain": [
       "['hello wold\\n', \"I'm reading a book\"]"
      ]
     },
     "execution_count": 15,
     "metadata": {},
     "output_type": "execute_result"
    }
   ],
   "source": [
    "f.readlines()"
   ]
  },
  {
   "cell_type": "code",
   "execution_count": 16,
   "id": "b51a98cc-9b99-4dde-97bf-41d494912a21",
   "metadata": {},
   "outputs": [],
   "source": [
    "f = open(file,'r')\n",
    "sents = f.readlines()\n",
    "sents = [s.strip() for s in sents] # 텍스트 정제\n",
    "f.close()"
   ]
  },
  {
   "cell_type": "code",
   "execution_count": 17,
   "id": "7cb6ece4-86fa-40b3-a2ce-8686326e47b5",
   "metadata": {},
   "outputs": [
    {
     "data": {
      "text/plain": [
       "['hello wold', \"I'm reading a book\"]"
      ]
     },
     "execution_count": 17,
     "metadata": {},
     "output_type": "execute_result"
    }
   ],
   "source": [
    "sents"
   ]
  },
  {
   "cell_type": "markdown",
   "id": "2905c618-eb4c-4d6e-a085-729a9a2b3ac2",
   "metadata": {},
   "source": [
    "#### [파일 닫기]\n",
    "- 파일을 항상 열면 즉시 닫아야함\n",
    "- 파일 여는 즉시 닫기\n",
    "- 자원 해제라고 부름\n",
    "- 계속 열어놓으면 메모리 낭비, 에러 발생\n",
    "- 열고 변수에 넣고 닫으면 변수는 계속 사용 가능\n",
    "- 여는 것보다 닫는 것에 더 신경써야함"
   ]
  },
  {
   "cell_type": "code",
   "execution_count": 18,
   "id": "2fdd74e5-0755-4b87-a3e7-48f394a2138a",
   "metadata": {},
   "outputs": [
    {
     "data": {
      "text/plain": [
       "\"hello wold\\nI'm reading a book\""
      ]
     },
     "execution_count": 18,
     "metadata": {},
     "output_type": "execute_result"
    }
   ],
   "source": [
    "with open(file,'r') as f:\n",
    "    # open()이 적용되는 블록\n",
    "    content = f.read()\n",
    "# 파일이 자동으로 닫힘\n",
    "\n",
    "content"
   ]
  },
  {
   "cell_type": "code",
   "execution_count": 26,
   "id": "ee96351e-c8fb-46c3-9dd7-bd5bc5a1c6b2",
   "metadata": {},
   "outputs": [],
   "source": [
    "# readline 파일 읽는데, while 사용해서 한줄씩 읽고, stript()해서\n",
    "# 리스트에 반환하는 함수 만들기\n",
    "\n",
    "# 내 풀이\n",
    "def get_sents(file):\n",
    "    with open(file,'r') as f:\n",
    "        sents = []\n",
    "        while True:\n",
    "            content = f.readline()\n",
    "            if content == '':\n",
    "                break\n",
    "            sents.append(content.strip())\n",
    "            \n",
    "\n",
    "            \n",
    "get_sents(\"test.txt\")"
   ]
  },
  {
   "cell_type": "code",
   "execution_count": null,
   "id": "2289fb52-cc81-499f-9f32-67eb0c58647a",
   "metadata": {},
   "outputs": [],
   "source": [
    "# 답\n",
    "def get_sents(file):\n",
    "    with open(file,'r') as f:\n",
    "        sents = []\n",
    "        while True:\n",
    "            content = f.readline()\n",
    "            if not line: # '' 의 길이는 1, 컨텐츠가  없을 때는 0\n",
    "                break\n",
    "            sents.append(content.strip())\n",
    "            \n",
    "\n",
    "            \n",
    "get_sents(\"test.txt\")"
   ]
  },
  {
   "cell_type": "markdown",
   "id": "4b0e8139-06b1-4613-8283-ee219ddf0b07",
   "metadata": {},
   "source": [
    "#### [경로가 달라질 때]\n",
    "- . : 현재 경로\n",
    "- .. : 상위 경로"
   ]
  },
  {
   "cell_type": "code",
   "execution_count": 28,
   "id": "7e1a29b2-e1c8-41af-9645-68cea04de911",
   "metadata": {},
   "outputs": [
    {
     "name": "stdout",
     "output_type": "stream",
     "text": [
      "hello wold\n",
      "I'm reading a book\n"
     ]
    }
   ],
   "source": [
    "file = './folder/test.txt' #현재 경로에서 폴더를 찾아라\n",
    "\n",
    "with open(file) as f:\n",
    "    print(f.read())"
   ]
  },
  {
   "cell_type": "markdown",
   "id": "e450c720-9c67-4e1e-ae95-bbd8eccc3837",
   "metadata": {},
   "source": [
    "#### [쓰기]\n",
    "- 인코딩 유의"
   ]
  },
  {
   "cell_type": "code",
   "execution_count": 32,
   "id": "60dd8224-3bb1-42d3-8dab-37e0951550f9",
   "metadata": {},
   "outputs": [],
   "source": [
    "data = list(range(10))\n",
    "\n",
    "with open('test2.txt','w',encoding=\"utf-8\") as f:\n",
    "    for i in range(10):\n",
    "        data = f'{i}번째 줄입니다.\\n'\n",
    "        f.write(data)"
   ]
  },
  {
   "cell_type": "code",
   "execution_count": 33,
   "id": "b0a8107a-d305-4d65-af5d-9bd7d4724434",
   "metadata": {},
   "outputs": [
    {
     "data": {
      "text/plain": [
       "<function TextIOWrapper.close()>"
      ]
     },
     "execution_count": 33,
     "metadata": {},
     "output_type": "execute_result"
    }
   ],
   "source": [
    "# print()\n",
    "file_out = open('test2.txt','a',encoding='utf-8')\n",
    "print(\"한 줄 추가했습니다.\", file=file_out)\n",
    "file_out.close"
   ]
  },
  {
   "cell_type": "markdown",
   "id": "eae3ea8b-d8ee-496d-8769-e1997f91bab6",
   "metadata": {},
   "source": [
    "#### [folder 만들어서 추가하는 방법]\n",
    "    - 폴더를 만들어야함\n",
    "        import os\n",
    "        os.mkdir('abc')\n",
    "    - 그다음에 접근\n",
    "\n"
   ]
  },
  {
   "cell_type": "code",
   "execution_count": 34,
   "id": "97f5f119-54d0-49a3-af4e-3960400738aa",
   "metadata": {},
   "outputs": [],
   "source": [
    "import os\n",
    "os.mkdir('abc')"
   ]
  },
  {
   "cell_type": "code",
   "execution_count": null,
   "id": "698ae694-d7ce-487c-a1b3-9f4041c50b4f",
   "metadata": {},
   "outputs": [],
   "source": [
    "with open('./abc/test2,txt)"
   ]
  },
  {
   "cell_type": "code",
   "execution_count": null,
   "id": "521c5285-f494-40df-9273-2c2b1c284492",
   "metadata": {},
   "outputs": [],
   "source": [
    "path = 'abc'\n",
    "\n",
    "# 있는지 확인\n",
    "if not os.isdir(path):\n",
    "    os.mkdir(path)\n",
    "\n",
    "# dir_name = './abc/test2_txt'\n",
    "dir_name = os.path.join(path,'test2.txt')\n",
    "\n",
    "# 재확인\n",
    "if not os.path.exists(dir_name):\n",
    "    with open(dir_name,'w') as f:\n",
    "        # 없으면 열어서 쓰는 거니까 덮어 쓸 가능성이 없다."
   ]
  },
  {
   "cell_type": "code",
   "execution_count": null,
   "id": "e02b71ac-b56b-432a-a56a-22d0b0ddc3af",
   "metadata": {},
   "outputs": [],
   "source": [
    "목표: 하위 폴더 \n",
    "패쓰가 있는지 확인\n",
    "없으면 만듦\n",
    "패스랑 조인을 해서 전체 디렉토리 파일명 설정\n",
    "그래서 걔가 없으면 파일 열어서 쓰라"
   ]
  },
  {
   "cell_type": "code",
   "execution_count": null,
   "id": "6131442c-f0bc-4326-b5d8-a03c75e13be1",
   "metadata": {},
   "outputs": [],
   "source": [
    "os.remove(file_name)\n",
    "os.rmdir(folder_name) # 폴더 안에 파일이 있으면 삭제 못함"
   ]
  },
  {
   "cell_type": "code",
   "execution_count": null,
   "id": "d4fc5c33-2bec-4aa5-8533-f288a366f800",
   "metadata": {},
   "outputs": [],
   "source": [
    "# 폴더 안에 뭐가 있든 강제로 삭제할 수 있는 라이브러리\n",
    "import shutil\n",
    "\n",
    "shutil.rmtree(dir_name) #강제로 전부 삭제"
   ]
  },
  {
   "cell_type": "code",
   "execution_count": null,
   "id": "86591af8-bf91-4123-a4bf-a4f7c317be15",
   "metadata": {},
   "outputs": [],
   "source": [
    "# folder 새로 만들어서 (있으면 쓰고 없으면 만들어라)\n",
    "# 파일에 내용 쓰기\n",
    "# 파일 열기"
   ]
  },
  {
   "cell_type": "code",
   "execution_count": 1,
   "id": "1633902e-496a-4823-80e4-ed526d8706a9",
   "metadata": {},
   "outputs": [
    {
     "ename": "AttributeError",
     "evalue": "module 'os' has no attribute 'isdir'",
     "output_type": "error",
     "traceback": [
      "\u001b[1;31m---------------------------------------------------------------------------\u001b[0m",
      "\u001b[1;31mAttributeError\u001b[0m                            Traceback (most recent call last)",
      "\u001b[1;32m~\\AppData\\Local\\Temp/ipykernel_6112/1434375990.py\u001b[0m in \u001b[0;36m<module>\u001b[1;34m\u001b[0m\n\u001b[0;32m      4\u001b[0m \u001b[1;33m\u001b[0m\u001b[0m\n\u001b[0;32m      5\u001b[0m \u001b[1;31m# 폴더 생성\u001b[0m\u001b[1;33m\u001b[0m\u001b[1;33m\u001b[0m\u001b[0m\n\u001b[1;32m----> 6\u001b[1;33m \u001b[1;32mif\u001b[0m \u001b[1;32mnot\u001b[0m \u001b[0mos\u001b[0m\u001b[1;33m.\u001b[0m\u001b[0misdir\u001b[0m\u001b[1;33m(\u001b[0m\u001b[0mpath\u001b[0m\u001b[1;33m)\u001b[0m\u001b[1;33m:\u001b[0m\u001b[1;33m\u001b[0m\u001b[1;33m\u001b[0m\u001b[0m\n\u001b[0m\u001b[0;32m      7\u001b[0m     \u001b[0mos\u001b[0m\u001b[1;33m.\u001b[0m\u001b[0mmkdir\u001b[0m\u001b[1;33m(\u001b[0m\u001b[0mpath\u001b[0m\u001b[1;33m)\u001b[0m\u001b[1;33m\u001b[0m\u001b[1;33m\u001b[0m\u001b[0m\n\u001b[0;32m      8\u001b[0m \u001b[1;33m\u001b[0m\u001b[0m\n",
      "\u001b[1;31mAttributeError\u001b[0m: module 'os' has no attribute 'isdir'"
     ]
    }
   ],
   "source": [
    "import os\n",
    "\n",
    "path = 'new_folder'\n",
    "\n",
    "# 폴더 생성\n",
    "if not os.isdir(path):\n",
    "    os.mkdir(path)\n",
    "\n",
    "dir_name = os.path.join(path,'test3.txt')\n",
    "\n",
    "# 파일 작성\n",
    "if not os.path.exists(dir_name):\n",
    "    with open(dir_name,'w') as f:\n",
    "        f.write(\"테스트3 내용입니다.\")\n",
    "        \n",
    "# 파일 열기\n",
    "with open(dir_name,'r') as f:\n",
    "    f.read()"
   ]
  },
  {
   "cell_type": "code",
   "execution_count": 38,
   "id": "0e783dc7-4a2e-4ca7-9da7-26f401bbd0cc",
   "metadata": {},
   "outputs": [
    {
     "data": {
      "text/plain": [
       "'C:\\\\Users\\\\Jung_a\\\\1. Advanced_Python'"
      ]
     },
     "execution_count": 38,
     "metadata": {},
     "output_type": "execute_result"
    }
   ],
   "source": [
    "os.getcwd()"
   ]
  },
  {
   "cell_type": "code",
   "execution_count": 39,
   "id": "194a73fe-a0ed-46b9-a841-6ec5a272c60c",
   "metadata": {},
   "outputs": [],
   "source": [
    "os.chdir('..') #상위 디렉토리로"
   ]
  },
  {
   "cell_type": "code",
   "execution_count": 40,
   "id": "ed1f07cb-edad-4cb4-a681-2f926f65916a",
   "metadata": {},
   "outputs": [
    {
     "data": {
      "text/plain": [
       "'C:\\\\Users\\\\Jung_a'"
      ]
     },
     "execution_count": 40,
     "metadata": {},
     "output_type": "execute_result"
    }
   ],
   "source": [
    "os.getcwd() "
   ]
  },
  {
   "cell_type": "markdown",
   "id": "8eecdc80-2cc7-443f-b0d4-b86098c54cce",
   "metadata": {},
   "source": [
    "#### [pickle]\n",
    "- 객체를 파일로 저장하는 기능 제공\n",
    "- 리스트든, 객체든 다 저장해서 불러오기 가능"
   ]
  },
  {
   "cell_type": "code",
   "execution_count": 41,
   "id": "b10f791b-5455-4cfa-836c-5e7124843f73",
   "metadata": {},
   "outputs": [],
   "source": [
    "nums = list(range(10))"
   ]
  },
  {
   "cell_type": "code",
   "execution_count": 44,
   "id": "86f65953-189d-4641-b3bc-b03e22ddefc4",
   "metadata": {},
   "outputs": [],
   "source": [
    "import pickle\n",
    "\n",
    "with open('test.pickle','wb') as f:\n",
    "    pickle.dump(nums,f)"
   ]
  },
  {
   "cell_type": "code",
   "execution_count": 45,
   "id": "a8d22445-84e6-4d02-9780-61fecdd59fc2",
   "metadata": {},
   "outputs": [],
   "source": [
    "with open('test.pickle','rb') as f:\n",
    "    number = pickle.load(f)"
   ]
  },
  {
   "cell_type": "code",
   "execution_count": 46,
   "id": "1ed7f11e-be63-4eba-b2de-ce4d467a69c2",
   "metadata": {},
   "outputs": [
    {
     "data": {
      "text/plain": [
       "[0, 1, 2, 3, 4, 5, 6, 7, 8, 9]"
      ]
     },
     "execution_count": 46,
     "metadata": {},
     "output_type": "execute_result"
    }
   ],
   "source": [
    "number"
   ]
  },
  {
   "cell_type": "code",
   "execution_count": null,
   "id": "76b6acfa-8246-4740-9e8f-a2a74e4397e4",
   "metadata": {},
   "outputs": [],
   "source": []
  }
 ],
 "metadata": {
  "kernelspec": {
   "display_name": "Python 3 (ipykernel)",
   "language": "python",
   "name": "python3"
  },
  "language_info": {
   "codemirror_mode": {
    "name": "ipython",
    "version": 3
   },
   "file_extension": ".py",
   "mimetype": "text/x-python",
   "name": "python",
   "nbconvert_exporter": "python",
   "pygments_lexer": "ipython3",
   "version": "3.9.7"
  }
 },
 "nbformat": 4,
 "nbformat_minor": 5
}
