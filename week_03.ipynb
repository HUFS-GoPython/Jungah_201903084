{
 "cells": [
  {
   "cell_type": "markdown",
   "id": "bb389a93-35ae-481b-af7a-b84b93cbef12",
   "metadata": {},
   "source": [
    "ch04. if문 이어서..."
   ]
  },
  {
   "cell_type": "markdown",
   "id": "af35b447-1aff-4870-aed1-ffa6c60095fa",
   "metadata": {},
   "source": [
    "## 중첩 조건문 | nested conditional\n",
    "- if 블록 안에 또 if 블록이 만들어지는 경우\n",
    "    - 예: if ...\n",
    "            if ...\n",
    "                if ....\n",
    "    - 구분은 들여쓰기로 한다.\n",
    "    - 조건이 여러 개일 경우 사용한다.\n",
    "    - 웬만하면 지양하는 것이 좋음. 더 깔끔, 쉽고 예쁜 방법 찾기\n",
    "    "
   ]
  },
  {
   "cell_type": "code",
   "execution_count": 1,
   "id": "92c88836-ee85-47e6-b316-ae35b9c59016",
   "metadata": {},
   "outputs": [
    {
     "name": "stdout",
     "output_type": "stream",
     "text": [
      "Block B\n"
     ]
    }
   ],
   "source": [
    "x = 0\n",
    "y = 4\n",
    "\n",
    "if x == y :\n",
    "    print(\"Block A\")\n",
    "else :\n",
    "    if x < y :\n",
    "        print(\"Block B\")\n",
    "    else :\n",
    "        print(\"Block C\")\n",
    "        "
   ]
  },
  {
   "cell_type": "code",
   "execution_count": null,
   "id": "300ee607-f013-4260-b7ad-d4d3a9d7e2be",
   "metadata": {},
   "outputs": [],
   "source": [
    "# 0 < x < 10\n",
    "if x > 0 :\n",
    "    print('A')\n",
    "    if x < 10:\n",
    "        print('B')\n",
    "    else :\n",
    "        print('C')\n",
    "else :\n",
    "    print('D)"
   ]
  },
  {
   "cell_type": "code",
   "execution_count": 2,
   "id": "f928d4d5-f2b5-4eac-9de7-0cb0195fcb32",
   "metadata": {},
   "outputs": [
    {
     "ename": "IndentationError",
     "evalue": "expected an indented block (Temp/ipykernel_7136/608132131.py, line 3)",
     "output_type": "error",
     "traceback": [
      "\u001b[1;36m  File \u001b[1;32m\"C:\\Users\\Jung_a\\AppData\\Local\\Temp/ipykernel_7136/608132131.py\"\u001b[1;36m, line \u001b[1;32m3\u001b[0m\n\u001b[1;33m    elif x < y:\u001b[0m\n\u001b[1;37m    ^\u001b[0m\n\u001b[1;31mIndentationError\u001b[0m\u001b[1;31m:\u001b[0m expected an indented block\n"
     ]
    }
   ],
   "source": [
    "if x == y:\n",
    "    # A\n",
    "elif x < y:\n",
    "    # B\n",
    "else:\n",
    "    # C"
   ]
  },
  {
   "cell_type": "code",
   "execution_count": null,
   "id": "e257bd11-d3a5-4c9d-8172-bdb5acfda1f8",
   "metadata": {},
   "outputs": [],
   "source": [
    "# 방법 1\n",
    "if (x > 0) and (x < 10): #논리 연산자 사용하는 방법, 괄호 없어도 인식 가능\n",
    "    #A\n",
    "else :\n",
    "    #B\n",
    "\n",
    "# 방법 2\n",
    "if 0 < x < 10:\n",
    "    # block a\n",
    "else :\n",
    "    # block b"
   ]
  },
  {
   "cell_type": "markdown",
   "id": "a355d1b9-df57-436b-b096-53f8c0cae57f",
   "metadata": {},
   "source": [
    "### [논리연산자]\n",
    "- 비교 연산 조건을 여러번 시행하는 경우\n",
    "    - x > 0 , x < 10\n",
    "- and, or, not\n",
    "    - A and B : A 그리고 B. A, B 둘다 참일 때 True (&)\n",
    "    - A or B : A 혹은 B 둘 중 하나만 참이면 True (|)\n",
    "    - not A : A가 참이면 False, 거짓이면 True (~)"
   ]
  },
  {
   "cell_type": "markdown",
   "id": "3716a5ac-5493-4252-84b6-f14487c9c93c",
   "metadata": {},
   "source": [
    "### [True/False]\n",
    "- A = True\n",
    "- 조건 : 만약 A가 참이면..."
   ]
  },
  {
   "cell_type": "code",
   "execution_count": null,
   "id": "519c2d30-8a74-48ad-8a39-562a55085266",
   "metadata": {},
   "outputs": [],
   "source": [
    "if a == True: # 안 좋은 예\n",
    "    print()\n",
    "\n",
    "if a:\n",
    "    print()"
   ]
  },
  {
   "cell_type": "markdown",
   "id": "3881b24c-4eac-43bf-a22f-3bb68d9ccaa3",
   "metadata": {},
   "source": [
    "### [in]\n",
    "- membership operator\n",
    "- 요소가 안에 포함되어 있는지 or 비슷한 조건문이 여럿일 때\n",
    "- A in b => A 가 B안에 포함되어 있느냐"
   ]
  },
  {
   "cell_type": "code",
   "execution_count": null,
   "id": "e2f3439c-20e9-4de9-9fc7-ee191d6f5d00",
   "metadata": {},
   "outputs": [],
   "source": [
    "# ex1. 모임인지 아닌지 판단하라 (a,e,i,o,u)\n",
    "letter = 'k'\n",
    "# 안좋은 예\n",
    "if letter == 'a' or ...\n",
    "# in과 리스트 활용한 좋은 예\n",
    "if letter in ['a','e','i','o','u']\n",
    "    print(\"모음\")\n",
    "else :\n",
    "    pirnt(\"자음\")"
   ]
  },
  {
   "cell_type": "code",
   "execution_count": null,
   "id": "2f28a1fc-391f-4637-bda3-39e3c3ec2a98",
   "metadata": {},
   "outputs": [],
   "source": [
    "# 단어에 모음이 있냐 없냐/ a가 있냐 없냐 e가 있냐 없냐...\n",
    "word = 'apple'\n",
    "# 내가 푼 건데 틀렸음 / word와 모음 순서 반대로 해야함.\n",
    "#왜? 아래처럼하면 모음에 'apple'이 있냐고 물어본거임.\n",
    "#따라서, 잊지말기: 있는지 궁금한것 in 어떤 공간(변수,리스트)에\n",
    "if word in ['a','e','i','o','u']:\n",
    "    print(\"모음이 있습니다\")\n",
    "else :\n",
    "    print(\"모음이 없습니다\")\n"
   ]
  },
  {
   "cell_type": "code",
   "execution_count": 4,
   "id": "c9db0d90-7fc6-40da-a8b0-eb01384596a4",
   "metadata": {},
   "outputs": [
    {
     "name": "stdout",
     "output_type": "stream",
     "text": [
      "yes\n"
     ]
    }
   ],
   "source": [
    "# 정답\n",
    "if 'a' or 'e' or 'i' or 'o' or 'u' in word: # or 연달아 사용 후 in 가능\n",
    "    print(\"yes\")"
   ]
  },
  {
   "cell_type": "markdown",
   "id": "ce9cbdfa-473a-42b8-9a9a-05276804f251",
   "metadata": {},
   "source": [
    "### [코끼리 연산자]\n",
    "- walrus operator\n",
    "- :=\n",
    "- 할당 + 테스트 동시에 하는 기능"
   ]
  },
  {
   "cell_type": "code",
   "execution_count": 52,
   "id": "2d061a48-52e8-4e4c-a782-e93b076ef9af",
   "metadata": {},
   "outputs": [
    {
     "name": "stdout",
     "output_type": "stream",
     "text": [
      "blahblahblahblahblahblahblahblahblahblahblahblahblahblahblahblahblahblahblahblahblahblahblahblahblahblahblahblahblahblahblahblahblahblahblahblahblahblahblahblahblahblahblahblahblahblahblahblahblahblah\n"
     ]
    },
    {
     "data": {
      "text/plain": [
       "200"
      ]
     },
     "execution_count": 52,
     "metadata": {},
     "output_type": "execute_result"
    }
   ],
   "source": [
    "tweet_limit = 200\n",
    "tweet_string = 'blah' * 50\n",
    "print(tweet_string)\n",
    "len(tweet_string)"
   ]
  },
  {
   "cell_type": "code",
   "execution_count": 6,
   "id": "cafd3e76-9c7a-4e19-9f06-9977bbb34e72",
   "metadata": {},
   "outputs": [
    {
     "name": "stdout",
     "output_type": "stream",
     "text": [
      "불가능하다\n"
     ]
    }
   ],
   "source": [
    "diff = tweet_limit - len(tweet_string)\n",
    "if diff > 0:\n",
    "    print(\"가능하다\")\n",
    "else:\n",
    "    print(\"불가능하다\")\n",
    "    "
   ]
  },
  {
   "cell_type": "code",
   "execution_count": 9,
   "id": "94efc017-dafc-4f78-9aec-ee75088b8d6b",
   "metadata": {},
   "outputs": [
    {
     "name": "stdout",
     "output_type": "stream",
     "text": [
      "no\n"
     ]
    }
   ],
   "source": [
    "#위를 한 줄로 줄이기. 깔끔해짐\n",
    "if diff := tweet_limit - len(tweet_string) > 0: #할당하고 바로 조건에 사용\n",
    "    print('yes')\n",
    "else : print('no')"
   ]
  },
  {
   "cell_type": "markdown",
   "id": "a9a1256a-d579-4a1a-81d1-29b3d177c150",
   "metadata": {},
   "source": [
    "### Quiz1\n",
    "- 윤년을 구해봅시다.\n",
    "    - 년도 입력받는다.\n",
    "    - 4로 나누어지면 윤년\n",
    "    - 100으로 나누어지면 안 됨\n",
    "    - 400으로 나뉘어지면 운년\n",
    "    - 출력: \"{}년은 운년입니다.\" / \"-아닙니다.\""
   ]
  },
  {
   "cell_type": "code",
   "execution_count": 10,
   "id": "f5248232-c2e2-46c3-a3c3-389e4dd576f4",
   "metadata": {},
   "outputs": [
    {
     "name": "stdin",
     "output_type": "stream",
     "text": [
      " 400\n"
     ]
    },
    {
     "name": "stdout",
     "output_type": "stream",
     "text": [
      "400년은 윤년입니다.\n"
     ]
    }
   ],
   "source": [
    "year = int(input())\n",
    "result = False\n",
    "\n",
    "# 내가 푼 건데, 더럽다ㅠ\n",
    "if year % 4 == 0:\n",
    "    result = True #윤년\n",
    "    if year % 100 == 0:\n",
    "        result = False #윤년이 아님\n",
    "if year % 400 == 0:\n",
    "    result = True #운년\n",
    "\n",
    "if result:\n",
    "    print(f\"{year}년은 윤년입니다.\")\n",
    "else:\n",
    "    print(f\"{year}년은 윤년이 아닙니다.\")"
   ]
  },
  {
   "cell_type": "code",
   "execution_count": null,
   "id": "b6ce16ea-de81-46aa-8cd7-8892af7944d6",
   "metadata": {},
   "outputs": [],
   "source": [
    "# 조건을 중첩으로 가져가는 것이 좋다. 아래 코드 완전 깔끔.\n",
    "if (year % 4 == 0 and year % 100 != 0) or (year % 400 == 0):\n",
    "    print(f\"{year}년은 윤년입니다\")\n",
    "else:\n",
    "    print(f\"{year}년은 윤년이 아닙니다.\")\n"
   ]
  },
  {
   "cell_type": "code",
   "execution_count": null,
   "id": "03f6b7e1-ea30-4986-aeed-ebeb275ed9c8",
   "metadata": {},
   "outputs": [],
   "source": []
  },
  {
   "cell_type": "markdown",
   "id": "a28a01f7-1993-454a-95e1-6409704b0e78",
   "metadata": {},
   "source": [
    "# Ch05. 텍스트 문자열"
   ]
  },
  {
   "cell_type": "markdown",
   "id": "31878707-8a9a-4764-8654-71809f48c7e1",
   "metadata": {},
   "source": [
    "## String | 문자열\n",
    "- 시스템에서 가장 작은 단위 (하나의 문자가 차지하는 게 가장 적다)\n",
    "- 불변적 성격. immutable\n",
    "    - 예: jack -> jeck\n",
    "- ''으로 선언한다.\n",
    "    - 예: \"25.6\"\n",
    "    - ''',\"\"\"은 주석임\n",
    "- 형 변환은 str()\n",
    "\n",
    "### [escape character | 이스케이프 문자]\n",
    "    - 말 그대로 문자를 피한다\n",
    "    - 특수한 형태의 문자열. 눈에 보이는 대로 인식되지 않는 문자를 의미\n",
    "    - \\ + ch(특정 문자)\n",
    "    - ex: \\n, \\t, \\b, \\', \\'', ... \n",
    "        - 그대로 인식해라 라는 뜻\n",
    "        - \\n 자체를 출력하고 싶다면? => \\\\n, r'문자열'\n",
    "    - 다른 스트링을 만드는 것이 아님"
   ]
  },
  {
   "cell_type": "code",
   "execution_count": 53,
   "id": "af1bedc3-c27e-4735-b013-3caab26e28bd",
   "metadata": {},
   "outputs": [
    {
     "name": "stdout",
     "output_type": "stream",
     "text": [
      "hello\n",
      "word\n",
      "hellword\n",
      "hello\\nword\n",
      "hello\\nword\n"
     ]
    }
   ],
   "source": [
    "sent = 'hello\\nword'\n",
    "print(sent) #\\n이 안뜸\n",
    "sent = 'hello\\bword' #백스페이스 -> o가 지워짐\n",
    "print(sent)\n",
    "# \\n 그대로 출력하는 두가지 방법\n",
    "sent = 'hello\\\\nword'\n",
    "print(sent)\n",
    "sent = r'hello\\nword'\n",
    "print(sent)"
   ]
  },
  {
   "cell_type": "code",
   "execution_count": null,
   "id": "ec8bc18d-234c-4d98-ae0a-358ba1a0492d",
   "metadata": {},
   "outputs": [],
   "source": [
    "'I \\'m a student'"
   ]
  },
  {
   "cell_type": "markdown",
   "id": "12d2bbc8-13eb-42eb-92a7-b22250f1dda8",
   "metadata": {},
   "source": [
    "### [연산]\n",
    "- concatenatation [컨캣]\n",
    "    - \"문자열\" + \"문자열\" => 공백 없이 결합하는 방법\n",
    "- 곱하기\n",
    "    - \" * 5 => 복제\n"
   ]
  },
  {
   "cell_type": "code",
   "execution_count": 18,
   "id": "00f6f13f-0ba3-4a79-9e82-37f6451b2892",
   "metadata": {},
   "outputs": [
    {
     "data": {
      "text/plain": [
       "'jackjack'"
      ]
     },
     "execution_count": 18,
     "metadata": {},
     "output_type": "execute_result"
    }
   ],
   "source": [
    "name = 'jack'\n",
    "name + name"
   ]
  },
  {
   "cell_type": "code",
   "execution_count": 19,
   "id": "c741b6c5-4a9f-4c2b-9479-e5af38d7901f",
   "metadata": {},
   "outputs": [
    {
     "data": {
      "text/plain": [
       "'jackjackjackjack'"
      ]
     },
     "execution_count": 19,
     "metadata": {},
     "output_type": "execute_result"
    }
   ],
   "source": [
    "name * 4 "
   ]
  },
  {
   "cell_type": "code",
   "execution_count": 55,
   "id": "d29b1632-24fc-43b6-abc3-f187cab14bdb",
   "metadata": {},
   "outputs": [
    {
     "ename": "NameError",
     "evalue": "name 'name' is not defined",
     "output_type": "error",
     "traceback": [
      "\u001b[1;31m---------------------------------------------------------------------------\u001b[0m",
      "\u001b[1;31mNameError\u001b[0m                                 Traceback (most recent call last)",
      "\u001b[1;32m~\\AppData\\Local\\Temp/ipykernel_20308/2286405593.py\u001b[0m in \u001b[0;36m<module>\u001b[1;34m\u001b[0m\n\u001b[0;32m      1\u001b[0m \u001b[1;31m# immutable\u001b[0m\u001b[1;33m\u001b[0m\u001b[1;33m\u001b[0m\u001b[0m\n\u001b[1;32m----> 2\u001b[1;33m \u001b[0mname\u001b[0m\u001b[1;33m[\u001b[0m\u001b[1;36m1\u001b[0m\u001b[1;33m]\u001b[0m \u001b[1;33m=\u001b[0m \u001b[1;34m'e'\u001b[0m\u001b[1;33m\u001b[0m\u001b[1;33m\u001b[0m\u001b[0m\n\u001b[0m\u001b[0;32m      3\u001b[0m \u001b[1;31m# str(문자열)은 수정할 수 없음\u001b[0m\u001b[1;33m\u001b[0m\u001b[1;33m\u001b[0m\u001b[0m\n",
      "\u001b[1;31mNameError\u001b[0m: name 'name' is not defined"
     ]
    }
   ],
   "source": [
    "# immutable\n",
    "name[1] = 'e'\n",
    "# str(문자열)은 수정할 수 없음"
   ]
  },
  {
   "cell_type": "markdown",
   "id": "57444f35-eee4-476b-98d4-51b608e95c20",
   "metadata": {},
   "source": [
    "### [슬라이싱, 추출]\n",
    "- 문자열의 일부분을 떼어내는 작업\n",
    "- 대괄호 사용, 그 안에 오프셋을 지정\n",
    "- 오프셋은 0부터 시작한다.\n",
    "    0123\n",
    "    \n",
    "    jack\n",
    "    \n",
    "  -4-3-2-1\n",
    "- 오프셋이란 정해진 자리. 상대적인 주소\n",
    "- 오프셋은 음수도 가능함. -1부터 시작\n",
    "- 오프셋은 [시작:끝:스텝] \n",
    "- [] 안에 1개만 있으면 끝과 스텝이 없음\n",
    "- 스텝의 디폴트는 1임 \n",
    "- 오프셋의 시작은 포함, 끝은 포함하지 않음 (이상~미만)"
   ]
  },
  {
   "cell_type": "code",
   "execution_count": 23,
   "id": "c820c0b3-5943-449f-9dfa-274642489d48",
   "metadata": {},
   "outputs": [
    {
     "data": {
      "text/plain": [
       "'k'"
      ]
     },
     "execution_count": 23,
     "metadata": {},
     "output_type": "execute_result"
    }
   ],
   "source": [
    "name = 'jack'\n",
    "name[0]\n",
    "name[-1]"
   ]
  },
  {
   "cell_type": "code",
   "execution_count": 24,
   "id": "ca6fb98b-2df9-42b6-96d0-0f6a56063dd7",
   "metadata": {},
   "outputs": [
    {
     "data": {
      "text/plain": [
       "'l'"
      ]
     },
     "execution_count": 24,
     "metadata": {},
     "output_type": "execute_result"
    }
   ],
   "source": [
    "sent[3:4] #3 이상 4 미만"
   ]
  },
  {
   "cell_type": "code",
   "execution_count": 26,
   "id": "26e7226d-06e4-4c8d-8221-6d96a21b2df6",
   "metadata": {},
   "outputs": [
    {
     "data": {
      "text/plain": [
       "('hello\\\\', 'hello\\\\')"
      ]
     },
     "execution_count": 26,
     "metadata": {},
     "output_type": "execute_result"
    }
   ],
   "source": [
    "# 처음부터 5까지 출력\n",
    "sent[:6], sent[0:6]\n",
    "# 보통은 [:6]을 사용"
   ]
  },
  {
   "cell_type": "code",
   "execution_count": 31,
   "id": "3abbc776-8ca2-45b9-be6c-67376c24e3c5",
   "metadata": {},
   "outputs": [
    {
     "name": "stdout",
     "output_type": "stream",
     "text": [
      "11\n"
     ]
    },
    {
     "data": {
      "text/plain": [
       "('hlonod', 'hlono', 'hlonod', 'hlono')"
      ]
     },
     "execution_count": 31,
     "metadata": {},
     "output_type": "execute_result"
    }
   ],
   "source": [
    "# 처음부터 끝까지 2 스텝씩 출력 \n",
    "print(len(sent))\n",
    "sent[::2], sent[:10:2], sent[:11:2], sent[:-1:2] \n",
    "# 질문? 왜 sent[:-1:2]는 끝까지 안 나올까??\n",
    "#-->답: 중간은 끝의 자리를 나타내는데, 끝 인덱스는 실행하지 않음.\n",
    "# 즉, 인덱스 -1은 마지막을 의미하는데, 그게 끝자리에 들어갔으니 마지막 전 인덱스까지 한다는 의미"
   ]
  },
  {
   "cell_type": "code",
   "execution_count": 29,
   "id": "7b40fd5c-073c-4d1c-9c97-f0bbcc95c7cb",
   "metadata": {},
   "outputs": [
    {
     "data": {
      "text/plain": [
       "('hello\\\\nword', 'drown\\\\olleh')"
      ]
     },
     "execution_count": 29,
     "metadata": {},
     "output_type": "execute_result"
    }
   ],
   "source": [
    "# 모든 글자를 거꾸로 출력하세요\n",
    "sent, sent[-1::-1] #처음에 -1은 쓸 필요 없음"
   ]
  },
  {
   "cell_type": "code",
   "execution_count": 34,
   "id": "f03c5759-8657-48ba-a2ad-386c36d7c3f0",
   "metadata": {},
   "outputs": [
    {
     "data": {
      "text/plain": [
       "'d'"
      ]
     },
     "execution_count": 34,
     "metadata": {},
     "output_type": "execute_result"
    }
   ],
   "source": [
    "#정답\n",
    "sent[::-1] \n",
    "# 오답\n",
    "sent[-1::] #맨 마지막만 출력됨"
   ]
  },
  {
   "cell_type": "code",
   "execution_count": 57,
   "id": "74efe5a2-bf8e-4814-b43d-035c00d41594",
   "metadata": {},
   "outputs": [
    {
     "data": {
      "text/plain": [
       "'benz'"
      ]
     },
     "execution_count": 57,
     "metadata": {},
     "output_type": "execute_result"
    }
   ],
   "source": [
    "#리스트 슬라이싱\n",
    "cars = ['benz','kia','porsche']\n",
    "cars[0]"
   ]
  },
  {
   "cell_type": "code",
   "execution_count": null,
   "id": "829fc102-7d24-4c7e-968d-e125ead3f286",
   "metadata": {},
   "outputs": [],
   "source": []
  },
  {
   "cell_type": "markdown",
   "id": "4655b59f-d839-4166-a7bd-79c6587504dc",
   "metadata": {},
   "source": [
    "## NLTK"
   ]
  },
  {
   "cell_type": "markdown",
   "id": "0ca9677c-5706-4aa0-abd1-0bf48c0ce632",
   "metadata": {},
   "source": [
    "- natural language toolkit\n",
    "- 자연어 분석을 위해 교육용으로 배부된 패키지\n",
    "- 텍스트가 정제되어있고, 내장 함수, 기능들이 추가됨\n",
    "    - 예: 토크나이츠, 파싱, 태깅,..."
   ]
  },
  {
   "cell_type": "code",
   "execution_count": 37,
   "id": "26889cb1-c05f-4d76-af7d-2e273024f818",
   "metadata": {},
   "outputs": [
    {
     "name": "stdout",
     "output_type": "stream",
     "text": [
      "Requirement already satisfied: nltk in c:\\anaconda\\lib\\site-packages (3.6.5)\n",
      "Requirement already satisfied: click in c:\\anaconda\\lib\\site-packages (from nltk) (8.0.3)\n",
      "Requirement already satisfied: joblib in c:\\anaconda\\lib\\site-packages (from nltk) (1.1.0)\n",
      "Requirement already satisfied: regex>=2021.8.3 in c:\\anaconda\\lib\\site-packages (from nltk) (2021.8.3)\n",
      "Requirement already satisfied: tqdm in c:\\anaconda\\lib\\site-packages (from nltk) (4.62.3)\n",
      "Requirement already satisfied: colorama in c:\\anaconda\\lib\\site-packages (from click->nltk) (0.4.4)\n"
     ]
    }
   ],
   "source": [
    "#!pip install nltk"
   ]
  },
  {
   "cell_type": "code",
   "execution_count": 38,
   "id": "84f4c317-bb9b-457a-b9ca-41279bb8038f",
   "metadata": {},
   "outputs": [
    {
     "name": "stderr",
     "output_type": "stream",
     "text": [
      "[nltk_data] Downloading collection 'book'\n",
      "[nltk_data]    | \n",
      "[nltk_data]    | Downloading package abc to\n",
      "[nltk_data]    |     C:\\Users\\Jung_a\\AppData\\Roaming\\nltk_data...\n",
      "[nltk_data]    |   Unzipping corpora\\abc.zip.\n",
      "[nltk_data]    | Downloading package brown to\n",
      "[nltk_data]    |     C:\\Users\\Jung_a\\AppData\\Roaming\\nltk_data...\n",
      "[nltk_data]    |   Unzipping corpora\\brown.zip.\n",
      "[nltk_data]    | Downloading package chat80 to\n",
      "[nltk_data]    |     C:\\Users\\Jung_a\\AppData\\Roaming\\nltk_data...\n",
      "[nltk_data]    |   Unzipping corpora\\chat80.zip.\n",
      "[nltk_data]    | Downloading package cmudict to\n",
      "[nltk_data]    |     C:\\Users\\Jung_a\\AppData\\Roaming\\nltk_data...\n",
      "[nltk_data]    |   Unzipping corpora\\cmudict.zip.\n",
      "[nltk_data]    | Downloading package conll2000 to\n",
      "[nltk_data]    |     C:\\Users\\Jung_a\\AppData\\Roaming\\nltk_data...\n",
      "[nltk_data]    |   Unzipping corpora\\conll2000.zip.\n",
      "[nltk_data]    | Downloading package conll2002 to\n",
      "[nltk_data]    |     C:\\Users\\Jung_a\\AppData\\Roaming\\nltk_data...\n",
      "[nltk_data]    |   Unzipping corpora\\conll2002.zip.\n",
      "[nltk_data]    | Downloading package dependency_treebank to\n",
      "[nltk_data]    |     C:\\Users\\Jung_a\\AppData\\Roaming\\nltk_data...\n",
      "[nltk_data]    |   Unzipping corpora\\dependency_treebank.zip.\n",
      "[nltk_data]    | Downloading package genesis to\n",
      "[nltk_data]    |     C:\\Users\\Jung_a\\AppData\\Roaming\\nltk_data...\n",
      "[nltk_data]    |   Unzipping corpora\\genesis.zip.\n",
      "[nltk_data]    | Downloading package gutenberg to\n",
      "[nltk_data]    |     C:\\Users\\Jung_a\\AppData\\Roaming\\nltk_data...\n",
      "[nltk_data]    |   Unzipping corpora\\gutenberg.zip.\n",
      "[nltk_data]    | Downloading package ieer to\n",
      "[nltk_data]    |     C:\\Users\\Jung_a\\AppData\\Roaming\\nltk_data...\n",
      "[nltk_data]    |   Unzipping corpora\\ieer.zip.\n",
      "[nltk_data]    | Downloading package inaugural to\n",
      "[nltk_data]    |     C:\\Users\\Jung_a\\AppData\\Roaming\\nltk_data...\n",
      "[nltk_data]    |   Unzipping corpora\\inaugural.zip.\n",
      "[nltk_data]    | Downloading package movie_reviews to\n",
      "[nltk_data]    |     C:\\Users\\Jung_a\\AppData\\Roaming\\nltk_data...\n",
      "[nltk_data]    |   Unzipping corpora\\movie_reviews.zip.\n",
      "[nltk_data]    | Downloading package nps_chat to\n",
      "[nltk_data]    |     C:\\Users\\Jung_a\\AppData\\Roaming\\nltk_data...\n",
      "[nltk_data]    |   Unzipping corpora\\nps_chat.zip.\n",
      "[nltk_data]    | Downloading package names to\n",
      "[nltk_data]    |     C:\\Users\\Jung_a\\AppData\\Roaming\\nltk_data...\n",
      "[nltk_data]    |   Unzipping corpora\\names.zip.\n",
      "[nltk_data]    | Downloading package ppattach to\n",
      "[nltk_data]    |     C:\\Users\\Jung_a\\AppData\\Roaming\\nltk_data...\n",
      "[nltk_data]    |   Unzipping corpora\\ppattach.zip.\n",
      "[nltk_data]    | Downloading package reuters to\n",
      "[nltk_data]    |     C:\\Users\\Jung_a\\AppData\\Roaming\\nltk_data...\n",
      "[nltk_data]    | Downloading package senseval to\n",
      "[nltk_data]    |     C:\\Users\\Jung_a\\AppData\\Roaming\\nltk_data...\n",
      "[nltk_data]    |   Unzipping corpora\\senseval.zip.\n",
      "[nltk_data]    | Downloading package state_union to\n",
      "[nltk_data]    |     C:\\Users\\Jung_a\\AppData\\Roaming\\nltk_data...\n",
      "[nltk_data]    |   Unzipping corpora\\state_union.zip.\n",
      "[nltk_data]    | Downloading package stopwords to\n",
      "[nltk_data]    |     C:\\Users\\Jung_a\\AppData\\Roaming\\nltk_data...\n",
      "[nltk_data]    |   Unzipping corpora\\stopwords.zip.\n",
      "[nltk_data]    | Downloading package swadesh to\n",
      "[nltk_data]    |     C:\\Users\\Jung_a\\AppData\\Roaming\\nltk_data...\n",
      "[nltk_data]    |   Unzipping corpora\\swadesh.zip.\n",
      "[nltk_data]    | Downloading package timit to\n",
      "[nltk_data]    |     C:\\Users\\Jung_a\\AppData\\Roaming\\nltk_data...\n",
      "[nltk_data]    |   Unzipping corpora\\timit.zip.\n",
      "[nltk_data]    | Downloading package treebank to\n",
      "[nltk_data]    |     C:\\Users\\Jung_a\\AppData\\Roaming\\nltk_data...\n",
      "[nltk_data]    |   Unzipping corpora\\treebank.zip.\n",
      "[nltk_data]    | Downloading package toolbox to\n",
      "[nltk_data]    |     C:\\Users\\Jung_a\\AppData\\Roaming\\nltk_data...\n",
      "[nltk_data]    |   Unzipping corpora\\toolbox.zip.\n",
      "[nltk_data]    | Downloading package udhr to\n",
      "[nltk_data]    |     C:\\Users\\Jung_a\\AppData\\Roaming\\nltk_data...\n",
      "[nltk_data]    |   Unzipping corpora\\udhr.zip.\n",
      "[nltk_data]    | Downloading package udhr2 to\n",
      "[nltk_data]    |     C:\\Users\\Jung_a\\AppData\\Roaming\\nltk_data...\n",
      "[nltk_data]    |   Unzipping corpora\\udhr2.zip.\n",
      "[nltk_data]    | Downloading package unicode_samples to\n",
      "[nltk_data]    |     C:\\Users\\Jung_a\\AppData\\Roaming\\nltk_data...\n",
      "[nltk_data]    |   Unzipping corpora\\unicode_samples.zip.\n",
      "[nltk_data]    | Downloading package webtext to\n",
      "[nltk_data]    |     C:\\Users\\Jung_a\\AppData\\Roaming\\nltk_data...\n",
      "[nltk_data]    |   Unzipping corpora\\webtext.zip.\n",
      "[nltk_data]    | Downloading package wordnet to\n",
      "[nltk_data]    |     C:\\Users\\Jung_a\\AppData\\Roaming\\nltk_data...\n",
      "[nltk_data]    |   Unzipping corpora\\wordnet.zip.\n",
      "[nltk_data]    | Downloading package wordnet_ic to\n",
      "[nltk_data]    |     C:\\Users\\Jung_a\\AppData\\Roaming\\nltk_data...\n",
      "[nltk_data]    |   Unzipping corpora\\wordnet_ic.zip.\n",
      "[nltk_data]    | Downloading package words to\n",
      "[nltk_data]    |     C:\\Users\\Jung_a\\AppData\\Roaming\\nltk_data...\n",
      "[nltk_data]    |   Unzipping corpora\\words.zip.\n",
      "[nltk_data]    | Downloading package maxent_treebank_pos_tagger to\n",
      "[nltk_data]    |     C:\\Users\\Jung_a\\AppData\\Roaming\\nltk_data...\n",
      "[nltk_data]    |   Unzipping taggers\\maxent_treebank_pos_tagger.zip.\n",
      "[nltk_data]    | Downloading package maxent_ne_chunker to\n",
      "[nltk_data]    |     C:\\Users\\Jung_a\\AppData\\Roaming\\nltk_data...\n",
      "[nltk_data]    |   Unzipping chunkers\\maxent_ne_chunker.zip.\n",
      "[nltk_data]    | Downloading package universal_tagset to\n",
      "[nltk_data]    |     C:\\Users\\Jung_a\\AppData\\Roaming\\nltk_data...\n",
      "[nltk_data]    |   Unzipping taggers\\universal_tagset.zip.\n",
      "[nltk_data]    | Downloading package punkt to\n",
      "[nltk_data]    |     C:\\Users\\Jung_a\\AppData\\Roaming\\nltk_data...\n",
      "[nltk_data]    |   Unzipping tokenizers\\punkt.zip.\n",
      "[nltk_data]    | Downloading package book_grammars to\n",
      "[nltk_data]    |     C:\\Users\\Jung_a\\AppData\\Roaming\\nltk_data...\n",
      "[nltk_data]    |   Unzipping grammars\\book_grammars.zip.\n",
      "[nltk_data]    | Downloading package city_database to\n",
      "[nltk_data]    |     C:\\Users\\Jung_a\\AppData\\Roaming\\nltk_data...\n",
      "[nltk_data]    |   Unzipping corpora\\city_database.zip.\n",
      "[nltk_data]    | Downloading package tagsets to\n",
      "[nltk_data]    |     C:\\Users\\Jung_a\\AppData\\Roaming\\nltk_data...\n",
      "[nltk_data]    |   Unzipping help\\tagsets.zip.\n",
      "[nltk_data]    | Downloading package panlex_swadesh to\n",
      "[nltk_data]    |     C:\\Users\\Jung_a\\AppData\\Roaming\\nltk_data...\n",
      "[nltk_data]    | Downloading package averaged_perceptron_tagger to\n",
      "[nltk_data]    |     C:\\Users\\Jung_a\\AppData\\Roaming\\nltk_data...\n",
      "[nltk_data]    |   Unzipping taggers\\averaged_perceptron_tagger.zip.\n",
      "[nltk_data]    | \n",
      "[nltk_data]  Done downloading collection book\n"
     ]
    },
    {
     "data": {
      "text/plain": [
       "True"
      ]
     },
     "execution_count": 38,
     "metadata": {},
     "output_type": "execute_result"
    }
   ],
   "source": [
    "#가져옴\n",
    "import nltk \n",
    "#nltk에 접근, 부분적으로 다운 받기\n",
    "nltk.download('book',quiet=True) "
   ]
  },
  {
   "cell_type": "code",
   "execution_count": null,
   "id": "be4871c2-5c49-4833-a0f0-f964e83557e4",
   "metadata": {},
   "outputs": [],
   "source": [
    "#('book',quiet=True) 하면 설치되는 게 안보임\n",
    "#다운만 하고 가만히 있으면 안 되고, book을 다시 import해야함"
   ]
  },
  {
   "cell_type": "code",
   "execution_count": 5,
   "id": "a125ac7a-812a-40b1-a700-20e50dd9366e",
   "metadata": {},
   "outputs": [
    {
     "name": "stdout",
     "output_type": "stream",
     "text": [
      "*** Introductory Examples for the NLTK Book ***\n",
      "Loading text1, ..., text9 and sent1, ..., sent9\n",
      "Type the name of the text or sentence to view it.\n",
      "Type: 'texts()' or 'sents()' to list the materials.\n",
      "text1: Moby Dick by Herman Melville 1851\n",
      "text2: Sense and Sensibility by Jane Austen 1811\n",
      "text3: The Book of Genesis\n",
      "text4: Inaugural Address Corpus\n",
      "text5: Chat Corpus\n",
      "text6: Monty Python and the Holy Grail\n",
      "text7: Wall Street Journal\n",
      "text8: Personals Corpus\n",
      "text9: The Man Who Was Thursday by G . K . Chesterton 1908\n"
     ]
    }
   ],
   "source": [
    "from nltk import book #가져오기"
   ]
  },
  {
   "cell_type": "code",
   "execution_count": 59,
   "id": "a919cdf7-53bb-4af8-9533-ae28cde73b5d",
   "metadata": {},
   "outputs": [
    {
     "data": {
      "text/plain": [
       "['[',\n",
       " 'Moby',\n",
       " 'Dick',\n",
       " 'by',\n",
       " 'Herman',\n",
       " 'Melville',\n",
       " '1851',\n",
       " ']',\n",
       " 'ETYMOLOGY',\n",
       " '.']"
      ]
     },
     "execution_count": 59,
     "metadata": {},
     "output_type": "execute_result"
    }
   ],
   "source": [
    "moby = book.text1\n",
    "moby.tokens[:10] #moby의 단어들(토큰)에 접근. 리스트 안에 스트링으로 들어감\n",
    "\n",
    "# 토큰: 프로그래밍에서 사용하는 단어의 단위 \n",
    "# hello world 에서 토큰은 hello와 world\n",
    "# I'm not a coward\n",
    "    # I'm / I, 'm / I, am <- 어떻게 분류해서 머가 토큰인지는 개발자가 정함"
   ]
  },
  {
   "cell_type": "code",
   "execution_count": 43,
   "id": "cb7fbfb5-94f8-4cf4-acee-26220199030e",
   "metadata": {},
   "outputs": [
    {
     "data": {
      "text/plain": [
       "260819"
      ]
     },
     "execution_count": 43,
     "metadata": {},
     "output_type": "execute_result"
    }
   ],
   "source": [
    "# 1. 길이세기\n",
    "len(moby) #26만자"
   ]
  },
  {
   "cell_type": "code",
   "execution_count": 45,
   "id": "92896399-23c0-4d41-b7ea-f36b1c4a3115",
   "metadata": {},
   "outputs": [
    {
     "data": {
      "text/plain": [
       "19317"
      ]
     },
     "execution_count": 45,
     "metadata": {},
     "output_type": "execute_result"
    }
   ],
   "source": [
    "# 2. 중복 없이 단어 몇 개?\n",
    "len(set(moby)) # 1.9만 자 / list -> set으로 바꿔주면서 중복 없앰"
   ]
  },
  {
   "cell_type": "markdown",
   "id": "9e9d7a6b-a3bd-4058-9602-ee2d57ad3f7e",
   "metadata": {},
   "source": [
    "- list\n",
    "    - ['a,'1',True]\n",
    "    - 순서가 있고\n",
    "    - 중복이 허용된다\n",
    "- set\n",
    "    - {'a','2',True}\n",
    "    - 순서 없고 (인덱싱이 안 됨)\n",
    "    - 중복 허용 안됨\n",
    "    - set()\n",
    "    - 수학의 집합 개념"
   ]
  },
  {
   "cell_type": "code",
   "execution_count": 46,
   "id": "51ec9f6b-d74e-4770-a75b-ace2512a0e68",
   "metadata": {},
   "outputs": [
    {
     "data": {
      "text/plain": [
       "['benz', 'kia', 'porsche', 'benz', 'benz']"
      ]
     },
     "execution_count": 46,
     "metadata": {},
     "output_type": "execute_result"
    }
   ],
   "source": [
    "cars = ['benz','kia','porsche','benz','benz']\n",
    "cars"
   ]
  },
  {
   "cell_type": "code",
   "execution_count": 47,
   "id": "2d6491b1-81c1-4cfe-b6c8-0f88674ecfcc",
   "metadata": {},
   "outputs": [
    {
     "data": {
      "text/plain": [
       "{'benz', 'kia', 'porsche'}"
      ]
     },
     "execution_count": 47,
     "metadata": {},
     "output_type": "execute_result"
    }
   ],
   "source": [
    "set(cars)"
   ]
  },
  {
   "cell_type": "code",
   "execution_count": 60,
   "id": "79256132-4a11-4c5a-beae-1f2141bc7cb7",
   "metadata": {
    "tags": []
   },
   "outputs": [
    {
     "data": {
      "text/plain": [
       "0.07406285585022564"
      ]
     },
     "execution_count": 60,
     "metadata": {},
     "output_type": "execute_result"
    }
   ],
   "source": [
    "# lexical diversity \n",
    "# 이 텍스트가 얼마나 다양한 어휘를 사용했는지 척도\n",
    "len(set(moby)) / len(moby) #중복없앤어휘개수/중복포함어휘개수"
   ]
  },
  {
   "cell_type": "code",
   "execution_count": 48,
   "id": "10078a04-d6d1-4196-a155-d074f33b7cb4",
   "metadata": {},
   "outputs": [
    {
     "data": {
      "text/plain": [
       "['porsche', 'kia', 'benz', 'benz', 'benz']"
      ]
     },
     "execution_count": 48,
     "metadata": {},
     "output_type": "execute_result"
    }
   ],
   "source": [
    "# 정렬\n",
    "sorted(cars, reverse=True) # reverse=True면 반대로 정렬"
   ]
  },
  {
   "cell_type": "code",
   "execution_count": 49,
   "id": "fde6540a-42d5-471a-a8ef-944d9f202c71",
   "metadata": {},
   "outputs": [
    {
     "data": {
      "text/plain": [
       "['.',\n",
       " '1851',\n",
       " 'Dick',\n",
       " 'ETYMOLOGY',\n",
       " 'Herman',\n",
       " 'Melville',\n",
       " 'Moby',\n",
       " '[',\n",
       " ']',\n",
       " 'by']"
      ]
     },
     "execution_count": 49,
     "metadata": {},
     "output_type": "execute_result"
    }
   ],
   "source": [
    "#moby에서 10개만 뽑고 거기서 정렬\n",
    "sorted(moby[:10])"
   ]
  },
  {
   "cell_type": "code",
   "execution_count": 51,
   "id": "0d7a0695-f480-4746-9478-d197e3a5ad16",
   "metadata": {},
   "outputs": [
    {
     "data": {
      "text/plain": [
       "['!', '!', '!', '!', '!', '!', '!', '!', '!', '!']"
      ]
     },
     "execution_count": 51,
     "metadata": {},
     "output_type": "execute_result"
    }
   ],
   "source": [
    "#moby를 정렬하고 거기서 10개를 뽑음\n",
    "sorted(moby)[:10]"
   ]
  },
  {
   "cell_type": "code",
   "execution_count": null,
   "id": "4396bacc-ba07-4bec-a88f-7869cad5af64",
   "metadata": {},
   "outputs": [],
   "source": [
    "# set은 인덱싱이 안된다."
   ]
  },
  {
   "cell_type": "code",
   "execution_count": null,
   "id": "e2fd1c18-f269-4995-a87f-d1670180d4ed",
   "metadata": {},
   "outputs": [],
   "source": []
  },
  {
   "cell_type": "markdown",
   "id": "54c5a30f-1147-4c69-a37c-52508c520eeb",
   "metadata": {
    "tags": []
   },
   "source": [
    "#### Quiz 2\n",
    "- text6 가져와서 토큰을 변수에 담고\n",
    "- 중복 없는 셋으로 저장하고 내림차순\n",
    "    - 앞에서 10개 단어 출력\n",
    "    - 만약 단어에 z가 있으면 z를 대문자로 바꾸시오\n",
    "    - z가 없는데 길이가 4개 이상이면 끝 글자를 대문자로 바꾸라.\n"
   ]
  },
  {
   "cell_type": "code",
   "execution_count": 50,
   "id": "24fe7d47-7114-421f-80da-39ab6d59bd69",
   "metadata": {},
   "outputs": [
    {
     "name": "stdout",
     "output_type": "stream",
     "text": [
      "내림차순 리스트 출력:\n",
      "['Zoosh', 'Zoop', 'Zoo', 'Zone', 'Zhiv', 'yourselF', 'yourS', 'youR', 'younG', 'you']\n",
      "단어만 출력:\n",
      "Zoosh Zoop Zoo Zone Zhiv yourselF yourS youR younG you "
     ]
    }
   ],
   "source": [
    "# Quiz 2 풀이\n",
    "#from nltk import book\n",
    "###변수 설정###\n",
    "arr = list(sorted(set(book.text6.tokens),reverse=True)) #중복제거후 내림차순후 인덱싱을 위해 리스트로 변환\n",
    "\n",
    "new_arr = []\n",
    "new_str_z = ''\n",
    "new_str_upper = ''\n",
    "\n",
    "###반복문###\n",
    "for i in range(10): #10개의 문자열마다 반복\n",
    "    if 'z' in arr[i]: #만약 z가 있다면\n",
    "        for j in range(len(arr[i])): #각 문자열의 개수만큼 반복\n",
    "            if arr[i][j] == 'z':\n",
    "                add_str = 'Z' #만약 z라면 추가될 str에 Z를 할당\n",
    "            else :\n",
    "                add_str = arr[i][j] #z가 아니라면 기존의 것을 할당\n",
    "            new_str_z = new_str_z + add_str #str을 붙이기위해, 누적해 더해줌\n",
    "        new_arr.append(new_str_z) #새 리스트에다가 붙인 new_str_z을 저장\n",
    "        new_str_z = '' #다음 단어로 넘어가기전 new_str_z 초기화\n",
    "        \n",
    "    elif len(arr[i]) >= 4: #z가 없는데 길이가 4 이상이라면\n",
    "        new_str_last_upper = arr[i][:-1] + chr(ord(arr[i][-1])-32)\n",
    "        new_arr.append(new_str_last_upper)\n",
    "        new_str_upper = ''\n",
    "        \n",
    "    else: #z도 없고 길이가 4 미만이라면\n",
    "        new_arr.append(arr[i]) #수정없이 넣어줌\n",
    "\n",
    "###출력###\n",
    "print(f\"내림차순 리스트 출력:\\n{new_arr}\")\n",
    "print(\"단어만 출력:\")\n",
    "for elem in new_arr:\n",
    "    print(elem,end=\" \")"
   ]
  },
  {
   "cell_type": "code",
   "execution_count": 39,
   "id": "0ff299c0-facf-49e2-b630-6fa82273e206",
   "metadata": {},
   "outputs": [
    {
     "name": "stdout",
     "output_type": "stream",
     "text": [
      "Zoosh\n",
      "Zoop\n",
      "Zoo\n",
      "Zone\n",
      "Zhiv\n",
      "yourselF\n",
      "yourS\n",
      "youR\n",
      "younG\n",
      "you\n"
     ]
    }
   ],
   "source": []
  },
  {
   "cell_type": "markdown",
   "id": "63545de7-0a28-40c8-a246-b10ae8601b95",
   "metadata": {},
   "source": [
    "##### Quiz 2 시행착오 정리\n",
    "1. 'str' object does not support item assignment\n",
    "- 예시: test = [\"zoo\"]; test[0][-1] = \"k\" 하면 발생하는 오류. \n",
    "- 원인: str의 값을 바꿔줄 수 없음(할당할 수 없음)\n",
    "- 해결: +연산과 슬라이싱 사용하여, 새 변수에 할당하기\n",
    "\n",
    "2. upper은 리스트에서 사용할 수 없다.\n",
    "- 띠라서 리스트 인덱싱 한 것을 upper로 변환해 사용할 수 없음.\n",
    "- 예시: test = [\"zoo\"]; print(test[0][1].upper)\n",
    "- 결과: <built-in method upper of str object at 0x00000223E2884230>\n",
    "- 결과의 의미: ?"
   ]
  },
  {
   "cell_type": "markdown",
   "id": "00f4c14a-2be1-480b-b52a-aa624e5b7d33",
   "metadata": {},
   "source": [
    "#### Quiz 3\n",
    "- 주민번호, 휴대폰 번호, 이메일 주소 입력 받는다.\n",
    "- 주민번호, 휴대폰번호는 숫자만 입력받는다 (- 없이)\n",
    "- 이메일주소는 아이디만 입력받는다. (@xx 없이)\n",
    "    - 1. \"당신은 {}년 {}월 {}일 출생의 {남성/여성}입니다.\"\n",
    "    - 2. \"휴대폰 번호: 000-0000-0000\"\n",
    "    - 3. \"이메일 주소: xxxx@gmail.com\""
   ]
  },
  {
   "cell_type": "code",
   "execution_count": 61,
   "id": "1469bb14-0358-47ae-acc6-8bb8f83feea9",
   "metadata": {},
   "outputs": [
    {
     "name": "stdin",
     "output_type": "stream",
     "text": [
      "주민 번호를 입력하세요. 199901232666666\n",
      "휴대폰 번호를 입력하세요. 01079425853\n",
      "이메일 아이디를 입력하세요. junga5853\n"
     ]
    },
    {
     "name": "stdout",
     "output_type": "stream",
     "text": [
      "====회원정보====\n",
      "당신은 1999년 01월 23일 출생의 여성입니다.\n",
      "휴대폰 번호: 010-7942-5853\n",
      "이메일 주소: junga5853@gmail.com\n"
     ]
    }
   ],
   "source": [
    "####정보 입력####\n",
    "regist_num = input(\"주민 번호를 입력하세요.\")\n",
    "phone_num = input(\"휴대폰 번호를 입력하세요.\")\n",
    "email_id = input(\"이메일 아이디를 입력하세요.\")\n",
    "\n",
    "#생년월일 저장\n",
    "birth_year = regist_num[:4]\n",
    "birth_month = regist_num[4:6]\n",
    "birth_day = regist_num[6:8]\n",
    "\n",
    "#성별 정보 저장\n",
    "if gender_num := int(regist_num[9]) % 2 == 1 :\n",
    "    gender = \"남성\"\n",
    "else :\n",
    "    gender = \"여성\"\n",
    "    \n",
    "#핸드폰 번호 저장\n",
    "phone_number = phone_num[:3] + \"-\" + phone_num[3:7] + \"-\" + phone_num[7:11]\n",
    "\n",
    "#이메일 저장\n",
    "email_adress = email_id + \"@gmail.com\"\n",
    "\n",
    "####출력####\n",
    "print(\"====회원정보====\")\n",
    "print(f\"당신은 {birth_year}년 {birth_month}월 {birth_day}일 출생의 {gender}입니다.\")\n",
    "print(f\"휴대폰 번호: {phone_number}\\n이메일 주소: {email_adress}\") "
   ]
  },
  {
   "cell_type": "code",
   "execution_count": null,
   "id": "95590c97-b029-4b6a-ac9c-7585080ec8db",
   "metadata": {},
   "outputs": [],
   "source": []
  },
  {
   "cell_type": "code",
   "execution_count": null,
   "id": "0aeeeb2f-3111-4248-a116-acb2759d7864",
   "metadata": {},
   "outputs": [],
   "source": []
  }
 ],
 "metadata": {
  "kernelspec": {
   "display_name": "Python 3 (ipykernel)",
   "language": "python",
   "name": "python3"
  },
  "language_info": {
   "codemirror_mode": {
    "name": "ipython",
    "version": 3
   },
   "file_extension": ".py",
   "mimetype": "text/x-python",
   "name": "python",
   "nbconvert_exporter": "python",
   "pygments_lexer": "ipython3",
   "version": "3.9.7"
  }
 },
 "nbformat": 4,
 "nbformat_minor": 5
}
