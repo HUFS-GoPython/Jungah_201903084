{
 "cells": [
  {
   "cell_type": "markdown",
   "id": "dc748c9f-943a-4cba-8903-7a98dbf623f7",
   "metadata": {},
   "source": [
    "Ch 08"
   ]
  },
  {
   "cell_type": "markdown",
   "id": "691875f4-ad47-46a3-9d6c-4319812c175a",
   "metadata": {},
   "source": [
    "## Dictionaty\n",
    "- 영어사전\n",
    "    - 단어: 뜻\n",
    "    - 키: 값\n",
    "    - 순서가 없다 <=> 인덱싱이 불가 \n",
    "    - \"키로 값을 찾는다\"\n",
    "        - 키는 중복되지 않는 고유한 값\n",
    "    - 가변 타입: 수정, 삭제, 추가 가능\n",
    "    - 타입: dict\n",
    "    - 형변환: 'dict()'\n",
    "    - 중괄호 사용 {}, 콤마로 구분함\n",
    "    - 값에 다양한 자료구조가 올 수 있음\n",
    "        - a: 1, a: [1,2,3,4] , ...\n",
    "        "
   ]
  },
  {
   "cell_type": "code",
   "execution_count": 1,
   "id": "fc2dd77c-d399-47a5-8886-f30a8a7409fb",
   "metadata": {},
   "outputs": [
    {
     "data": {
      "text/plain": [
       "set"
      ]
     },
     "execution_count": 1,
     "metadata": {},
     "output_type": "execute_result"
    }
   ],
   "source": [
    "empty = dict()\n",
    "empy = {}\n",
    "# set 도 {}\n",
    "# 그러나 {}는 dict 타입\n",
    "empty = {}\n",
    "empty = set() # set으로 하려면 이렇게\n",
    "type(empty)"
   ]
  },
  {
   "cell_type": "code",
   "execution_count": 2,
   "id": "379f172a-fc65-48d6-8439-3cdaf87037de",
   "metadata": {},
   "outputs": [
    {
     "data": {
      "text/plain": [
       "{1: 'apple', 2: 'banana', 3: 'kiwi'}"
      ]
     },
     "execution_count": 2,
     "metadata": {},
     "output_type": "execute_result"
    }
   ],
   "source": [
    "a = {1,2,3} # set\n",
    "a = {1:'apple',2:'banana',3:'kiwi'} #dict\n",
    "a"
   ]
  },
  {
   "cell_type": "code",
   "execution_count": 3,
   "id": "5a3c03b7-ddb4-4979-a6b1-17c1707f8fdf",
   "metadata": {},
   "outputs": [
    {
     "data": {
      "text/plain": [
       "{'apple': 'a', 'banana': 'b'}"
      ]
     },
     "execution_count": 3,
     "metadata": {},
     "output_type": "execute_result"
    }
   ],
   "source": [
    "b = {'':'', '':''}\n",
    "b = dict(apple='a',banana='b' ) # dict()이용시 키 값에 ''  안붙여도 됨\n",
    "b"
   ]
  },
  {
   "cell_type": "code",
   "execution_count": 5,
   "id": "2de60060-3689-437b-b273-a80b886ff96d",
   "metadata": {},
   "outputs": [
    {
     "data": {
      "text/plain": [
       "{'james': (202201, '경제학과'),\n",
       " 'laura': (202203, '스페인어과'),\n",
       " 'louis': (202202, '컴공과')}"
      ]
     },
     "execution_count": 5,
     "metadata": {},
     "output_type": "execute_result"
    }
   ],
   "source": [
    "# 출석부로 딕셔너리 만들기\n",
    "# 이름 학번 학과\n",
    "\n",
    "# james 202201 경제학과\n",
    "# laura 202203 스페인어과\n",
    "# louis 202202 컴공과\n",
    "\n",
    "attendance = dict(james=(202201,'경제학과'), laura=(202203,'스페인어과'), louis=(202202,'컴공과'))\n",
    "attendance\n",
    "\n",
    "# 이름은 키가 안됨. 이름은 중복될 수 있기 때문에\n",
    "# 따라서 키는 학번임.\n",
    "# 키에 '' 안붙이면 변수가 되는듯.. '' 붙여라\n",
    "# \n",
    "attendance = dict(james=(202201,'경제학과'), laura=(202203,'스페인어과'), louis=(202202,'컴공과'))\n",
    "\n",
    "#베스트\n",
    "{202201:['james','경제학과']} ....."
   ]
  },
  {
   "cell_type": "markdown",
   "id": "94982b05-523e-4aaa-b3bd-cab7f36d1819",
   "metadata": {},
   "source": [
    "## 형 변환"
   ]
  },
  {
   "cell_type": "code",
   "execution_count": 6,
   "id": "180e2245-1065-435c-a2a8-dfca8e1ceb0d",
   "metadata": {},
   "outputs": [
    {
     "data": {
      "text/plain": [
       "{1: 2, 2: 3, 3: 4}"
      ]
     },
     "execution_count": 6,
     "metadata": {},
     "output_type": "execute_result"
    }
   ],
   "source": [
    "ex1 = [[1,2],[2,3],[3,4]]\n",
    "dict(ex1)"
   ]
  },
  {
   "cell_type": "code",
   "execution_count": 7,
   "id": "eba6ff13-b912-404d-82bd-468930403767",
   "metadata": {},
   "outputs": [
    {
     "data": {
      "text/plain": [
       "{1: 3, 2: 3}"
      ]
     },
     "execution_count": 7,
     "metadata": {},
     "output_type": "execute_result"
    }
   ],
   "source": [
    "ex2 = [(1,2),(2,3),(1,3)]\n",
    "dict(ex2)\n",
    "# 마지막거만 남고 지워진다."
   ]
  },
  {
   "cell_type": "code",
   "execution_count": 9,
   "id": "adbe628b-7fbe-45ca-b5bb-63be004ff505",
   "metadata": {},
   "outputs": [
    {
     "ename": "ValueError",
     "evalue": "dictionary update sequence element #0 has length 3; 2 is required",
     "output_type": "error",
     "traceback": [
      "\u001b[1;31m---------------------------------------------------------------------------\u001b[0m",
      "\u001b[1;31mValueError\u001b[0m                                Traceback (most recent call last)",
      "\u001b[1;32m~\\AppData\\Local\\Temp/ipykernel_22452/321813545.py\u001b[0m in \u001b[0;36m<module>\u001b[1;34m\u001b[0m\n\u001b[0;32m      1\u001b[0m \u001b[0mex3\u001b[0m \u001b[1;33m=\u001b[0m \u001b[1;33m[\u001b[0m\u001b[1;34m'abb'\u001b[0m\u001b[1;33m]\u001b[0m\u001b[1;33m\u001b[0m\u001b[1;33m\u001b[0m\u001b[0m\n\u001b[1;32m----> 2\u001b[1;33m \u001b[0mdict\u001b[0m\u001b[1;33m(\u001b[0m\u001b[0mex3\u001b[0m\u001b[1;33m)\u001b[0m\u001b[1;33m\u001b[0m\u001b[1;33m\u001b[0m\u001b[0m\n\u001b[0m",
      "\u001b[1;31mValueError\u001b[0m: dictionary update sequence element #0 has length 3; 2 is required"
     ]
    }
   ],
   "source": [
    "ex3 = ['abb']\n",
    "dict(ex3)"
   ]
  },
  {
   "cell_type": "code",
   "execution_count": 11,
   "id": "059f9bac-7893-4107-930f-b60c8efec824",
   "metadata": {},
   "outputs": [
    {
     "data": {
      "text/plain": [
       "{'a': 'b', 'b': 'c', 'c': 'd'}"
      ]
     },
     "execution_count": 11,
     "metadata": {},
     "output_type": "execute_result"
    }
   ],
   "source": [
    "ex3 = ['ab','bc','cd']\n",
    "dict(ex3)\n",
    "# 두자리까지 가능"
   ]
  },
  {
   "cell_type": "markdown",
   "id": "be105206-9c29-46cf-92db-b8545c6ae446",
   "metadata": {},
   "source": [
    "### 항목 조회 & 변경"
   ]
  },
  {
   "cell_type": "code",
   "execution_count": 2,
   "id": "f47261ed-eab0-47b6-8f04-8a475a791db5",
   "metadata": {},
   "outputs": [
    {
     "data": {
      "text/plain": [
       "'Eric'"
      ]
     },
     "execution_count": 2,
     "metadata": {},
     "output_type": "execute_result"
    }
   ],
   "source": [
    "phythons = { # 성 이름\n",
    "    'chapman':'Graham',\n",
    "    \"Cleese\":\"John\",\n",
    "    'Idle':'Eric',\n",
    "    'Jones':'Terry',\n",
    "    'Palin':'michael'\n",
    "\n",
    "}\n",
    "phythons['Idle']"
   ]
  },
  {
   "cell_type": "code",
   "execution_count": 14,
   "id": "6a1cf7ec-6251-4abe-9dbc-402497fe8986",
   "metadata": {},
   "outputs": [
    {
     "ename": "KeyError",
     "evalue": "'hwa'",
     "output_type": "error",
     "traceback": [
      "\u001b[1;31m---------------------------------------------------------------------------\u001b[0m",
      "\u001b[1;31mKeyError\u001b[0m                                  Traceback (most recent call last)",
      "\u001b[1;32m~\\AppData\\Local\\Temp/ipykernel_22452/311329110.py\u001b[0m in \u001b[0;36m<module>\u001b[1;34m\u001b[0m\n\u001b[1;32m----> 1\u001b[1;33m \u001b[0mphythons\u001b[0m\u001b[1;33m[\u001b[0m\u001b[1;34m'hwa'\u001b[0m\u001b[1;33m]\u001b[0m\u001b[1;33m\u001b[0m\u001b[1;33m\u001b[0m\u001b[0m\n\u001b[0m",
      "\u001b[1;31mKeyError\u001b[0m: 'hwa'"
     ]
    }
   ],
   "source": [
    "phythons['hwa']"
   ]
  },
  {
   "cell_type": "code",
   "execution_count": 15,
   "id": "3c98938c-d20b-4d6b-b5e0-906e824f7a9c",
   "metadata": {},
   "outputs": [
    {
     "data": {
      "text/plain": [
       "{'chapman': 'Graham',\n",
       " 'Cleese': 'John',\n",
       " 'Idle': 'james',\n",
       " 'Jones': 'Terry',\n",
       " 'Palin': 'michael'}"
      ]
     },
     "execution_count": 15,
     "metadata": {},
     "output_type": "execute_result"
    }
   ],
   "source": [
    "phythons['Idle'] = 'james' # 변경\n",
    "phythons"
   ]
  },
  {
   "cell_type": "code",
   "execution_count": 16,
   "id": "0d5b112c-5800-4eb0-8a07-256afe16bb73",
   "metadata": {},
   "outputs": [
    {
     "data": {
      "text/plain": [
       "{'chapman': 'Graham',\n",
       " 'Cleese': 'John',\n",
       " 'Idle': 'james',\n",
       " 'Jones': 'Terry',\n",
       " 'Palin': 'michael',\n",
       " 'Hwa': 'chloe'}"
      ]
     },
     "execution_count": 16,
     "metadata": {},
     "output_type": "execute_result"
    }
   ],
   "source": [
    "phythons['Hwa'] = 'chloe' #(없을때는)추가\n",
    "phythons"
   ]
  },
  {
   "cell_type": "code",
   "execution_count": 17,
   "id": "04e8f208-c97b-4001-bfb8-0feb027b0467",
   "metadata": {},
   "outputs": [
    {
     "data": {
      "text/plain": [
       "True"
      ]
     },
     "execution_count": 17,
     "metadata": {},
     "output_type": "execute_result"
    }
   ],
   "source": [
    "# 예외없이 하는 방법\n",
    "# 1. in \n",
    "'Hwa' in phythons"
   ]
  },
  {
   "cell_type": "code",
   "execution_count": 23,
   "id": "80420a52-a2f6-4b66-a648-3301dca61545",
   "metadata": {},
   "outputs": [
    {
     "data": {
      "text/plain": [
       "0"
      ]
     },
     "execution_count": 23,
     "metadata": {},
     "output_type": "execute_result"
    }
   ],
   "source": [
    "# 2. get()\n",
    "phythons.get('Lee',0) #없는 키는 None 반환, 내가 원하는 반환값 설정 가능!"
   ]
  },
  {
   "cell_type": "markdown",
   "id": "f77baf67-0140-42ba-afab-07ffdf589c88",
   "metadata": {},
   "source": [
    "### [전체 조회]\n",
    "- keys()\n",
    "- values()\n",
    "- items()"
   ]
  },
  {
   "cell_type": "code",
   "execution_count": 24,
   "id": "b4db3ffc-ea46-4695-a318-febd8f6ea9a1",
   "metadata": {},
   "outputs": [
    {
     "data": {
      "text/plain": [
       "dict_keys(['chapman', 'Cleese', 'Idle', 'Jones', 'Palin', 'Hwa'])"
      ]
     },
     "execution_count": 24,
     "metadata": {},
     "output_type": "execute_result"
    }
   ],
   "source": [
    "phythons.keys() # 리스트 타입은 아닌데 메모리를 적게 먹음"
   ]
  },
  {
   "cell_type": "code",
   "execution_count": 25,
   "id": "7c158b44-0c58-482a-9c46-4cc9ea311d0a",
   "metadata": {},
   "outputs": [
    {
     "data": {
      "text/plain": [
       "dict_values(['Graham', 'John', 'james', 'Terry', 'michael', 'chloe'])"
      ]
     },
     "execution_count": 25,
     "metadata": {},
     "output_type": "execute_result"
    }
   ],
   "source": [
    "phythons.values()"
   ]
  },
  {
   "cell_type": "code",
   "execution_count": 26,
   "id": "91aca519-b918-4cfe-8567-922d26edac31",
   "metadata": {},
   "outputs": [
    {
     "data": {
      "text/plain": [
       "dict_items([('chapman', 'Graham'), ('Cleese', 'John'), ('Idle', 'james'), ('Jones', 'Terry'), ('Palin', 'michael'), ('Hwa', 'chloe')])"
      ]
     },
     "execution_count": 26,
     "metadata": {},
     "output_type": "execute_result"
    }
   ],
   "source": [
    "phythons.items() # 키와 값이 투퓰 형태 -> 순회시 많이 사용"
   ]
  },
  {
   "cell_type": "code",
   "execution_count": 27,
   "id": "0b2509eb-26ad-4959-ae43-5c721ccfd016",
   "metadata": {},
   "outputs": [
    {
     "data": {
      "text/plain": [
       "['chapman', 'Cleese', 'Idle', 'Jones', 'Palin', 'Hwa']"
      ]
     },
     "execution_count": 27,
     "metadata": {},
     "output_type": "execute_result"
    }
   ],
   "source": [
    "list(phythons.keys()) # 리스트 형변환"
   ]
  },
  {
   "cell_type": "code",
   "execution_count": null,
   "id": "cf4c3d6b-e7d6-4f9c-aa42-7b9525b3c004",
   "metadata": {},
   "outputs": [],
   "source": []
  },
  {
   "cell_type": "code",
   "execution_count": 29,
   "id": "654aadb2-5301-4a93-83c3-7fc0bb1527ed",
   "metadata": {},
   "outputs": [
    {
     "name": "stdout",
     "output_type": "stream",
     "text": [
      "chapman=Graham\n",
      "Cleese=John\n",
      "Idle=james\n",
      "Jones=Terry\n",
      "Palin=michael\n",
      "Hwa=chloe\n"
     ]
    }
   ],
   "source": [
    "for k,v in phythons.items(): #튜플형태기 때문에 가능 / 리스트컴프리 가능\n",
    "    print(f'{k}={v}')"
   ]
  },
  {
   "cell_type": "code",
   "execution_count": 37,
   "id": "97c0e9df-76fd-48b1-82a8-ed698743d707",
   "metadata": {},
   "outputs": [
    {
     "data": {
      "text/plain": [
       "[('chapman', 'Graham'),\n",
       " ('Cleese', 'John'),\n",
       " ('Idle', 'james'),\n",
       " ('Jones', 'Terry'),\n",
       " ('Palin', 'michael'),\n",
       " ('Hwa', 'chloe')]"
      ]
     },
     "execution_count": 37,
     "metadata": {},
     "output_type": "execute_result"
    }
   ],
   "source": [
    "# 키, 값 리스트 컴프리\n",
    "[(k,v) for k,v in phythons.items()] "
   ]
  },
  {
   "cell_type": "code",
   "execution_count": 36,
   "id": "9afc90e9-e494-4b6f-92d8-e4defce05f9e",
   "metadata": {},
   "outputs": [
    {
     "data": {
      "text/plain": [
       "['chapman', 'Cleese', 'Idle', 'Jones', 'Palin', 'Hwa']"
      ]
     },
     "execution_count": 36,
     "metadata": {},
     "output_type": "execute_result"
    }
   ],
   "source": [
    "# 키 리스트 컴프리\n",
    "[k[0] for k in phythons.items()] # 0=key, 1=value으로 사용 가능"
   ]
  },
  {
   "cell_type": "code",
   "execution_count": 31,
   "id": "572c4118-56ed-4e61-b1e8-30dbedf63231",
   "metadata": {},
   "outputs": [
    {
     "data": {
      "text/plain": [
       "['chapman', 'Cleese', 'Idle', 'Jones', 'Palin', 'Hwa']"
      ]
     },
     "execution_count": 31,
     "metadata": {},
     "output_type": "execute_result"
    }
   ],
   "source": [
    "[k for k in phythons] # 아무것도 뒤에 없으면 키값만 나옴"
   ]
  },
  {
   "cell_type": "code",
   "execution_count": 33,
   "id": "53e1c7e9-c582-4e68-b1a3-129e18b18bf2",
   "metadata": {},
   "outputs": [],
   "source": [
    "# animal: num_leg 딕셔너리 만들기\n",
    "\n",
    "animals = 'cat snake monkey ant spider'.split()\n",
    "legs= 4,0,2,4,8"
   ]
  },
  {
   "cell_type": "code",
   "execution_count": 35,
   "id": "5745e15a-b0c9-4ce1-abc1-eaec7a948bca",
   "metadata": {},
   "outputs": [
    {
     "data": {
      "text/plain": [
       "{'cat': 4, 'snake': 0, 'monkey': 2, 'ant': 4, 'spider': 8}"
      ]
     },
     "execution_count": 35,
     "metadata": {},
     "output_type": "execute_result"
    }
   ],
   "source": [
    "animals = 'cat snake monkey ant spider'.split()\n",
    "legs= 4,0,2,4,8\n",
    "animal_leg = {}\n",
    "\n",
    "for i,animal in enumerate(animals):\n",
    "    animal_leg[animal] = legs[i]\n",
    "    \n",
    "animal_leg\n",
    "\n",
    "# 피드백: range(len(animals))로 사용해도 좋음. 굳이 enumerate 사용안해도된다\n"
   ]
  },
  {
   "cell_type": "code",
   "execution_count": null,
   "id": "2a7e72a3-3ccc-45a5-a347-4666cbf15b6c",
   "metadata": {},
   "outputs": [],
   "source": [
    "# zip()함수 사용하는 방법도 있다.\n",
    "animals = []\n",
    "animals = 'cat snake monkey ant spider'.split()\n",
    "legs= 4,0,2,4,8\n",
    "animal_leg = {}\n",
    "\n",
    "for aniaml, leg in zip(animals,legs):\n",
    "    animal_leg[animal] = leg\n",
    "    \n",
    "animal_leg"
   ]
  },
  {
   "cell_type": "markdown",
   "id": "4faea89f-7e13-4f2d-84d9-1371b3c24f48",
   "metadata": {},
   "source": [
    "Q. pythons 에서 성: 이름, 성 첫글자만, 이름은 글자 개수로 이루어진 튜플\n",
    "(성,이름) 을 리스트로 반환하기\n",
    "- dict compre 쓰지 말기\n",
    "- 순회한다\n",
    "- 각 요소 변화"
   ]
  },
  {
   "cell_type": "code",
   "execution_count": 40,
   "id": "2996f64f-02c6-4aa1-9b0c-05ee7614572d",
   "metadata": {},
   "outputs": [
    {
     "data": {
      "text/plain": [
       "[('c', 6), ('C', 4), ('I', 5), ('J', 5), ('P', 7), ('H', 5)]"
      ]
     },
     "execution_count": 40,
     "metadata": {},
     "output_type": "execute_result"
    }
   ],
   "source": [
    "# 내 풀이\n",
    "[(first[0],len(name)) for first,name in phythons.items()]"
   ]
  },
  {
   "cell_type": "code",
   "execution_count": 4,
   "id": "4bda0bc2-a9ec-4992-8c84-0a6b588b6931",
   "metadata": {},
   "outputs": [
    {
     "data": {
      "text/plain": [
       "[('c', 6), ('C', 4), ('I', 4), ('J', 5), ('P', 7)]"
      ]
     },
     "execution_count": 4,
     "metadata": {},
     "output_type": "execute_result"
    }
   ],
   "source": [
    "# 인덱스를 이용한 두번째 방법\n",
    "[(k[0][0], len(k[1])) for k in phythons.items()]"
   ]
  },
  {
   "cell_type": "markdown",
   "id": "94b388df-1bee-482b-ab14-b74d18e6b2e9",
   "metadata": {},
   "source": [
    "### [값 수정, 삭제, 복제, 비교]\n"
   ]
  },
  {
   "cell_type": "code",
   "execution_count": 49,
   "id": "4dc6f21d-d0c6-4e28-8844-05a1bd6cadf3",
   "metadata": {},
   "outputs": [
    {
     "data": {
      "text/plain": [
       "{'chapman': 'Graham',\n",
       " 'Cleese': 'John',\n",
       " 'Idle': 'james',\n",
       " 'Jones': 'Terry',\n",
       " 'Palin': 'michael',\n",
       " 'Hwa': 'chloe'}"
      ]
     },
     "execution_count": 49,
     "metadata": {},
     "output_type": "execute_result"
    }
   ],
   "source": [
    "phythons"
   ]
  },
  {
   "cell_type": "code",
   "execution_count": 51,
   "id": "fb0d8e92-90b5-4bee-8df2-a8ed3dafbbd5",
   "metadata": {},
   "outputs": [
    {
     "data": {
      "text/plain": [
       "{'Marx': 'Grouch', 'Howard': 'Moe'}"
      ]
     },
     "execution_count": 51,
     "metadata": {},
     "output_type": "execute_result"
    }
   ],
   "source": [
    "others = {\n",
    "    'Marx':'Grouch',\n",
    "    'Howard':'Moe'\n",
    "\n",
    "}\n",
    "others"
   ]
  },
  {
   "cell_type": "code",
   "execution_count": 52,
   "id": "a13cd93b-ae9a-4db8-bf3e-9d1d5048071b",
   "metadata": {},
   "outputs": [],
   "source": [
    "phythons.update(others) # 있는 키라면 마지막을 기준으로 업데이트"
   ]
  },
  {
   "cell_type": "code",
   "execution_count": 53,
   "id": "0fe11585-9196-42c2-9794-93e4e76256c2",
   "metadata": {},
   "outputs": [
    {
     "data": {
      "text/plain": [
       "{'chapman': 'Graham',\n",
       " 'Cleese': 'John',\n",
       " 'Idle': 'james',\n",
       " 'Jones': 'Terry',\n",
       " 'Palin': 'michael',\n",
       " 'Hwa': 'chloe',\n",
       " 'Marx': 'Grouch',\n",
       " 'Howard': 'Moe'}"
      ]
     },
     "execution_count": 53,
     "metadata": {},
     "output_type": "execute_result"
    }
   ],
   "source": [
    "phythons"
   ]
  },
  {
   "cell_type": "code",
   "execution_count": 54,
   "id": "e2501a63-a4c1-423a-902c-19695b8b6cec",
   "metadata": {},
   "outputs": [
    {
     "data": {
      "text/plain": [
       "{'Marx': 'Grouch',\n",
       " 'Howard': 'Moe',\n",
       " 'chapman': 'Graham',\n",
       " 'Cleese': 'John',\n",
       " 'Idle': 'james',\n",
       " 'Jones': 'Terry',\n",
       " 'Palin': 'michael',\n",
       " 'Hwa': 'chloe'}"
      ]
     },
     "execution_count": 54,
     "metadata": {},
     "output_type": "execute_result"
    }
   ],
   "source": [
    "# py3에서만 있는 기능\n",
    "{**others,**phythons}"
   ]
  },
  {
   "cell_type": "code",
   "execution_count": 55,
   "id": "7082a8c8-1c8f-4b3e-8790-d636ce6980bc",
   "metadata": {},
   "outputs": [],
   "source": [
    "# 삭제\n",
    "del phythons['Hwa']"
   ]
  },
  {
   "cell_type": "code",
   "execution_count": 61,
   "id": "856ac2d8-f070-46e1-96c7-d3e0132e7749",
   "metadata": {},
   "outputs": [
    {
     "ename": "KeyError",
     "evalue": "'Lee'",
     "output_type": "error",
     "traceback": [
      "\u001b[1;31m---------------------------------------------------------------------------\u001b[0m",
      "\u001b[1;31mKeyError\u001b[0m                                  Traceback (most recent call last)",
      "\u001b[1;32m~\\AppData\\Local\\Temp/ipykernel_22452/1356380600.py\u001b[0m in \u001b[0;36m<module>\u001b[1;34m\u001b[0m\n\u001b[1;32m----> 1\u001b[1;33m \u001b[1;32mdel\u001b[0m \u001b[0mphythons\u001b[0m\u001b[1;33m[\u001b[0m\u001b[1;34m'Lee'\u001b[0m\u001b[1;33m]\u001b[0m\u001b[1;33m\u001b[0m\u001b[1;33m\u001b[0m\u001b[0m\n\u001b[0m",
      "\u001b[1;31mKeyError\u001b[0m: 'Lee'"
     ]
    }
   ],
   "source": [
    "del phythons['Lee']"
   ]
  },
  {
   "cell_type": "code",
   "execution_count": null,
   "id": "a703ff26-1398-4873-9b99-87333e4181ae",
   "metadata": {},
   "outputs": [],
   "source": [
    "del phythons"
   ]
  },
  {
   "cell_type": "code",
   "execution_count": 57,
   "id": "13539122-7212-4df2-93fc-ab0b3023e683",
   "metadata": {},
   "outputs": [
    {
     "data": {
      "text/plain": [
       "'Grouch'"
      ]
     },
     "execution_count": 57,
     "metadata": {},
     "output_type": "execute_result"
    }
   ],
   "source": [
    "phythons.pop('Marx')"
   ]
  },
  {
   "cell_type": "code",
   "execution_count": 58,
   "id": "d1506c54-8878-4b9b-836c-6d2ed024657a",
   "metadata": {},
   "outputs": [
    {
     "data": {
      "text/plain": [
       "{'chapman': 'Graham',\n",
       " 'Cleese': 'John',\n",
       " 'Idle': 'james',\n",
       " 'Jones': 'Terry',\n",
       " 'Palin': 'michael',\n",
       " 'Howard': 'Moe'}"
      ]
     },
     "execution_count": 58,
     "metadata": {},
     "output_type": "execute_result"
    }
   ],
   "source": [
    "phythons"
   ]
  },
  {
   "cell_type": "code",
   "execution_count": 60,
   "id": "15d40c1b-c8dd-4a23-8b03-408fcc3ac6a2",
   "metadata": {},
   "outputs": [
    {
     "data": {
      "text/plain": [
       "0"
      ]
     },
     "execution_count": 60,
     "metadata": {},
     "output_type": "execute_result"
    }
   ],
   "source": [
    "phythons.pop('Lee',0) #없으면 예외는 나지만, 예외시 출력 값을 지정할 수 있다."
   ]
  },
  {
   "cell_type": "code",
   "execution_count": 62,
   "id": "ed52f117-836a-4c47-9a16-9e9ea1223f48",
   "metadata": {},
   "outputs": [
    {
     "data": {
      "text/plain": [
       "{}"
      ]
     },
     "execution_count": 62,
     "metadata": {},
     "output_type": "execute_result"
    }
   ],
   "source": [
    "# 전체 삭제\n",
    "# 1. clear() 사용\n",
    "phythons.clear()\n",
    "phythons\n",
    "\n",
    "# 2. 빈 딕셔너리 선언\n",
    "phythons = {}"
   ]
  },
  {
   "cell_type": "markdown",
   "id": "4c792819-0f26-4bf2-b1a6-9add7d0801af",
   "metadata": {},
   "source": [
    "### [복제]\n",
    "- 할당\n",
    "- 얇은 복사\n",
    "- 깊은 복사\n"
   ]
  },
  {
   "cell_type": "code",
   "execution_count": 63,
   "id": "2669eb9a-f4f1-4e00-ba99-93955c31fc46",
   "metadata": {},
   "outputs": [
    {
     "data": {
      "text/plain": [
       "({1: 45, 2: 2, 3: 3}, {1: 45, 2: 2, 3: 3})"
      ]
     },
     "execution_count": 63,
     "metadata": {},
     "output_type": "execute_result"
    }
   ],
   "source": [
    "# {}도 가변 객체이기 때문에 리스트와 비슷\n",
    "a = {1:1,2:2,3:3}\n",
    "b = a\n",
    "a[1] = 45\n",
    "a,b"
   ]
  },
  {
   "cell_type": "code",
   "execution_count": 64,
   "id": "f9886c13-3fba-49a7-9e58-f145f11d3bc4",
   "metadata": {},
   "outputs": [
    {
     "data": {
      "text/plain": [
       "({1: 45, 2: 22, 3: 3}, {1: 45, 2: 2, 3: 3})"
      ]
     },
     "execution_count": 64,
     "metadata": {},
     "output_type": "execute_result"
    }
   ],
   "source": [
    "# 얉은 복사\n",
    "c = a.copy()\n",
    "a[2] = 22\n",
    "a,c"
   ]
  },
  {
   "cell_type": "code",
   "execution_count": 65,
   "id": "cecd355d-3e38-4931-82b0-f41d6110e4ba",
   "metadata": {},
   "outputs": [
    {
     "data": {
      "text/plain": [
       "({1: [100, 2, 3], 2: [2, 3, 4]}, {1: [100, 2, 3], 2: [2, 3, 4]})"
      ]
     },
     "execution_count": 65,
     "metadata": {},
     "output_type": "execute_result"
    }
   ],
   "source": [
    "# 얇은 복사 문제\n",
    "a = {1:[1,2,3],2:[2,3,4]}\n",
    "b= a.copy()\n",
    "a[1][0] = 100\n",
    "a,b\n",
    "# 리스트 2차원 이상으로 갔을 때 또 똑같이 참조가 됨"
   ]
  },
  {
   "cell_type": "code",
   "execution_count": 68,
   "id": "27a59394-1c55-45f9-9f5d-716538aebfe4",
   "metadata": {},
   "outputs": [
    {
     "data": {
      "text/plain": [
       "({1: [1, 999, 3], 2: [2, 3, 4]}, {1: [1, 2, 3], 2: [2, 3, 4]})"
      ]
     },
     "execution_count": 68,
     "metadata": {},
     "output_type": "execute_result"
    }
   ],
   "source": [
    "# 딥\n",
    "a = {}\n",
    "a = {1:[1,2,3],2:[2,3,4]}\n",
    "import copy\n",
    "e = copy.deepcopy(a)\n",
    "a[1][1] = 999\n",
    "a,e"
   ]
  },
  {
   "cell_type": "markdown",
   "id": "c13b1827-5b34-44c7-b3d8-1261d4bac207",
   "metadata": {},
   "source": [
    "### [비교]\n",
    "- 딕셔너리 끼리의 비교\n",
    "- 같다, 다르다만 된다. 크고 작고는 안됨"
   ]
  },
  {
   "cell_type": "code",
   "execution_count": 69,
   "id": "3f92e051-9f27-4dbb-8f60-c7ce76a799d2",
   "metadata": {},
   "outputs": [
    {
     "data": {
      "text/plain": [
       "True"
      ]
     },
     "execution_count": 69,
     "metadata": {},
     "output_type": "execute_result"
    }
   ],
   "source": [
    "a != b"
   ]
  },
  {
   "cell_type": "markdown",
   "id": "34e3ebc4-88cb-4acb-9673-ffe3b5a71e50",
   "metadata": {},
   "source": [
    "### ex\n",
    "1. 두 리스트로 하나의 딕셔너리 생성\n",
    "2. 명왕성 = pluto 추가하기\n",
    "3. '성'으로 끝나지 않는 키 삭제하기 (순회하라)\n",
    "    del dict1['태양'] (x)\n",
    "4. sorted 이용해서 값 정렬하기 1) key 2) value"
   ]
  },
  {
   "cell_type": "code",
   "execution_count": 6,
   "id": "6329119f-e20e-4d4d-a3f8-6ab874bd4352",
   "metadata": {},
   "outputs": [],
   "source": [
    "solar_kor = '태양 수성 금성 지구 화성 목성 토성 천왕성 해왕성'.split()\n",
    "solar_eng = 'sun mercury venus earth mars jupiter saturn uranus neptune'.split()"
   ]
  },
  {
   "cell_type": "code",
   "execution_count": 7,
   "id": "57617baf-d937-4327-a224-fa2e5b7a7e50",
   "metadata": {},
   "outputs": [
    {
     "data": {
      "text/plain": [
       "{'금성': 'jupiter',\n",
       " '명왕성': 'mars',\n",
       " '목성': 'mercury',\n",
       " '수성': 'neptune',\n",
       " '천왕성': 'pluto',\n",
       " '토성': 'saturn',\n",
       " '해왕성': 'uranus',\n",
       " '화성': 'venus'}"
      ]
     },
     "execution_count": 7,
     "metadata": {},
     "output_type": "execute_result"
    }
   ],
   "source": [
    "# 내 풀이\n",
    "solar = {}\n",
    "#1.\n",
    "for i in range(len(solar_kor)):\n",
    "    solar[solar_kor[i]] = solar_eng[i]\n",
    "#2.\n",
    "solar['명왕성'] = 'pluto'\n",
    "\n",
    "#3.\n",
    "for k in list(solar.keys()):\n",
    "    if k[len(k)-1] != '성': #.endswith()사용도 좋은 듯\n",
    "        solar.pop(k)\n",
    "        \n",
    "        \n",
    "# 4. 값 정렬\n",
    "# 4.1 키와 값 정렬\n",
    "sorted_key = sorted([key for key in list(solar.keys())])\n",
    "sorted_value = sorted([value for value in list(solar.values())])\n",
    "\n",
    "# 4.2 정렬된 새 sor\n",
    "sorted_solar = {}\n",
    "for i in range(len(sorted_key)):\n",
    "    sorted_solar[sorted_key[i]] = sorted_value[i]\n",
    "sorted_solar"
   ]
  },
  {
   "cell_type": "code",
   "execution_count": 76,
   "id": "7e693c12-44f4-4acb-ab22-642c2161c475",
   "metadata": {},
   "outputs": [
    {
     "data": {
      "text/plain": [
       "{'수성': 'mercury',\n",
       " '금성': 'venus',\n",
       " '화성': 'mars',\n",
       " '목성': 'jupiter',\n",
       " '토성': 'saturn',\n",
       " '천왕성': 'uranus',\n",
       " '해왕성': 'neptune',\n",
       " '명왕성': 'pluto'}"
      ]
     },
     "execution_count": 76,
     "metadata": {},
     "output_type": "execute_result"
    }
   ],
   "source": [
    "#3.\n",
    "for k in list(solar.keys()):\n",
    "    if k[len(k)-1] != '성':\n",
    "        solar.pop(k)\n",
    "solar"
   ]
  },
  {
   "cell_type": "code",
   "execution_count": 77,
   "id": "09f06455-4662-4f73-8f65-b64109285943",
   "metadata": {},
   "outputs": [
    {
     "data": {
      "text/plain": [
       "{'금성': 'jupiter',\n",
       " '명왕성': 'mars',\n",
       " '목성': 'mercury',\n",
       " '수성': 'neptune',\n",
       " '천왕성': 'pluto',\n",
       " '토성': 'saturn',\n",
       " '해왕성': 'uranus',\n",
       " '화성': 'venus'}"
      ]
     },
     "execution_count": 77,
     "metadata": {},
     "output_type": "execute_result"
    }
   ],
   "source": [
    "# 4. 값 정렬\n",
    "# 4.1 키와 값 정렬\n",
    "sorted_key = sorted([key for key in list(solar.keys())])\n",
    "sorted_value = sorted([value for value in list(solar.values())])\n",
    "\n",
    "# 4.2 정렬된 새 sor\n",
    "sorted_solar = {}\n",
    "for i in range(len(sorted_key)):\n",
    "    sorted_solar[sorted_key[i]] = sorted_value[i]\n",
    "sorted_solar\n",
    "\n",
    "# 문제점: 화성은 비너스가 아님.."
   ]
  },
  {
   "cell_type": "code",
   "execution_count": null,
   "id": "2c81e699-69d3-4598-bb4b-903cec25cc8f",
   "metadata": {},
   "outputs": [],
   "source": [
    "# 4. 정렬 수정 - 값을 비교해서 새로 넣기\n",
    "sorted_solar = {}\n",
    "for i in range(len(sorted_key)):\n"
   ]
  },
  {
   "cell_type": "code",
   "execution_count": null,
   "id": "93c6f7d6-7bd2-4759-bd63-49be0db818b5",
   "metadata": {},
   "outputs": [],
   "source": [
    "# 3을 리스트 컴프리로 바꾸기\n",
    "# 원래 3.\n",
    "for k in list(solar.keys()):\n",
    "    if k[len(k)-1] != '성': #.endswith()사용도 좋은 듯\n",
    "        solar.pop(k)"
   ]
  },
  {
   "cell_type": "code",
   "execution_count": 81,
   "id": "ab89c50d-901c-467d-b8a5-df97ef7dcdaa",
   "metadata": {},
   "outputs": [
    {
     "data": {
      "text/plain": [
       "{'수성': 'mercury',\n",
       " '금성': 'venus',\n",
       " '화성': 'mars',\n",
       " '목성': 'jupiter',\n",
       " '토성': 'saturn',\n",
       " '천왕성': 'uranus',\n",
       " '해왕성': 'neptune'}"
      ]
     },
     "execution_count": 81,
     "metadata": {},
     "output_type": "execute_result"
    }
   ],
   "source": [
    "# 리스트 컴프리 버전\n",
    "# 내 풀이\n",
    "\n",
    "dict([(key,value) for key,value in solar.items() if key.endswith('성')])\n",
    "\n",
    "# 정답\n",
    "ditc[(k,system[k]) for k in system if k.endswith('성')])"
   ]
  },
  {
   "cell_type": "code",
   "execution_count": 79,
   "id": "bd601c0d-7a79-46a8-8587-72316b921299",
   "metadata": {},
   "outputs": [
    {
     "data": {
      "text/plain": [
       "{'sk': 'sj'}"
      ]
     },
     "execution_count": 79,
     "metadata": {},
     "output_type": "execute_result"
    }
   ],
   "source": [
    "dict([('sk','sj')])"
   ]
  },
  {
   "cell_type": "markdown",
   "id": "307c0736-8346-4df0-9268-112d8277b307",
   "metadata": {},
   "source": [
    "### [dictionary 컴프리핸션]"
   ]
  },
  {
   "cell_type": "code",
   "execution_count": 82,
   "id": "e24f6955-ff67-443b-b268-b5df044b3c04",
   "metadata": {},
   "outputs": [
    {
     "data": {
      "text/plain": [
       "{'a': 1, 'p': 2, 'l': 1, 'e': 1}"
      ]
     },
     "execution_count": 82,
     "metadata": {},
     "output_type": "execute_result"
    }
   ],
   "source": [
    "letter = 'apple'\n",
    "# a:1 / p: 2 ...\n",
    "{ch: letter.count(ch) for ch in letter}"
   ]
  },
  {
   "cell_type": "code",
   "execution_count": null,
   "id": "fbe0956e-5af0-4300-a2cf-3b44bc9f12b7",
   "metadata": {},
   "outputs": [],
   "source": [
    "# 단어의 모음 세기 with 딕셔너리 컴프리\n",
    "vowels = 'aeiou'\n",
    "words = 'onomatopoeia'\n",
    "\n",
    "# word를 순회, 워드 뽑기\n",
    "len([w for w in words if w in vowls])\n",
    "\n"
   ]
  },
  {
   "cell_type": "code",
   "execution_count": 83,
   "id": "b930bcf4-a7eb-4013-93c1-527f882a6bad",
   "metadata": {},
   "outputs": [
    {
     "data": {
      "text/plain": [
       "True"
      ]
     },
     "execution_count": 83,
     "metadata": {},
     "output_type": "execute_result"
    }
   ],
   "source": [
    "'a' in 'ae'"
   ]
  },
  {
   "cell_type": "code",
   "execution_count": null,
   "id": "ea987aed-065a-427b-8e03-90d7ca641551",
   "metadata": {},
   "outputs": [],
   "source": [
    "# 답\n",
    "# vowels 순회\n",
    "{v:word.count(v) for v in vowels if v in word}\n",
    "\n",
    "# word를 순회, 워드 뽑기\n",
    "{w: word.count(w) for w in set(word) if w in vowels}"
   ]
  },
  {
   "cell_type": "code",
   "execution_count": null,
   "id": "c58331cd-873e-4dd7-9024-56f873aa209c",
   "metadata": {},
   "outputs": [],
   "source": [
    "{K:v for k,v in system.items() }?"
   ]
  },
  {
   "cell_type": "markdown",
   "id": "b078b79c-aaee-4bba-aff8-7d4430f25f8d",
   "metadata": {},
   "source": [
    "### [sorting]"
   ]
  },
  {
   "cell_type": "code",
   "execution_count": null,
   "id": "54873a1f-fd40-49dd-913b-72077087d9c5",
   "metadata": {},
   "outputs": [],
   "source": [
    "sorted(system) # 딕셔너리는 순서가 없기 때문에 리스트로 바뀌어서 출력됨"
   ]
  },
  {
   "cell_type": "code",
   "execution_count": null,
   "id": "6c8d8f1f-c830-44bd-858d-ba907fa0ffeb",
   "metadata": {},
   "outputs": [],
   "source": [
    "sorted(system.items()) # 첫번째는 한글 기준, 두번째는 영어 기준"
   ]
  },
  {
   "cell_type": "code",
   "execution_count": null,
   "id": "de63dc64-92d2-416e-8a24-c25ef840ff61",
   "metadata": {},
   "outputs": [],
   "source": [
    "# 둘다 정렬\n",
    "sorted(system.items(),key=fx) # 키를 기준으로 정렬"
   ]
  },
  {
   "cell_type": "code",
   "execution_count": null,
   "id": "6f809c68-a521-4bb2-ba78-d4c51552c831",
   "metadata": {},
   "outputs": [],
   "source": [
    "def fx(x):\n",
    "    return x[0] # 키를 기준으로 정렬"
   ]
  },
  {
   "cell_type": "code",
   "execution_count": null,
   "id": "cbc981a4-09eb-4836-9a8d-02986e61e9c2",
   "metadata": {},
   "outputs": [],
   "source": [
    "sorted(system.items(),key=lambda x:x[1]) # lambda함수 이용해 값 기준 정렬 "
   ]
  },
  {
   "cell_type": "markdown",
   "id": "c3cf9f74-4cc9-4aec-aa6e-4c5f2175ee63",
   "metadata": {},
   "source": [
    "### [set]\n",
    "- \"중복이 없다\"\n",
    "- 집합 => 교집합, 합집합, 차집합, ...\n",
    "- bag, 인덱싱도 없다."
   ]
  },
  {
   "cell_type": "code",
   "execution_count": 84,
   "id": "48838601-d46b-4823-98dc-28ba0e28f470",
   "metadata": {},
   "outputs": [
    {
     "data": {
      "text/plain": [
       "set()"
      ]
     },
     "execution_count": 84,
     "metadata": {},
     "output_type": "execute_result"
    }
   ],
   "source": [
    "empty = set() # {}라고 하면 안됨\n",
    "empty"
   ]
  },
  {
   "cell_type": "code",
   "execution_count": 85,
   "id": "679a2860-ce78-4138-93bb-e50a5ac996a5",
   "metadata": {},
   "outputs": [
    {
     "data": {
      "text/plain": [
       "{1, 2, 3}"
      ]
     },
     "execution_count": 85,
     "metadata": {},
     "output_type": "execute_result"
    }
   ],
   "source": [
    "a = {1,2,3}\n",
    "a"
   ]
  },
  {
   "cell_type": "code",
   "execution_count": 86,
   "id": "1c0c68d1-50ef-47e8-ad37-908a2e2bc578",
   "metadata": {},
   "outputs": [
    {
     "ename": "TypeError",
     "evalue": "set expected at most 1 argument, got 3",
     "output_type": "error",
     "traceback": [
      "\u001b[1;31m---------------------------------------------------------------------------\u001b[0m",
      "\u001b[1;31mTypeError\u001b[0m                                 Traceback (most recent call last)",
      "\u001b[1;32m~\\AppData\\Local\\Temp/ipykernel_22452/3376172723.py\u001b[0m in \u001b[0;36m<module>\u001b[1;34m\u001b[0m\n\u001b[1;32m----> 1\u001b[1;33m \u001b[0ma\u001b[0m \u001b[1;33m=\u001b[0m \u001b[0mset\u001b[0m\u001b[1;33m(\u001b[0m\u001b[1;36m1\u001b[0m\u001b[1;33m,\u001b[0m\u001b[1;36m2\u001b[0m\u001b[1;33m,\u001b[0m\u001b[1;36m3\u001b[0m\u001b[1;33m)\u001b[0m \u001b[1;31m#()안에는 튜플 혹은 리스트가 들어가야함\u001b[0m\u001b[1;33m\u001b[0m\u001b[1;33m\u001b[0m\u001b[0m\n\u001b[0m",
      "\u001b[1;31mTypeError\u001b[0m: set expected at most 1 argument, got 3"
     ]
    }
   ],
   "source": [
    "a = set(1,2,3) #()안에는 튜플 혹은 리스트가 들어가야함"
   ]
  },
  {
   "cell_type": "code",
   "execution_count": 89,
   "id": "6150c9ea-71e6-4630-92e2-55e707910de5",
   "metadata": {},
   "outputs": [
    {
     "data": {
      "text/plain": [
       "{1, 2, 3}"
      ]
     },
     "execution_count": 89,
     "metadata": {},
     "output_type": "execute_result"
    }
   ],
   "source": [
    "a = set((1,2,3)) #선언, 형변환\n",
    "a"
   ]
  },
  {
   "cell_type": "code",
   "execution_count": 90,
   "id": "9269e1bb-9085-4847-93f9-782a43c24480",
   "metadata": {},
   "outputs": [
    {
     "data": {
      "text/plain": [
       "{1, 2, 3, 4}"
      ]
     },
     "execution_count": 90,
     "metadata": {},
     "output_type": "execute_result"
    }
   ],
   "source": [
    "# 추가\n",
    "a.add(4)\n",
    "a"
   ]
  },
  {
   "cell_type": "code",
   "execution_count": 91,
   "id": "02a25c1c-55f7-436a-90a4-3e967a13f900",
   "metadata": {},
   "outputs": [
    {
     "data": {
      "text/plain": [
       "{1, 2, 3}"
      ]
     },
     "execution_count": 91,
     "metadata": {},
     "output_type": "execute_result"
    }
   ],
   "source": [
    "# 삭제\n",
    "a.remove(4)\n",
    "a"
   ]
  },
  {
   "cell_type": "code",
   "execution_count": null,
   "id": "1bde1064-2cdb-41df-8260-7d7a51e0bbb3",
   "metadata": {},
   "outputs": [
    {
     "name": "stdout",
     "output_type": "stream",
     "text": [
      "martini\n",
      "black russian\n",
      "white russian\n",
      "screwdriver\n",
      "black russian\n",
      "screwdriver\n"
     ]
    }
   ],
   "source": [
    "drinks = {}\n",
    "drinks = {\n",
    "    'martini': {'vodka','vermouth'},\n",
    "    'black russian': {'vodka','kahlua'},\n",
    "    'white russian': {'cream', 'kahlua', 'vodka'},\n",
    "    'manhattan': {'rye','vermouth','bitters'},\n",
    "    'screwdriver': {'orange juice', 'vodka'},\n",
    "\n",
    "}\n",
    "\n",
    "# 보드카가 포함된 술 출력\n",
    "for k in list(drinks.keys()):\n",
    "    if 'vodka' in drinks[k]:\n",
    "        print(k)\n",
    "\n",
    "# 보드카가 있지만 크림과 버모스 없는 술 출력\n",
    "result= []\n",
    "\n",
    "for k in list(drinks.keys()):\n",
    "    if 'vodka' in drinks[k] and \" \".join(drinks[k]).find('cream') == -1 \\\n",
    "    and \" \".join(drinks[k]).find('vermouth') == -1:\n",
    "        print(k)\n"
   ]
  },
  {
   "cell_type": "code",
   "execution_count": 13,
   "id": "ed970354-f2d8-44bd-bd16-53c829a5eeba",
   "metadata": {},
   "outputs": [
    {
     "name": "stdout",
     "output_type": "stream",
     "text": [
      "black russian\n",
      "screwdriver\n"
     ]
    }
   ],
   "source": [
    "for k,v in drinks.items():\n",
    "    #if 'vodka' in v and not 'cream' in v and not 'vermouth' in v:\n",
    "    if 'vodka' in v and not('cream' in v or 'vermouth' in v):\n",
    "        print(k)"
   ]
  },
  {
   "cell_type": "code",
   "execution_count": 105,
   "id": "1585aa00-454d-4d55-a22c-451501968d4e",
   "metadata": {},
   "outputs": [
    {
     "data": {
      "text/plain": [
       "{1}"
      ]
     },
     "execution_count": 105,
     "metadata": {},
     "output_type": "execute_result"
    }
   ],
   "source": [
    "a = {1,2,3}\n",
    "b = {2,3,4}\n",
    "\n",
    "# 교집합 | intersection\n",
    "a.intersection(b)\n",
    "a & b\n",
    "# 합집합 | union\n",
    "a.union(b)\n",
    "a | b\n",
    "# 차집합 | difference\n",
    "a.difference(b)\n",
    "a - b , b - a"
   ]
  },
  {
   "cell_type": "code",
   "execution_count": 115,
   "id": "c9202c68-d452-479f-a1ff-cd67e83f338a",
   "metadata": {},
   "outputs": [
    {
     "data": {
      "text/plain": [
       "{'black russian': {'kahlua', 'vodka'},\n",
       " 'screwdriver': {'orange juice', 'vodka'}}"
      ]
     },
     "execution_count": 115,
     "metadata": {},
     "output_type": "execute_result"
    }
   ],
   "source": [
    "# 컴프리헨션 이용해서 바꾸기 \n",
    "# 원래 코드 ↓\n",
    "for k,v in drinks.items():\n",
    "    #if 'vodka' in v and not 'cream' in v and not 'vermouth' in v:\n",
    "    if 'vodka' in v and not('cream' in v or 'vermouth' in v):\n",
    "        print(k)\n",
    "\n",
    "# 보드카가 있지만 크림과 버모스 없는 술 출력\n",
    "\n",
    "{k:v for k,v in drinks.items() if v.difference({'cream','vermouth'}) == v}\n"
   ]
  },
  {
   "cell_type": "code",
   "execution_count": 10,
   "id": "fbb85437-27b1-42cd-832b-cac20c119267",
   "metadata": {},
   "outputs": [],
   "source": [
    "# 정답 : intersection 사용\n",
    "for k,v in drinks.items():\n",
    "    if v & {'vodca'} and not v & {'cream','vermouth'}:\n",
    "        print(k)"
   ]
  },
  {
   "cell_type": "code",
   "execution_count": 12,
   "id": "f8bba476-933f-41f4-aac3-ee0e630c5508",
   "metadata": {},
   "outputs": [],
   "source": [
    "for k,v in drinks.items():\n",
    "    if 'vodca' in v and not v & {'cream','vermouth'}:\n",
    "        print(k)"
   ]
  },
  {
   "cell_type": "code",
   "execution_count": null,
   "id": "50a28373-1697-4bf7-9d46-24971d9aa657",
   "metadata": {},
   "outputs": [],
   "source": [
    "# issubset"
   ]
  },
  {
   "cell_type": "code",
   "execution_count": 118,
   "id": "aa837219-71c5-45a3-9a2a-c6d1114825de",
   "metadata": {},
   "outputs": [
    {
     "data": {
      "text/plain": [
       "{0, 1, 2, 3, 4}"
      ]
     },
     "execution_count": 118,
     "metadata": {},
     "output_type": "execute_result"
    }
   ],
   "source": [
    "{s for s in range(5)}"
   ]
  },
  {
   "cell_type": "code",
   "execution_count": 119,
   "id": "ef0ad273-1c63-48ef-987c-f7cfb3000fe9",
   "metadata": {},
   "outputs": [
    {
     "data": {
      "text/plain": [
       "frozenset({1, 2})"
      ]
     },
     "execution_count": 119,
     "metadata": {},
     "output_type": "execute_result"
    }
   ],
   "source": [
    "# frozenset | 가변 객체를 불변으로 만드는\n",
    "set([1,2])\n",
    "frozenset([1,2])"
   ]
  },
  {
   "cell_type": "markdown",
   "id": "49687e4e-de1b-4148-94fd-94351077568a",
   "metadata": {},
   "source": [
    "### project\n",
    "- 매주 팀별로 1개 파일 제출\n",
    "- 2팀 100 2팀 70 50 30\n",
    "- 디버깅 툴이 주어짐\n",
    "- 수업 30분 동안 팀마다 코드 설명 : 랜덤 선정, 성의 없는 답변은 점수 X\n",
    "- 제출: 수요일 오전부터 시작해 자정까지.\n",
    "- import는 한 쪽으로 미는 등 정리해서 컬러스크립트로.\n"
   ]
  },
  {
   "cell_type": "code",
   "execution_count": null,
   "id": "e4047b38-421b-4105-8c7a-7e3b5548e406",
   "metadata": {},
   "outputs": [],
   "source": [
    "# 디버깅: 만약 example이 파일 이름이라면\n",
    "!pip install pylint\n",
    "!pylint example.py # 점수 10점 만점에 몇 점인지도 알려줌\n",
    "\n",
    "# doc style 디버깅\n",
    "!pip install pydocstyle\n",
    "!pydocstyle example.py\n"
   ]
  },
  {
   "cell_type": "code",
   "execution_count": null,
   "id": "f4bb2b0a-dc49-449c-b110-e62c80f9e968",
   "metadata": {},
   "outputs": [],
   "source": []
  },
  {
   "cell_type": "code",
   "execution_count": null,
   "id": "827cb3b2-2786-445b-922d-51a4c00df22a",
   "metadata": {},
   "outputs": [],
   "source": []
  }
 ],
 "metadata": {
  "kernelspec": {
   "display_name": "Python 3 (ipykernel)",
   "language": "python",
   "name": "python3"
  },
  "language_info": {
   "codemirror_mode": {
    "name": "ipython",
    "version": 3
   },
   "file_extension": ".py",
   "mimetype": "text/x-python",
   "name": "python",
   "nbconvert_exporter": "python",
   "pygments_lexer": "ipython3",
   "version": "3.9.7"
  }
 },
 "nbformat": 4,
 "nbformat_minor": 5
}
