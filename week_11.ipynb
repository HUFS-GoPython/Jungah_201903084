{
 "cells": [
  {
   "cell_type": "code",
   "execution_count": null,
   "id": "9f97b66b-d5da-4ea6-b86e-054159f1d454",
   "metadata": {},
   "outputs": [],
   "source": [
    "## 저번주 NoteBook 퀴즈\n",
    "\n",
    "# 내 버전\n",
    "class NoteBook:\n",
    "    def __init__(self):\n",
    "        self.__title = self\n",
    "        self.note = ''\n",
    "        self.page = 0\n",
    "    \n",
    "    def add_note(self,note):\n",
    "        self.page += note.page # 노트의 페이지 번호만큼 누적해 증가\n",
    "        self.note = self.note + '\\n'+ str(note.title) + ':' + note.line\n",
    "    \n",
    "    def remove_note(self,note):\n",
    "        self.note = \"\\n\".join(self.note.split('\\n')[:-1])\n",
    "        self.page -= note.page # 노트의 페이지 번호만큼 삭제\n",
    "    \n",
    "    def get_page_num(self):\n",
    "        return self.page\n",
    "\n",
    "class Note:\n",
    "    def __init__(self,line=''):\n",
    "        self.line = line\n",
    "        self.page = 0\n",
    "        self.title = self\n",
    "    \n",
    "    def write(self,line):\n",
    "        self.line = self.line + ' ' + line\n",
    "        self.page += 1\n",
    "\n",
    "# 사용\n",
    "line1 = '우리 모두 스스로가 원하는 리더가 됩니다.'\n",
    "line2 = '모두가 함께 앞으로 나아가면 성공은 저절로 따라옵니다.'\n",
    "line3 = '혼자서는 작은 한 샘물이지만 함께 모이면 바다를 이룹니다.'\n",
    "\n",
    "# 메모 추가\n",
    "my_note = Note()\n",
    "my_note.write(line1) # 한 페이지에 라인이 하나 씩 들어갈 수 있게 짜보기\n",
    "my_note.write(line2)\n",
    "my_note.write(line3)\n",
    "\n",
    "# 메모장에 추가\n",
    "my_book = NoteBook()\n",
    "my_book.add_note(my_note)\n",
    "my_book.note\n",
    "# 페이지 번호 확인하기\n",
    "my_book.get_page_num()\n",
    "\n",
    "# 메모 삭제하기\n",
    "my_book.remove_note(my_note)\n",
    "# 페이지 번호 확인하기\n",
    "my_book.get_page_num()"
   ]
  },
  {
   "cell_type": "code",
   "execution_count": null,
   "id": "7e4ae3ff-629f-46b6-9d86-de367387ea1c",
   "metadata": {},
   "outputs": [],
   "source": [
    "# 교수님 버전\n",
    "\n",
    "class NoteBook:\n",
    "    def __init__(self,title,note=None,page=0):\n",
    "        self.__title = title\n",
    "        self.note = page\n",
    "        self.page = note # Note 타입으로 설정해서 {note:page}, (note,page)\n",
    "    \n",
    "    @property\n",
    "    def title(self):\n",
    "        return self.__title\n",
    "    \n",
    "    def add_note(self,note):\n",
    "        self.page += 1\n",
    "    \n",
    "    def delete_note(self,note):\n",
    "        self.page -= 1\n",
    "    \n",
    "    def check_page_num(self):\n",
    "        return self.page\n",
    "\n",
    "class Note:\n",
    "    def __init__(self,meno):\n",
    "        self.memo = []\n",
    "    \n",
    "    def write(self,sent):\n",
    "        self.memo.append(self.sent)\n",
    "        \n",
    "    def erase(self,sent)\n",
    "        self.memo.remove(self.sent)\n",
    "        \n",
    "# 사용\n",
    "line1 = '우리 모두 스스로가 원하는 리더가 됩니다.'\n",
    "line2 = '모두가 함께 앞으로 나아가면 성공은 저절로 따라옵니다.'\n",
    "line3 = '혼자서는 작은 한 샘물이지만 함께 모이면 바다를 이룹니다.'\n",
    "\n",
    "# 메모 추가\n",
    "my_note = Note()\n",
    "my_note.write(line1) # 한 페이지에 라인이 하나 씩 들어갈 수 있게 짜보기\n",
    "my_note.write(line2)\n",
    "my_note.write(line3)\n",
    "\n",
    "# 메모장에 추가\n",
    "my_book = NoteBook()\n",
    "my_book.add_note(my_note)\n",
    "my_book.note\n",
    "# 페이지 번호 확인하기\n",
    "my_book.get_page_num()\n",
    "\n",
    "# 메모 삭제하기\n",
    "my_book.remove_note(my_note)\n",
    "# 페이지 번호 확인하기\n",
    "my_book.get_page_num()\n"
   ]
  },
  {
   "cell_type": "markdown",
   "id": "fd6b8ef6-f893-418d-82ff-4eca50fc0b19",
   "metadata": {},
   "source": [
    "### 객체 2\n",
    "- 상속 (inheritance)\n",
    "- 재사용할 때, A vs B\n",
    "    - A의 대부분을 쓰고, 나머지를 추가하거나 변경하고 싶을 때\n",
    "    - 부모의 모든 속성을 그대로 가져와서 쓰겠다\n",
    "- 반복 되는 부분을 가져오겠다. 물려받겠다.\n",
    "- A <- B\n",
    "    - A: \"부모, 슈퍼, 베이스\" 클래스\n",
    "    - B: \"자식, 서브, derived\" 클래스\n",
    "\n",
    "- 자식 클래스는 부모 클래스를 구체화한다.\n",
    "- is-a 관계라고 부름: Car is-a Vehicle (포함된다)"
   ]
  },
  {
   "cell_type": "code",
   "execution_count": 2,
   "id": "ac059488-c986-4f00-ada6-750c7367fc9a",
   "metadata": {},
   "outputs": [],
   "source": [
    "class Vehicle: #parent, super\n",
    "    def __init__(self,speed):\n",
    "        self.speed = speed\n",
    "    \n",
    "    def go(self):\n",
    "        print(f'{self.speed}의 속도로 달린다.')\n",
    "\n",
    "#child, sub\n",
    "class Car(Vehicle): #() 안에 부모를 넣으면 상속함\n",
    "    pass"
   ]
  },
  {
   "cell_type": "code",
   "execution_count": 2,
   "id": "00173440-90ec-4c52-aa55-07a5171b1f16",
   "metadata": {},
   "outputs": [
    {
     "ename": "TypeError",
     "evalue": "__init__() missing 1 required positional argument: 'speed'",
     "output_type": "error",
     "traceback": [
      "\u001b[1;31m---------------------------------------------------------------------------\u001b[0m",
      "\u001b[1;31mTypeError\u001b[0m                                 Traceback (most recent call last)",
      "\u001b[1;32m~\\AppData\\Local\\Temp/ipykernel_12408/2668827408.py\u001b[0m in \u001b[0;36m<module>\u001b[1;34m\u001b[0m\n\u001b[1;32m----> 1\u001b[1;33m \u001b[0mcar\u001b[0m \u001b[1;33m=\u001b[0m \u001b[0mCar\u001b[0m\u001b[1;33m(\u001b[0m\u001b[1;33m)\u001b[0m\u001b[1;33m\u001b[0m\u001b[1;33m\u001b[0m\u001b[0m\n\u001b[0m",
      "\u001b[1;31mTypeError\u001b[0m: __init__() missing 1 required positional argument: 'speed'"
     ]
    }
   ],
   "source": [
    "car = Car()\n",
    "# 부모의 형태를 그대로 받는다."
   ]
  },
  {
   "cell_type": "code",
   "execution_count": 3,
   "id": "ceaeb55c-765e-47cf-a2ac-b5cd551befa8",
   "metadata": {},
   "outputs": [],
   "source": [
    "car = Car('20km/h')"
   ]
  },
  {
   "cell_type": "code",
   "execution_count": 4,
   "id": "cd15c4b3-db28-4de0-bbf9-66f7f3832303",
   "metadata": {},
   "outputs": [
    {
     "name": "stdout",
     "output_type": "stream",
     "text": [
      "20km/h의 속도로 달린다.\n"
     ]
    }
   ],
   "source": [
    "car.go()\n",
    "# 부모의 메소드를 그대로 받는다."
   ]
  },
  {
   "cell_type": "markdown",
   "id": "b304c8d2-dd6b-48a3-b0b8-ccdad1766256",
   "metadata": {},
   "source": [
    "### [변수 추가, 변경]"
   ]
  },
  {
   "cell_type": "code",
   "execution_count": 3,
   "id": "5aa727ca-cb96-4a85-86e9-f9fb64287d11",
   "metadata": {},
   "outputs": [],
   "source": [
    "class Car(Vehicle): \n",
    "    def __init__(self,speed,brand):\n",
    "        # speed == 부모\n",
    "        super().__init__(speed) # 부모에서 속성 가져올 때 (super한담에 괄호 꼭 붙이기)\n",
    "        # 이걸 해야 부모의 속성이 바뀌었을 때 그걸 상속받을 수 있는 것임\n",
    "        \n",
    "        # 자습: .__init__()이 실행될때, 부모의 init을 가져온다. 그래서 super().__init__()의 init 괄호 안에 들어가는건\n",
    "        # 속성 자체가 아니라, 클래스에 매개변수를 전달하는 것과 같다. 부모의 init에서 name이 self.name에 들어가는 경우, \n",
    "        # 자식에서도 해당 name이 self.name에 들어가는 것이다.\n",
    "        # 즉, super.__init__(speed)에서 speed는 self.speed가 아니라 매개변수 speed이다.\n",
    "        \n",
    "        # brand == child\n",
    "        self.brand = brand # 나의 고유한 특성이 된다.\n"
   ]
  },
  {
   "cell_type": "code",
   "execution_count": 4,
   "id": "a3549821-09be-4c9b-9d88-250b1185b487",
   "metadata": {},
   "outputs": [
    {
     "name": "stdout",
     "output_type": "stream",
     "text": [
      "20km/h의 속도로 달린다.\n"
     ]
    }
   ],
   "source": [
    "car2 = Car('20km/h', 'kia')\n",
    "car2.brand\n",
    "car2.go() # init만 해도, 부모의 메소드 전부를 상속받는 것이 됨."
   ]
  },
  {
   "cell_type": "code",
   "execution_count": 7,
   "id": "724e2e4f-7aac-4116-9d62-7210413243a2",
   "metadata": {},
   "outputs": [
    {
     "ename": "AttributeError",
     "evalue": "'Vehicle' object has no attribute 'brand'",
     "output_type": "error",
     "traceback": [
      "\u001b[1;31m---------------------------------------------------------------------------\u001b[0m",
      "\u001b[1;31mAttributeError\u001b[0m                            Traceback (most recent call last)",
      "\u001b[1;32m~\\AppData\\Local\\Temp/ipykernel_12408/2184005269.py\u001b[0m in \u001b[0;36m<module>\u001b[1;34m\u001b[0m\n\u001b[0;32m      1\u001b[0m \u001b[0mv\u001b[0m \u001b[1;33m=\u001b[0m \u001b[0mVehicle\u001b[0m\u001b[1;33m(\u001b[0m\u001b[1;34m'33km/h'\u001b[0m\u001b[1;33m)\u001b[0m\u001b[1;33m\u001b[0m\u001b[1;33m\u001b[0m\u001b[0m\n\u001b[1;32m----> 2\u001b[1;33m \u001b[0mv\u001b[0m\u001b[1;33m.\u001b[0m\u001b[0mbrand\u001b[0m\u001b[1;33m\u001b[0m\u001b[1;33m\u001b[0m\u001b[0m\n\u001b[0m",
      "\u001b[1;31mAttributeError\u001b[0m: 'Vehicle' object has no attribute 'brand'"
     ]
    }
   ],
   "source": [
    "v = Vehicle('33km/h')\n",
    "v.brand"
   ]
  },
  {
   "cell_type": "code",
   "execution_count": null,
   "id": "8ba45ba2-414c-4964-9ce0-f618a639418c",
   "metadata": {},
   "outputs": [],
   "source": []
  },
  {
   "cell_type": "code",
   "execution_count": null,
   "id": "7231173f-af98-49f3-b43e-99fe5ca26e37",
   "metadata": {},
   "outputs": [],
   "source": []
  },
  {
   "cell_type": "markdown",
   "id": "88440004-b755-419d-b1fa-a65406cd1a44",
   "metadata": {},
   "source": [
    "### 메소드 추가, 변경\n",
    "- override하면 부모의 메서드가 잊힌다.\n",
    "- "
   ]
  },
  {
   "cell_type": "code",
   "execution_count": 9,
   "id": "01109e6c-4e08-4294-8e41-6fe8f2819761",
   "metadata": {},
   "outputs": [
    {
     "name": "stdout",
     "output_type": "stream",
     "text": [
      "20km/h의 속도로 달린다.\n"
     ]
    }
   ],
   "source": [
    "car2.go()"
   ]
  },
  {
   "cell_type": "code",
   "execution_count": 5,
   "id": "159a2b0a-db22-49bd-8d65-f4ff0a4fe63e",
   "metadata": {},
   "outputs": [],
   "source": [
    "class Car(Vehicle): \n",
    "    def __init__(self,speed,brand):\n",
    "        # speed == 부모\n",
    "        super().__init__(speed) #super한담에 괄호 꼭 붙이기\n",
    "        # brand == child\n",
    "        self.brand = brand # 나의 고유한 특성이 된다.\n",
    "\n",
    "        # 오버라이드(override) : 재정의- 부모의 함수를 재정의\n",
    "    def go(self):\n",
    "        print(f'차종 {self.brand}의 속도 {self.speed}')\n",
    "            \n",
    "        # 메소드 추가\n",
    "    def stop():\n",
    "        pass"
   ]
  },
  {
   "cell_type": "code",
   "execution_count": 6,
   "id": "16d2ecf9-3189-41e3-a28f-5089c7db5c71",
   "metadata": {},
   "outputs": [
    {
     "name": "stdout",
     "output_type": "stream",
     "text": [
      "차종 mini의 속도 33km/h\n"
     ]
    }
   ],
   "source": [
    "car3 = Car('33km/h','mini')\n",
    "car3.go()"
   ]
  },
  {
   "cell_type": "code",
   "execution_count": 16,
   "id": "46b4159f-48b5-4d47-9cf8-bf74d1c08b89",
   "metadata": {},
   "outputs": [],
   "source": [
    "# 부모의 go도 함께 가져가고 싶다면?\n",
    "\n",
    "class Vehicle: #parent, super\n",
    "    def __init__(self,speed):\n",
    "        self.speed = speed\n",
    "    \n",
    "    def go(self):\n",
    "        print(f'{self.speed}의 속도로 달린다.')\n",
    "\n",
    "\n",
    "class Car(Vehicle): \n",
    "    def __init__(self,speed,brand):\n",
    "        # speed == 부모\n",
    "        super().__init__(speed) #Vehicle().speed가 되는 것\n",
    "        # brand == child\n",
    "        self.brand = brand # 나의 고유한 특성이 된다.\n",
    "\n",
    "    # 오버라이드(override) : 재정의- 부모의 함수를 재정의\n",
    "    def go(self):\n",
    "        super().go() ## 답 / 부모의 메소드를 호출한다.\n",
    "        print(f'차종 {self.brand}의 속도 {self.speed}')\n",
    "            \n",
    "    # 메소드 추가\n",
    "    def stop():\n",
    "        pass"
   ]
  },
  {
   "cell_type": "code",
   "execution_count": 17,
   "id": "3b2ec0e3-6ac6-4493-a9ec-56550fe08013",
   "metadata": {},
   "outputs": [
    {
     "name": "stdout",
     "output_type": "stream",
     "text": [
      "33km/h의 속도로 달린다.\n",
      "차종 mini의 속도 33km/h\n"
     ]
    }
   ],
   "source": [
    "car3 = Car('33km/h','mini')\n",
    "car3.go()"
   ]
  },
  {
   "cell_type": "code",
   "execution_count": 24,
   "id": "8b1f9874-c971-46b1-acf4-9ff5ec55f5d4",
   "metadata": {},
   "outputs": [],
   "source": [
    "### 실습 : 부모 속성 받아서 속성값 바꾸기\n",
    "\n",
    "class Person:\n",
    "    def __init__(self, name):\n",
    "        self.name = name # pablo\n",
    "        \n",
    "#-------------\n",
    "class Doctor(Person): #Dr.pablo\n",
    "    def __init__(self,name):\n",
    "        super().__init__(name)\n",
    "        self.name = \"Dr.\"+ name #Person().name은 왜 안될까 -> 이미 name에 Person의 name이 들어가있음\n",
    "\n",
    "class Male(Person):\n",
    "    def __init__(self,name):\n",
    "        super().__init__(name)\n",
    "        self.name = \"Mr.\"+ name\n",
    "        \n",
    "class Female(Person):\n",
    "    def __init__(self,name):\n",
    "        super().__init__(name)\n",
    "        self.name = \"Mrs.\"+ name\n"
   ]
  },
  {
   "cell_type": "code",
   "execution_count": 25,
   "id": "e659767f-bf5f-46ab-b299-609ffac2a8fd",
   "metadata": {},
   "outputs": [
    {
     "data": {
      "text/plain": [
       "'Dr.pablo'"
      ]
     },
     "execution_count": 25,
     "metadata": {},
     "output_type": "execute_result"
    }
   ],
   "source": [
    "Doctor('pablo').name"
   ]
  },
  {
   "cell_type": "code",
   "execution_count": null,
   "id": "87419504-1cc8-4b83-bea4-9fe804023296",
   "metadata": {},
   "outputs": [],
   "source": [
    "# 정답\n",
    "super().__init__('Dr.' + name) # f'Dr.{name}'로 써도 된다.\n",
    "\n",
    "# 자습: 이렇게 해주면 부모의 init을 타서\n",
    "# 자식 클래스의 매개변수로 name이 들어왔을때, self.name = name 에서 \n",
    "# self.name = 'Dr.' + name 으로 바뀐다."
   ]
  },
  {
   "cell_type": "code",
   "execution_count": 11,
   "id": "d5795413-ad27-4a17-a3ee-6bc3ad7944fb",
   "metadata": {},
   "outputs": [],
   "source": [
    "# (자습)궁금한 점: 그럼 여러 속성이 있을 때 name을 알아서 잘 찾아갈까?\n",
    "\n",
    "class Person:\n",
    "    def __init__(self, name,age):\n",
    "        self.name = name # pablo\n",
    "        self.age = age\n",
    "        \n",
    "#-------------\n",
    "class Doctor(Person): #Dr.pablo\n",
    "    def __init__(self,name,age):\n",
    "        super().__init__('Dr.' + name)"
   ]
  },
  {
   "cell_type": "code",
   "execution_count": 12,
   "id": "51f28ab4-fed9-424e-8f9d-8a5d6d365fd9",
   "metadata": {},
   "outputs": [
    {
     "ename": "TypeError",
     "evalue": "__init__() missing 1 required positional argument: 'age'",
     "output_type": "error",
     "traceback": [
      "\u001b[1;31m---------------------------------------------------------------------------\u001b[0m",
      "\u001b[1;31mTypeError\u001b[0m                                 Traceback (most recent call last)",
      "\u001b[1;32m~\\AppData\\Local\\Temp/ipykernel_2976/1175619994.py\u001b[0m in \u001b[0;36m<module>\u001b[1;34m\u001b[0m\n\u001b[1;32m----> 1\u001b[1;33m \u001b[0md1\u001b[0m \u001b[1;33m=\u001b[0m \u001b[0mDoctor\u001b[0m\u001b[1;33m(\u001b[0m\u001b[1;34m'pablo'\u001b[0m\u001b[1;33m,\u001b[0m\u001b[1;34m'20'\u001b[0m\u001b[1;33m)\u001b[0m\u001b[1;33m\u001b[0m\u001b[1;33m\u001b[0m\u001b[0m\n\u001b[0m\u001b[0;32m      2\u001b[0m \u001b[0md1\u001b[0m\u001b[1;33m.\u001b[0m\u001b[0mname\u001b[0m\u001b[1;33m\u001b[0m\u001b[1;33m\u001b[0m\u001b[0m\n",
      "\u001b[1;32m~\\AppData\\Local\\Temp/ipykernel_2976/2142744400.py\u001b[0m in \u001b[0;36m__init__\u001b[1;34m(self, name, age)\u001b[0m\n\u001b[0;32m      9\u001b[0m \u001b[1;32mclass\u001b[0m \u001b[0mDoctor\u001b[0m\u001b[1;33m(\u001b[0m\u001b[0mPerson\u001b[0m\u001b[1;33m)\u001b[0m\u001b[1;33m:\u001b[0m \u001b[1;31m#Dr.pablo\u001b[0m\u001b[1;33m\u001b[0m\u001b[1;33m\u001b[0m\u001b[0m\n\u001b[0;32m     10\u001b[0m     \u001b[1;32mdef\u001b[0m \u001b[0m__init__\u001b[0m\u001b[1;33m(\u001b[0m\u001b[0mself\u001b[0m\u001b[1;33m,\u001b[0m\u001b[0mname\u001b[0m\u001b[1;33m,\u001b[0m\u001b[0mage\u001b[0m\u001b[1;33m)\u001b[0m\u001b[1;33m:\u001b[0m\u001b[1;33m\u001b[0m\u001b[1;33m\u001b[0m\u001b[0m\n\u001b[1;32m---> 11\u001b[1;33m         \u001b[0msuper\u001b[0m\u001b[1;33m(\u001b[0m\u001b[1;33m)\u001b[0m\u001b[1;33m.\u001b[0m\u001b[0m__init__\u001b[0m\u001b[1;33m(\u001b[0m\u001b[1;34m'Dr.'\u001b[0m \u001b[1;33m+\u001b[0m \u001b[0mname\u001b[0m\u001b[1;33m)\u001b[0m\u001b[1;33m\u001b[0m\u001b[1;33m\u001b[0m\u001b[0m\n\u001b[0m",
      "\u001b[1;31mTypeError\u001b[0m: __init__() missing 1 required positional argument: 'age'"
     ]
    }
   ],
   "source": [
    "d1 = Doctor('pablo','20')\n",
    "d1.name\n",
    "\n",
    "# 오류: 예상대로 super().__innit__에서 age가 빠졌다며 오류가난다."
   ]
  },
  {
   "cell_type": "code",
   "execution_count": 14,
   "id": "abd8c650-003f-472a-af3b-7ec2d3436a2d",
   "metadata": {},
   "outputs": [],
   "source": [
    "# (자습)궁금한 점: 그럼 age를 넣으면 그땐 잘 찾아갈까?\n",
    "# 예상: 만약 클래스가 매개변수의 순서를 중요시하면 잘 되고,\n",
    "# 순서와 상관 없이 변수 name을 사용한 것을 찾아가면 잘 안될 것 같다.\n",
    "\n",
    "class Person:\n",
    "    def __init__(self, name,age):\n",
    "        self.name = name # pablo\n",
    "        self.age = age\n",
    "        \n",
    "#-------------\n",
    "class Doctor(Person): #Dr.pablo\n",
    "    def __init__(self,name,age):\n",
    "        super().__init__('Dr.' + name,age)"
   ]
  },
  {
   "cell_type": "code",
   "execution_count": 15,
   "id": "a5e56c3a-1339-4b90-8da0-317717b2f392",
   "metadata": {},
   "outputs": [
    {
     "data": {
      "text/plain": [
       "'Dr.pablo'"
      ]
     },
     "execution_count": 15,
     "metadata": {},
     "output_type": "execute_result"
    }
   ],
   "source": [
    "d2 = Doctor('pablo','20')\n",
    "d2.name\n",
    "\n",
    "# 결과: 잘 된다. 그렇다면 클래스는 매개변수의 순서를 중요시하는 것 같다."
   ]
  },
  {
   "cell_type": "code",
   "execution_count": 16,
   "id": "8b200285-d79c-433f-a8f4-dc012c26209f",
   "metadata": {},
   "outputs": [
    {
     "data": {
      "text/plain": [
       "'20'"
      ]
     },
     "execution_count": 16,
     "metadata": {},
     "output_type": "execute_result"
    }
   ],
   "source": [
    "# (자습)궁금한 점: 그럼 age와 name의 순서를 바꾸면 어떻게 될까?\n",
    "\n",
    "class Person:\n",
    "    def __init__(self, name,age):\n",
    "        self.name = name # pablo\n",
    "        self.age = age\n",
    "        \n",
    "#-------------\n",
    "class Doctor(Person): #Dr.pablo\n",
    "    def __init__(self,name,age):\n",
    "        super().__init__(age,'Dr.' + name) # age와 순서 바꾸기\n",
    "        \n",
    "        \n",
    "####\n",
    "d3 = Doctor('pablo','20')\n",
    "d3.name\n",
    "\n",
    "#결과: 이름이 아닌 나이가 나옴"
   ]
  },
  {
   "cell_type": "markdown",
   "id": "f77a0892-d23f-49e4-8127-3b1c37e8d141",
   "metadata": {},
   "source": [
    " 결론: 이로써 상속받은 자식 클래스는 super().__init()으로 속성에다 매개변수 값을 할당할 때, 매개변수와 같은 이름을 가진 속성을 찾아가는게 아니라\n",
    " 부모 속성과 같은 위치에 있는걸 찾아감을 알 수 있음\n",
    "\n",
    " 따라서, 자식에서 부모에게 상속받은 속성의 값을 정의할때, \n",
    " 매개변수의 위치를 이용해서 속성 값을 맘대로 정할 수 있다."
   ]
  },
  {
   "cell_type": "code",
   "execution_count": null,
   "id": "63eec6cc-e367-4c6b-86e9-4333acc69bb5",
   "metadata": {},
   "outputs": [],
   "source": [
    "### [다중상속]\n",
    "- method resolution order (MRO)\n",
    "- Aminal <- Horse\n",
    "         <- Donkey\n",
    "                <- Maule (Donkey > Horse)\n",
    "                <- Hinny (Horse > Donkey)"
   ]
  },
  {
   "cell_type": "code",
   "execution_count": 25,
   "id": "373199eb-f906-4ba7-8fb0-48869d86d6ad",
   "metadata": {},
   "outputs": [],
   "source": [
    "class Animal:\n",
    "    def says(self):\n",
    "        print( \"동물이 운다.\")\n",
    "\n",
    "#자식\n",
    "class Horse(Animal):\n",
    "    def says(self):\n",
    "        super().says() #할머니 기억하기. 이거 안쓰면 잊힌다\n",
    "        print( \"히히힝\" )\n",
    "\n",
    "class Donkey(Animal):\n",
    "    def says(self):\n",
    "        return '히이호'\n",
    "\n",
    "# 다중 상속의 경우 상속할 클래스를 가까운 것을 먼저 써준다.\n",
    "# 손주\n",
    "class Mule(Donkey, Horse):\n",
    "    pass #오버라이딩을 안하면 가까운 부모 메서드를 그대로 사용\n",
    "\n",
    "class Hinny(Horse,Donkey):\n",
    "    pass"
   ]
  },
  {
   "cell_type": "code",
   "execution_count": 26,
   "id": "ddf132a9-cb5a-4dd5-adfc-cbf4697d14ba",
   "metadata": {},
   "outputs": [
    {
     "name": "stdout",
     "output_type": "stream",
     "text": [
      "동물이 운다.\n",
      "히히힝\n"
     ]
    }
   ],
   "source": [
    "h = Horse()\n",
    "h.says()\n",
    "\n",
    "# 이거 return으로 하니까 안나왔음. print()로하니까 부모 울음소리가 출력됨"
   ]
  },
  {
   "cell_type": "code",
   "execution_count": 18,
   "id": "bf92755a-2a23-46f2-bcca-a8738aa79c98",
   "metadata": {},
   "outputs": [
    {
     "data": {
      "text/plain": [
       "'히이호'"
      ]
     },
     "execution_count": 18,
     "metadata": {},
     "output_type": "execute_result"
    }
   ],
   "source": [
    "m = Mule()\n",
    "m.says()"
   ]
  },
  {
   "cell_type": "code",
   "execution_count": 19,
   "id": "8c13743d-06a2-4655-adac-ec152a0a83c9",
   "metadata": {},
   "outputs": [
    {
     "data": {
      "text/plain": [
       "'히히힝'"
      ]
     },
     "execution_count": 19,
     "metadata": {},
     "output_type": "execute_result"
    }
   ],
   "source": [
    "Hinny().says()"
   ]
  },
  {
   "cell_type": "code",
   "execution_count": 29,
   "id": "ac9092d0-c180-46d6-8713-1aed3e55bfdf",
   "metadata": {},
   "outputs": [
    {
     "data": {
      "text/plain": [
       "[__main__.Mule, __main__.Donkey, __main__.Horse, __main__.Animal, object]"
      ]
     },
     "execution_count": 29,
     "metadata": {},
     "output_type": "execute_result"
    }
   ],
   "source": [
    "# 뭐가 제일 가까운가\n",
    "Mule.mro()"
   ]
  },
  {
   "cell_type": "code",
   "execution_count": 32,
   "id": "452ffa97-8256-426a-8fa1-5a84a9f7b194",
   "metadata": {},
   "outputs": [
    {
     "data": {
      "text/plain": [
       "'히히힝'"
      ]
     },
     "execution_count": 32,
     "metadata": {},
     "output_type": "execute_result"
    }
   ],
   "source": [
    "Horse().says()"
   ]
  },
  {
   "cell_type": "markdown",
   "id": "4a801aef-63d8-48bf-9750-da65c54758b6",
   "metadata": {},
   "source": [
    "### [다형성]\n",
    "- 형태가 다른데 기능이 같다\n",
    "- 객체가 다른데도 같은 메소드를 가지고 있으면 같은 기능 수행할 수 있다."
   ]
  },
  {
   "cell_type": "code",
   "execution_count": 33,
   "id": "9e1204c6-cfb6-4f9d-851e-41877f89e51f",
   "metadata": {},
   "outputs": [
    {
     "name": "stdout",
     "output_type": "stream",
     "text": [
      "히이호\n",
      "히이호\n",
      "동물이 운다.\n"
     ]
    }
   ],
   "source": [
    "for animal in [Mule(),Donkey(),Animal()]:\n",
    "    print(animal.says())"
   ]
  },
  {
   "cell_type": "markdown",
   "id": "4e4fe5fd-af93-4774-858b-920f2d72a32f",
   "metadata": {},
   "source": [
    "### [메서드 타입]\n",
    "- 인스턴스 메서드\n",
    "    - self가 1번 인자\n",
    "    - 객체 생성 -> 사용 가능\n",
    "- 클래스 메서드\n",
    "    - 클래스 자체이기 때문에 객체 생성하지 않아도 메서드 사용 가능\n",
    "    - 붕어빵이 아무리 만들어져도 변하지 않는 기능\n",
    "    - 붕어빵이 아닌 붕어빵 틀을 만지는 애\n",
    "    - 인스턴스가 아닌 클래스에 접근하는 메서드\n",
    "    - @classmethod 데코레이터\n",
    "    - cls 예약어\n",
    "    - 함수(cls)가 첫 인자\n",
    "    - class Person, cls == Person\n",
    "- 정적 메서드\n",
    "    - 객체 생성 x 사용 가능\n",
    "    - 클래스와 전혀 상관이 없기 때문에 접근 가능한 것\n",
    "    - 내용, 기능이 비슷해서 클래스 내에 묶어두는 아이\n",
    "- 추상 메서드\n",
    "    - 추상 클래스: abstract . 이름만 존재하는 클래스다. 변수도 이름만 존재\n",
    "    - 설계도 역할: 한 줄에 일목요연하게 표현\n",
    "    - 주로 자식에서 상속함\n",
    "    - 오버라이딩 안하면 객체가 성립이 안됨\n",
    "    - 고와 스탑을 오버라이딩 안하면 상속이안된다. 그걸 오블리게이션을 주는 역할을 한다\n",
    "    - 상속하는 자식클래스 -> 반드시 구현해야하는 메소드를 정의한다."
   ]
  },
  {
   "cell_type": "code",
   "execution_count": 35,
   "id": "ed59f9ce-11dd-4912-b8fd-9e1fcd75a5bf",
   "metadata": {},
   "outputs": [
    {
     "data": {
      "text/plain": [
       "'히이호'"
      ]
     },
     "execution_count": 35,
     "metadata": {},
     "output_type": "execute_result"
    }
   ],
   "source": [
    "a = Mule() #객체 생성: 붕어빵 만들기\n",
    "a.says()"
   ]
  },
  {
   "cell_type": "code",
   "execution_count": 36,
   "id": "7bdc8f1c-66f7-4182-8bc7-440348eb0960",
   "metadata": {},
   "outputs": [
    {
     "ename": "TypeError",
     "evalue": "says() missing 1 required positional argument: 'self'",
     "output_type": "error",
     "traceback": [
      "\u001b[1;31m---------------------------------------------------------------------------\u001b[0m",
      "\u001b[1;31mTypeError\u001b[0m                                 Traceback (most recent call last)",
      "\u001b[1;32m~\\AppData\\Local\\Temp/ipykernel_12408/1178907548.py\u001b[0m in \u001b[0;36m<module>\u001b[1;34m\u001b[0m\n\u001b[1;32m----> 1\u001b[1;33m \u001b[0mMule\u001b[0m\u001b[1;33m.\u001b[0m\u001b[0msays\u001b[0m\u001b[1;33m(\u001b[0m\u001b[1;33m)\u001b[0m\u001b[1;33m\u001b[0m\u001b[1;33m\u001b[0m\u001b[0m\n\u001b[0m",
      "\u001b[1;31mTypeError\u001b[0m: says() missing 1 required positional argument: 'self'"
     ]
    }
   ],
   "source": [
    "Mule.says() # 객체를 생성하지 않았는데 메서드를 사용할 순 없음"
   ]
  },
  {
   "cell_type": "code",
   "execution_count": 37,
   "id": "7de02f7a-f1f6-430e-816f-bb14c8b4985a",
   "metadata": {},
   "outputs": [],
   "source": [
    "class A:\n",
    "    cnt = 0 # 객체에 들어있는 변수는 아니여서 self가 아님 -> __init__필요 x\n",
    "    \n",
    "    def move(self):\n",
    "        return cnt"
   ]
  },
  {
   "cell_type": "code",
   "execution_count": 38,
   "id": "fb874086-4731-4cb5-aa3a-50e92fd16093",
   "metadata": {},
   "outputs": [
    {
     "ename": "NameError",
     "evalue": "name 'cnt' is not defined",
     "output_type": "error",
     "traceback": [
      "\u001b[1;31m---------------------------------------------------------------------------\u001b[0m",
      "\u001b[1;31mNameError\u001b[0m                                 Traceback (most recent call last)",
      "\u001b[1;32m~\\AppData\\Local\\Temp/ipykernel_12408/3481113219.py\u001b[0m in \u001b[0;36m<module>\u001b[1;34m\u001b[0m\n\u001b[1;32m----> 1\u001b[1;33m \u001b[0mA\u001b[0m\u001b[1;33m(\u001b[0m\u001b[1;33m)\u001b[0m\u001b[1;33m.\u001b[0m\u001b[0mmove\u001b[0m\u001b[1;33m(\u001b[0m\u001b[1;33m)\u001b[0m\u001b[1;33m\u001b[0m\u001b[1;33m\u001b[0m\u001b[0m\n\u001b[0m",
      "\u001b[1;32m~\\AppData\\Local\\Temp/ipykernel_12408/188200846.py\u001b[0m in \u001b[0;36mmove\u001b[1;34m(self)\u001b[0m\n\u001b[0;32m      3\u001b[0m \u001b[1;33m\u001b[0m\u001b[0m\n\u001b[0;32m      4\u001b[0m     \u001b[1;32mdef\u001b[0m \u001b[0mmove\u001b[0m\u001b[1;33m(\u001b[0m\u001b[0mself\u001b[0m\u001b[1;33m)\u001b[0m\u001b[1;33m:\u001b[0m\u001b[1;33m\u001b[0m\u001b[1;33m\u001b[0m\u001b[0m\n\u001b[1;32m----> 5\u001b[1;33m         \u001b[1;32mreturn\u001b[0m \u001b[0mcnt\u001b[0m\u001b[1;33m\u001b[0m\u001b[1;33m\u001b[0m\u001b[0m\n\u001b[0m",
      "\u001b[1;31mNameError\u001b[0m: name 'cnt' is not defined"
     ]
    }
   ],
   "source": [
    "A().move() # 객체를 만든게 아니기 때문에 메소드를 사용할 수 없다."
   ]
  },
  {
   "cell_type": "code",
   "execution_count": 39,
   "id": "34a24b14-6561-4b8e-b9b1-3f82901b1234",
   "metadata": {},
   "outputs": [],
   "source": [
    "# 어떻게 할까\n",
    "# self대신 cls라는 예약어 사용\n",
    "# - > 왜? 인스턴스 생성 없이 클래스만으로도 사용 가능하게 하려고\n",
    "\n",
    "class A:\n",
    "    cnt = 0 \n",
    "    \n",
    "    @classmethod\n",
    "    def move(cls): #self대신 cls 사용. A를 대변하는 게 cls임\n",
    "        return cls.cnt"
   ]
  },
  {
   "cell_type": "code",
   "execution_count": 40,
   "id": "5d082e4a-00b9-4f2f-b666-cee87f27f94b",
   "metadata": {},
   "outputs": [
    {
     "data": {
      "text/plain": [
       "0"
      ]
     },
     "execution_count": 40,
     "metadata": {},
     "output_type": "execute_result"
    }
   ],
   "source": [
    "A().move() # 객체 생성 하지 않고 바로 move 메서드 사용 가능"
   ]
  },
  {
   "cell_type": "code",
   "execution_count": 42,
   "id": "d28ed583-dd36-496c-aed7-bb458a63924e",
   "metadata": {},
   "outputs": [],
   "source": [
    "# Person 클래스의 객체 생성 방식 재정의\n",
    "# 객체 생성할때, 튜플로 들어갔을때도 객체를 생성할 수 있도록\n",
    "\n",
    "class Person:\n",
    "    def __init__(self,name,age): # p -> self\n",
    "        self.name = name\n",
    "        self.age = age\n",
    "    \n",
    "    @classmethod\n",
    "    def tuple_object(cls,args):# cls = Person / args는 튜플이기 때문에 인덱스로 접근\n",
    "        return cls(args[0],args[1]) # = Person(name,age) 와 같음\n",
    "    \n",
    "\n",
    "name = 'kim'\n",
    "age = 24\n",
    "p = Person(name,age) # 변수 두개를 하나씩 넣음\n",
    "\n",
    "info = name, age #투플로 받아서, 튜플 하나를 넣어도 \n",
    "p = Person.tuple_object(info) # p 객체를 생성하게 하기"
   ]
  },
  {
   "cell_type": "code",
   "execution_count": 43,
   "id": "2e49296b-7c92-40c9-af23-2aa19034c914",
   "metadata": {},
   "outputs": [
    {
     "data": {
      "text/plain": [
       "'kim'"
      ]
     },
     "execution_count": 43,
     "metadata": {},
     "output_type": "execute_result"
    }
   ],
   "source": [
    "p.name"
   ]
  },
  {
   "cell_type": "code",
   "execution_count": 46,
   "id": "ca60de60-5717-4970-a729-4ded2b74a102",
   "metadata": {},
   "outputs": [
    {
     "data": {
      "text/plain": [
       "'객체 수: 4'"
      ]
     },
     "execution_count": 46,
     "metadata": {},
     "output_type": "execute_result"
    }
   ],
   "source": [
    "class A:\n",
    "    # self.cnt = 0\n",
    "    # 붕어빵 몇 개 찍었는지?\n",
    "    cnt = 0 # cnt는 클래스 변수임\n",
    "    \n",
    "    def __init__(self): #2. self를 cls로 하면 객체에 접근이 안됨.\n",
    "        A.cnt += 1 #정답\n",
    "    \n",
    "    @classmethod\n",
    "    def count(cls):\n",
    "        # 1. cls.cnt += 1 : 안됨. 객체를 생성할때 올라가는게 아님.\n",
    "        return f'객체 수: {cls.cnt}'\n",
    "A()\n",
    "A()\n",
    "A()\n",
    "A()\n",
    "A.count()"
   ]
  },
  {
   "cell_type": "code",
   "execution_count": 28,
   "id": "b11137ce-d118-41a8-8471-bef26e7af968",
   "metadata": {},
   "outputs": [],
   "source": [
    "# 정적메소드: 내용이나 기능상 여기 있는게 좋아서 사용 \n",
    "# 딕셔너리에 변수 저장하는 것과 비슷\n",
    "\n",
    "class Coyote: \n",
    "    @staticmethod # 데코레이터\n",
    "    def says(): # 객체와 상관 없어서 self를 안쓴다\n",
    "        print('hi')"
   ]
  },
  {
   "cell_type": "code",
   "execution_count": 30,
   "id": "53013f97-966c-4102-98c5-dbcbe4ac131e",
   "metadata": {},
   "outputs": [
    {
     "name": "stdout",
     "output_type": "stream",
     "text": [
      "hi\n"
     ]
    }
   ],
   "source": [
    "Coyote.says() # 객체 생성 없이 메소드 사용 가능"
   ]
  },
  {
   "cell_type": "code",
   "execution_count": 31,
   "id": "b1a3b0d2-76d4-436b-8439-b827d674ee0e",
   "metadata": {},
   "outputs": [],
   "source": [
    "from abc import *\n",
    "\n",
    "class Vehicle(metaclass=ABCMeta): #추상 클래스 설정\n",
    "    #추상 클래스 설정하는 방법\n",
    "    speed = '속도'\n",
    "    \n",
    "    @abstractmethod\n",
    "    def go(self):\n",
    "        pass #구체화 안한다\n",
    "        #print('탈 것이 간다.') 프린트 해도 됨\n",
    "\n",
    "class Car(Vehicle):\n",
    "    def go(self):\n",
    "        print(\"\")"
   ]
  },
  {
   "cell_type": "code",
   "execution_count": 50,
   "id": "98b26f44-bcc0-4db3-bc32-867daffd40e7",
   "metadata": {},
   "outputs": [
    {
     "ename": "TypeError",
     "evalue": "Can't instantiate abstract class Car with abstract method go",
     "output_type": "error",
     "traceback": [
      "\u001b[1;31m---------------------------------------------------------------------------\u001b[0m",
      "\u001b[1;31mTypeError\u001b[0m                                 Traceback (most recent call last)",
      "\u001b[1;32m~\\AppData\\Local\\Temp/ipykernel_12408/2457110072.py\u001b[0m in \u001b[0;36m<module>\u001b[1;34m\u001b[0m\n\u001b[1;32m----> 1\u001b[1;33m \u001b[0mCar\u001b[0m\u001b[1;33m(\u001b[0m\u001b[1;33m)\u001b[0m\u001b[1;33m\u001b[0m\u001b[1;33m\u001b[0m\u001b[0m\n\u001b[0m",
      "\u001b[1;31mTypeError\u001b[0m: Can't instantiate abstract class Car with abstract method go"
     ]
    }
   ],
   "source": [
    "Car()\n",
    "# 오버라이딩 안하면 인스턴스를 만들수 없다고 오류뜸"
   ]
  },
  {
   "cell_type": "markdown",
   "id": "6fa37f59-dac3-411f-a4ef-cf125c244bec",
   "metadata": {},
   "source": [
    "추상 메소드 정리\n",
    "- 메소드 한눈에 보는 정리 역할\n",
    "- 자식이 부모로부터 상속 받았을때 꼭 들어있어야 할 메소드가 의무가 되는 역할을 한다."
   ]
  },
  {
   "cell_type": "code",
   "execution_count": null,
   "id": "d413d6e0-c54a-41ae-9ab7-96346ecd7e32",
   "metadata": {},
   "outputs": [],
   "source": []
  },
  {
   "cell_type": "code",
   "execution_count": null,
   "id": "d0fd634b-5632-48de-a280-1f2d62c4e083",
   "metadata": {},
   "outputs": [],
   "source": []
  }
 ],
 "metadata": {
  "kernelspec": {
   "display_name": "Python 3 (ipykernel)",
   "language": "python",
   "name": "python3"
  },
  "language_info": {
   "codemirror_mode": {
    "name": "ipython",
    "version": 3
   },
   "file_extension": ".py",
   "mimetype": "text/x-python",
   "name": "python",
   "nbconvert_exporter": "python",
   "pygments_lexer": "ipython3",
   "version": "3.9.7"
  }
 },
 "nbformat": 4,
 "nbformat_minor": 5
}
