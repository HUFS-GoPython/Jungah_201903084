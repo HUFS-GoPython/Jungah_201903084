{
 "cells": [
  {
   "cell_type": "markdown",
   "id": "59f08d99-ee19-4da1-962f-3e081998c440",
   "metadata": {},
   "source": [
    "### [함수]\n",
    "1. 정의\n",
    "2. 인수\n",
    "3. 호출방식"
   ]
  },
  {
   "cell_type": "markdown",
   "id": "a86eefd7-2870-45f8-a7c9-551978709dbd",
   "metadata": {},
   "source": [
    "#### 1. 정의\n",
    "- 함수란 코드의 덩어리, 코드의 묶음\n",
    "- 구구단을 하나로 묶은것이 함수. 그걸 덩어리라고 함 왜 묶냐? 다시 사용하려고\n",
    "- 간편한 재사용을 위해 한 줄로 재사용 가능하다.\n",
    "- 정의(define) 부분 + 호출(call) 부분\n",
    "    - 정의하기\n",
    "    def 함수이름(매개변수1,2,3,...):\n",
    "        수행문1 (매개변수를 이용)\n",
    "        수행문2\n",
    "        ...\n",
    "        return 반환값\n",
    "    - 호출하기\n",
    "    함수이름(인수1,2,3,...)\n",
    "- 2 * 2 = 4가지 경우\n",
    "    1. 매개변수, 반환값 둘다 없는\n",
    "    2. 둘다 있는\n",
    "    3. 매개 변수만 있는\n",
    "    4. 반환값만 있는"
   ]
  },
  {
   "cell_type": "code",
   "execution_count": null,
   "id": "e5a9aaab-411c-4d6d-9dcb-a98a5a9b86d8",
   "metadata": {},
   "outputs": [],
   "source": [
    "# y = x + 1 \n",
    "# x = 매개변수, y = 반환값. x + 1은 수행문\n",
    "\n",
    "def ex(x): # 2번째 경우\n",
    "    y = x + 1\n",
    "    return y"
   ]
  },
  {
   "cell_type": "code",
   "execution_count": null,
   "id": "acfe972e-48e1-40ac-bc0b-97a541ca35e1",
   "metadata": {},
   "outputs": [],
   "source": [
    "def ex(x):\n",
    "    return x + 1"
   ]
  },
  {
   "cell_type": "code",
   "execution_count": 3,
   "id": "2b5f36b9-7ff2-4e67-902b-6fd0ee678897",
   "metadata": {},
   "outputs": [
    {
     "name": "stdout",
     "output_type": "stream",
     "text": [
      "Quack\n"
     ]
    }
   ],
   "source": [
    "#1. 둘다 없는 경우\n",
    "def make_a_sound():\n",
    "    print('Quack')\n",
    "    # return None <<이게 생략된 것임\n",
    "\n",
    "make_a_sound()"
   ]
  },
  {
   "cell_type": "code",
   "execution_count": 4,
   "id": "4b37fff7-6be9-4403-8d8e-4243a96ed35f",
   "metadata": {},
   "outputs": [
    {
     "name": "stdout",
     "output_type": "stream",
     "text": [
      "yay\n"
     ]
    }
   ],
   "source": [
    "#3. 매개 변수만 있는 경우\n",
    "def make_a_sound(sound):\n",
    "    print(sound)\n",
    "\n",
    "make_a_sound('yay')"
   ]
  },
  {
   "cell_type": "code",
   "execution_count": 7,
   "id": "eae50f0e-855d-4645-ab0c-75f1263cad2d",
   "metadata": {},
   "outputs": [
    {
     "name": "stdout",
     "output_type": "stream",
     "text": [
      "splendid!\n"
     ]
    }
   ],
   "source": [
    "#4. 반환값만 있는\n",
    "def agree():\n",
    "    return True\n",
    "\n",
    "if agree():\n",
    "    print('splendid!')\n",
    "else:\n",
    "    print('unexpected!')"
   ]
  },
  {
   "cell_type": "markdown",
   "id": "2f294b5c-c785-4346-8c8e-c2a80a9cad97",
   "metadata": {},
   "source": [
    "- 함수 이름 짓기 # 함수 이름 신경써서 내라\n",
    "    - 소문자만 사용\n",
    "        - splitWord 보다는 split_word를 선호!\n",
    "    - 동작과 관련되어 있기 때문에 \"동사+명사\"의 형태 주로 씀\n",
    "    - i.e,. 클래스는 명사 \n",
    "        - word(): (x)\n",
    "        - def split_word(): (o)\n",
    "    - 줄임말 쓰지 말것. 명료하게 짓는다 (창의성..)\n",
    "        - splt_word (x) 누가 알아봐! 그리고 나혼자했을때도 나중에 몰라\n",
    "        - calc(calculate)_someting() 정도는 괜찮음 "
   ]
  },
  {
   "cell_type": "markdown",
   "id": "83b0f497-7591-4bc3-9999-03e538061b4e",
   "metadata": {},
   "source": [
    "#### 2. 인수\n",
    "- 매개변수 vs 인수\n",
    "    - 매개변수: 함수 내(함수 내부 => '인터페이스')에 유효한 변수\n",
    "    - 인수: 실제 매개변수에 대입되는 변수\n",
    "    - 호출 시에 인수가 매개변수에 복제된다. yay - > sound 대입\n",
    "    \n",
    "- 위치 인수\n",
    "    - positional argument\n",
    "    - 매개 변수를 순서에 따라 복제\n",
    "    \n",
    "- 키워드 인수\n",
    "    - keyword argument\n",
    "    - 매개변수 키워드에 맞는 인수로 지정 => 위치 달라도 됨\n",
    "    - 순서에 맞지 않아도 알맞게 들어감\n",
    "    \n",
    "- 디폴트 인수\n",
    "    - default argument\n",
    "    - 매개 변수를 정의할 때 값을 미리 지정해 놓는 것\n",
    "    - 호출 시에 값이 입력되지 않으면 디폴트값을 사용한다.\n",
    "    - 디폴트값이 언디폴트 값 앞에 위치할 수 없음. (디폴트값이 뒤로)"
   ]
  },
  {
   "cell_type": "code",
   "execution_count": 9,
   "id": "a2a11baa-cd60-4ba2-adf9-47d8d9375dd1",
   "metadata": {},
   "outputs": [
    {
     "name": "stdout",
     "output_type": "stream",
     "text": [
      "yay\n"
     ]
    },
    {
     "ename": "NameError",
     "evalue": "name 'sound' is not defined",
     "output_type": "error",
     "traceback": [
      "\u001b[1;31m---------------------------------------------------------------------------\u001b[0m",
      "\u001b[1;31mNameError\u001b[0m                                 Traceback (most recent call last)",
      "\u001b[1;32m~\\AppData\\Local\\Temp/ipykernel_12968/617362496.py\u001b[0m in \u001b[0;36m<module>\u001b[1;34m\u001b[0m\n\u001b[0;32m      4\u001b[0m \u001b[0myay\u001b[0m \u001b[1;33m=\u001b[0m \u001b[1;34m'yay'\u001b[0m \u001b[1;31m# 인수: yay\u001b[0m\u001b[1;33m\u001b[0m\u001b[1;33m\u001b[0m\u001b[0m\n\u001b[0;32m      5\u001b[0m \u001b[0mmake_a_sound\u001b[0m\u001b[1;33m(\u001b[0m\u001b[0myay\u001b[0m\u001b[1;33m)\u001b[0m\u001b[1;33m\u001b[0m\u001b[1;33m\u001b[0m\u001b[0m\n\u001b[1;32m----> 6\u001b[1;33m \u001b[0msound\u001b[0m\u001b[1;33m\u001b[0m\u001b[1;33m\u001b[0m\u001b[0m\n\u001b[0m",
      "\u001b[1;31mNameError\u001b[0m: name 'sound' is not defined"
     ]
    }
   ],
   "source": [
    "#3. \n",
    "def make_a_sound(sound): #매개변수: sound\n",
    "    print(sound)\n",
    "yay = 'yay' # 인수: yay\n",
    "make_a_sound(yay)\n",
    "sound # 매개변수는 함수를 빠져나오면 유효하지 않은 변수임"
   ]
  },
  {
   "cell_type": "code",
   "execution_count": 11,
   "id": "e5ab4a31-c997-46ef-8a7c-495c12552e4d",
   "metadata": {},
   "outputs": [
    {
     "data": {
      "text/plain": [
       "'black'"
      ]
     },
     "execution_count": 11,
     "metadata": {},
     "output_type": "execute_result"
    }
   ],
   "source": [
    "def commentary(color):\n",
    "    if color == 'g':\n",
    "        return 'green'\n",
    "    else:\n",
    "        return 'black'\n",
    "color = 'white'\n",
    "commentary(color)"
   ]
  },
  {
   "cell_type": "code",
   "execution_count": 12,
   "id": "403849fb-3010-4bd1-83ca-5350faf23f73",
   "metadata": {},
   "outputs": [
    {
     "name": "stdout",
     "output_type": "stream",
     "text": [
      "green\n",
      "black\n",
      "black\n"
     ]
    }
   ],
   "source": [
    "colors = ['g','b','t']\n",
    "\n",
    "for color in colors:\n",
    "    print(commentary(color))"
   ]
  },
  {
   "cell_type": "code",
   "execution_count": 2,
   "id": "c103581a-044d-4976-9eb4-c84952b8770c",
   "metadata": {},
   "outputs": [
    {
     "data": {
      "text/plain": [
       "{'wine': 'a', 'entree': 'b', 'dessert': 'c'}"
      ]
     },
     "execution_count": 2,
     "metadata": {},
     "output_type": "execute_result"
    }
   ],
   "source": [
    "# 위치 인수 \n",
    "def menu(wine,entree,dessert):\n",
    "    return {'wine':wine, 'entree': entree, 'dessert': dessert}\n",
    "\n",
    "menu('a','b','c') # 위치에 맞는 인수가 순차적으로 들어간다."
   ]
  },
  {
   "cell_type": "code",
   "execution_count": 3,
   "id": "d8efb83d-2606-497e-b10d-61aaa2f281aa",
   "metadata": {},
   "outputs": [
    {
     "data": {
      "text/plain": [
       "{'wine': 'c', 'entree': 'a', 'dessert': 'b'}"
      ]
     },
     "execution_count": 3,
     "metadata": {},
     "output_type": "execute_result"
    }
   ],
   "source": [
    "# 키워드 인수 \n",
    "menu(entree='a',dessert='b',wine='c') # 순서에 맞지 않아도 알맞게 들어감"
   ]
  },
  {
   "cell_type": "code",
   "execution_count": 4,
   "id": "18dd233f-9c6e-4c48-aa1d-d134f9af4d56",
   "metadata": {},
   "outputs": [
    {
     "ename": "SyntaxError",
     "evalue": "non-default argument follows default argument (Temp/ipykernel_14928/1528228991.py, line 2)",
     "output_type": "error",
     "traceback": [
      "\u001b[1;36m  File \u001b[1;32m\"C:\\Users\\Jung_a\\AppData\\Local\\Temp/ipykernel_14928/1528228991.py\"\u001b[1;36m, line \u001b[1;32m2\u001b[0m\n\u001b[1;33m    def menu2(wine='strawberry',entree,dessert): #디폴트는 맨 오른쪽부터 지정할 수 있음. 맨 앞에서만 디폴트 지정 못함\u001b[0m\n\u001b[1;37m                                       ^\u001b[0m\n\u001b[1;31mSyntaxError\u001b[0m\u001b[1;31m:\u001b[0m non-default argument follows default argument\n"
     ]
    }
   ],
   "source": [
    "# 디폴트 인수\n",
    "def menu2(wine='strawberry',entree,dessert): #디폴트는 맨 오른쪽부터 지정할 수 있음. 맨 앞에서만 디폴트 지정 못함\n",
    "    return {'wine':wine, 'entree': entree, 'dessert': dessert}\n",
    "\n",
    "menu2('rioha','egg') #안 넣으면 디폴트를 반환"
   ]
  },
  {
   "cell_type": "code",
   "execution_count": 16,
   "id": "e15c1809-822b-458f-81ec-c14d46ab2bef",
   "metadata": {},
   "outputs": [
    {
     "data": {
      "text/plain": [
       "{'wine': 'rioha', 'entree': 'egg', 'dessert': 'strawberry'}"
      ]
     },
     "execution_count": 16,
     "metadata": {},
     "output_type": "execute_result"
    }
   ],
   "source": [
    "# 디폴트 인수\n",
    "def menu2(wine,entree,dessert='strawberry'): #디폴트는 맨 오른쪽부터 지정할 수 있음. 맨 앞에서만 디폴트 지정 못함\n",
    "    return {'wine':wine, 'entree': entree, 'dessert': dessert}\n",
    "\n",
    "menu2('rioha','egg') #안 넣으면 디폴트를 반환"
   ]
  },
  {
   "cell_type": "code",
   "execution_count": 17,
   "id": "a364fb8f-0ebe-4d03-99a6-4ef3c3f3cd0f",
   "metadata": {},
   "outputs": [
    {
     "data": {
      "text/plain": [
       "{'wine': 'rioha', 'entree': 'egg', 'dessert': 'kwi'}"
      ]
     },
     "execution_count": 17,
     "metadata": {},
     "output_type": "execute_result"
    }
   ],
   "source": [
    "menu2('rioha','egg','kwi') #넣으면 넣은 값"
   ]
  },
  {
   "cell_type": "markdown",
   "id": "4b221cf9-7793-4834-a95e-41124630d543",
   "metadata": {},
   "source": [
    "#### 3. 호출 방식\n",
    "- 정의 부분은 호출 시 실행된다.\n",
    "- 메모리에 저장되어 있다가 호출 시에 사용되는 방식\n",
    "- 매개변수 vs 인수\n",
    "    - 참조에 의한 호출 (call by reference)\n",
    "    - 변수가 복제 되어 넘어간다. (-> 얉은 카피)\n",
    "    - \"매개변수 = 인수\" copy되기 떄문에 나타나는 문제점 \n",
    "    - 리스트처럼 가변 객체일 때, 주소값을 공유하므로 값이 바뀌면 바뀜 "
   ]
  },
  {
   "cell_type": "code",
   "execution_count": 21,
   "id": "10ae47bc-be60-473c-b3b5-55811d846370",
   "metadata": {},
   "outputs": [
    {
     "name": "stdout",
     "output_type": "stream",
     "text": [
      "2\n",
      "3\n",
      "1\n",
      "4\n"
     ]
    }
   ],
   "source": [
    "# 어떤 순서로 코드가 돌아가냐\n",
    "def multiyply(x,y):\n",
    "    print('1')\n",
    "    return x * y\n",
    "\n",
    "print('2')\n",
    "i = 2\n",
    "j = 4\n",
    "\n",
    "print('3')\n",
    "multiyply(i,j) #### i = 2, j = 4 -> x = i, y = j \n",
    "# x,y에 2와 4가 들어가는 것이 아님!\n",
    "# x에 i의 id가 들어가는 것임\n",
    "print('4')"
   ]
  },
  {
   "cell_type": "code",
   "execution_count": 24,
   "id": "9070ba53-941f-45a3-8f0f-73e7c1bf55a8",
   "metadata": {},
   "outputs": [
    {
     "name": "stdout",
     "output_type": "stream",
     "text": [
      "['a']\n",
      "['a', 'b']\n"
     ]
    }
   ],
   "source": [
    "def buggy(arg,result=[]): #디폴트로 빈 리스트 선언 그러나 리셋 안됨 쌓임\n",
    "    # result = [] # 이렇게 하면 리셋이 됨\n",
    "    result.append(arg)\n",
    "    print(result)\n",
    "\n",
    "a,b = 'a', 'b'    \n",
    "buggy(a)  # ['a'] 일 거라고 기대\n",
    "buggy(b) # ['b'] 일 거라고 기대, but 이전에 넣은 a가 쌓임"
   ]
  },
  {
   "cell_type": "code",
   "execution_count": 6,
   "id": "ed752905-ce28-4fca-a8a0-ce64393deca4",
   "metadata": {},
   "outputs": [
    {
     "name": "stdout",
     "output_type": "stream",
     "text": [
      "[2, 3, 'a']\n",
      "[2, 3, 'b']\n"
     ]
    }
   ],
   "source": [
    "def buggy(arg,result=[]): \n",
    "    result = [2,3]\n",
    "    result.append(arg)\n",
    "    print(result)\n",
    "\n",
    "a,b = 'a', 'b'    \n",
    "buggy(a)  \n",
    "buggy(b) # 'a'가 안 쌓임"
   ]
  },
  {
   "cell_type": "code",
   "execution_count": 9,
   "id": "d6187192-05a5-4b15-a507-6e00eee49583",
   "metadata": {},
   "outputs": [
    {
     "name": "stdout",
     "output_type": "stream",
     "text": [
      "['a']\n",
      "['a', 'b']\n"
     ]
    }
   ],
   "source": [
    "# 둘다 조건식으로 포함하는 함수로 변경하기 \n",
    "# 리스트가 없으면 빈 리스트 생성하고, 있으면 그거 써라.\n",
    "def nonbuggy(arg,result=[]):\n",
    "    if type(result) == None:\n",
    "        result = []\n",
    "        \n",
    "    result.append(arg)\n",
    "    print(result)\n",
    "nonbuggy(a)\n",
    "nonbuggy(b)"
   ]
  },
  {
   "cell_type": "code",
   "execution_count": 26,
   "id": "4fea37d1-346c-4050-8ad6-b228e4f58537",
   "metadata": {},
   "outputs": [
    {
     "name": "stdout",
     "output_type": "stream",
     "text": [
      "None\n"
     ]
    }
   ],
   "source": [
    "# \"없는 값, 아무것도 없다\" None\n",
    "thing = None\n",
    "if thing:\n",
    "    print('True')\n",
    "elif thing == False:\n",
    "    print('False')\n",
    "else:\n",
    "    print('None')\n",
    "    \n",
    "# None은 True도 False도 아님"
   ]
  },
  {
   "cell_type": "code",
   "execution_count": 8,
   "id": "06a20acf-2c44-4e79-ae25-5ac33cc250b5",
   "metadata": {},
   "outputs": [
    {
     "name": "stdout",
     "output_type": "stream",
     "text": [
      "['a']\n",
      "['b']\n"
     ]
    }
   ],
   "source": [
    "# 해답\n",
    "def nonbuggy(arg,result=None): # result를 디폴트로 None로 설정!!\n",
    "    if result is None:\n",
    "        result = []\n",
    "\n",
    "    result.append(arg)\n",
    "    print(result)\n",
    "\n",
    "nonbuggy(a)\n",
    "nonbuggy(b)"
   ]
  },
  {
   "cell_type": "code",
   "execution_count": 28,
   "id": "6aa6f0de-2b3f-4f07-aff3-f1b0779339c5",
   "metadata": {},
   "outputs": [
    {
     "name": "stdout",
     "output_type": "stream",
     "text": [
      "['c', 'a']\n",
      "['c', 'a', 'b']\n"
     ]
    }
   ],
   "source": [
    "def nonbuggy(arg,result=None): #디폴트를 None으로 가져가야 됨\n",
    "    if result is None:\n",
    "        result = []\n",
    "\n",
    "    result.append(arg)\n",
    "    print(result)\n",
    "\n",
    "empty = ['c']\n",
    "nonbuggy(a,empty)\n",
    "nonbuggy(b,empty)\n",
    "# empty를 안 넣으면 새 리스트에 넣고\n",
    "# empty를 넣으면 epmty 리싀트에 값이 쌓인다는 뜻"
   ]
  },
  {
   "cell_type": "markdown",
   "id": "15c0fe5d-a907-4f8c-95e9-2e0648d2ca18",
   "metadata": {},
   "source": [
    "#### *== 와 is의 차이\n",
    "- ==는 value만 같으면 같은거고, is 는 id까지 같아야함\n",
    "가변 객체는 is 사용"
   ]
  },
  {
   "cell_type": "code",
   "execution_count": 30,
   "id": "2fafb8c2-f70f-4040-a1b8-8f6fcd64b603",
   "metadata": {},
   "outputs": [
    {
     "name": "stdout",
     "output_type": "stream",
     "text": [
      "london\n",
      "paris == london?\n"
     ]
    }
   ],
   "source": [
    "def fx():\n",
    "    city = 'london' #함수 내부에서만 유효한 변수. 지역변수\n",
    "    print(city)\n",
    "\n",
    "city = 'paris'\n",
    "fx()\n",
    "print(city, '== london?')"
   ]
  },
  {
   "cell_type": "code",
   "execution_count": 10,
   "id": "b6d7549a-ee6f-4b1f-9e1d-26f212df3473",
   "metadata": {},
   "outputs": [
    {
     "name": "stdout",
     "output_type": "stream",
     "text": [
      "london\n",
      "london == london?\n"
     ]
    }
   ],
   "source": [
    "def fx():\n",
    "    global city # 전역변수. 함수 밖에도 사용할 수 있음\n",
    "    city = 'london' \n",
    "    print(city)\n",
    "\n",
    "city = 'paris'\n",
    "fx()\n",
    "print(city, '== london?')"
   ]
  },
  {
   "cell_type": "code",
   "execution_count": 11,
   "id": "bcfeb57a-ac9c-40a9-9dc0-bb4f0065f98b",
   "metadata": {},
   "outputs": [
    {
     "data": {
      "text/plain": [
       "'seoul'"
      ]
     },
     "execution_count": 11,
     "metadata": {},
     "output_type": "execute_result"
    }
   ],
   "source": [
    "city = 'seoul'\n",
    "city"
   ]
  },
  {
   "cell_type": "code",
   "execution_count": 33,
   "id": "69487897-eeea-4724-8696-e3ba7dde9b5c",
   "metadata": {},
   "outputs": [
    {
     "data": {
      "text/plain": [
       "'word'"
      ]
     },
     "execution_count": 33,
     "metadata": {},
     "output_type": "execute_result"
    }
   ],
   "source": [
    "# 값이 리턴된다는 것은 변수로 값을 받을 수 있다는 것.\n",
    "def make_a_sound1(sound): #매개변수: sound\n",
    "    print(sound)\n",
    "\n",
    "def make_a_sound2(sound):\n",
    "    return sound\n",
    "\n",
    "word = make_a_sound2('word')\n",
    "# yay = 'yay' # 인수: yay\n",
    "# make_a_sound(yay)\n",
    "word"
   ]
  },
  {
   "cell_type": "markdown",
   "id": "17221be7-0049-46fe-b17b-2576463e78e9",
   "metadata": {},
   "source": [
    "#### doc string\n",
    "- 함수 설명\n",
    "- 매개 변수 타입, 의미, 함수, 기능\n",
    "- 주석 다는게 좋음\n",
    "- \"\"\"\"\n",
    "\n",
    "긴 주석처리로 doc string을 작성\n",
    "\n",
    "\"\"\""
   ]
  },
  {
   "cell_type": "code",
   "execution_count": 13,
   "id": "f00f70c8-bca9-41fb-8a6b-69cd7680d4ba",
   "metadata": {},
   "outputs": [
    {
     "name": "stdout",
     "output_type": "stream",
     "text": [
      "['c', 'a']\n",
      "['c', 'a', 'b']\n"
     ]
    }
   ],
   "source": [
    "def nonbuggy(arg,result=None): \n",
    "    \n",
    "    \"\"\" \n",
    "    arg: str, 꽃 이름\n",
    "    result: list, 블라블라\n",
    "    꽃 이름을 리스트에 추가한다.\n",
    "    \"\"\"\n",
    "    \n",
    "    \n",
    "    if result is None:\n",
    "        result = []\n",
    "\n",
    "    result.append(arg)\n",
    "    print(result)\n",
    "\n",
    "empty = ['c']\n",
    "nonbuggy(a,empty)\n",
    "nonbuggy(b,empty)"
   ]
  },
  {
   "cell_type": "code",
   "execution_count": 14,
   "id": "abc566a6-ea33-4ee5-a6b1-a6e13076294b",
   "metadata": {},
   "outputs": [
    {
     "name": "stdout",
     "output_type": "stream",
     "text": [
      "Help on function nonbuggy in module __main__:\n",
      "\n",
      "nonbuggy(arg, result=None)\n",
      "    arg: str, 꽃 이름\n",
      "    result: list, 블라블라\n",
      "    꽃 이름을 리스트에 추가한다.\n",
      "\n"
     ]
    }
   ],
   "source": [
    "# 독 스트링 확인 1\n",
    "help(nonbuggy) # ()는 호출하는거라 괄호는 안씀 "
   ]
  },
  {
   "cell_type": "code",
   "execution_count": 15,
   "id": "b6b62baf-feaa-44d3-9a5c-eea133a20920",
   "metadata": {},
   "outputs": [
    {
     "data": {
      "text/plain": [
       "' \\n    arg: str, 꽃 이름\\n    result: list, 블라블라\\n    꽃 이름을 리스트에 추가한다.\\n    '"
      ]
     },
     "execution_count": 15,
     "metadata": {},
     "output_type": "execute_result"
    }
   ],
   "source": [
    "# 독 스트링 확인 2\n",
    "nonbuggy.__doc__"
   ]
  },
  {
   "cell_type": "code",
   "execution_count": 43,
   "id": "812f2501-99ac-4645-b83f-1b3b985214fa",
   "metadata": {},
   "outputs": [
    {
     "name": "stdin",
     "output_type": "stream",
     "text": [
      "나이를 입력하세요! 24\n"
     ]
    },
    {
     "name": "stdout",
     "output_type": "stream",
     "text": [
      "당신이 태어난 년도는: 1999\n"
     ]
    }
   ],
   "source": [
    "# 나이  -> 연도\n",
    "# 함수: 입력값=나이, 반환=연도\n",
    "# 나이 = input받기\n",
    "\n",
    "#내가 푼 것\n",
    "def get_year(age):\n",
    "    print(f\"당신이 태어난 년도는: {2022 - age + 1}\")\n",
    "    \n",
    "age = int(input(\"나이를 입력하세요!\"))\n",
    "get_year(age)"
   ]
  },
  {
   "cell_type": "markdown",
   "id": "0767a89c-3732-4544-8bb8-82d0ec982687",
   "metadata": {},
   "source": [
    "#### 함수 이름들\n",
    "\n",
    "calc_birthday # 별로\n",
    "age_to_year # 제일 good\n",
    "convert_year #good\n",
    "get_year #good\n",
    "\n",
    "#### 안 좋은 예\n",
    "birth_year : 명사 쓰지마\n",
    "birthyear\n",
    "yeatofbirth\n",
    "born\n",
    "year\n",
    "change_age_to_year "
   ]
  },
  {
   "cell_type": "code",
   "execution_count": 44,
   "id": "0a9dd660-21d9-4e62-938e-99882e0313d0",
   "metadata": {},
   "outputs": [
    {
     "name": "stdin",
     "output_type": "stream",
     "text": [
      "나이를 입력하세요! 24\n"
     ]
    },
    {
     "name": "stdout",
     "output_type": "stream",
     "text": [
      "1999\n"
     ]
    }
   ],
   "source": [
    "# 정답\n",
    "def get_year(age):\n",
    "    this_year = 2022 # 이것도 변수로 받으면 좋다!\n",
    "    return this_year - age + 1\n",
    "    \n",
    "age = int(input(\"나이를 입력하세요!\"))\n",
    "print(get_year(age))"
   ]
  },
  {
   "cell_type": "code",
   "execution_count": null,
   "id": "cef85cca-26e1-4f8e-b63c-1b000f73214c",
   "metadata": {},
   "outputs": [],
   "source": []
  },
  {
   "cell_type": "markdown",
   "id": "a6a7eb9d-b074-4cec-9d02-54811a527f67",
   "metadata": {},
   "source": [
    "### [브라운 정제하기]\n",
    "1. 문장 분절\n",
    "2. 단어 분절\n",
    "    C. 문장 부호 제거\n",
    "    D. 하이픈, 's, 'nt, 'd...어퍼스트러피\n",
    "3. 위의 것을 함수로 만들어라"
   ]
  },
  {
   "cell_type": "code",
   "execution_count": 18,
   "id": "51b24ec3-6c83-4e02-9441-77dd820c17b3",
   "metadata": {
    "collapsed": true,
    "jupyter": {
     "outputs_hidden": true
    },
    "tags": []
   },
   "outputs": [
    {
     "name": "stderr",
     "output_type": "stream",
     "text": [
      "[nltk_data] Downloading package brown to\n",
      "[nltk_data]     C:\\Users\\Jung_a\\AppData\\Roaming\\nltk_data...\n",
      "[nltk_data]   Package brown is already up-to-date!\n"
     ]
    },
    {
     "data": {
      "text/plain": [
       "\"\\n\\n\\tThey/ppss neither/cc liked/vbd nor/cc disliked/vbd the/at Old/jj-tl Man/nn-tl ./.\\nTo/in them/ppo he/pps could/md have/hv been/ben the/at broken/vbn bell/nn in/in the/at church/nn tower/nn which/wdt rang/vbd before/in and/cc after/in Mass/nn-tl ,/, and/cc at/in noon/nn ,/, and/cc at/in six/cd each/dt evening/nn --/-- its/pp$ tone/nn ,/, repetitive/jj ,/, monotonous/jj ,/, never/rb breaking/vbg the/at boredom/nn of/in the/at streets/nns ./.\\nThe/at Old/jj-tl Man/nn-tl was/bedz unimportant/jj ./.\\n\\n\\n\\tYet/rb if/cs he/pps were/bed not/* there/rb ,/, they/ppss would/md have/hv missed/vbn him/ppo ,/, as/cs they/ppss would/md have/hv missed/vbn the/at sounds/nns of/in bees/nns buzzing/vbg against/in the/at screen/nn door/nn in/in early/jj June/np ;/. ;/.\\nor/cc the/at smell/nn of/in thick/jj tomato/nn paste/nn --/-- the/at ripe/jj smell/nn that/wps was/bedz both/abx sweet/jj and/cc sour/jj --/-- rising/vbg up/rp from/in aluminum/nn trays/nns wrapped/vbn in/in fly-dotted/jj cheesecloth/nn ./.\\nOr/cc the/at surging/vbg whirling/vbg sounds/nns of/in bats/nns at/in night/nn ,/, when/wrb their/pp$ black/jj bodies/nns dived/vbd into/in the/at blackness/nn above/in and/cc below/in the/at amber/jj street/nn lights/nns ./.\\nOr/cc the/at bay/nn of/in female/nn dogs/nns in/in heat/nn ./.\\n\\n\\n\\tThey/ppss never/rb called/vbd him/ppo by/in name/nn ,/, although/cs he/pps had/hvd one/pn ./.\\nFilippo/np Rossi/np ,/, that's/dt+bez what/wdt he/pps was/bedz called/vbn in/in the/at old/jj country/nn ;/. ;/.\\nbut/cc here/rb he/pps was/bedz just/rb Signore/np or/cc the/at Old/jj-tl Man/nn-tl ./.\\nBut/cc this/dt was/bedz not/* unusual/jj ,/, because/cs youth/nn in/in these/dts quarters/nns was/bedz always/rb pushed/vbn at/in a/at distance/nn from/in its/pp$ elders/nns ./.\\nYouth/nn obeyed/vbd when/wrb commanded/vbn ./.\\nIt/pps went/vbd to/in church/nn on/in Sunday/nr and/cc one/cd Saturday/nr a/at month/nn went/vbd to/in confession/nn ./.\\nBut/cc youth/nn asked/vbd nothing/pn of/in its/pp$ parents/nns --/-- not/* a/at touch/nn of/in the/at hand/nn or/cc a/at kiss/nn given/vbn in/in passing/vbg ./.\\n\\n\\n\\tThe/at only/ap thing/nn unusual/jj about/in the/at Old/jj-tl Man/nn-tl had/hvd long/jj since/rb happened/vbn ./.\\nBut/cc the/at past/nn was/bedz dead/jj here/rb as/cs the/at present/jj was/bedz dead/jj ./.\\nOnce/cs the/at Old/jj-tl Man/nn-tl had/hvd had/hvn a/at wife/nn ./.\\nAnd/cc once/cs she/pps ,/, too/rb ,/, ignored/vbd him/ppo ./.\\nWith/in a/at tiny/jj fur-piece/nn wrapped/vbd around/in her/pp$ shoulders/nns ,/, she/pps wiggled/vbd her/pp$ satin-covered/jj buttocks/nns down/in the/at street/nn before/in him/ppo and/cc didn't/dod* stop/vb ./.\\nIn/in one/cd hand/nn she/pps clutched/vbd a/at hundred/cd dollar/nn bill/nn and/cc in/in the/at other/ap a/at straw/nn suitcase/nn ./.\\nThe/at way/nn she/pps strutted/vbd down/in the/at street/nn ,/, the/at Old/jj-tl Man/nn-tl would/md have/hv been/ben blind/jj not/* to/to have/hv noticed/vbn both/abx ./.\\nWithout/in looking/vbg at/in him/ppo ,/, without/in looking/vbg at/in anything/pn except/in Drexel/np-tl Street/nn-tl directly/rb in/in front/nn of/in her/ppo ,/, she/pps climbed/vbd up/rp into/in one/cd of/in those/dts orange/jj streetcars/nns ,/, rode/vbd away/rb in/in it/ppo ,/, and/cc never/rb came/vbd back/rb ./.\\n\\n\\n\\t``/`` But/cc she/pps shouldn't/md* have/hv come/vbn here/rb in/in the/at first/od place/nn ''/'' ,/, the/at women/nns had/hvd said/vbn ./.\\n\\n\\n\\t``/`` No/rb ,/, no/rb ./.\\nNot/* that/dt one/pn ./.\\nShe/pps thought/vbd she/pps was/bedz bigger/jjr than/cs we/ppss are/ber because/cs she/pps came/vbd from/in Torino/np ''/'' ./.\\n\\n\\n\\t``/`` Eh/uh ,/, Torino/np !/. !/.\\nShe/pps gave/vbd herself/ppl fancy/jj airs/nns !/. !/.\\nJust/rb because/cs she/pps had/hvd a/at part/nn on/in the/at stage/nn in/in the/at old/jj country/nn ,/, she/pps thought/vbd she/pps could/md carry/vb her/pp$ head/nn higher/rbr than/cs ours/pp$$ ''/'' ./.\\nThey/ppss had/hvd slapped/vbn their/pp$ thighs/nns ./.\\n\\n\\n\\t``/`` It's/pps+bez not/* for/in making/vbg pretty/jj speeches/nns about/in Dante/np those/dts actresses/nns get/vb paid/vbn so/ql good/rb ''/'' ./.\\n\\n\\n\\t``/`` Henh/uh ''/'' !/. !/.\\nCalloused/vbn fingers/nns ,/, caressed/vbn only/rb by/in the/at smoothness/nn of/in polished/vbn rosaries/nns ,/, had/hvd swayed/vbn excitedly/rb beneath/in puckered/vbn chins/nns where/wrb tiny/jj black/jj hairs/nns sprouted/vbd ,/, never/rb to/to be/be tweezed/vbn away/rb ./.\\nMauve-colored/jj mouths/nns that/wps had/hvd never/rb known/vbn anything/pn sweeter/jjr than/cs the/at taste/nn of/in new/jj wine/nn and/cc the/at passion/nn of/in man's/nn$ tongue/nn had/hvd not/* smiled/vbn ,/, but/cc had/hvd condemned/vbn again/rb and/cc again/rb ./.\\n``/`` Puttana/fw-nn ''/'' !/. !/.\\n\\n\\n\\tBut/cc if/cs the/at Old/jj-tl Man/nn-tl even/rb thought/vbd about/in his/pp$ wife/nn now/rb ,/, nobody/pn cared/vbd a/at fig/nn ./.\\nIt/pps was/bedz enough/ap for/in people/nns to/to know/vb that/cs at/in one/cd time/nn he/pps had/hvd looked/vbn down/in the/at street/nn at/in the/at f\""
      ]
     },
     "execution_count": 18,
     "metadata": {},
     "output_type": "execute_result"
    }
   ],
   "source": [
    "import string\n",
    "import nltk\n",
    "\n",
    "nltk.download('brown')\n",
    "brown = nltk.corpus.brown\n",
    "romance = brown.raw(categories='romance')[:5000]\n",
    "romance"
   ]
  },
  {
   "cell_type": "code",
   "execution_count": 20,
   "id": "a821cb13-2e03-4817-a4f3-ee86779332e3",
   "metadata": {},
   "outputs": [],
   "source": [
    "# 문장 분절\n",
    "# ./. --> 이걸로 선택하려다가 ㄴㄴ\n",
    "# /. --> 느낌표 처리 가능함\n",
    "# \\n 개행으로 분절은 별로 안좋음.\n",
    "sentences = []\n",
    "# 문장을 보면 !에도 .이 붙어있음 !/. 이런식. 그래서 ./.이 아닌 /.으로  분절하면 !으로도 문장 분절이 됨\n",
    "sentences = [sent.strip() for sent in romance.split('/.')] #strip으로 문장에 \\n같은 쓸데없는 공백 제거\n",
    "sentences = [s for s in sentences if s != '!']\n",
    "# sentences = [sent.replace('!','./.').strip() for sent in romance.split('./.')]  도 괜찮다.\n",
    "# sentences[0] # 첫번째 문장 불러오기"
   ]
  },
  {
   "cell_type": "code",
   "execution_count": 14,
   "id": "2bfa570a-96dc-420c-9618-f2d3b829738a",
   "metadata": {},
   "outputs": [
    {
     "data": {
      "text/plain": [
       "['``/`` Eh/uh ,/, Torino/np !',\n",
       " 'She/pps gave/vbd herself/ppl fancy/jj airs/nns !',\n",
       " \"``/`` Henh/uh ''/'' !\",\n",
       " \"``/`` Puttana/fw-nn ''/'' !\"]"
      ]
     },
     "execution_count": 14,
     "metadata": {},
     "output_type": "execute_result"
    }
   ],
   "source": [
    "# 센텐스에 물음표나 느낌표 있는지 찾기\n",
    "[s for s in sentences if '!' in s]"
   ]
  },
  {
   "cell_type": "markdown",
   "id": "8a3944cd-4df5-47a9-b59c-873a0e49dd05",
   "metadata": {},
   "source": [
    "#### 단어 분절\n",
    "- sentences에서 pos 제거, 단어 분절\n"
   ]
  },
  {
   "cell_type": "code",
   "execution_count": 56,
   "id": "debf4be8-75f1-4c72-9414-37e58dbd9ba6",
   "metadata": {},
   "outputs": [
    {
     "data": {
      "text/plain": [
       "['They', 'neither', 'liked', 'nor', 'disliked', 'the', 'Old', 'Man', '.']"
      ]
     },
     "execution_count": 56,
     "metadata": {},
     "output_type": "execute_result"
    }
   ],
   "source": [
    "example = sentences[0]\n",
    "[word[:word.find('/')] if word[:word.find('/')] else word for word in example.split()]"
   ]
  },
  {
   "cell_type": "code",
   "execution_count": 16,
   "id": "64e731ec-569d-430b-8a60-c56e2ce50038",
   "metadata": {},
   "outputs": [],
   "source": [
    "SLASH = '/' # 계속 쓸거면 변수로 적어야함. 그리고 대문자로."
   ]
  },
  {
   "cell_type": "code",
   "execution_count": 30,
   "id": "b9aebb9a-faee-4b73-9cdf-8b650a4432a0",
   "metadata": {
    "tags": []
   },
   "outputs": [
    {
     "data": {
      "text/plain": [
       "[['They', 'neither', 'liked', 'nor', 'disliked', 'the', 'Old', 'Man', '.']]"
      ]
     },
     "execution_count": 30,
     "metadata": {},
     "output_type": "execute_result"
    }
   ],
   "source": [
    "# 전체 문장에 적용하기 (문장, 단어 분절)\n",
    "sentence_tokens = [[word[:word.find(SLASH)] \\\n",
    " if word[:word.find(SLASH)] else word \\\n",
    " for word in example.split()] for example in sentences]\n",
    "sentence_tokens[:1]"
   ]
  },
  {
   "cell_type": "code",
   "execution_count": 24,
   "id": "8ece3091-5a5a-4cbb-b295-eb85e107d0bb",
   "metadata": {
    "collapsed": true,
    "jupyter": {
     "outputs_hidden": true
    },
    "tags": []
   },
   "outputs": [
    {
     "data": {
      "text/plain": [
       "['!',\n",
       " '\"',\n",
       " '#',\n",
       " '$',\n",
       " '%',\n",
       " '&',\n",
       " \"'\",\n",
       " '(',\n",
       " ')',\n",
       " '*',\n",
       " '+',\n",
       " ',',\n",
       " '-',\n",
       " '.',\n",
       " '/',\n",
       " ':',\n",
       " ';',\n",
       " '<',\n",
       " '=',\n",
       " '>',\n",
       " '?',\n",
       " '@',\n",
       " '[',\n",
       " '\\\\',\n",
       " ']',\n",
       " '^',\n",
       " '_',\n",
       " '`',\n",
       " '{',\n",
       " '|',\n",
       " '}',\n",
       " '~']"
      ]
     },
     "execution_count": 24,
     "metadata": {},
     "output_type": "execute_result"
    }
   ],
   "source": [
    "#### punctuations\n",
    "import string\n",
    "punct = list(string.punctuation)\n",
    "punct"
   ]
  },
  {
   "cell_type": "code",
   "execution_count": 25,
   "id": "febae697-778d-4354-8395-acbca93c5f13",
   "metadata": {
    "collapsed": true,
    "jupyter": {
     "outputs_hidden": true
    },
    "tags": []
   },
   "outputs": [
    {
     "data": {
      "text/plain": [
       "[['They', 'neither', 'liked', 'nor', 'disliked', 'the', 'Old', 'Man'],\n",
       " ['To',\n",
       "  'them',\n",
       "  'he',\n",
       "  'could',\n",
       "  'have',\n",
       "  'been',\n",
       "  'the',\n",
       "  'broken',\n",
       "  'bell',\n",
       "  'in',\n",
       "  'the',\n",
       "  'church',\n",
       "  'tower',\n",
       "  'which',\n",
       "  'rang',\n",
       "  'before',\n",
       "  'and',\n",
       "  'after',\n",
       "  'Mass',\n",
       "  'and',\n",
       "  'at',\n",
       "  'noon',\n",
       "  'and',\n",
       "  'at',\n",
       "  'six',\n",
       "  'each',\n",
       "  'evening',\n",
       "  '--',\n",
       "  'its',\n",
       "  'tone',\n",
       "  'repetitive',\n",
       "  'monotonous',\n",
       "  'never',\n",
       "  'breaking',\n",
       "  'the',\n",
       "  'boredom',\n",
       "  'of',\n",
       "  'the',\n",
       "  'streets'],\n",
       " ['The', 'Old', 'Man', 'was', 'unimportant'],\n",
       " ['Yet',\n",
       "  'if',\n",
       "  'he',\n",
       "  'were',\n",
       "  'not',\n",
       "  'there',\n",
       "  'they',\n",
       "  'would',\n",
       "  'have',\n",
       "  'missed',\n",
       "  'him',\n",
       "  'as',\n",
       "  'they',\n",
       "  'would',\n",
       "  'have',\n",
       "  'missed',\n",
       "  'the',\n",
       "  'sounds',\n",
       "  'of',\n",
       "  'bees',\n",
       "  'buzzing',\n",
       "  'against',\n",
       "  'the',\n",
       "  'screen',\n",
       "  'door',\n",
       "  'in',\n",
       "  'early',\n",
       "  'June'],\n",
       " [],\n",
       " ['or',\n",
       "  'the',\n",
       "  'smell',\n",
       "  'of',\n",
       "  'thick',\n",
       "  'tomato',\n",
       "  'paste',\n",
       "  '--',\n",
       "  'the',\n",
       "  'ripe',\n",
       "  'smell',\n",
       "  'that',\n",
       "  'was',\n",
       "  'both',\n",
       "  'sweet',\n",
       "  'and',\n",
       "  'sour',\n",
       "  '--',\n",
       "  'rising',\n",
       "  'up',\n",
       "  'from',\n",
       "  'aluminum',\n",
       "  'trays',\n",
       "  'wrapped',\n",
       "  'in',\n",
       "  'fly-dotted',\n",
       "  'cheesecloth'],\n",
       " ['Or',\n",
       "  'the',\n",
       "  'surging',\n",
       "  'whirling',\n",
       "  'sounds',\n",
       "  'of',\n",
       "  'bats',\n",
       "  'at',\n",
       "  'night',\n",
       "  'when',\n",
       "  'their',\n",
       "  'black',\n",
       "  'bodies',\n",
       "  'dived',\n",
       "  'into',\n",
       "  'the',\n",
       "  'blackness',\n",
       "  'above',\n",
       "  'and',\n",
       "  'below',\n",
       "  'the',\n",
       "  'amber',\n",
       "  'street',\n",
       "  'lights'],\n",
       " ['Or', 'the', 'bay', 'of', 'female', 'dogs', 'in', 'heat'],\n",
       " ['They',\n",
       "  'never',\n",
       "  'called',\n",
       "  'him',\n",
       "  'by',\n",
       "  'name',\n",
       "  'although',\n",
       "  'he',\n",
       "  'had',\n",
       "  'one'],\n",
       " ['Filippo',\n",
       "  'Rossi',\n",
       "  \"that's\",\n",
       "  'what',\n",
       "  'he',\n",
       "  'was',\n",
       "  'called',\n",
       "  'in',\n",
       "  'the',\n",
       "  'old',\n",
       "  'country'],\n",
       " [],\n",
       " ['but', 'here', 'he', 'was', 'just', 'Signore', 'or', 'the', 'Old', 'Man'],\n",
       " ['But',\n",
       "  'this',\n",
       "  'was',\n",
       "  'not',\n",
       "  'unusual',\n",
       "  'because',\n",
       "  'youth',\n",
       "  'in',\n",
       "  'these',\n",
       "  'quarters',\n",
       "  'was',\n",
       "  'always',\n",
       "  'pushed',\n",
       "  'at',\n",
       "  'a',\n",
       "  'distance',\n",
       "  'from',\n",
       "  'its',\n",
       "  'elders'],\n",
       " ['Youth', 'obeyed', 'when', 'commanded'],\n",
       " ['It',\n",
       "  'went',\n",
       "  'to',\n",
       "  'church',\n",
       "  'on',\n",
       "  'Sunday',\n",
       "  'and',\n",
       "  'one',\n",
       "  'Saturday',\n",
       "  'a',\n",
       "  'month',\n",
       "  'went',\n",
       "  'to',\n",
       "  'confession'],\n",
       " ['But',\n",
       "  'youth',\n",
       "  'asked',\n",
       "  'nothing',\n",
       "  'of',\n",
       "  'its',\n",
       "  'parents',\n",
       "  '--',\n",
       "  'not',\n",
       "  'a',\n",
       "  'touch',\n",
       "  'of',\n",
       "  'the',\n",
       "  'hand',\n",
       "  'or',\n",
       "  'a',\n",
       "  'kiss',\n",
       "  'given',\n",
       "  'in',\n",
       "  'passing'],\n",
       " ['The',\n",
       "  'only',\n",
       "  'thing',\n",
       "  'unusual',\n",
       "  'about',\n",
       "  'the',\n",
       "  'Old',\n",
       "  'Man',\n",
       "  'had',\n",
       "  'long',\n",
       "  'since',\n",
       "  'happened'],\n",
       " ['But',\n",
       "  'the',\n",
       "  'past',\n",
       "  'was',\n",
       "  'dead',\n",
       "  'here',\n",
       "  'as',\n",
       "  'the',\n",
       "  'present',\n",
       "  'was',\n",
       "  'dead'],\n",
       " ['Once', 'the', 'Old', 'Man', 'had', 'had', 'a', 'wife'],\n",
       " ['And', 'once', 'she', 'too', 'ignored', 'him'],\n",
       " ['With',\n",
       "  'a',\n",
       "  'tiny',\n",
       "  'fur-piece',\n",
       "  'wrapped',\n",
       "  'around',\n",
       "  'her',\n",
       "  'shoulders',\n",
       "  'she',\n",
       "  'wiggled',\n",
       "  'her',\n",
       "  'satin-covered',\n",
       "  'buttocks',\n",
       "  'down',\n",
       "  'the',\n",
       "  'street',\n",
       "  'before',\n",
       "  'him',\n",
       "  'and',\n",
       "  \"didn't\",\n",
       "  'stop'],\n",
       " ['In',\n",
       "  'one',\n",
       "  'hand',\n",
       "  'she',\n",
       "  'clutched',\n",
       "  'a',\n",
       "  'hundred',\n",
       "  'dollar',\n",
       "  'bill',\n",
       "  'and',\n",
       "  'in',\n",
       "  'the',\n",
       "  'other',\n",
       "  'a',\n",
       "  'straw',\n",
       "  'suitcase'],\n",
       " ['The',\n",
       "  'way',\n",
       "  'she',\n",
       "  'strutted',\n",
       "  'down',\n",
       "  'the',\n",
       "  'street',\n",
       "  'the',\n",
       "  'Old',\n",
       "  'Man',\n",
       "  'would',\n",
       "  'have',\n",
       "  'been',\n",
       "  'blind',\n",
       "  'not',\n",
       "  'to',\n",
       "  'have',\n",
       "  'noticed',\n",
       "  'both'],\n",
       " ['Without',\n",
       "  'looking',\n",
       "  'at',\n",
       "  'him',\n",
       "  'without',\n",
       "  'looking',\n",
       "  'at',\n",
       "  'anything',\n",
       "  'except',\n",
       "  'Drexel',\n",
       "  'Street',\n",
       "  'directly',\n",
       "  'in',\n",
       "  'front',\n",
       "  'of',\n",
       "  'her',\n",
       "  'she',\n",
       "  'climbed',\n",
       "  'up',\n",
       "  'into',\n",
       "  'one',\n",
       "  'of',\n",
       "  'those',\n",
       "  'orange',\n",
       "  'streetcars',\n",
       "  'rode',\n",
       "  'away',\n",
       "  'in',\n",
       "  'it',\n",
       "  'and',\n",
       "  'never',\n",
       "  'came',\n",
       "  'back'],\n",
       " ['``',\n",
       "  'But',\n",
       "  'she',\n",
       "  \"shouldn't\",\n",
       "  'have',\n",
       "  'come',\n",
       "  'here',\n",
       "  'in',\n",
       "  'the',\n",
       "  'first',\n",
       "  'place',\n",
       "  \"''\",\n",
       "  'the',\n",
       "  'women',\n",
       "  'had',\n",
       "  'said'],\n",
       " ['``', 'No', 'no'],\n",
       " ['Not', 'that', 'one'],\n",
       " ['She',\n",
       "  'thought',\n",
       "  'she',\n",
       "  'was',\n",
       "  'bigger',\n",
       "  'than',\n",
       "  'we',\n",
       "  'are',\n",
       "  'because',\n",
       "  'she',\n",
       "  'came',\n",
       "  'from',\n",
       "  'Torino',\n",
       "  \"''\"],\n",
       " ['``', 'Eh', 'Torino'],\n",
       " ['She', 'gave', 'herself', 'fancy', 'airs'],\n",
       " ['Just',\n",
       "  'because',\n",
       "  'she',\n",
       "  'had',\n",
       "  'a',\n",
       "  'part',\n",
       "  'on',\n",
       "  'the',\n",
       "  'stage',\n",
       "  'in',\n",
       "  'the',\n",
       "  'old',\n",
       "  'country',\n",
       "  'she',\n",
       "  'thought',\n",
       "  'she',\n",
       "  'could',\n",
       "  'carry',\n",
       "  'her',\n",
       "  'head',\n",
       "  'higher',\n",
       "  'than',\n",
       "  'ours',\n",
       "  \"''\"],\n",
       " ['They', 'had', 'slapped', 'their', 'thighs'],\n",
       " ['``',\n",
       "  \"It's\",\n",
       "  'not',\n",
       "  'for',\n",
       "  'making',\n",
       "  'pretty',\n",
       "  'speeches',\n",
       "  'about',\n",
       "  'Dante',\n",
       "  'those',\n",
       "  'actresses',\n",
       "  'get',\n",
       "  'paid',\n",
       "  'so',\n",
       "  'good',\n",
       "  \"''\"],\n",
       " ['``', 'Henh', \"''\"],\n",
       " ['Calloused',\n",
       "  'fingers',\n",
       "  'caressed',\n",
       "  'only',\n",
       "  'by',\n",
       "  'the',\n",
       "  'smoothness',\n",
       "  'of',\n",
       "  'polished',\n",
       "  'rosaries',\n",
       "  'had',\n",
       "  'swayed',\n",
       "  'excitedly',\n",
       "  'beneath',\n",
       "  'puckered',\n",
       "  'chins',\n",
       "  'where',\n",
       "  'tiny',\n",
       "  'black',\n",
       "  'hairs',\n",
       "  'sprouted',\n",
       "  'never',\n",
       "  'to',\n",
       "  'be',\n",
       "  'tweezed',\n",
       "  'away'],\n",
       " ['Mauve-colored',\n",
       "  'mouths',\n",
       "  'that',\n",
       "  'had',\n",
       "  'never',\n",
       "  'known',\n",
       "  'anything',\n",
       "  'sweeter',\n",
       "  'than',\n",
       "  'the',\n",
       "  'taste',\n",
       "  'of',\n",
       "  'new',\n",
       "  'wine',\n",
       "  'and',\n",
       "  'the',\n",
       "  'passion',\n",
       "  'of',\n",
       "  \"man's\",\n",
       "  'tongue',\n",
       "  'had',\n",
       "  'not',\n",
       "  'smiled',\n",
       "  'but',\n",
       "  'had',\n",
       "  'condemned',\n",
       "  'again',\n",
       "  'and',\n",
       "  'again'],\n",
       " ['``', 'Puttana', \"''\"],\n",
       " ['But',\n",
       "  'if',\n",
       "  'the',\n",
       "  'Old',\n",
       "  'Man',\n",
       "  'even',\n",
       "  'thought',\n",
       "  'about',\n",
       "  'his',\n",
       "  'wife',\n",
       "  'now',\n",
       "  'nobody',\n",
       "  'cared',\n",
       "  'a',\n",
       "  'fig'],\n",
       " ['It',\n",
       "  'was',\n",
       "  'enough',\n",
       "  'for',\n",
       "  'people',\n",
       "  'to',\n",
       "  'know',\n",
       "  'that',\n",
       "  'at',\n",
       "  'one',\n",
       "  'time',\n",
       "  'he',\n",
       "  'had',\n",
       "  'looked',\n",
       "  'down',\n",
       "  'the',\n",
       "  'street',\n",
       "  'at',\n",
       "  'the',\n",
       "  'f']]"
      ]
     },
     "execution_count": 25,
     "metadata": {},
     "output_type": "execute_result"
    }
   ],
   "source": [
    "# punctiation 제거하기\n",
    "[[word for word in sent if word not in punct]for sent in sentence_tokens]\n",
    "# -- 이런것들이 아직 안없어짐"
   ]
  },
  {
   "cell_type": "code",
   "execution_count": 32,
   "id": "cd7c08dd-a43b-48b8-9c90-a07605983761",
   "metadata": {
    "tags": []
   },
   "outputs": [
    {
     "data": {
      "text/plain": [
       "{'!',\n",
       " \"''\",\n",
       " ',',\n",
       " '--',\n",
       " '.',\n",
       " ';',\n",
       " \"It's\",\n",
       " 'Mauve-colored',\n",
       " '``',\n",
       " \"didn't\",\n",
       " 'fly-dotted',\n",
       " 'fur-piece',\n",
       " \"man's\",\n",
       " 'satin-covered',\n",
       " \"shouldn't\",\n",
       " \"that's\"}"
      ]
     },
     "execution_count": 32,
     "metadata": {},
     "output_type": "execute_result"
    }
   ],
   "source": [
    "set([word for sent in sentence_tokens for word in sent if not word.isalnum()])"
   ]
  },
  {
   "cell_type": "code",
   "execution_count": 34,
   "id": "3e0da35c-dbce-4ae6-aaae-23cc3e884708",
   "metadata": {},
   "outputs": [
    {
     "data": {
      "text/plain": [
       "{\"''\", '--', '``'}"
      ]
     },
     "execution_count": 34,
     "metadata": {},
     "output_type": "execute_result"
    }
   ],
   "source": [
    "# 우리가 찾고자 하는 punct\n",
    "set([word for sent in sentence_tokens for word in sent if not word[0].isalnum() and word not in punct])"
   ]
  },
  {
   "cell_type": "code",
   "execution_count": 37,
   "id": "aa5bfa54-f1b0-443f-b622-5cd6a49f7957",
   "metadata": {
    "collapsed": true,
    "jupyter": {
     "outputs_hidden": true
    },
    "tags": []
   },
   "outputs": [
    {
     "data": {
      "text/plain": [
       "['!',\n",
       " '\"',\n",
       " '#',\n",
       " '$',\n",
       " '%',\n",
       " '&',\n",
       " \"'\",\n",
       " '(',\n",
       " ')',\n",
       " '*',\n",
       " '+',\n",
       " ',',\n",
       " '-',\n",
       " '.',\n",
       " '/',\n",
       " ':',\n",
       " ';',\n",
       " '<',\n",
       " '=',\n",
       " '>',\n",
       " '?',\n",
       " '@',\n",
       " '[',\n",
       " '\\\\',\n",
       " ']',\n",
       " '^',\n",
       " '_',\n",
       " '`',\n",
       " '{',\n",
       " '|',\n",
       " '}',\n",
       " '~',\n",
       " '``',\n",
       " \"''\",\n",
       " '--']"
      ]
     },
     "execution_count": 37,
     "metadata": {},
     "output_type": "execute_result"
    }
   ],
   "source": [
    "# punctuation에 없는 부호들을 추가해주기 \n",
    "my_punct = set([word for sent in sentence_tokens for word in sent if not word[0].isalnum() and word not in punct])\n",
    "punct.extend(list(my_punct))\n",
    "punct"
   ]
  },
  {
   "cell_type": "code",
   "execution_count": 38,
   "id": "a3c0fb17-36a8-4afc-92df-f26c963fc5e8",
   "metadata": {},
   "outputs": [],
   "source": [
    "# 제거하기\n",
    "clean_sent_tokens = [[word for word in sent if word not in punct]for sent in sentence_tokens]"
   ]
  },
  {
   "cell_type": "code",
   "execution_count": 73,
   "id": "fa1ebd39-e25b-4efc-803a-b3e2bd030155",
   "metadata": {},
   "outputs": [
    {
     "data": {
      "text/plain": [
       "('she', \"'s\")"
      ]
     },
     "execution_count": 73,
     "metadata": {},
     "output_type": "execute_result"
    }
   ],
   "source": [
    "# 하이픈 fur-piece\n",
    "'fur-piece'.split('-') # 리스트로 반환하므로, append가 아닌 extend를 사용\n",
    "\n",
    "# apostrophe\n",
    "word = 'she\\'s'\n",
    "index =  word.find('\\'')\n",
    "word[:index],word[index:]\n",
    "\n",
    "# word'word인  경우\n",
    "#'s, 'nt, 'd -> 조건1\n",
    "# 나머지는 그냥 붙인다"
   ]
  },
  {
   "cell_type": "code",
   "execution_count": null,
   "id": "4d9f2e09-676e-4775-8585-54bc4045c9eb",
   "metadata": {},
   "outputs": [],
   "source": [
    "# i문 사용\n",
    "# for word 이런 단어~\n",
    "# 마지막에 순차로 익스텐드.\n",
    "\n",
    "for word:\n",
    "    list_sent.extend()"
   ]
  },
  {
   "cell_type": "code",
   "execution_count": 75,
   "id": "02b91b8e-5a03-4e5a-9724-7d7fa9d4ae99",
   "metadata": {},
   "outputs": [],
   "source": [
    "sentences = [sent.strip() for sent in romance.split('/.')] #strip으로 쓸데없는 공백 제거\n",
    "sentences = [s for s in sentences if s != '!']\n",
    "\n",
    "# sentences = [sent.replace('!','./.').strip() for sent in romance.split('./.')]  도 괜찮다.\n",
    "text = sentences[0]"
   ]
  },
  {
   "cell_type": "code",
   "execution_count": 39,
   "id": "166792d8-7305-42c5-9b48-cd5cc6d41e35",
   "metadata": {},
   "outputs": [
    {
     "data": {
      "text/plain": [
       "['They', 'neither', 'liked', 'nor', 'disliked', 'the', 'Old', 'Man']"
      ]
     },
     "execution_count": 39,
     "metadata": {},
     "output_type": "execute_result"
    }
   ],
   "source": [
    "# 함수로: 어떤 문장이 들어왓을때 pos,punct 제거, 토근 리스트로 반환하는 함수\n",
    "\n",
    "def tokenize_word(text):\n",
    "    token_list = [word[:word.find('/')] for word in text.split()\n",
    "                 if '/' in word and word not in punct]\n",
    "    return token_list\n",
    "\n",
    "tokenize_word(sentences[0])"
   ]
  },
  {
   "cell_type": "code",
   "execution_count": null,
   "id": "d8f0c059-0f20-4ead-87d2-ccd5fe4ec387",
   "metadata": {},
   "outputs": [],
   "source": []
  },
  {
   "cell_type": "code",
   "execution_count": null,
   "id": "21cc16be-9e67-4565-a3d5-bb79d782f5d1",
   "metadata": {},
   "outputs": [],
   "source": []
  },
  {
   "cell_type": "code",
   "execution_count": null,
   "id": "b4477b92-7d69-437a-86be-5d0c8c9b23e4",
   "metadata": {},
   "outputs": [],
   "source": []
  },
  {
   "cell_type": "code",
   "execution_count": null,
   "id": "8b8da85b-b0ac-415e-93a4-37f4f077d470",
   "metadata": {},
   "outputs": [],
   "source": []
  }
 ],
 "metadata": {
  "kernelspec": {
   "display_name": "Python 3 (ipykernel)",
   "language": "python",
   "name": "python3"
  },
  "language_info": {
   "codemirror_mode": {
    "name": "ipython",
    "version": 3
   },
   "file_extension": ".py",
   "mimetype": "text/x-python",
   "name": "python",
   "nbconvert_exporter": "python",
   "pygments_lexer": "ipython3",
   "version": "3.9.7"
  }
 },
 "nbformat": 4,
 "nbformat_minor": 5
}
