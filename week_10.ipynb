{
 "cells": [
  {
   "cell_type": "code",
   "execution_count": null,
   "id": "1d2294de-0307-4377-bbdc-8a49c20f191b",
   "metadata": {},
   "outputs": [],
   "source": []
  },
  {
   "cell_type": "markdown",
   "id": "bff76619-a807-4ef1-b819-d4779c04f7a8",
   "metadata": {},
   "source": [
    "### 10. 객체와 클래스\n",
    "- 객체를 구현하는 것이 클래스\n",
    "- object. 객체란?\n",
    "- 객체 지향 프로그램\n",
    "- 객체란 속성과 행동을 가지는 개념, 실존하는 물체\n",
    "    - 예: 자동차, 강아지, 꽃, ... 어떤 thing\n",
    "    - 속성: 자동차의 속성은 브랜드, 색, 속도, 모델,... => 변수\n",
    "        - 강아지의 속성은 이름, 색, 종, 무게...\n",
    "    - 행동: 가다, 서다, 회전, 주차, ... => 메소드\n",
    "        - 강아지) 뛰다, 짖다, 자다, 핥다,...\n",
    "- 편의점 => \"고객이 편의점에서 과자를 샀다\"\n",
    "    => 고객 => 사람,          편의점,                과자, 물건\n",
    "        - 이름, 돈            - 재고,수익            - 이름, 브랜드, 가격\n",
    "        - 물건 사다, 돈 내다   - 팔다,수익남기다,물건등록 -x (행동이 없을수 있음)\n",
    "    => 상호작용으로 코드를 구성하는 것"
   ]
  },
  {
   "cell_type": "markdown",
   "id": "7b4d9865-1e2e-42a3-8fb3-37779de5b9c1",
   "metadata": {},
   "source": [
    "클래스 이름 짓기\n",
    "- 첫글자 대문자\n",
    "- nice_car -> Nice_car (x)\n",
    "- NiceCar (o) # 카멜 표기법(네임 컨벤션)\n",
    "\n",
    "클래스의 특징\n",
    "- 정의부, 선언부가 있다.\n",
    "    - 정의부 = 붕어빵 틀\n",
    "    - 선언부 = 붕어빵"
   ]
  },
  {
   "cell_type": "code",
   "execution_count": 1,
   "id": "6f2c184b-9ec3-461f-9aaa-26333dfda083",
   "metadata": {},
   "outputs": [
    {
     "data": {
      "text/plain": [
       "<__main__.Car at 0x14c91e70100>"
      ]
     },
     "execution_count": 1,
     "metadata": {},
     "output_type": "execute_result"
    }
   ],
   "source": [
    "# 정의부\n",
    "class Car: # 객체\n",
    "    pass\n",
    "# 선언부\n",
    "my_car = Car()\n",
    "my_car # instance <=> 붕어빵"
   ]
  },
  {
   "cell_type": "code",
   "execution_count": 2,
   "id": "e9505edb-e690-4377-b2d5-c193d046a61b",
   "metadata": {},
   "outputs": [
    {
     "data": {
      "text/plain": [
       "'bmw'"
      ]
     },
     "execution_count": 2,
     "metadata": {},
     "output_type": "execute_result"
    }
   ],
   "source": [
    "my_car.name = 'bmw'\n",
    "my_car.color = 'white'\n",
    "my_car.name"
   ]
  },
  {
   "cell_type": "code",
   "execution_count": 8,
   "id": "f04a4bb2-c76f-4d05-82cb-bb4fd7a89d21",
   "metadata": {},
   "outputs": [],
   "source": [
    "#1. 첫번째 방법\n",
    "class Car:\n",
    "    name = 'bmw'"
   ]
  },
  {
   "cell_type": "code",
   "execution_count": 9,
   "id": "6b616553-2782-4373-aa6c-2116c5754d0a",
   "metadata": {},
   "outputs": [],
   "source": [
    "your_car = Car()"
   ]
  },
  {
   "cell_type": "code",
   "execution_count": 10,
   "id": "59d685d8-d1ad-43f6-9bbe-44d35a24af7e",
   "metadata": {},
   "outputs": [
    {
     "data": {
      "text/plain": [
       "'bmw'"
      ]
     },
     "execution_count": 10,
     "metadata": {},
     "output_type": "execute_result"
    }
   ],
   "source": [
    "your_car.name"
   ]
  },
  {
   "cell_type": "code",
   "execution_count": 11,
   "id": "d826da5a-8fd9-4b59-a73d-ffbe3be7195c",
   "metadata": {},
   "outputs": [
    {
     "data": {
      "text/plain": [
       "'kia'"
      ]
     },
     "execution_count": 11,
     "metadata": {},
     "output_type": "execute_result"
    }
   ],
   "source": [
    "# .name으로 이름 바꾸기\n",
    "your_car.name = 'kia'\n",
    "your_car.name\n",
    "# 각 차마다 .name으로 계속 이름을 설정해줘야 하는 어려움 발생"
   ]
  },
  {
   "cell_type": "code",
   "execution_count": 12,
   "id": "029605d5-d8dc-4c5d-9795-b7e56b111c0e",
   "metadata": {},
   "outputs": [],
   "source": [
    "#2. 두번째 방법\n",
    "class Car:\n",
    "    def __init__(self, name): # 속성 초기화 함수\n",
    "        # 객체를 만들 때 들어오는 값으로 이름을 설정하고 싶다.\n",
    "        # name을 그때 그때 정하고 싶을 때\n",
    "        self.name = name\n",
    "        # self == instance (붕어빵)\n",
    "        # ex) her_car = Car() 에서 her_car가 self에 해당함"
   ]
  },
  {
   "cell_type": "code",
   "execution_count": 13,
   "id": "4a4970dd-f9dd-47b1-800b-0effecfe82e9",
   "metadata": {},
   "outputs": [
    {
     "ename": "TypeError",
     "evalue": "__init__() missing 1 required positional argument: 'name'",
     "output_type": "error",
     "traceback": [
      "\u001b[1;31m---------------------------------------------------------------------------\u001b[0m",
      "\u001b[1;31mTypeError\u001b[0m                                 Traceback (most recent call last)",
      "\u001b[1;32m~\\AppData\\Local\\Temp/ipykernel_3500/2077461223.py\u001b[0m in \u001b[0;36m<module>\u001b[1;34m\u001b[0m\n\u001b[1;32m----> 1\u001b[1;33m \u001b[0mher_car\u001b[0m \u001b[1;33m=\u001b[0m \u001b[0mCar\u001b[0m\u001b[1;33m(\u001b[0m\u001b[1;33m)\u001b[0m\u001b[1;33m\u001b[0m\u001b[1;33m\u001b[0m\u001b[0m\n\u001b[0m",
      "\u001b[1;31mTypeError\u001b[0m: __init__() missing 1 required positional argument: 'name'"
     ]
    }
   ],
   "source": [
    "her_car = Car()\n",
    "# car을 만들 때 name을 주기로 약속했기 때문에 오류가 발생"
   ]
  },
  {
   "cell_type": "code",
   "execution_count": 14,
   "id": "c7cf8061-2dbd-40c8-8547-574b6c439cae",
   "metadata": {},
   "outputs": [
    {
     "data": {
      "text/plain": [
       "'Hyundai'"
      ]
     },
     "execution_count": 14,
     "metadata": {},
     "output_type": "execute_result"
    }
   ],
   "source": [
    "her_car = Car(name='Hyundai')\n",
    "her_car.name"
   ]
  },
  {
   "cell_type": "code",
   "execution_count": 15,
   "id": "b9ed50f0-5810-4546-8718-7d3051384034",
   "metadata": {},
   "outputs": [
    {
     "data": {
      "text/plain": [
       "'Toyota'"
      ]
     },
     "execution_count": 15,
     "metadata": {},
     "output_type": "execute_result"
    }
   ],
   "source": [
    "car2 = Car(name='Toyota')\n",
    "car2.name"
   ]
  },
  {
   "cell_type": "code",
   "execution_count": 12,
   "id": "dc537055-e9f6-4348-93a7-0dfa2795d7f4",
   "metadata": {},
   "outputs": [],
   "source": [
    "# 모델, 색 추가한 car \n",
    "class Car():\n",
    "    def __init__(self,name,model,color):\n",
    "        self.name = name\n",
    "        self.model = model\n",
    "        self.color = color\n",
    "    \n",
    "    def drive(self):\n",
    "        # 1: (차이름)가 출발합니다.\n",
    "        print(self.name + \"가 출발합니다\")\n",
    "        # 그냥 name으로 하면 name이 정의되지 않았다고 뜨네.\n",
    "        \n",
    "    def stop(self):\n",
    "        print(\"차가 습니다\")\n",
    "    \n",
    "    def change_color(self):\n",
    "        # 2: 차 색을 gray로 바꾼다\n",
    "        self.color = 'gray'"
   ]
  },
  {
   "cell_type": "code",
   "execution_count": 19,
   "id": "ec7428a5-c601-4e57-8696-46cab5f1680e",
   "metadata": {},
   "outputs": [
    {
     "data": {
      "text/plain": [
       "'black'"
      ]
     },
     "execution_count": 19,
     "metadata": {},
     "output_type": "execute_result"
    }
   ],
   "source": [
    "jungah_car = Car(name='audi',model='a8',color='black')\n",
    "jungah_car.color"
   ]
  },
  {
   "cell_type": "code",
   "execution_count": 14,
   "id": "0511bfb5-e1a6-454b-8d3c-65e0a11180cf",
   "metadata": {},
   "outputs": [
    {
     "data": {
      "text/plain": [
       "'SM6'"
      ]
     },
     "execution_count": 14,
     "metadata": {},
     "output_type": "execute_result"
    }
   ],
   "source": [
    "car3 = Car('kia','SM6','black')\n",
    "car3.model"
   ]
  },
  {
   "cell_type": "code",
   "execution_count": 6,
   "id": "d6ede6cc-14ac-4d0d-af55-b0fca02c454e",
   "metadata": {},
   "outputs": [
    {
     "name": "stdout",
     "output_type": "stream",
     "text": [
      "차가 습니다\n"
     ]
    }
   ],
   "source": [
    "car3.stop()"
   ]
  },
  {
   "cell_type": "code",
   "execution_count": 15,
   "id": "17faaac5-3d12-48e3-9af1-7a332c20ed2a",
   "metadata": {},
   "outputs": [
    {
     "name": "stdout",
     "output_type": "stream",
     "text": [
      "kia가 출발합니다\n"
     ]
    }
   ],
   "source": [
    "car3.drive()"
   ]
  },
  {
   "cell_type": "code",
   "execution_count": 16,
   "id": "956bf608-8039-40bb-ab93-790583b86bd0",
   "metadata": {},
   "outputs": [
    {
     "data": {
      "text/plain": [
       "'gray'"
      ]
     },
     "execution_count": 16,
     "metadata": {},
     "output_type": "execute_result"
    }
   ],
   "source": [
    "car3.change_color()\n",
    "car3.color"
   ]
  },
  {
   "cell_type": "code",
   "execution_count": 30,
   "id": "66b43df6-9d6a-4405-99e4-5dcf1302b261",
   "metadata": {},
   "outputs": [],
   "source": [
    "class Car():\n",
    "    def __init__(self,name,model,color='black'): #교수님은 여기다가 디폴트 넣음\n",
    "        self.name = name\n",
    "        self.model = model\n",
    "        self.color = color\n",
    "        \n",
    "    def drive(self):\n",
    "        # (차이름)가 출발합니다.\n",
    "        print(self.name + \"가 출발합니다\")\n",
    "        # 그냥 name으로 하면 name이 정의되지 않았다고 뜨네.\n",
    "        \n",
    "    def stop(self):\n",
    "        print(\"차가 습니다\")\n",
    "    \n",
    "    def change_color(self,color='black'): # 4: color이 들어오면 그 값으로 설정, 아니면 black\n",
    "        # 3: color  값을 받아서 그걸로 지정하기 \n",
    "        self.color = color\n",
    "# 5: model을 생성할 때 안 넣어도 되게 설정하기"
   ]
  },
  {
   "cell_type": "code",
   "execution_count": 28,
   "id": "debf7802-b4b8-45ab-8f83-30cf80a75f15",
   "metadata": {},
   "outputs": [],
   "source": [
    "# 클래스 바뀌면 인스턴스도 다시 실행해줘야함\n",
    "car3 = Car('kia','SM6','black')"
   ]
  },
  {
   "cell_type": "code",
   "execution_count": 20,
   "id": "4e00cef1-32e5-40f0-b77d-e9d0690d3400",
   "metadata": {},
   "outputs": [
    {
     "data": {
      "text/plain": [
       "'red'"
      ]
     },
     "execution_count": 20,
     "metadata": {},
     "output_type": "execute_result"
    }
   ],
   "source": [
    "car3.change_color('red')\n",
    "car3.color"
   ]
  },
  {
   "cell_type": "code",
   "execution_count": 29,
   "id": "c847ca10-c7b1-4830-81b9-61dc9da04030",
   "metadata": {},
   "outputs": [
    {
     "data": {
      "text/plain": [
       "'black'"
      ]
     },
     "execution_count": 29,
     "metadata": {},
     "output_type": "execute_result"
    }
   ],
   "source": [
    "car3.change_color()\n",
    "car3.color"
   ]
  },
  {
   "cell_type": "code",
   "execution_count": 31,
   "id": "173ec2c8-4266-4978-b15e-96936cce0f6d",
   "metadata": {},
   "outputs": [
    {
     "data": {
      "text/plain": [
       "'black'"
      ]
     },
     "execution_count": 31,
     "metadata": {},
     "output_type": "execute_result"
    }
   ],
   "source": [
    "car3 = Car('kia','SM6')\n",
    "car3.color"
   ]
  },
  {
   "cell_type": "code",
   "execution_count": 37,
   "id": "b82c1498-3a70-43f1-807a-5e26fc120bdb",
   "metadata": {},
   "outputs": [],
   "source": [
    "# 5: model을 생성할 때 안 넣어도 되게 설정하기\n",
    "# 내 답: model = ''로 설정하기. 다만 이렇게 하면 모델이 컬러뒤에 있어야함. 안그러면\n",
    "# car.model 했을때 컬러값이 나옴\n",
    "# 해답: model = None로 설정. 이렇게 하면 모델이 컬러 뒤에 있을 필요 없음\n",
    "\n",
    "class Car():\n",
    "    def __init__(self,name,model=None,color='black'): \n",
    "        self.name = name\n",
    "        self.model = model\n",
    "        self.color = color\n",
    "        \n",
    "    def drive(self):\n",
    "        # (차이름)가 출발합니다.\n",
    "        print(self.name + \"가 출발합니다\")\n",
    "        # 그냥 name으로 하면 name이 정의되지 않았다고 뜨네.\n",
    "        \n",
    "    def stop(self):\n",
    "        print(\"차가 습니다\")\n",
    "    \n",
    "    def change_color(self,color='black'): # 4: color이 들어오면 그 값으로 설정, 아니면 black\n",
    "        # 3: color  값을 받아서 그걸로 지정하기 \n",
    "        self.color = color"
   ]
  },
  {
   "cell_type": "code",
   "execution_count": 39,
   "id": "be105441-821d-46d4-bd21-d935a36d8cb1",
   "metadata": {},
   "outputs": [
    {
     "data": {
      "text/plain": [
       "'black'"
      ]
     },
     "execution_count": 39,
     "metadata": {},
     "output_type": "execute_result"
    }
   ],
   "source": [
    "car3 = Car('kia')\n",
    "car3.color"
   ]
  },
  {
   "cell_type": "code",
   "execution_count": 40,
   "id": "0c2229c4-e306-49d3-9c50-89bda63da842",
   "metadata": {},
   "outputs": [
    {
     "data": {
      "text/plain": [
       "'kia'"
      ]
     },
     "execution_count": 40,
     "metadata": {},
     "output_type": "execute_result"
    }
   ],
   "source": [
    "car3.model = 'kia'\n",
    "car3.model"
   ]
  },
  {
   "cell_type": "markdown",
   "id": "ef0542dc-9e07-46a9-9a62-bf06c09ee660",
   "metadata": {},
   "source": [
    "### [캡슐화, 정보 은닉]\n",
    "- public -> private로 바꾸는 작업\n",
    "- gatter, setter"
   ]
  },
  {
   "cell_type": "code",
   "execution_count": 41,
   "id": "94760c3f-58a0-45a4-980f-f26de34fadcb",
   "metadata": {},
   "outputs": [
    {
     "data": {
      "text/plain": [
       "'red'"
      ]
     },
     "execution_count": 41,
     "metadata": {},
     "output_type": "execute_result"
    }
   ],
   "source": [
    "class Fruit:\n",
    "    color = 'red'\n",
    "    \n",
    "kiwi = Fruit()\n",
    "kiwi.color"
   ]
  },
  {
   "cell_type": "code",
   "execution_count": 42,
   "id": "2f6ef790-e991-4da7-affd-9571842399a1",
   "metadata": {},
   "outputs": [],
   "source": [
    "# 클래스에 직접 접근해서 변경도 가능하네!  \n",
    "Fruit.color = 'black'"
   ]
  },
  {
   "cell_type": "code",
   "execution_count": 43,
   "id": "f56fb37a-91a4-4d69-87e5-ff651b3f90a4",
   "metadata": {},
   "outputs": [
    {
     "data": {
      "text/plain": [
       "'black'"
      ]
     },
     "execution_count": 43,
     "metadata": {},
     "output_type": "execute_result"
    }
   ],
   "source": [
    "apple = Fruit()\n",
    "apple.color"
   ]
  },
  {
   "cell_type": "markdown",
   "id": "2b72714c-bfbf-4f2a-ace4-731586299398",
   "metadata": {},
   "source": [
    "#### get & set\n",
    "- getter: 클래스 내 객체 변수 반환\n",
    "- setter: 동일. 변수 설정"
   ]
  },
  {
   "cell_type": "code",
   "execution_count": 44,
   "id": "c05a3b21-7a02-420f-ac06-5d000a80c12d",
   "metadata": {},
   "outputs": [],
   "source": [
    "class Car:\n",
    "    def __init__(self,input_name):\n",
    "        self.name = input_name\n",
    "    \n",
    "    def get_name(self):\n",
    "        # 변수 반환\n",
    "        return self.name\n",
    "        \n",
    "    def set_name(self, input_name):\n",
    "        self.name = input_name\n",
    "    \n",
    "c = Car('name1')"
   ]
  },
  {
   "cell_type": "code",
   "execution_count": 45,
   "id": "b34847ca-fe5e-4475-b3a1-82feda34e91e",
   "metadata": {},
   "outputs": [
    {
     "data": {
      "text/plain": [
       "'name1'"
      ]
     },
     "execution_count": 45,
     "metadata": {},
     "output_type": "execute_result"
    }
   ],
   "source": [
    "c.get_name()"
   ]
  },
  {
   "cell_type": "code",
   "execution_count": 46,
   "id": "44a6ab2c-099f-44af-bf2d-1bdc2b61d5f2",
   "metadata": {},
   "outputs": [
    {
     "data": {
      "text/plain": [
       "'name2'"
      ]
     },
     "execution_count": 46,
     "metadata": {},
     "output_type": "execute_result"
    }
   ],
   "source": [
    "c.set_name('name2')\n",
    "c.get_name()"
   ]
  },
  {
   "cell_type": "code",
   "execution_count": 47,
   "id": "c4ceb3d2-77d7-4fbe-a682-5378d9fedd8d",
   "metadata": {},
   "outputs": [
    {
     "data": {
      "text/plain": [
       "'name3'"
      ]
     },
     "execution_count": 47,
     "metadata": {},
     "output_type": "execute_result"
    }
   ],
   "source": [
    "# 무슨 차이?\n",
    "c.name = 'name3'\n",
    "c.name\n",
    "\n",
    "# 이렇게 안하고 set_name으로 설정하면,\n",
    "# 코드를 봤을때 set_name을 봤을때 네임이 바뀌었음을 알 수 있다.\n",
    "# get과 set으로 name을 바꾸는 과정임"
   ]
  },
  {
   "cell_type": "markdown",
   "id": "af183854-d1f8-4cd3-b384-af5d931a5b17",
   "metadata": {},
   "source": [
    "#### 2. 더 파이써닉한 방법\n",
    "- name을 hidden으로 숨겨놓고\n",
    "- property()라는 함수를 통해 .name이라는 변수로 알려주기"
   ]
  },
  {
   "cell_type": "code",
   "execution_count": 48,
   "id": "84689d3a-f091-4201-b496-eb9553ec6c93",
   "metadata": {},
   "outputs": [
    {
     "data": {
      "text/plain": [
       "'name_1'"
      ]
     },
     "execution_count": 48,
     "metadata": {},
     "output_type": "execute_result"
    }
   ],
   "source": [
    "class Car:\n",
    "    def __init__(self,input_name):\n",
    "        self.hidden_name = input_name\n",
    "    \n",
    "    def get_name(self):\n",
    "        # 변수 반환\n",
    "        return self.hidden_name\n",
    "        \n",
    "    def set_name(self, input_name):\n",
    "        self.hidden_name = input_name\n",
    "    \n",
    "    name = property(get_name, set_name)\n",
    "    \n",
    "    \n",
    "d = Car('name_1')\n",
    "d.name"
   ]
  },
  {
   "cell_type": "markdown",
   "id": "a28e5f0e-d511-477b-9d46-1ccb56d12ff6",
   "metadata": {},
   "source": [
    "#### 3. 데코레이터 사용\n",
    "- 골뱅이로 표시"
   ]
  },
  {
   "cell_type": "code",
   "execution_count": null,
   "id": "5dee51e0-95d2-478d-8df0-4852710688df",
   "metadata": {},
   "outputs": [],
   "source": [
    "class Car:\n",
    "    def __init__(self,input_name):\n",
    "        self.hidden_name = input_name # 밖에서 쉽게 교체하지 못하도록 가리는 작업\n",
    "    \n",
    "    #decorater\n",
    "    @property\n",
    "    def name(self):\n",
    "        # 변수 반환\n",
    "        return self.hidden_name\n",
    "    \n",
    "    @name.setter\n",
    "    def set_name(self, input_name):\n",
    "        self.hidden_name = input_name"
   ]
  },
  {
   "cell_type": "code",
   "execution_count": 49,
   "id": "e61609c3-0b40-44b8-8f16-663defdc48ff",
   "metadata": {},
   "outputs": [
    {
     "data": {
      "text/plain": [
       "'name a'"
      ]
     },
     "execution_count": 49,
     "metadata": {},
     "output_type": "execute_result"
    }
   ],
   "source": [
    "e = Car('name a')\n",
    "e.name"
   ]
  },
  {
   "cell_type": "code",
   "execution_count": 50,
   "id": "565706a4-0ad5-49be-9790-916ed354f82f",
   "metadata": {},
   "outputs": [
    {
     "data": {
      "text/plain": [
       "'name a'"
      ]
     },
     "execution_count": 50,
     "metadata": {},
     "output_type": "execute_result"
    }
   ],
   "source": [
    "e.hidden_name #근데 가렸다고 해서 가리지는 못함"
   ]
  },
  {
   "cell_type": "markdown",
   "id": "19946493-9efc-4514-b430-1734111593d7",
   "metadata": {},
   "source": [
    "#### 4. 완전 가려야 될 때. 진짜 접근 못하게."
   ]
  },
  {
   "cell_type": "code",
   "execution_count": null,
   "id": "d61fa99d-5065-43b9-ad92-3c85bb97318e",
   "metadata": {},
   "outputs": [],
   "source": [
    "class Car:\n",
    "    def __init__(self,input_name):\n",
    "        self.__name = input_name # 밖에서 쉽게 교체하지 못하도록 가리는 작업\n",
    "    \n",
    "    #decorater\n",
    "    @property\n",
    "    def name(self):\n",
    "        # 변수 반환\n",
    "        return self.__name\n",
    "    \n",
    "    @name.setter\n",
    "    def set_name(self, input_name):\n",
    "        self.__name = input_name"
   ]
  },
  {
   "cell_type": "code",
   "execution_count": 51,
   "id": "9cbe0898-3073-46a6-a92c-631da015afa7",
   "metadata": {},
   "outputs": [
    {
     "ename": "AttributeError",
     "evalue": "'Car' object has no attribute '__name'",
     "output_type": "error",
     "traceback": [
      "\u001b[1;31m---------------------------------------------------------------------------\u001b[0m",
      "\u001b[1;31mAttributeError\u001b[0m                            Traceback (most recent call last)",
      "\u001b[1;32m~\\AppData\\Local\\Temp/ipykernel_12196/229484777.py\u001b[0m in \u001b[0;36m<module>\u001b[1;34m\u001b[0m\n\u001b[0;32m      1\u001b[0m \u001b[0mf\u001b[0m \u001b[1;33m=\u001b[0m \u001b[0mCar\u001b[0m\u001b[1;33m(\u001b[0m\u001b[1;34m'name b'\u001b[0m\u001b[1;33m)\u001b[0m\u001b[1;33m\u001b[0m\u001b[1;33m\u001b[0m\u001b[0m\n\u001b[1;32m----> 2\u001b[1;33m \u001b[0mf\u001b[0m\u001b[1;33m.\u001b[0m\u001b[0m__name\u001b[0m\u001b[1;33m\u001b[0m\u001b[1;33m\u001b[0m\u001b[0m\n\u001b[0m",
      "\u001b[1;31mAttributeError\u001b[0m: 'Car' object has no attribute '__name'"
     ]
    }
   ],
   "source": [
    "f = Car('name b')\n",
    "f.__name\n",
    "# 따라서 언더 두개쓰고 변수명 지으면,\n",
    "# 클래스에 접근 못하는 변수라는 뜻이 됨"
   ]
  },
  {
   "cell_type": "code",
   "execution_count": 52,
   "id": "acbf53e1-22f2-464f-a624-74c82885b1e4",
   "metadata": {},
   "outputs": [
    {
     "data": {
      "text/plain": [
       "10"
      ]
     },
     "execution_count": 52,
     "metadata": {},
     "output_type": "execute_result"
    }
   ],
   "source": [
    "# property\n",
    "\n",
    "class Circle:\n",
    "    def __init__(self,radius):\n",
    "        self.radius = radius\n",
    "        #self.parameter = radius * 2 << 이걸 안해도 되게 만드는 것임!\n",
    "        \n",
    "    # 이 함수를 속성으로 사용하고 싶다. 이럴때 사용하는 것이 property.\n",
    "    @property\n",
    "    def parameter(self):\n",
    "        return self.radius * 2\n",
    "\n",
    "ex = Circle(5)\n",
    "ex.parameter"
   ]
  },
  {
   "cell_type": "code",
   "execution_count": 53,
   "id": "a83b44f5-8e64-489d-8089-e002f2b498a4",
   "metadata": {},
   "outputs": [
    {
     "data": {
      "text/plain": [
       "18"
      ]
     },
     "execution_count": 53,
     "metadata": {},
     "output_type": "execute_result"
    }
   ],
   "source": [
    "ex.radius = 9\n",
    "ex.parameter"
   ]
  },
  {
   "cell_type": "markdown",
   "id": "93dda48d-3048-4ea6-9871-b4fd7990ddeb",
   "metadata": {},
   "source": [
    "### 실습\n",
    "- 메모장, 메모 구현하기\n",
    "- 메모장\n",
    "    - 속성: 제목, 페이지번호, 메모\n",
    "    - 행동: 메모 추가하다, 메모 삭제하다, 페이지번호 확인하다\n",
    "- 메모\n",
    "    - 속성: 글귀\n",
    "    - 행동: 쓰다, 지우다\n",
    "\n",
    "- 사용:\n",
    "    - 메모 쓴다\n",
    "    - 메모장에 추가\n",
    "    - 페이지 번호가 추가한 만큼 늘어난다\n",
    "    - 메모 삭제\n",
    "    - 페이지 번호 줄어든다\n",
    "    - 메모장 > 제목만 은닉하기"
   ]
  },
  {
   "cell_type": "code",
   "execution_count": 71,
   "id": "9730ff69-c979-493d-9884-d28f4561b360",
   "metadata": {},
   "outputs": [],
   "source": [
    "## 내 풀이 v1\n",
    "class MemoJang:\n",
    "    def __init__(self,title,memo):\n",
    "        self.__title = title\n",
    "        self.memo = memo.paragraph\n",
    "        self.page = 1\n",
    "    \n",
    "    def plus_memo(self,memo):\n",
    "        self.page += 1\n",
    "        self.memo += '\\n' + memo.paragraph\n",
    "    \n",
    "    def delete_memo(self):\n",
    "        self.memo = \"\\n\".join(self.memo.split('\\n')[:-1])\n",
    "        self.page -= 1\n",
    "    \n",
    "    def check_page(self):\n",
    "        return self.page\n",
    "\n",
    "class Memo:\n",
    "    def __init__(self,paragraph):\n",
    "        self.paragraph = paragraph\n",
    "    \n",
    "    def write_memo(self,paragraph):\n",
    "        self.paragraph += ' ' + paragraph\n",
    "        \n",
    "    def erase_memo(self):\n",
    "        self.paragraph = \" \".join(self.paragraph.split()[:-1])\n",
    "\n",
    "test1 = Memo('첫문장')\n",
    "test2 = Memo('두번째 문장')\n",
    "memojang1 = MemoJang('첫메모장',test1)"
   ]
  },
  {
   "cell_type": "code",
   "execution_count": 73,
   "id": "eef62b57-79cf-4513-b88a-ee5211c0afbb",
   "metadata": {},
   "outputs": [
    {
     "data": {
      "text/plain": [
       "'첫문장 어쩌구저쩌구 어쩌구저쩌구'"
      ]
     },
     "execution_count": 73,
     "metadata": {},
     "output_type": "execute_result"
    }
   ],
   "source": [
    "test1.write_memo('어쩌구저쩌구')\n",
    "test1.paragraph"
   ]
  },
  {
   "cell_type": "code",
   "execution_count": 74,
   "id": "2ed3a287-f70a-4886-81da-82b5e14477b5",
   "metadata": {},
   "outputs": [
    {
     "data": {
      "text/plain": [
       "'첫문장\\n두번째 문장'"
      ]
     },
     "execution_count": 74,
     "metadata": {},
     "output_type": "execute_result"
    }
   ],
   "source": [
    "memojang1.plus_memo(test2)\n",
    "memojang1.memo"
   ]
  },
  {
   "cell_type": "code",
   "execution_count": 76,
   "id": "593fe980-426e-43de-9013-ce030ef69803",
   "metadata": {},
   "outputs": [
    {
     "data": {
      "text/plain": [
       "2"
      ]
     },
     "execution_count": 76,
     "metadata": {},
     "output_type": "execute_result"
    }
   ],
   "source": [
    "memojang1.check_page\n",
    "memojang1.page"
   ]
  },
  {
   "cell_type": "code",
   "execution_count": 77,
   "id": "082c802d-ae11-44e7-9e39-1a0998b8b351",
   "metadata": {},
   "outputs": [],
   "source": [
    "memojang1.delete_memo()"
   ]
  },
  {
   "cell_type": "code",
   "execution_count": 78,
   "id": "688f29e0-74a0-46eb-945d-cf5a925bf82a",
   "metadata": {},
   "outputs": [
    {
     "data": {
      "text/plain": [
       "1"
      ]
     },
     "execution_count": 78,
     "metadata": {},
     "output_type": "execute_result"
    }
   ],
   "source": [
    "memojang1.check_page()"
   ]
  },
  {
   "cell_type": "code",
   "execution_count": 75,
   "id": "966bfb29-6203-46b3-b523-a19726d42e0a",
   "metadata": {},
   "outputs": [
    {
     "ename": "AttributeError",
     "evalue": "'MemoJang' object has no attribute 'title'",
     "output_type": "error",
     "traceback": [
      "\u001b[1;31m---------------------------------------------------------------------------\u001b[0m",
      "\u001b[1;31mAttributeError\u001b[0m                            Traceback (most recent call last)",
      "\u001b[1;32m~\\AppData\\Local\\Temp/ipykernel_12196/2640336515.py\u001b[0m in \u001b[0;36m<module>\u001b[1;34m\u001b[0m\n\u001b[1;32m----> 1\u001b[1;33m \u001b[0mmemojang1\u001b[0m\u001b[1;33m.\u001b[0m\u001b[0mtitle\u001b[0m\u001b[1;33m\u001b[0m\u001b[1;33m\u001b[0m\u001b[0m\n\u001b[0m",
      "\u001b[1;31mAttributeError\u001b[0m: 'MemoJang' object has no attribute 'title'"
     ]
    }
   ],
   "source": [
    "memojang1.title"
   ]
  },
  {
   "cell_type": "code",
   "execution_count": 85,
   "id": "1dd8968c-77e2-416b-b492-7c167dcae9cb",
   "metadata": {},
   "outputs": [],
   "source": [
    "## 내 풀이 v2\n",
    "\n",
    "class NoteBook:\n",
    "    def __init__(self,title='',note=''):\n",
    "        self.__title = self\n",
    "        self.note = note.line\n",
    "        self.page = note.page\n",
    "    \n",
    "    def add_note(self,note):\n",
    "        self.page += note.page # 노트의 페이지 번호만큼 누적해 증가\n",
    "        self.note = self.note + '\\n' + note.line\n",
    "    \n",
    "    def remove_note(self,note):\n",
    "        self.note = \"\\n\".join(self.note.split('\\n')[:-1])\n",
    "        self.page -= note.page # 노트의 페이지 번호만큼 삭제\n",
    "    \n",
    "    def get_page_num(self):\n",
    "        return self.page\n",
    "\n",
    "class Note:\n",
    "    def __init__(self,line=''):\n",
    "        self.line = line\n",
    "        self.page = 0\n",
    "    \n",
    "    def write(self,line):\n",
    "        self.line = self.line + ' ' + line\n",
    "        self.page += 1"
   ]
  },
  {
   "cell_type": "code",
   "execution_count": 86,
   "id": "cab3dc59-5970-4943-b801-e6a3af246534",
   "metadata": {},
   "outputs": [
    {
     "ename": "AttributeError",
     "evalue": "'str' object has no attribute 'line'",
     "output_type": "error",
     "traceback": [
      "\u001b[1;31m---------------------------------------------------------------------------\u001b[0m",
      "\u001b[1;31mAttributeError\u001b[0m                            Traceback (most recent call last)",
      "\u001b[1;32m~\\AppData\\Local\\Temp/ipykernel_12196/2522170036.py\u001b[0m in \u001b[0;36m<module>\u001b[1;34m\u001b[0m\n\u001b[0;32m     11\u001b[0m \u001b[1;33m\u001b[0m\u001b[0m\n\u001b[0;32m     12\u001b[0m \u001b[1;31m# 메모장에 추가\u001b[0m\u001b[1;33m\u001b[0m\u001b[1;33m\u001b[0m\u001b[0m\n\u001b[1;32m---> 13\u001b[1;33m \u001b[0mmy_book\u001b[0m \u001b[1;33m=\u001b[0m \u001b[0mNoteBook\u001b[0m\u001b[1;33m(\u001b[0m\u001b[1;33m)\u001b[0m\u001b[1;33m\u001b[0m\u001b[1;33m\u001b[0m\u001b[0m\n\u001b[0m\u001b[0;32m     14\u001b[0m \u001b[0mmy_book\u001b[0m\u001b[1;33m.\u001b[0m\u001b[0madd_note\u001b[0m\u001b[1;33m(\u001b[0m\u001b[0mmy_note\u001b[0m\u001b[1;33m)\u001b[0m\u001b[1;33m\u001b[0m\u001b[1;33m\u001b[0m\u001b[0m\n\u001b[0;32m     15\u001b[0m \u001b[0mmy_book\u001b[0m\u001b[1;33m.\u001b[0m\u001b[0mnote\u001b[0m\u001b[1;33m\u001b[0m\u001b[1;33m\u001b[0m\u001b[0m\n",
      "\u001b[1;32m~\\AppData\\Local\\Temp/ipykernel_12196/3725779864.py\u001b[0m in \u001b[0;36m__init__\u001b[1;34m(self, title, note)\u001b[0m\n\u001b[0;32m      4\u001b[0m     \u001b[1;32mdef\u001b[0m \u001b[0m__init__\u001b[0m\u001b[1;33m(\u001b[0m\u001b[0mself\u001b[0m\u001b[1;33m,\u001b[0m\u001b[0mtitle\u001b[0m\u001b[1;33m=\u001b[0m\u001b[1;34m''\u001b[0m\u001b[1;33m,\u001b[0m\u001b[0mnote\u001b[0m\u001b[1;33m=\u001b[0m\u001b[1;34m''\u001b[0m\u001b[1;33m)\u001b[0m\u001b[1;33m:\u001b[0m\u001b[1;33m\u001b[0m\u001b[1;33m\u001b[0m\u001b[0m\n\u001b[0;32m      5\u001b[0m         \u001b[0mself\u001b[0m\u001b[1;33m.\u001b[0m\u001b[0m__title\u001b[0m \u001b[1;33m=\u001b[0m \u001b[0mself\u001b[0m\u001b[1;33m\u001b[0m\u001b[1;33m\u001b[0m\u001b[0m\n\u001b[1;32m----> 6\u001b[1;33m         \u001b[0mself\u001b[0m\u001b[1;33m.\u001b[0m\u001b[0mnote\u001b[0m \u001b[1;33m=\u001b[0m \u001b[0mnote\u001b[0m\u001b[1;33m.\u001b[0m\u001b[0mline\u001b[0m\u001b[1;33m\u001b[0m\u001b[1;33m\u001b[0m\u001b[0m\n\u001b[0m\u001b[0;32m      7\u001b[0m         \u001b[0mself\u001b[0m\u001b[1;33m.\u001b[0m\u001b[0mpage\u001b[0m \u001b[1;33m=\u001b[0m \u001b[0mnote\u001b[0m\u001b[1;33m.\u001b[0m\u001b[0mpage\u001b[0m\u001b[1;33m\u001b[0m\u001b[1;33m\u001b[0m\u001b[0m\n\u001b[0;32m      8\u001b[0m \u001b[1;33m\u001b[0m\u001b[0m\n",
      "\u001b[1;31mAttributeError\u001b[0m: 'str' object has no attribute 'line'"
     ]
    }
   ],
   "source": [
    "# 사용\n",
    "line1 = '우리 모두 스스로가 원하는 리더가 됩니다.'\n",
    "line2 = '모두가 함께 앞으로 나아가면 성공은 저절로 따라옵니다.'\n",
    "line3 = '혼자서는 작은 한 샘물이지만 함께 모이면 바다를 이룹니다.'\n",
    "\n",
    "# 메모 추가\n",
    "my_note = Note()\n",
    "my_note.write(line1) # 한 페이지에 라인이 하나 씩 들어갈 수 있게 짜보기\n",
    "my_note.write(line2)\n",
    "my_note.write(line3)\n",
    "\n",
    "# 메모장에 추가\n",
    "my_book = NoteBook()\n",
    "my_book.add_note(my_note)\n",
    "my_book.note\n",
    "# 페이지 번호 확인하기\n",
    "my_book.get_page_num()\n",
    "\n",
    "# 메모 삭제하기\n",
    "\n",
    "# 페이지 번호 확인하기"
   ]
  },
  {
   "cell_type": "code",
   "execution_count": 95,
   "id": "17a73523-ec38-4661-b080-fee346092105",
   "metadata": {},
   "outputs": [],
   "source": [
    "class NoteBook:\n",
    "    def __init__(self):\n",
    "        self.__title = self\n",
    "        self.note = ''\n",
    "        self.page = 0\n",
    "    \n",
    "    def add_note(self,note):\n",
    "        self.page += note.page # 노트의 페이지 번호만큼 누적해 증가\n",
    "        self.note = self.note + '\\n'+ str(note.title) + ':' + note.line\n",
    "    \n",
    "    def remove_note(self,note):\n",
    "        self.note = \"\\n\".join(self.note.split('\\n')[:-1])\n",
    "        self.page -= note.page # 노트의 페이지 번호만큼 삭제\n",
    "    \n",
    "    def get_page_num(self):\n",
    "        return self.page\n",
    "\n",
    "class Note:\n",
    "    def __init__(self,line=''):\n",
    "        self.line = line\n",
    "        self.page = 0\n",
    "        self.title = self\n",
    "    \n",
    "    def write(self,line):\n",
    "        self.line = self.line + ' ' + line\n",
    "        self.page += 1\n"
   ]
  },
  {
   "cell_type": "code",
   "execution_count": 99,
   "id": "7f843938-339b-4cd4-9d96-2ad97d7d47f1",
   "metadata": {},
   "outputs": [
    {
     "data": {
      "text/plain": [
       "0"
      ]
     },
     "execution_count": 99,
     "metadata": {},
     "output_type": "execute_result"
    }
   ],
   "source": [
    "# 사용\n",
    "line1 = '우리 모두 스스로가 원하는 리더가 됩니다.'\n",
    "line2 = '모두가 함께 앞으로 나아가면 성공은 저절로 따라옵니다.'\n",
    "line3 = '혼자서는 작은 한 샘물이지만 함께 모이면 바다를 이룹니다.'\n",
    "\n",
    "# 메모 추가\n",
    "my_note = Note()\n",
    "my_note.write(line1) # 한 페이지에 라인이 하나 씩 들어갈 수 있게 짜보기\n",
    "my_note.write(line2)\n",
    "my_note.write(line3)\n",
    "\n",
    "# 메모장에 추가\n",
    "my_book = NoteBook()\n",
    "my_book.add_note(my_note)\n",
    "my_book.note\n",
    "# 페이지 번호 확인하기\n",
    "my_book.get_page_num()\n",
    "\n",
    "# 메모 삭제하기\n",
    "my_book.remove_note(my_note)\n",
    "# 페이지 번호 확인하기\n",
    "my_book.get_page_num()"
   ]
  },
  {
   "cell_type": "code",
   "execution_count": null,
   "id": "1569babb-ad6b-40fa-9bc4-7dc6aaac0516",
   "metadata": {},
   "outputs": [],
   "source": []
  }
 ],
 "metadata": {
  "kernelspec": {
   "display_name": "Python 3 (ipykernel)",
   "language": "python",
   "name": "python3"
  },
  "language_info": {
   "codemirror_mode": {
    "name": "ipython",
    "version": 3
   },
   "file_extension": ".py",
   "mimetype": "text/x-python",
   "name": "python",
   "nbconvert_exporter": "python",
   "pygments_lexer": "ipython3",
   "version": "3.9.7"
  }
 },
 "nbformat": 4,
 "nbformat_minor": 5
}
