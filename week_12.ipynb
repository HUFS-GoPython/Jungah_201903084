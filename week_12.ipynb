{
 "cells": [
  {
   "cell_type": "markdown",
   "id": "82954f10-6b13-4f68-b521-b801df5514bd",
   "metadata": {},
   "source": [
    "Store, Item, Customer\n",
    "\n",
    "#1. ABCustomer -> Customer(상속)\n",
    "\n",
    "#2. Person <- Customer(Person)\n",
    "- person은 사람이고 Customer은 등록된 사람"
   ]
  },
  {
   "cell_type": "code",
   "execution_count": null,
   "id": "ec8bc30e-4a2f-4063-aaa9-a566ab4e0094",
   "metadata": {},
   "outputs": [],
   "source": [
    "class Customer(Person): #is-a 관계\n",
    "\n",
    "class Store:\n",
    "    def __init__(Customer):\n",
    "        self.customer = customer #customer 타입 # Customer을 가지는거지, 상속하는게 X -> has-a 관계\n",
    "        self.item = item # Item클래스를 받는다.\n",
    "        self.item_list = self.item.name, self.item.price #튜플로 가져가던지.\n",
    "\n",
    "class Item:\n",
    "    name\n",
    "    cnt\n",
    "    price\n",
    "    \n",
    "    pass\n",
    "\n",
    "# is-a가 아닌 has-a 관계를 구현했어야. 더 알아볼 것 \n",
    "\n",
    "# 임직원 할인 (커스터머가 셀러면 적용)\n",
    "\n",
    "# 오픈 시간이면 살 수 있고 닫으면 살수 X\n",
    "\n",
    "# 카드결제면 할인율을 더 적게 한다던가."
   ]
  },
  {
   "cell_type": "markdown",
   "id": "66e67a75-ac10-40a8-b175-a4937b022241",
   "metadata": {},
   "source": [
    "### [매직매소드]\n",
    "- special method\n",
    "- __<name>__ : 언더바 두개+ <이름> + 언더바 두개\n",
    "- __str__, __repr__"
   ]
  },
  {
   "cell_type": "code",
   "execution_count": 1,
   "id": "2b538f7e-2569-4bcc-803a-89e77c08cf17",
   "metadata": {},
   "outputs": [
    {
     "data": {
      "text/plain": [
       "<__main__.Customer at 0x2591b1adb50>"
      ]
     },
     "execution_count": 1,
     "metadata": {},
     "output_type": "execute_result"
    }
   ],
   "source": [
    "class Customer: #모든 클래스는 object를 상속받고 있음. 당연해서 안써주는 것\n",
    "    def __init__(self,name):\n",
    "        self.name = name\n",
    "    \n",
    "    \n",
    "c = Customer('Kim')\n",
    "c\n",
    "# 메모리 주소가 출력됨"
   ]
  },
  {
   "cell_type": "code",
   "execution_count": 2,
   "id": "307eaff5-6dfa-40b0-8c9b-e89d4a361eda",
   "metadata": {},
   "outputs": [
    {
     "name": "stdout",
     "output_type": "stream",
     "text": [
      "<__main__.Customer object at 0x000002591B1ADB50>\n"
     ]
    }
   ],
   "source": [
    "print(c)"
   ]
  },
  {
   "cell_type": "code",
   "execution_count": 6,
   "id": "35db5745-4ac2-4801-aa45-f9ae40c176d6",
   "metadata": {},
   "outputs": [
    {
     "data": {
      "text/plain": [
       "Customer(Kim)"
      ]
     },
     "execution_count": 6,
     "metadata": {},
     "output_type": "execute_result"
    }
   ],
   "source": [
    "class Customer: #모든 클래스는 object를 상속받고 있음. 당연해서 안써주는 것\n",
    "    def __init__(self,name):\n",
    "        self.name = name\n",
    "    \n",
    "    def __str__(self): # object 클래스에 있는 str을 오버라이딩\n",
    "        # print()함수로 나온 출력값을 변경하는 것\n",
    "        return self.name\n",
    "    \n",
    "    def __repr__(self):\n",
    "        # 설정 안하면 __str__과 동일\n",
    "        # 인스턴스를 출력하는 방식 => 사용자가 이해하는 객체의 모습을 표현\n",
    "        return f'Customer({self.name})'   ##Customer(객체이름)\n",
    "    \n",
    "c = Customer('Kim')\n",
    "c"
   ]
  },
  {
   "cell_type": "code",
   "execution_count": 5,
   "id": "e8f67ebb-e44b-4acf-96d0-ceeb86c0740d",
   "metadata": {},
   "outputs": [
    {
     "name": "stdout",
     "output_type": "stream",
     "text": [
      "Kim\n"
     ]
    }
   ],
   "source": [
    "print(c)"
   ]
  },
  {
   "cell_type": "code",
   "execution_count": 7,
   "id": "74536412-ba1e-4128-9a6d-7d6b800476b0",
   "metadata": {},
   "outputs": [
    {
     "data": {
      "text/plain": [
       "'Customer(Kim)'"
      ]
     },
     "execution_count": 7,
     "metadata": {},
     "output_type": "execute_result"
    }
   ],
   "source": [
    "repr(c)"
   ]
  },
  {
   "cell_type": "code",
   "execution_count": 8,
   "id": "c4b7e9f8-de50-4c6a-951f-a42c106937ed",
   "metadata": {},
   "outputs": [
    {
     "data": {
      "text/plain": [
       "'Kim'"
      ]
     },
     "execution_count": 8,
     "metadata": {},
     "output_type": "execute_result"
    }
   ],
   "source": [
    "str(c)"
   ]
  },
  {
   "cell_type": "markdown",
   "id": "c15fb87e-c584-4172-8e51-99859bf1598b",
   "metadata": {},
   "source": [
    "### [NamedTuple, DataClass]\n",
    "- 클래스의 메소드가 없을 때\n",
    "- 객체보다 효율적임 (간단한 속성만 가진 클래스일 경우 활용)\n",
    "- 딕셔너리의 키처럼 사용 가능하다\n",
    "- 불변 객체이다"
   ]
  },
  {
   "cell_type": "code",
   "execution_count": 3,
   "id": "d3cac735-7060-4a9c-b16a-ad826d21304f",
   "metadata": {},
   "outputs": [
    {
     "data": {
      "text/plain": [
       "('lee', 44)"
      ]
     },
     "execution_count": 3,
     "metadata": {},
     "output_type": "execute_result"
    }
   ],
   "source": [
    "from collections import namedtuple\n",
    "                      #클래스명     # 속성명\n",
    "Customer = namedtuple('Customer','name age') #속성은 공백으로 구분\n",
    "a = Customer('lee',44)\n",
    "a.name, a.age"
   ]
  },
  {
   "cell_type": "code",
   "execution_count": 4,
   "id": "26297ce7-2b8d-4e0a-8ef5-bce1ad26be2a",
   "metadata": {},
   "outputs": [
    {
     "data": {
      "text/plain": [
       "('hong', 22)"
      ]
     },
     "execution_count": 4,
     "metadata": {},
     "output_type": "execute_result"
    }
   ],
   "source": [
    "from dataclasses import dataclass\n",
    "# 파이썬 3.7이상에서만 가능\n",
    "# 데코레이터 사용\n",
    "\n",
    "@dataclass\n",
    "class Customer2:\n",
    "    name: str\n",
    "    age: int\n",
    "\n",
    "b = Customer2('hong',22)\n",
    "b.name,b.age"
   ]
  },
  {
   "cell_type": "markdown",
   "id": "fb764b0c-e6e0-41a3-8f60-7c09165eec5d",
   "metadata": {},
   "source": [
    "### [함수 2]\n",
    "- *, **\n",
    "- 일급 객체\n",
    "- 내부 함수, 클로저\n",
    "- 익명 함수\n",
    "- 제너레이터\n",
    "- 재귀함수"
   ]
  },
  {
   "cell_type": "markdown",
   "id": "9d3119be-b4eb-487a-85c4-7f12451c3e62",
   "metadata": {},
   "source": [
    "asterisk: *"
   ]
  },
  {
   "cell_type": "code",
   "execution_count": 8,
   "id": "de008426-3d47-45b4-8902-e3e7c2d0c3dc",
   "metadata": {},
   "outputs": [
    {
     "name": "stdout",
     "output_type": "stream",
     "text": [
      "(1, 2, 3, 4, 5, 6, 7)\n",
      "1 2 3 4 5 6 7\n"
     ]
    }
   ],
   "source": [
    "def print_arg(*args): #1 여러개의 인자 받을 수 있음 => 하나로 묶는 패킹 \n",
    "    print(args) \n",
    "    print(*args) #2 여기서 별을 붙이면 언패킹해서 나옴 (1,2) -> 1 2\n",
    "\n",
    "print_arg(1,2,3,4,5,6,7) # 정해진 개수만 받을 수 있었는데 이제는 무한대로 받을 수 있다"
   ]
  },
  {
   "cell_type": "code",
   "execution_count": 10,
   "id": "57f2b1dc-9b41-49e7-a42d-7305b8abd4ff",
   "metadata": {},
   "outputs": [
    {
     "name": "stdout",
     "output_type": "stream",
     "text": [
      "1 2\n",
      "optional\n",
      "1 2\n",
      "3 4 optional\n"
     ]
    }
   ],
   "source": [
    "def print_more(num1,num2,*args): # 앞에 두개는 꼭 필요, 나머지는 옵션\n",
    "    print(num1,num2)\n",
    "    print(*args,'optional')\n",
    "    \n",
    "print_more(1,2)\n",
    "print_more(1,2,3,4)"
   ]
  },
  {
   "cell_type": "code",
   "execution_count": 10,
   "id": "07821dad-f3fd-4d21-92af-950252151465",
   "metadata": {},
   "outputs": [
    {
     "name": "stdout",
     "output_type": "stream",
     "text": [
      "0 1 2 3 4 5 6 7 8 9\n"
     ]
    }
   ],
   "source": [
    "# 함수 외부에서도 사용 가능\n",
    "\n",
    "empty = list(range(10))\n",
    "print(*empty) # 언패킹 가능 - 하나하나 리스트 요소를 풀어서 출력"
   ]
  },
  {
   "cell_type": "code",
   "execution_count": 12,
   "id": "12c66934-f8ab-48fc-816c-1307a4d1c7ed",
   "metadata": {},
   "outputs": [
    {
     "name": "stdout",
     "output_type": "stream",
     "text": [
      "(1, 3, 5)\n",
      "(2, 4, 6)\n"
     ]
    }
   ],
   "source": [
    "# 행렬, 테이블 데이터\n",
    "\n",
    "matrix = [\n",
    "    [1, 2],\n",
    "    [3, 4],\n",
    "    [5, 6]\n",
    "]\n",
    "\n",
    "\n",
    "# 1,3,5 / 2,4,6 (열만 타고 싶다)\n",
    "# *이 각각 하나하나로 인식할 수있도록 언패킹 해준다\n",
    "# zip을 통해 하나씩 매칭\n",
    "\n",
    "for item in zip(*matrix):\n",
    "    print(item)"
   ]
  },
  {
   "cell_type": "code",
   "execution_count": 13,
   "id": "0344f3c8-b9b6-4461-bdcf-a1416f78aba0",
   "metadata": {},
   "outputs": [
    {
     "name": "stdout",
     "output_type": "stream",
     "text": [
      "(1, 3, 5)\n",
      "(2, 4, 6)\n"
     ]
    }
   ],
   "source": [
    "for item in zip([1,2],[3,4],[5,6]):\n",
    "    print(item)"
   ]
  },
  {
   "cell_type": "code",
   "execution_count": 11,
   "id": "9fb91170-3be8-4878-992a-c8196a9ebb2e",
   "metadata": {},
   "outputs": [
    {
     "name": "stdout",
     "output_type": "stream",
     "text": [
      "0\n",
      "1\n",
      "2\n",
      "3\n"
     ]
    }
   ],
   "source": [
    "# 키워드 전용 인수 선언시 사용\n",
    "def print_data(data,*,start,end):\n",
    "    for item in data[start:end]:\n",
    "        print(item)\n",
    "\n",
    "print_data(empty,start=0,end=4)\n",
    "\n",
    "#이게 왜 필요한가??\n",
    "# -> **kargs와 겹치지 않으려고 필요한 듯?"
   ]
  },
  {
   "cell_type": "code",
   "execution_count": 12,
   "id": "645912da-0761-4f4f-ae8c-724a32e42da9",
   "metadata": {},
   "outputs": [
    {
     "ename": "TypeError",
     "evalue": "print_data() takes 1 positional argument but 3 were given",
     "output_type": "error",
     "traceback": [
      "\u001b[1;31m---------------------------------------------------------------------------\u001b[0m",
      "\u001b[1;31mTypeError\u001b[0m                                 Traceback (most recent call last)",
      "\u001b[1;32m~\\AppData\\Local\\Temp/ipykernel_19416/3846835358.py\u001b[0m in \u001b[0;36m<module>\u001b[1;34m\u001b[0m\n\u001b[0;32m      1\u001b[0m \u001b[1;31m#오류\u001b[0m\u001b[1;33m\u001b[0m\u001b[1;33m\u001b[0m\u001b[0m\n\u001b[1;32m----> 2\u001b[1;33m \u001b[0mprint_data\u001b[0m\u001b[1;33m(\u001b[0m\u001b[0mempty\u001b[0m\u001b[1;33m,\u001b[0m\u001b[1;36m0\u001b[0m\u001b[1;33m,\u001b[0m\u001b[1;36m1\u001b[0m\u001b[1;33m)\u001b[0m\u001b[1;33m\u001b[0m\u001b[1;33m\u001b[0m\u001b[0m\n\u001b[0m",
      "\u001b[1;31mTypeError\u001b[0m: print_data() takes 1 positional argument but 3 were given"
     ]
    }
   ],
   "source": [
    "#오류\n",
    "print_data(empty,0,1) "
   ]
  },
  {
   "cell_type": "markdown",
   "id": "880cdc6b-6e94-48dd-8701-321087ce6113",
   "metadata": {},
   "source": [
    "#### krags: **\n",
    "- 따로 키와 값을 함수의 매개변수에 정의하지 않아도, 입력할때 키와 값을 넣으면 알아서 딕셔너리 반환\n",
    "- 언팩킹 기능은 X"
   ]
  },
  {
   "cell_type": "code",
   "execution_count": 23,
   "id": "0cfba692-8dfd-4308-b37b-f8252e80b005",
   "metadata": {},
   "outputs": [
    {
     "name": "stdout",
     "output_type": "stream",
     "text": [
      "{'wine': 'crianza', 'drink': 'water'}\n"
     ]
    }
   ],
   "source": [
    "def print_kargs(**kargs): # 키: 값 <=> 딕셔너리로 반환\n",
    "    # kargs['wine'] = 'crianza' # get()\n",
    "    print(kargs)\n",
    "    #print(**kargs) # 오류 - 언팩킹기능은 X\n",
    "\n",
    "print_kargs(wine='crianza',drink='water')"
   ]
  },
  {
   "cell_type": "code",
   "execution_count": 24,
   "id": "afdaec4e-00de-4807-b3dc-93bc601f8eae",
   "metadata": {},
   "outputs": [
    {
     "name": "stdout",
     "output_type": "stream",
     "text": [
      "{'wine': 'canernet', 'drink': 'water'}\n",
      "{'wine': 'crianza', 'drink': 'water'}\n",
      "{'wine': 'shiraz', 'drink': 'water'}\n"
     ]
    }
   ],
   "source": [
    "# 함수에 일일이 매개변수 넣지 않아도 for을 활용해 바로 딕셔너리 반환\n",
    "for wine in ['canernet','crianza','shiraz']:\n",
    "    print_kargs(wine=wine,drink='water')"
   ]
  },
  {
   "cell_type": "code",
   "execution_count": 25,
   "id": "867e411f-5700-4745-be3a-ab7da061b85d",
   "metadata": {},
   "outputs": [
    {
     "ename": "TypeError",
     "evalue": "print_all() got multiple values for argument 'num1'",
     "output_type": "error",
     "traceback": [
      "\u001b[1;31m---------------------------------------------------------------------------\u001b[0m",
      "\u001b[1;31mTypeError\u001b[0m                                 Traceback (most recent call last)",
      "\u001b[1;32m~\\AppData\\Local\\Temp/ipykernel_19200/2744734307.py\u001b[0m in \u001b[0;36m<module>\u001b[1;34m\u001b[0m\n\u001b[0;32m      4\u001b[0m     \u001b[0mprint\u001b[0m\u001b[1;33m(\u001b[0m\u001b[0mkargs\u001b[0m\u001b[1;33m)\u001b[0m\u001b[1;33m\u001b[0m\u001b[1;33m\u001b[0m\u001b[0m\n\u001b[0;32m      5\u001b[0m \u001b[1;33m\u001b[0m\u001b[0m\n\u001b[1;32m----> 6\u001b[1;33m \u001b[0mprint_all\u001b[0m\u001b[1;33m(\u001b[0m\u001b[1;36m1\u001b[0m\u001b[1;33m,\u001b[0m\u001b[1;36m2\u001b[0m\u001b[1;33m,\u001b[0m\u001b[1;36m3\u001b[0m\u001b[1;33m,\u001b[0m\u001b[1;36m4\u001b[0m\u001b[1;33m,\u001b[0m\u001b[1;36m5\u001b[0m\u001b[1;33m,\u001b[0m\u001b[1;36m6\u001b[0m\u001b[1;33m,\u001b[0m\u001b[0mnum1\u001b[0m\u001b[1;33m=\u001b[0m\u001b[1;36m4\u001b[0m\u001b[1;33m,\u001b[0m\u001b[0mnum2\u001b[0m\u001b[1;33m=\u001b[0m\u001b[1;36m4\u001b[0m\u001b[1;33m)\u001b[0m\u001b[1;33m\u001b[0m\u001b[1;33m\u001b[0m\u001b[0m\n\u001b[0m",
      "\u001b[1;31mTypeError\u001b[0m: print_all() got multiple values for argument 'num1'"
     ]
    }
   ],
   "source": [
    "def print_all(num1,num2,*args,**kargs):\n",
    "    print(num1,num2)\n",
    "    print(sum(args))\n",
    "    print(kargs)\n",
    "\n",
    "print_all(1,2,3,4,5,6,num1=4,num2=4)\n",
    "\n",
    "#오류 이유\n",
    "#-> 이름이 겹치면 안됨"
   ]
  },
  {
   "cell_type": "code",
   "execution_count": 26,
   "id": "4db788f1-c528-41e2-ab33-6bbd406f9ed7",
   "metadata": {},
   "outputs": [
    {
     "name": "stdout",
     "output_type": "stream",
     "text": [
      "1 2\n",
      "18\n",
      "{'num': 4}\n"
     ]
    }
   ],
   "source": [
    "print_all(1,2,3,4,5,6,num=4) #num :4로 들어감"
   ]
  },
  {
   "cell_type": "code",
   "execution_count": 27,
   "id": "1550423c-e443-4d3e-9247-592df17abe36",
   "metadata": {},
   "outputs": [
    {
     "data": {
      "text/plain": [
       "{1: 'a', 2: 'c', 3: 'd'}"
      ]
     },
     "execution_count": 27,
     "metadata": {},
     "output_type": "execute_result"
    }
   ],
   "source": [
    "# 딕셔너리 조인에도 사용\n",
    "\n",
    "a = {1:'a',2:'b'}\n",
    "b = {2:'c',3:'d'} # 2의 값이 c로 바뀜\n",
    "\n",
    "{**a,**b}"
   ]
  },
  {
   "cell_type": "code",
   "execution_count": null,
   "id": "c560cdc9-f09f-4143-8162-d0db0f18ce4d",
   "metadata": {},
   "outputs": [],
   "source": [
    "# 프로젝트 없는 대신 클래스 리뷰하면 좋을듯~"
   ]
  },
  {
   "cell_type": "code",
   "execution_count": null,
   "id": "26c5f8f7-a260-492c-8965-c899ff2f6ac2",
   "metadata": {},
   "outputs": [],
   "source": []
  }
 ],
 "metadata": {
  "kernelspec": {
   "display_name": "Python 3 (ipykernel)",
   "language": "python",
   "name": "python3"
  },
  "language_info": {
   "codemirror_mode": {
    "name": "ipython",
    "version": 3
   },
   "file_extension": ".py",
   "mimetype": "text/x-python",
   "name": "python",
   "nbconvert_exporter": "python",
   "pygments_lexer": "ipython3",
   "version": "3.9.7"
  }
 },
 "nbformat": 4,
 "nbformat_minor": 5
}
