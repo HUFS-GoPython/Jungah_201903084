{
 "cells": [
  {
   "cell_type": "markdown",
   "id": "90368f38-f868-4bde-bf07-9360f4379b73",
   "metadata": {},
   "source": [
    "# Ch02. Variable\n",
    "- string\n",
    "- float\n",
    "- integer\n",
    "- boolean"
   ]
  },
  {
   "cell_type": "code",
   "execution_count": 1,
   "id": "624dcfb4-6751-43ff-8028-72010669e6ed",
   "metadata": {},
   "outputs": [
    {
     "data": {
      "text/plain": [
       "2"
      ]
     },
     "execution_count": 1,
     "metadata": {},
     "output_type": "execute_result"
    }
   ],
   "source": [
    "# 여러 이름 동시에 할당 가능.\n",
    "two = deux = dos = 2 # 순서는 dos -> deux -> two\n",
    "two"
   ]
  },
  {
   "cell_type": "code",
   "execution_count": 3,
   "id": "3643f8fe-d669-4807-a0ec-760f5892ad56",
   "metadata": {},
   "outputs": [
    {
     "name": "stdout",
     "output_type": "stream",
     "text": [
      "4 2\n"
     ]
    }
   ],
   "source": [
    "#이 다음에 two를 할당하면 나머지도 바뀔까? \n",
    "two = 4\n",
    "print(two, deux)\n",
    "# 안바뀐다. 불변 객체이기 때문"
   ]
  },
  {
   "cell_type": "code",
   "execution_count": 4,
   "id": "f2462b5b-6c9c-4f4b-bca6-ddb6069f9295",
   "metadata": {},
   "outputs": [
    {
     "data": {
      "text/plain": [
       "(1502524369296, 1502524369232)"
      ]
     },
     "execution_count": 4,
     "metadata": {},
     "output_type": "execute_result"
    }
   ],
   "source": [
    "#그럼 주소(id)는 바뀌었을까?\n",
    "id(two), id(deux)"
   ]
  },
  {
   "cell_type": "code",
   "execution_count": 5,
   "id": "1caa3500-162f-42a7-9a7c-ba3eead76012",
   "metadata": {},
   "outputs": [
    {
     "data": {
      "text/plain": [
       "([1, 2, 3], [1, 2, 3])"
      ]
     },
     "execution_count": 5,
     "metadata": {},
     "output_type": "execute_result"
    }
   ],
   "source": [
    "# 리스트는 가변 객체\n",
    "p = [1, 2, 3]\n",
    "q = p\n",
    "p, q"
   ]
  },
  {
   "cell_type": "code",
   "execution_count": 6,
   "id": "17c9b420-c7be-4c08-a39f-7953f87ef3f2",
   "metadata": {},
   "outputs": [
    {
     "data": {
      "text/plain": [
       "(1502599879104, 1502599879104)"
      ]
     },
     "execution_count": 6,
     "metadata": {},
     "output_type": "execute_result"
    }
   ],
   "source": [
    "id(p), id(q)"
   ]
  },
  {
   "cell_type": "code",
   "execution_count": 8,
   "id": "9a3d7c03-7b85-4319-b481-e25e175877f7",
   "metadata": {},
   "outputs": [
    {
     "data": {
      "text/plain": [
       "([9, 2, 3], [9, 2, 3])"
      ]
     },
     "execution_count": 8,
     "metadata": {},
     "output_type": "execute_result"
    }
   ],
   "source": [
    "p[0] = 9\n",
    "p, q \n",
    "# q는 바꾸지 않았는데, 자동으로 바뀜"
   ]
  },
  {
   "cell_type": "code",
   "execution_count": 10,
   "id": "b00206f8-e237-4ae6-9e6d-5eab24c11dc8",
   "metadata": {},
   "outputs": [
    {
     "data": {
      "text/plain": [
       "(1502599879104, 1502599879104)"
      ]
     },
     "execution_count": 10,
     "metadata": {},
     "output_type": "execute_result"
    }
   ],
   "source": [
    "# ID도 바뀌었을까?\n",
    "id(p), id(q)"
   ]
  },
  {
   "cell_type": "markdown",
   "id": "596f179b-e7b1-463b-8bb7-cd80da5970f3",
   "metadata": {},
   "source": [
    "### [좋은 변수명]\n",
    "- 간결하고 명확한 이름\n",
    "- 의미가 담겨야 함 (a, b, c,...잊어 버리자)\n",
    "- 코드에는 '의미가 담기고' 주석에는 의도가 담긴다.\n",
    "    - 예: the number of students\n",
    "         n < the_numner_of_students (너무 길다) < num_students <- 파이썬이 더 선호\n",
    "    - 카멜 표기법: numStudents (like 낙타)"
   ]
  },
  {
   "cell_type": "markdown",
   "id": "fa912e64-bbc8-493a-b146-b9a9e177ba2a",
   "metadata": {},
   "source": [
    "### [자료형 변환, 형 변환]\n",
    "- str(<변환할 값>), int(), float(), bool()"
   ]
  },
  {
   "cell_type": "code",
   "execution_count": 12,
   "id": "a5fa94ba-2d4e-4d6b-9f78-6d5228fd68eb",
   "metadata": {},
   "outputs": [
    {
     "data": {
      "text/plain": [
       "True"
      ]
     },
     "execution_count": 12,
     "metadata": {},
     "output_type": "execute_result"
    }
   ],
   "source": [
    "a = 10\n",
    "\n",
    "# str\n",
    "str(a)\n",
    "# float\n",
    "float(a)\n",
    "# bool\n",
    "bool(a) # True, False만 있음. 어떤 값이 False인지만 기억하기"
   ]
  },
  {
   "cell_type": "markdown",
   "id": "67bb6103-8963-49ac-9018-ca0063301fdc",
   "metadata": {},
   "source": [
    "주의할 점 1: float -> int"
   ]
  },
  {
   "cell_type": "code",
   "execution_count": 14,
   "id": "ba1a062a-a4a2-430c-8b32-f876d01fc1b2",
   "metadata": {},
   "outputs": [
    {
     "data": {
      "text/plain": [
       "10"
      ]
     },
     "execution_count": 14,
     "metadata": {},
     "output_type": "execute_result"
    }
   ],
   "source": [
    "x = 10.7\n",
    "int(x)\n",
    "# int 변환시 소수점은 저 멀리 날아간다.(소수점 내림)"
   ]
  },
  {
   "cell_type": "code",
   "execution_count": 16,
   "id": "fa377d95-f79c-4d1b-b6df-cfdb302c836e",
   "metadata": {},
   "outputs": [
    {
     "name": "stdout",
     "output_type": "stream",
     "text": [
      "30\n",
      "29\n"
     ]
    }
   ],
   "source": [
    "y = 19.8\n",
    "print(int(x + y))\n",
    "print(int(x) + int(y)) # =,+ 등등 연산자 띄어쓰기 꼭 지키기\n",
    "# ↓결과 값이 달라진다"
   ]
  },
  {
   "cell_type": "markdown",
   "id": "2eed1a22-0278-4569-adbf-4d9ca4ff086b",
   "metadata": {},
   "source": [
    "주의할 점 2: str -> int/float"
   ]
  },
  {
   "cell_type": "code",
   "execution_count": 17,
   "id": "4227c118-7d56-497b-95fd-ae3dd9958f8e",
   "metadata": {},
   "outputs": [
    {
     "data": {
      "text/plain": [
       "(10, 10.0)"
      ]
     },
     "execution_count": 17,
     "metadata": {},
     "output_type": "execute_result"
    }
   ],
   "source": [
    "i = '10'\n",
    "int(i), float(i)"
   ]
  },
  {
   "cell_type": "code",
   "execution_count": 18,
   "id": "31e191cd-eb16-4f73-ace7-2cb26625a498",
   "metadata": {},
   "outputs": [
    {
     "ename": "ValueError",
     "evalue": "invalid literal for int() with base 10: '10.2'",
     "output_type": "error",
     "traceback": [
      "\u001b[1;31m---------------------------------------------------------------------------\u001b[0m",
      "\u001b[1;31mValueError\u001b[0m                                Traceback (most recent call last)",
      "\u001b[1;32m~\\AppData\\Local\\Temp/ipykernel_8028/731574811.py\u001b[0m in \u001b[0;36m<module>\u001b[1;34m\u001b[0m\n\u001b[0;32m      1\u001b[0m \u001b[0mj\u001b[0m \u001b[1;33m=\u001b[0m \u001b[1;34m'10.2'\u001b[0m\u001b[1;33m\u001b[0m\u001b[1;33m\u001b[0m\u001b[0m\n\u001b[1;32m----> 2\u001b[1;33m \u001b[0mint\u001b[0m\u001b[1;33m(\u001b[0m\u001b[0mj\u001b[0m\u001b[1;33m)\u001b[0m \u001b[1;31m#int에 맞지 않는 스트링을 바꾸러고 하면 에러가 남!\u001b[0m\u001b[1;33m\u001b[0m\u001b[1;33m\u001b[0m\u001b[0m\n\u001b[0m",
      "\u001b[1;31mValueError\u001b[0m: invalid literal for int() with base 10: '10.2'"
     ]
    }
   ],
   "source": [
    "j = '10.2'\n",
    "int(j) #int에 맞지 않는 스트링을 바꾸러고 하면 에러가 남!"
   ]
  },
  {
   "cell_type": "markdown",
   "id": "f8e529c9-d56b-4010-9a2e-926146c371a1",
   "metadata": {},
   "source": [
    "### [질의 응답]\n",
    "Q. ID가 뭔가요?\n",
    "\n",
    "A. 변수에는 공간이 위치하는 곳. 주소가 있음.\n",
    "그것을 id로 찾음\n",
    "id()는 변수가 저장된 메모리 주소 찾는 함수\n",
    "\n",
    "Q. 주소는 컴퓨터에 따라 다른가요?\n",
    "\n",
    "A. 때에 따라, 다 달라짐. 불변 객체가 변할 때, 메모리 주소가 바뀌는 것만 알면 됨."
   ]
  },
  {
   "cell_type": "markdown",
   "id": "211296df-de28-4d18-92ce-b28c6f28993e",
   "metadata": {},
   "source": [
    "### [꿀팁 print()]"
   ]
  },
  {
   "cell_type": "code",
   "execution_count": 20,
   "id": "9cf3a55a-1b59-4cf8-9753-f011e619af43",
   "metadata": {},
   "outputs": [
    {
     "name": "stdout",
     "output_type": "stream",
     "text": [
      "dogcatlion\n",
      "dog cat lion\n"
     ]
    }
   ],
   "source": [
    "dog = 'dog'\n",
    "cat = 'cat'\n",
    "lion = 'lion'\n",
    "\n",
    "print(dog + cat + lion) # space X, \\n\n",
    "print(dog, cat, lion) #space O, \\n"
   ]
  },
  {
   "cell_type": "code",
   "execution_count": 21,
   "id": "b63ab023-4fba-4bb9-9dc4-47f1887b267f",
   "metadata": {},
   "outputs": [
    {
     "name": "stdout",
     "output_type": "stream",
     "text": [
      "dog cat lion\n",
      "dog/cat/lion\n",
      "\n",
      "EOL\n"
     ]
    }
   ],
   "source": [
    "print(dog, cat, lion,sep=' ', end='\\n') #default\n",
    "#sep의 디폴트는 띄어쓰기.\n",
    "#end의 티폴트는 개행(\\n)\n",
    "print(dog, cat, lion,sep='/', end='\\n\\n')\n",
    "print('EOL')"
   ]
  },
  {
   "cell_type": "code",
   "execution_count": 22,
   "id": "69ba0762-601f-4c9a-98d8-d96d8722556d",
   "metadata": {},
   "outputs": [
    {
     "name": "stdout",
     "output_type": "stream",
     "text": [
      "My favorite animal is  dog\n",
      "My favorite animal is dog.\n"
     ]
    }
   ],
   "source": [
    "### 문자열과 변수 같이 쓰고 싶을 때\n",
    "\n",
    "#1.\n",
    "print(\"My favorite animal is \", dog)\n",
    "\n",
    "#2\n",
    "print(f\"My favorite animal is {dog}.\") # 이게 좋음"
   ]
  },
  {
   "cell_type": "markdown",
   "id": "7b8d7bb3-87ce-4ef6-8806-2b300fbcedc3",
   "metadata": {},
   "source": [
    "코드 줄이 짧을 때;(semicolon)을 이용해 한줄로 쓸 수 있다."
   ]
  },
  {
   "cell_type": "code",
   "execution_count": 23,
   "id": "97e23abc-e21e-4303-8ab4-864f71226b4c",
   "metadata": {},
   "outputs": [
    {
     "name": "stdout",
     "output_type": "stream",
     "text": [
      "dog\n"
     ]
    }
   ],
   "source": [
    "dog = 'dog' ; cat = 'cat' ; lion = 'lion'\n",
    "print(dog)"
   ]
  },
  {
   "cell_type": "code",
   "execution_count": null,
   "id": "fcbf1a58-3315-44bf-81eb-e2cc725a4e64",
   "metadata": {},
   "outputs": [],
   "source": []
  },
  {
   "cell_type": "markdown",
   "id": "aafbcbc4-bc4f-4cbc-97e0-3b63be1f1d78",
   "metadata": {},
   "source": [
    "## part 2 | input() 함수\n",
    "- console에서 사용자가 입력하는 값을 받을 수 있는 함수\n",
    "- 입력 받는 값은 문자열로 인식이 된다.\n",
    "- 입력 받은 값을 변수에 담아서 사용한다. 안 그러면 사라짐\n",
    "- 숫자일 경우 형 변환 한다.\n"
   ]
  },
  {
   "cell_type": "code",
   "execution_count": 25,
   "id": "3b035410-0e06-4e3e-895f-2f214a27608f",
   "metadata": {},
   "outputs": [
    {
     "name": "stdin",
     "output_type": "stream",
     "text": [
      "Hello? Hi\n"
     ]
    },
    {
     "data": {
      "text/plain": [
       "'Hi'"
      ]
     },
     "execution_count": 25,
     "metadata": {},
     "output_type": "execute_result"
    }
   ],
   "source": [
    "input(\"Hello?\")"
   ]
  },
  {
   "cell_type": "code",
   "execution_count": 27,
   "id": "64692095-92a0-41ff-aaf4-8cc33004e576",
   "metadata": {},
   "outputs": [
    {
     "name": "stdin",
     "output_type": "stream",
     "text": [
      "나이가 어떻게 되나요? 55\n",
      "나이가 어떻게 되나요? 55\n"
     ]
    },
    {
     "data": {
      "text/plain": [
       "55"
      ]
     },
     "execution_count": 27,
     "metadata": {},
     "output_type": "execute_result"
    }
   ],
   "source": [
    "input('나이가 어떻게 되나요?') # 연산 안됨\n",
    "int(input('나이가 어떻게 되나요?')) #연산 됨"
   ]
  },
  {
   "cell_type": "markdown",
   "id": "3071cf7b-7a0b-4f46-aa46-b1f640af0a82",
   "metadata": {},
   "source": [
    "- 변수에 할당하는 방법"
   ]
  },
  {
   "cell_type": "code",
   "execution_count": 28,
   "id": "7ab1f847-63d2-4bc9-abc0-cc3d6bf2e94d",
   "metadata": {},
   "outputs": [
    {
     "name": "stdin",
     "output_type": "stream",
     "text": [
      "나이가 어떻게 되나요? 15\n"
     ]
    }
   ],
   "source": [
    "#1.\n",
    "age = input('나이가 어떻게 되나요?')"
   ]
  },
  {
   "cell_type": "code",
   "execution_count": 29,
   "id": "90bb271c-1710-4f7e-803a-f7c05c348771",
   "metadata": {},
   "outputs": [
    {
     "data": {
      "text/plain": [
       "'15'"
      ]
     },
     "execution_count": 29,
     "metadata": {},
     "output_type": "execute_result"
    }
   ],
   "source": [
    "age"
   ]
  },
  {
   "cell_type": "code",
   "execution_count": 30,
   "id": "1b39795c-f63b-4020-84b9-850ae22c45c3",
   "metadata": {},
   "outputs": [
    {
     "name": "stdout",
     "output_type": "stream",
     "text": [
      "나이가?\n"
     ]
    },
    {
     "name": "stdin",
     "output_type": "stream",
     "text": [
      " 88\n"
     ]
    }
   ],
   "source": [
    "#2.\n",
    "print(\"나이가?\")\n",
    "age = input()"
   ]
  },
  {
   "cell_type": "code",
   "execution_count": 31,
   "id": "07d6c2bd-4290-488d-8a69-0e9e6cba6f92",
   "metadata": {},
   "outputs": [
    {
     "data": {
      "text/plain": [
       "'88'"
      ]
     },
     "execution_count": 31,
     "metadata": {},
     "output_type": "execute_result"
    }
   ],
   "source": [
    "age"
   ]
  },
  {
   "cell_type": "markdown",
   "id": "edb7d9a7-7368-4981-aa21-df71b81a5e0b",
   "metadata": {},
   "source": [
    "### Quiz 1\n",
    "- 섭씨를 입력 받아서 화씨로 변환하기\n",
    "- \"섭씨 * 1.8 + 32 =화씨\""
   ]
  },
  {
   "cell_type": "code",
   "execution_count": 38,
   "id": "053af31d-59d2-4500-b8f4-34ca56308ddc",
   "metadata": {},
   "outputs": [
    {
     "name": "stdin",
     "output_type": "stream",
     "text": [
      "섭씨를 입력하세요 66.4\n"
     ]
    },
    {
     "name": "stdout",
     "output_type": "stream",
     "text": [
      "화씨는 151.52도 입니다.\n"
     ]
    }
   ],
   "source": [
    "celsius = float(input('섭씨를 입력하세요')) \n",
    "fahrenheit = (celsius * 1.8) + 32 \n",
    "print(f'화씨는 {fahrenheit}도 입니다.')\n",
    "#변수명은 약어 지양, 온도니까 int가 아닌 float으로 받아야\n",
    "#변수명 대문자 쓰지말자"
   ]
  },
  {
   "cell_type": "markdown",
   "id": "1665d013-bb91-4eb8-95d9-ff3778683909",
   "metadata": {},
   "source": [
    "### Quiz 2\n",
    "- 택배 정보 입력 받고, 총 합계 계산하기\n",
    "- 출력값: \n",
    "    - \"==택배 정보==\"\n",
    "    - 수취인 성명: <이름>\n",
    "    - 수취인 수조: <주소>\n",
    "    - 배송비: 3000원\n",
    "    - 물건 비용: <가격>원\n",
    "    - 총 합계: <가격>원\n",
    "- 물건 비용 = 무게(g) * 5\n",
    "- 합계 = 배송비 + 물건 비용\n",
    "- 입력은 3개"
   ]
  },
  {
   "cell_type": "code",
   "execution_count": 44,
   "id": "ef2e34e4-1b99-48d0-9ab2-5b2600cb59a2",
   "metadata": {},
   "outputs": [
    {
     "name": "stdin",
     "output_type": "stream",
     "text": [
      "성명을 입력하세요: 장정아\n",
      "주소를 입력하세요: 서울특별시 동대문구 이문로\n",
      "물건의 무게(g)를 입력하세요: 480.9\n"
     ]
    },
    {
     "name": "stdout",
     "output_type": "stream",
     "text": [
      "==택배 정보==\n",
      "수취인 성명: 장정아\n",
      "수취인 주소: 서울특별시 동대문구 이문로\n",
      "배송비: 3000원\n",
      "물건 비용: 2404.5원\n",
      "총 합계: 5404.5원\n"
     ]
    }
   ],
   "source": [
    "name = input('성명을 입력하세요:')\n",
    "adress = input('주소를 입력하세요:')\n",
    "weight = float(input('물건의 무게(g)를 입력하세요:'))\n",
    "cost_shipping = 3000\n",
    "cost_stuff = weight * 5\n",
    "cost_sum = cost_shipping + cost_stuff\n",
    "\n",
    "print(\"==택배 정보==\")\n",
    "print(f\"수취인 성명: {name}\")\n",
    "print(f\"수취인 주소: {adress}\")\n",
    "print(f\"배송비: {cost_shipping}원\")\n",
    "print(f\"물건 비용: {cost_stuff}원\")\n",
    "print(f\"총 합계: {cost_sum}원\")\n",
    "#배송비도 변수로 받기\n",
    "#한 print안에 성명~합계까지 넣어서 할 수 있음 (엔터로 구분해서 print 한줄만 쓰기 가능)"
   ]
  },
  {
   "cell_type": "code",
   "execution_count": null,
   "id": "118de927-c335-4b0e-836d-1c8d4a4956b5",
   "metadata": {},
   "outputs": [],
   "source": []
  },
  {
   "cell_type": "markdown",
   "id": "7b4b4039-fff0-4b5e-89a7-426a377586ba",
   "metadata": {},
   "source": [
    "# Ch03. Numbers"
   ]
  },
  {
   "cell_type": "markdown",
   "id": "52ddf869-685e-4c41-81a7-b479864f493a",
   "metadata": {},
   "source": [
    "### [boolean]\n",
    "- 형 변환할 때 True, False인지 기억하라\n",
    "    - False : '',None,0, ...\n",
    "- 조건식에서 많이 쓴다. 예: 만약 이 조건이  True라면..."
   ]
  },
  {
   "cell_type": "code",
   "execution_count": 45,
   "id": "15e7df71-eb10-43be-839f-e735c269803a",
   "metadata": {},
   "outputs": [
    {
     "data": {
      "text/plain": [
       "True"
      ]
     },
     "execution_count": 45,
     "metadata": {},
     "output_type": "execute_result"
    }
   ],
   "source": [
    "bool(1)"
   ]
  },
  {
   "cell_type": "code",
   "execution_count": 46,
   "id": "6e76b516-5c99-4609-865b-53d436d8d2c4",
   "metadata": {},
   "outputs": [
    {
     "data": {
      "text/plain": [
       "False"
      ]
     },
     "execution_count": 46,
     "metadata": {},
     "output_type": "execute_result"
    }
   ],
   "source": [
    "bool('')"
   ]
  },
  {
   "cell_type": "markdown",
   "id": "c6bf4687-a87f-4250-86f1-e8286984b344",
   "metadata": {},
   "source": [
    "### [integer]\n",
    "- 소수점 없음\n",
    "- default 양수, 음수는 앞에 -를 붙인다.\n",
    "- 숫자 앞에는 0을 붙일 수 없다. 예: 05\n",
    "    - 예외적으로 0bxx. => 다른 진수 표현시 사용\n",
    "- 리터럴: 글자 자체를 의미. 예: 4\n",
    "- 숫자는 공백이 많아도 무시가 된다.\n",
    "- 10,000dnjs -> 10, 000원 두 개로 인식 => _ 사용\n",
    "    - 예: 10_000"
   ]
  },
  {
   "cell_type": "code",
   "execution_count": 47,
   "id": "c455f365-6a6c-4f30-a8da-8a6bcc35d94b",
   "metadata": {},
   "outputs": [
    {
     "data": {
      "text/plain": [
       "-1"
      ]
     },
     "execution_count": 47,
     "metadata": {},
     "output_type": "execute_result"
    }
   ],
   "source": [
    "a = -9\n",
    "8 + a "
   ]
  },
  {
   "cell_type": "code",
   "execution_count": 48,
   "id": "05536700-f76f-46b2-b687-79ef6c7543ef",
   "metadata": {},
   "outputs": [
    {
     "ename": "SyntaxError",
     "evalue": "leading zeros in decimal integer literals are not permitted; use an 0o prefix for octal integers (Temp/ipykernel_8028/2890110653.py, line 1)",
     "output_type": "error",
     "traceback": [
      "\u001b[1;36m  File \u001b[1;32m\"C:\\Users\\Jung_a\\AppData\\Local\\Temp/ipykernel_8028/2890110653.py\"\u001b[1;36m, line \u001b[1;32m1\u001b[0m\n\u001b[1;33m    a = 09\u001b[0m\n\u001b[1;37m         ^\u001b[0m\n\u001b[1;31mSyntaxError\u001b[0m\u001b[1;31m:\u001b[0m leading zeros in decimal integer literals are not permitted; use an 0o prefix for octal integers\n"
     ]
    }
   ],
   "source": [
    "a = 09"
   ]
  },
  {
   "cell_type": "code",
   "execution_count": 49,
   "id": "5330937b-9027-4f51-8775-f09d5cbf2ff8",
   "metadata": {},
   "outputs": [
    {
     "data": {
      "text/plain": [
       "-1"
      ]
     },
     "execution_count": 49,
     "metadata": {},
     "output_type": "execute_result"
    }
   ],
   "source": [
    "-9 +                           8"
   ]
  },
  {
   "cell_type": "code",
   "execution_count": 50,
   "id": "6c8b152c-6e54-40f9-af0a-5a78ac6d2601",
   "metadata": {},
   "outputs": [
    {
     "name": "stdout",
     "output_type": "stream",
     "text": [
      "10000\n"
     ]
    }
   ],
   "source": [
    "a = 10_000\n",
    "print(a)"
   ]
  },
  {
   "cell_type": "markdown",
   "id": "066f50d5-28a2-4755-b4e3-d7298a4e542a",
   "metadata": {},
   "source": [
    "### [연산]\n",
    "- 연산자 | operator: +, -, ...\n",
    "- 피연산자 | operand: 4,5, ....\n",
    "- 수식 | expression"
   ]
  },
  {
   "cell_type": "code",
   "execution_count": 51,
   "id": "0081b204-8792-4bac-8fcf-073eeddb127c",
   "metadata": {},
   "outputs": [
    {
     "data": {
      "text/plain": [
       "262144"
      ]
     },
     "execution_count": 51,
     "metadata": {},
     "output_type": "execute_result"
    }
   ],
   "source": [
    "x = 4\n",
    "y = 9\n",
    "\n",
    "x + y\n",
    "x - y\n",
    "x * y\n",
    "x / y\n",
    "\n",
    "# 거듭 제곱 exponential\n",
    "x ** y"
   ]
  },
  {
   "cell_type": "markdown",
   "id": "0af5916a-18f6-43a2-8f3e-a1ca6c301271",
   "metadata": {},
   "source": [
    "- 나눗셈에서 주의할 사항"
   ]
  },
  {
   "cell_type": "code",
   "execution_count": 53,
   "id": "39719197-e0ee-442e-8395-497b69e30fb7",
   "metadata": {},
   "outputs": [
    {
     "data": {
      "text/plain": [
       "(0, 4, 0.4444444444444444)"
      ]
     },
     "execution_count": 53,
     "metadata": {},
     "output_type": "execute_result"
    }
   ],
   "source": [
    "#1. division by zero => 주의 (y != 0)\n",
    "#2. 몫, 나머지\n",
    "x//y, x % y, x/y"
   ]
  },
  {
   "cell_type": "code",
   "execution_count": 54,
   "id": "2e6c099b-42ff-48bd-b893-4a7ff7681eb4",
   "metadata": {},
   "outputs": [
    {
     "data": {
      "text/plain": [
       "(0, 4)"
      ]
     },
     "execution_count": 54,
     "metadata": {},
     "output_type": "execute_result"
    }
   ],
   "source": [
    "divmod(x,y)"
   ]
  },
  {
   "cell_type": "markdown",
   "id": "9a7e843e-36a5-482e-83cb-b914f1c38d46",
   "metadata": {},
   "source": [
    "### [복합 대입 연산자 | compound assignment operator]"
   ]
  },
  {
   "cell_type": "code",
   "execution_count": 56,
   "id": "c201dbf6-9f29-42b2-9b32-8dff0996fcb3",
   "metadata": {},
   "outputs": [
    {
     "name": "stdout",
     "output_type": "stream",
     "text": [
      "5\n"
     ]
    }
   ],
   "source": [
    "a = 5\n",
    "a - 3 \n",
    "print(a)"
   ]
  },
  {
   "cell_type": "code",
   "execution_count": 57,
   "id": "c3d8e681-c96c-4c58-bd5f-19e380d7f565",
   "metadata": {},
   "outputs": [],
   "source": [
    "a = a - 3\n",
    "#1. a-3 계산\n",
    "#2. 임시변수 할당 temp = a - 3 \n",
    "#3. a = a-3\n",
    "a -= 3"
   ]
  },
  {
   "cell_type": "code",
   "execution_count": 58,
   "id": "72340b4f-1272-4d55-af9f-e49fcf3c308d",
   "metadata": {},
   "outputs": [
    {
     "ename": "NameError",
     "evalue": "name 'u' is not defined",
     "output_type": "error",
     "traceback": [
      "\u001b[1;31m---------------------------------------------------------------------------\u001b[0m",
      "\u001b[1;31mNameError\u001b[0m                                 Traceback (most recent call last)",
      "\u001b[1;32m~\\AppData\\Local\\Temp/ipykernel_8028/3422924929.py\u001b[0m in \u001b[0;36m<module>\u001b[1;34m\u001b[0m\n\u001b[0;32m      3\u001b[0m \u001b[0ma\u001b[0m \u001b[1;33m*=\u001b[0m \u001b[1;36m3\u001b[0m\u001b[1;33m\u001b[0m\u001b[1;33m\u001b[0m\u001b[0m\n\u001b[0;32m      4\u001b[0m \u001b[0ma\u001b[0m \u001b[1;33m/=\u001b[0m \u001b[1;36m3\u001b[0m\u001b[1;33m\u001b[0m\u001b[1;33m\u001b[0m\u001b[0m\n\u001b[1;32m----> 5\u001b[1;33m \u001b[0mu\u001b[0m \u001b[1;33m=\u001b[0m \u001b[0mu\u001b[0m \u001b[1;33m+\u001b[0m \u001b[1;36m1\u001b[0m \u001b[1;31m#이대로 하면 오류. 왜? u를 먼저 변수로 만들어 값 초기화해야함\u001b[0m\u001b[1;33m\u001b[0m\u001b[1;33m\u001b[0m\u001b[0m\n\u001b[0m",
      "\u001b[1;31mNameError\u001b[0m: name 'u' is not defined"
     ]
    }
   ],
   "source": [
    "a += 3\n",
    "a -= 3\n",
    "a *= 3\n",
    "a /= 3\n",
    "u = u + 1 #이대로 하면 오류. 왜? u를 먼저 변수로 만들어 값 초기화해야함"
   ]
  },
  {
   "cell_type": "markdown",
   "id": "1c36c82b-6cd8-4d3b-95e5-0365ea9292fc",
   "metadata": {},
   "source": [
    "### Quiz 3.\n",
    "- 정수를 입력 받고 3의 배수인지 확인하세요.\n",
    "- =홀수인지 확인하세요."
   ]
  },
  {
   "cell_type": "code",
   "execution_count": 67,
   "id": "21907d81-6f5e-443d-9826-278e4c605e04",
   "metadata": {},
   "outputs": [
    {
     "name": "stdin",
     "output_type": "stream",
     "text": [
      "정수 입력 30\n"
     ]
    },
    {
     "name": "stdout",
     "output_type": "stream",
     "text": [
      "3의 배수인가요?True\n",
      "홀수인가요?True\n",
      "3의 배수입니다.\n",
      "짝수입니다.\n"
     ]
    }
   ],
   "source": [
    "integer = int(input(\"정수 입력\"))\n",
    "check_3 = not(integer % 3) \n",
    "check_odd = not(integer % 2) \n",
    "print(f\"3의 배수인가요?{check_3}\")\n",
    "print(f\"홀수인가요?{check_odd}\")\n",
    "\n",
    "# 혹은 if 문 사용한 경우 #\n",
    "if integer % 3 == 0 :\n",
    "    print('3의 배수입니다.')\n",
    "else :\n",
    "    print('3의 배수가 아닙니다.')\n",
    "\n",
    "if integer % 2 != 0 :\n",
    "    print('홀수입니다.')\n",
    "else :\n",
    "    print('짝수입니다.')\n"
   ]
  },
  {
   "cell_type": "markdown",
   "id": "5f03b957-b6d1-4edc-ae11-3ad70fee93cc",
   "metadata": {},
   "source": [
    "### [지수 표현]\n",
    "- e, E 둘다 가능\n",
    "- 앞 부분은 float, int\n",
    "- 뒷 부분은 int만 올 수 있음\n",
    "    - e 기준으로 뒷 부분이 양수면 0 앞으로 가고\n",
    "    - e 기준으로 뒷 부분이 음수면 0 뒤로 간다. (소수점 표현)\n",
    "    - 0.0789e 이렇게는 굳이 안씀. 7.89e 이런식으로 사용"
   ]
  },
  {
   "cell_type": "code",
   "execution_count": 68,
   "id": "0f570437-e87d-481c-9e91-4d0795d6e257",
   "metadata": {},
   "outputs": [
    {
     "data": {
      "text/plain": [
       "1000000.0"
      ]
     },
     "execution_count": 68,
     "metadata": {},
     "output_type": "execute_result"
    }
   ],
   "source": [
    "1.0e6 # float"
   ]
  },
  {
   "cell_type": "code",
   "execution_count": 69,
   "id": "0108409c-e349-43e0-8755-a4774abd4289",
   "metadata": {},
   "outputs": [
    {
     "data": {
      "text/plain": [
       "0.000789"
      ]
     },
     "execution_count": 69,
     "metadata": {},
     "output_type": "execute_result"
    }
   ],
   "source": [
    "789e-6"
   ]
  },
  {
   "cell_type": "code",
   "execution_count": null,
   "id": "b16c83de-6394-4ca9-b3cb-04ca4ba230cf",
   "metadata": {},
   "outputs": [],
   "source": []
  },
  {
   "cell_type": "markdown",
   "id": "a83542a3-adaf-44d4-908b-484342d8012b",
   "metadata": {},
   "source": [
    "# Ch04.조건문, if\n",
    " - code structure"
   ]
  },
  {
   "cell_type": "markdown",
   "id": "afcffb98-5bb6-4c22-b054-140fde2ccb45",
   "metadata": {},
   "source": [
    "### [코드 짜는 룰]\n",
    "- 주석 다는 법\n",
    "    - 설명하는 부분\n",
    "    - 목적: 의도를 표현한다.\n",
    "    - '#' hash, sharp, ...\n",
    "    - 해시가 시작된 부분부터 그 라인 끝까지가 주석이 됨\n",
    "    - 문자열 안에 들어있는 해시는 문자열로 인식\n",
    "    - 엔터 치더라도 주석으로 인식하는 방법 : \"\"\"<주석>\"\"\"\n",
    "    \n",
    "- 라인 유지하기\n",
    "    - 들여쓰기, 공백 4개, 탭 1개\n",
    "    - 한 줄에 최대 80자 넘지 않게\n",
    "    - 넘을것 같으면 백 슬래쉬로 끊어준다. (\\)"
   ]
  },
  {
   "cell_type": "code",
   "execution_count": null,
   "id": "89e2d3c9-68ca-400e-aff3-8db4a715e8b2",
   "metadata": {},
   "outputs": [],
   "source": [
    "a = 3 # 여기부터 라인 끝\n",
    "b = 2"
   ]
  },
  {
   "cell_type": "code",
   "execution_count": 71,
   "id": "ac8b1573-ab7e-41bb-9fe3-9dfb5ef89b9d",
   "metadata": {},
   "outputs": [
    {
     "data": {
      "text/plain": [
       "'\\n주석 1\\n주석 2\\n주석 3\\n엔터 쳐도 주석으로 인식 됨\\n\\n'"
      ]
     },
     "execution_count": 71,
     "metadata": {},
     "output_type": "execute_result"
    }
   ],
   "source": [
    "example = 'hey ###'\n",
    "example\n",
    "\"\"\"\n",
    "주석 1\n",
    "주석 2\n",
    "주석 3\n",
    "엔터 쳐도 주석으로 인식 됨\n",
    "\n",
    "\"\"\""
   ]
  },
  {
   "cell_type": "markdown",
   "id": "c0a80d1d-40ea-4bcb-9add-fe1455917745",
   "metadata": {},
   "source": [
    "- 조건 1개\n",
    "\n",
    "if <조건식>: #콜론 마크 앞에 띄어쓰기 X\n",
    "    <실행할 코드>"
   ]
  },
  {
   "cell_type": "code",
   "execution_count": 72,
   "id": "5ba116fd-ef66-4f7d-8672-12d1f972b68f",
   "metadata": {},
   "outputs": [
    {
     "name": "stdout",
     "output_type": "stream",
     "text": [
      "yaay!\n"
     ]
    }
   ],
   "source": [
    "if 4 != 9:\n",
    "    print('yaay!')"
   ]
  },
  {
   "cell_type": "markdown",
   "id": "1452024f-ca3c-4c33-9347-b26cbdb9075b",
   "metadata": {},
   "source": [
    "- 조건 2개:\n",
    "\n",
    "    if <조건식1>:\n",
    "        <실행할 코드1>\n",
    "    else:\n",
    "        <실행할 코드2>"
   ]
  },
  {
   "cell_type": "code",
   "execution_count": 74,
   "id": "10799c51-c863-46eb-ab5f-ad04da002581",
   "metadata": {},
   "outputs": [
    {
     "name": "stdout",
     "output_type": "stream",
     "text": [
      "Hey!\n"
     ]
    }
   ],
   "source": [
    "if 4 == 9 :\n",
    "    print('Yaay!')\n",
    "else:\n",
    "    print('Hey!')"
   ]
  },
  {
   "cell_type": "markdown",
   "id": "7d1c2875-3f66-43f8-bf77-a4b2744348c3",
   "metadata": {},
   "source": [
    "- 조건 3개 이상:\n",
    "\n",
    "    if <조건식1>:\n",
    "        <실행할 코드1>\n",
    "    elif <조건식2>\n",
    "        <실행할 코드3>\n",
    "    ...\n",
    "    else:\n",
    "        <실행할 코드2>"
   ]
  },
  {
   "cell_type": "markdown",
   "id": "bf955e1c-1ce1-4821-bf93-284c7ded2b10",
   "metadata": {},
   "source": [
    "### [비교연산자]\n",
    "- x < y, x <= y\n",
    "- x > y, x >= y\n",
    "- x != y (값)\n",
    "- x == y (값)\n",
    "- x is y (값, 메모리주소)\n",
    "- x is not y"
   ]
  },
  {
   "cell_type": "markdown",
   "id": "da6a4fbb-6fb6-41d4-8149-33f392003586",
   "metadata": {},
   "source": [
    "### Quiz 4.\n",
    "- 학점 부여하기\n",
    "- 학점 입력받아서 \n",
    "    - 95점 이상이면 A+\n",
    "    - 80, B\n",
    "    - 70, C\n",
    "    - 그외, D"
   ]
  },
  {
   "cell_type": "code",
   "execution_count": 82,
   "id": "2074895b-f121-4ec2-91c8-a01a084b4e1b",
   "metadata": {},
   "outputs": [
    {
     "name": "stdin",
     "output_type": "stream",
     "text": [
      "점수를 입력하세요 89\n"
     ]
    },
    {
     "name": "stdout",
     "output_type": "stream",
     "text": [
      "학점: B\n"
     ]
    }
   ],
   "source": [
    "#변수 입력\n",
    "score = int(input('점수를 입력하세요'))\n",
    "grade = ''\n",
    "\n",
    "#조건문\n",
    "if score >= 95 :\n",
    "    grade = 'A+'\n",
    "elif score >= 80 : #위에서 95보다 작다고 판정이 났기 때문에, 당연히 작음. 굳이 95 <= 할 필요 X\n",
    "    grade = 'B'\n",
    "elif score >= 70 :\n",
    "    grade = 'C'\n",
    "else :\n",
    "    grade = 'D'\n",
    "\n",
    "#출력\n",
    "print(f'학점: {grade}')"
   ]
  },
  {
   "cell_type": "markdown",
   "id": "bbd3d2dd-4a26-4e07-9c3a-4a9d6811bdad",
   "metadata": {},
   "source": [
    "### Quiz 5.\n",
    "- 아이디와 비번 입력 받아 둘 다 일치하면 로그인하기\n",
    "- 아이디, 비번 정해놓기\n",
    "- 일치하지 않을 때에는 창의적으로 어떤 걸로 반환"
   ]
  },
  {
   "cell_type": "code",
   "execution_count": 81,
   "id": "0e570348-695a-4acc-af0c-6d33d1ad3ae0",
   "metadata": {},
   "outputs": [
    {
     "name": "stdin",
     "output_type": "stream",
     "text": [
      "아이디를 입력하세요. hufs123\n",
      "비밀번호를 입력하세요. 1954\n"
     ]
    },
    {
     "name": "stdout",
     "output_type": "stream",
     "text": [
      "환영합니다.\n"
     ]
    }
   ],
   "source": [
    "user_id = 'hufs123'\n",
    "user_password = '1954'\n",
    "\n",
    "given_id = input('아이디를 입력하세요.')\n",
    "given_password = input('비밀번호를 입력하세요.')\n",
    "\n",
    "if given_id == user_id and given_password == user_password :\n",
    "    print('환영합니다.')\n",
    "else :\n",
    "    print('아이디가 존재하지 않거나, 비밀번호가 일치하지 않습니다.')"
   ]
  },
  {
   "cell_type": "code",
   "execution_count": null,
   "id": "806a5a84-fef1-4b5f-af98-1bef4540ac2f",
   "metadata": {},
   "outputs": [],
   "source": []
  },
  {
   "cell_type": "markdown",
   "id": "1c085542-e04e-4fd8-b2b4-9910615ec68c",
   "metadata": {},
   "source": [
    "### [논리 연산자]\n",
    "- 여러 조건식을 비교할 때 사용\n",
    "- 예: 10 < x < 20 \n",
    "    - 파이썬에서만 가능한 표현\n",
    "    - (x > 10) 혹은 (x < 20)\n",
    "\n",
    "- and, & : 둘다 참이면 True\n",
    "- or, | : 둘 중 하나만 참이여도 True\n",
    "- not : 참 -> False, 거짓 -> True"
   ]
  },
  {
   "cell_type": "markdown",
   "id": "777b9fad-21df-4439-adc0-87b6e72b85cd",
   "metadata": {},
   "source": [
    "### Quiz 6.\n",
    "- Quiz 4 확장판\n",
    "- 결석 횟수를 받아서, 점수가 80 점 이상인데 결석이 2번 이상이면 F, 나머지는 점수대로.\n",
    "- if 구조를 크게 2번 가져갈 수 있다.\n",
    "- Quiz 6 숙제"
   ]
  },
  {
   "cell_type": "code",
   "execution_count": 86,
   "id": "5cea0edd-8fa2-4062-bd09-bba0efd1ba94",
   "metadata": {},
   "outputs": [
    {
     "name": "stdin",
     "output_type": "stream",
     "text": [
      "점수를 입력하세요: 97\n",
      "결석 횟수를 입력하세요: 2\n"
     ]
    },
    {
     "name": "stdout",
     "output_type": "stream",
     "text": [
      "학점: F\n"
     ]
    }
   ],
   "source": [
    "#변수 입력\n",
    "score = int(input('점수를 입력하세요:'))\n",
    "attend = int(input('결석 횟수를 입력하세요:'))\n",
    "grade = ''\n",
    "\n",
    "\n",
    "#조건문\n",
    "if score >= 95 :\n",
    "    grade = 'A+'\n",
    "elif score >= 80 : #위에서 95보다 작다고 판정이 났기 때문에, 당연히 작음. 굳이 95 <= 할 필요 X\n",
    "    grade = 'B'\n",
    "elif score >= 70 :\n",
    "    grade = 'C'\n",
    "else :\n",
    "    grade = 'D'\n",
    "\n",
    "if score >= 80 and attend >= 2 :\n",
    "    grade = 'F'\n",
    "             \n",
    "#출력\n",
    "print(f'학점: {grade}')"
   ]
  },
  {
   "cell_type": "code",
   "execution_count": null,
   "id": "6fcfc713-0651-4104-9a99-a4bf8c013dfc",
   "metadata": {},
   "outputs": [],
   "source": []
  },
  {
   "cell_type": "markdown",
   "id": "14f35aed-5c49-479c-b12a-d26ea3f56ab6",
   "metadata": {},
   "source": [
    "#### [안내 사항] \n",
    "- 다음주에 퀴즈 준비. 정각에 eclass에 올라감\n",
    "- 이클래스에 복습 파일 업로드"
   ]
  }
 ],
 "metadata": {
  "kernelspec": {
   "display_name": "Python 3 (ipykernel)",
   "language": "python",
   "name": "python3"
  },
  "language_info": {
   "codemirror_mode": {
    "name": "ipython",
    "version": 3
   },
   "file_extension": ".py",
   "mimetype": "text/x-python",
   "name": "python",
   "nbconvert_exporter": "python",
   "pygments_lexer": "ipython3",
   "version": "3.9.7"
  }
 },
 "nbformat": 4,
 "nbformat_minor": 5
}
