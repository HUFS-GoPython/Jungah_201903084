{
 "cells": [
  {
   "cell_type": "markdown",
   "id": "11f83259-6098-4d83-abe9-836b10e2d079",
   "metadata": {},
   "source": [
    "ch05에 이어서..."
   ]
  },
  {
   "cell_type": "markdown",
   "id": "208989d1-dd72-434d-aa08-901c02b57f1d",
   "metadata": {},
   "source": [
    "### [String with NLTK]"
   ]
  },
  {
   "cell_type": "code",
   "execution_count": null,
   "id": "2d631c18-8d5c-49d3-8a26-f24b1280b983",
   "metadata": {},
   "outputs": [],
   "source": [
    "import nltk\n",
    "from nltk.book import *\n",
    "nltk.download('book',quiet=True)"
   ]
  },
  {
   "cell_type": "markdown",
   "id": "6f62d403-8fad-4b5d-a493-c671c6167854",
   "metadata": {},
   "source": [
    "#### [내장함수]\n",
    "형태\n",
    "- string1.method(string2)\n",
    "- list.method(string)\n",
    "\n",
    "종류\n",
    "- list.count(string) : string이 나타나는 개수\n",
    "- str.replace() : A -> B 변경하는 함수\n",
    "- str.strip(): 탭, 공백을 없애줌\n",
    "    - lstrip, rstrip: 각각 왼쪽, 오른쪽 공백 등을 제거해줌\n",
    "- str.find(string): 오프셋을 반환\n",
    "    - lfind,rfind \n",
    "    - ((lfind는 없음. rfind는 오른쪽 기준으로 먼저 나타난 오프셋 반환))\n",
    "    - 공백 포함\n",
    "    - 1번째 값의 인덱스\n",
    "    - 동일한 것이 아무리 많아도 반환하는 오프셋은 똑같음\n",
    "    - 없는 단어일 경우 -1 반환\n",
    "- index(string): 오프셋을 반환\n",
    " - 없는 단어일 경우 에러"
   ]
  },
  {
   "cell_type": "code",
   "execution_count": null,
   "id": "56583a29-6c0a-4dd0-961b-b53745762e24",
   "metadata": {},
   "outputs": [],
   "source": [
    "text1.count('he')"
   ]
  },
  {
   "cell_type": "code",
   "execution_count": null,
   "id": "0a3e4af0-787d-42ed-b384-f6235f360ee8",
   "metadata": {},
   "outputs": [],
   "source": [
    "'word'.replace('w','W')"
   ]
  },
  {
   "cell_type": "code",
   "execution_count": null,
   "id": "36054d19-7472-4ba9-a1a9-52440f77cab7",
   "metadata": {},
   "outputs": [],
   "source": [
    "'    \\t word'.strip()"
   ]
  },
  {
   "cell_type": "code",
   "execution_count": null,
   "id": "9df85748-3aab-4729-9875-1dfa87fb0f91",
   "metadata": {},
   "outputs": [],
   "source": [
    "word = '    \\t word'\n",
    "word.replace('w','ch').strip().replace('d','D') #결과의 자료형이 str이기 때문에 같이 쓸 수 있음\n",
    "#그러나 word 자체를 바꾸고 싶다면 할당은 다시 해줘야함"
   ]
  },
  {
   "cell_type": "code",
   "execution_count": null,
   "id": "15eb551f-cba2-4464-8727-b354dc10385a",
   "metadata": {},
   "outputs": [],
   "source": [
    "word2 = '   \\t wordwwwww'\n",
    "word2.find('w')"
   ]
  },
  {
   "cell_type": "code",
   "execution_count": null,
   "id": "f2802479-d4cb-4e25-b203-522a1259a7f8",
   "metadata": {},
   "outputs": [],
   "source": [
    "word2.index('w')"
   ]
  },
  {
   "cell_type": "code",
   "execution_count": null,
   "id": "2e48a23e-0b81-41c6-9c10-e5c0fb1e7e3f",
   "metadata": {},
   "outputs": [],
   "source": [
    "word2.find('c')"
   ]
  },
  {
   "cell_type": "code",
   "execution_count": null,
   "id": "de00aaec-35cc-46e6-a319-3f58fabfed2b",
   "metadata": {},
   "outputs": [],
   "source": [
    "word2.index('c')"
   ]
  },
  {
   "cell_type": "markdown",
   "id": "43228088-4b73-41da-a2fd-f8900f5cc77a",
   "metadata": {},
   "source": [
    "### [NLTK 내장함수]\n",
    "- 기본형식: list.method(var)\n",
    "- 자연어 처리와 관련된 함수들\n",
    "- 리스트.함수(값)에서 값은 리스트일수도, 스트링일수도 있음\n",
    "\n",
    "\n",
    "- concordance(): 주어진 string의 앞뒤 문맥을 알 수 있음\n",
    "- similar(str): 문맥이 비슷한 단어들 \n",
    "- common_contexts(): 주어진 리스트의 스토링이 어떤 문맥을 공유하는지\n",
    "- dispersion_plot(): 주어진 리스트의 스트링이 텍스트에서 출현하는 위치를 그림으로 보여줌\n",
    "\n",
    "#들어가는 자료형이 스트링인지, 리스트인지, 어쩔 때 사용하는 함수인지, 어쩔때 어떤 함수를 사용해야하는지는 외워야함"
   ]
  },
  {
   "cell_type": "code",
   "execution_count": null,
   "id": "386936fe-72ef-4ff3-a241-aa4ec05e8865",
   "metadata": {},
   "outputs": [],
   "source": [
    "text1.concordance(\"whale\")\n",
    "#whale을 기준으로 앞 뒤 문맥이 정렬되어 보여짐"
   ]
  },
  {
   "cell_type": "code",
   "execution_count": null,
   "id": "71c9c455-2dd3-4f2c-90a3-300cc873644f",
   "metadata": {},
   "outputs": [],
   "source": [
    "text1.similar('whale')"
   ]
  },
  {
   "cell_type": "code",
   "execution_count": null,
   "id": "6310fedd-6fd9-4dbd-a825-da4e4d346c4b",
   "metadata": {},
   "outputs": [],
   "source": [
    "text2.common_contexts(['monstrous','very']) #리스트로 들어감\n",
    "# 두 단어가 어떤 비슷한 문맥에서 사용되는지"
   ]
  },
  {
   "cell_type": "code",
   "execution_count": null,
   "id": "71292e31-cfa7-49f9-acfc-5b4ede82ae44",
   "metadata": {},
   "outputs": [],
   "source": [
    "text4.dispersion_plot(['citizens','America','freedom']) #리스트로 들어감"
   ]
  },
  {
   "cell_type": "code",
   "execution_count": null,
   "id": "26018a26-b998-4a0a-b347-3583eec001f4",
   "metadata": {},
   "outputs": [],
   "source": [
    "['a','b','c'].replace('a','A')\n",
    "#스트링을 넣어야하는데 리스트를 넣어서 오류가 생김\n",
    "#따라서 함수에 스트링을 넣어야하는지, 리스트를 넣어야하는지 구분할줄 알아야함"
   ]
  },
  {
   "cell_type": "markdown",
   "id": "3b0a47c3-4c15-4bc3-9da5-5955fd9d49d9",
   "metadata": {},
   "source": [
    "### [Frequency Distribution]\n",
    "- FreqDist()클래스에 값을 넣으면 딕셔너리로 반환\n",
    "- 단어의 빈도수를 활용할 수 있는 많은 메소드 제공\n",
    "- 인간 언어 -> 컴퓨터가 인식할 수 있게 하는 것이 자연어 처리\n",
    "    - 전체 단어 수\n",
    "    - 특정 단어의 빈도수\n",
    "- 클래스(text1).most_common(): 가장 빈번한 단어 10개 출력\n",
    "- 클래스(text1)['str']: 딕셔너리에 저장된 str의 빈도수 출력\n",
    "- 클래스(text1).freq('str'): 전체에서 str이 차지하는 비율\n",
    "- 클래스(text1).plot(단어갯수,cumulative=T/F): 제일 빈번한거 단어갯수까지 그림으로 보여줌 / cumulative는 누적해서 보여주기\n",
    "- 클래스(text1).hapaxes(): 가장 빈번하지 않는 단어. 즉 1번만 나타나는 단어들(중복제외, 대소문자 구분)"
   ]
  },
  {
   "cell_type": "code",
   "execution_count": null,
   "id": "20e806a9-1993-45a7-aacc-2fa8cb51ba15",
   "metadata": {},
   "outputs": [],
   "source": [
    "fdist = FreqDist(text1) #FreqDist라는 클래스에 text1을 넣으면 함수가 실행됨\n",
    "fdist #dictionary타입 | key:value\n",
    "#단어의 빈도수를 알려줌"
   ]
  },
  {
   "cell_type": "code",
   "execution_count": null,
   "id": "9cd20aa8-8ee9-4615-9dfe-191e0c11d833",
   "metadata": {},
   "outputs": [],
   "source": [
    "fdist.most_common(10)\n",
    "#가장 빈번한 단어 10개 출력"
   ]
  },
  {
   "cell_type": "code",
   "execution_count": null,
   "id": "b5d67b7f-49c4-4a37-beaf-b6e1a73c4630",
   "metadata": {},
   "outputs": [],
   "source": [
    "#특정 단어 key에 접근해서 value인 빈도수를 출력. 즉, 특정 단어의 빈도수 출력\n",
    "fdist['whale'], text1.count('whale'), FreqDist(text1)['whale']"
   ]
  },
  {
   "cell_type": "code",
   "execution_count": null,
   "id": "bc147861-5f36-4ef1-a0bd-3630ac4b8f49",
   "metadata": {},
   "outputs": [],
   "source": [
    "#전체에서 특정 단어가 차지하는 비율\n",
    "fdist.freq('whale')"
   ]
  },
  {
   "cell_type": "code",
   "execution_count": null,
   "id": "abb4f5b8-8b51-4dc5-8012-5106e64c989e",
   "metadata": {},
   "outputs": [],
   "source": [
    "fdist.plot(10,cumulative=True)"
   ]
  },
  {
   "cell_type": "code",
   "execution_count": null,
   "id": "1f80fc4d-c87e-489b-94dd-876b09d4b72b",
   "metadata": {},
   "outputs": [],
   "source": [
    "fdist.plot(10,cumulative=False)"
   ]
  },
  {
   "cell_type": "code",
   "execution_count": null,
   "id": "a5d1c32f-41ab-4f48-8b47-61af0fd3de46",
   "metadata": {},
   "outputs": [],
   "source": [
    "#1번 나타나는 단어들\n",
    "fdist.hapaxes()\n",
    "# 1번 나타나는 단어들의 갯수. 중복을 제외한 개수이며, 대소문자는 구분됨\n",
    "len(fdist.hapaxes()) "
   ]
  },
  {
   "cell_type": "markdown",
   "id": "c1a378d0-d4f2-45a7-aba8-1a42e24a0898",
   "metadata": {},
   "source": [
    "### [리스트 & 리스트 컴프리핸션]\n",
    "- 리스트: 배열(array), 리스트(list)\n",
    "- 하나의 변수에 여러 값을 할당하는 자료형\n",
    "    - a = [1,2,3,4]\n",
    "- 대괄호로 선언 []\n",
    "- 내부 요소들은 자료형이 달라도 됨\n",
    "    - a = [1,True,'hello']\n",
    "- 순서가 있다 = > 인덱싱, 슬라이싱 가능\n",
    "- 빈 리스트 선언: list(),[]"
   ]
  },
  {
   "cell_type": "code",
   "execution_count": null,
   "id": "3335a459-ea0b-43c7-8885-29636123c2a1",
   "metadata": {},
   "outputs": [],
   "source": [
    "a = [1,True,'hello']\n",
    "a[::-1]"
   ]
  },
  {
   "cell_type": "code",
   "execution_count": null,
   "id": "ce97e245-9c93-4a17-af91-a0065aa03cbe",
   "metadata": {},
   "outputs": [],
   "source": [
    "#빈 리스트\n",
    "b = []\n",
    "b = list()\n",
    "b"
   ]
  },
  {
   "cell_type": "code",
   "execution_count": null,
   "id": "e3c15378-9f10-4a03-81a3-b92a71e80ab6",
   "metadata": {},
   "outputs": [],
   "source": [
    "drinks = ['rum','mohito','soju']\n",
    "drinks[1] #drinks[01]은 x"
   ]
  },
  {
   "cell_type": "code",
   "execution_count": null,
   "id": "4b463448-a453-4759-a4a6-0eeea143677f",
   "metadata": {},
   "outputs": [],
   "source": [
    "# drinks에서 soju의 위치\n",
    "drinks.find('soju')"
   ]
  },
  {
   "cell_type": "code",
   "execution_count": null,
   "id": "c3f50d51-d2ad-4549-aad3-b7632d4bf4c7",
   "metadata": {},
   "outputs": [],
   "source": [
    "drinks.index('soju')"
   ]
  },
  {
   "cell_type": "markdown",
   "id": "c5e16afd-7287-428b-925e-8d97e9888b3d",
   "metadata": {},
   "source": [
    "#### [list comprehension]\n",
    "- 지능형 리스트\n",
    "- 주어진 리스트를 포함하는 새로운 리스트를 형성하는 것\n",
    "- list + for_loop 한 줄로 해결하는 방식\n",
    "- [A for A' in B]\n",
    "   - B에 있는 A'에서 A를 가진 리스트를 반환\n",
    "   - B: 기존의 리스트\n",
    "   - A': B의 자료 형태\n",
    "   - A: 새로운 리스트의 요소\n",
    "- 조건+ : [A for A' in B if <조건식>]\n",
    "    - [A for A' in B if <조건식>and<조건식>,...]"
   ]
  },
  {
   "cell_type": "code",
   "execution_count": null,
   "id": "3f376401-4be8-4fd3-bd16-cb815b7a1233",
   "metadata": {},
   "outputs": [],
   "source": [
    "[d for d in drinks]"
   ]
  },
  {
   "cell_type": "code",
   "execution_count": null,
   "id": "642e6c6c-7ce8-4cf7-a445-19739e83ebda",
   "metadata": {},
   "outputs": [],
   "source": [
    "[d[0] for d in drinks]\n",
    "#하나만 빼서 리스트에 담음"
   ]
  },
  {
   "cell_type": "code",
   "execution_count": null,
   "id": "a143c711-e34d-4129-ac55-5e0e428f0385",
   "metadata": {},
   "outputs": [],
   "source": [
    "# text1 알파벳 수가 10 이상인 단어\n",
    "[a for a in text1 if len(a) >= 10]\n",
    "\n",
    "#text1.tokens와 같음\n",
    "[word for word in text1] "
   ]
  },
  {
   "cell_type": "code",
   "execution_count": null,
   "id": "c1df2f6c-3314-41b7-9c5f-6d6431c21255",
   "metadata": {},
   "outputs": [],
   "source": [
    "# text4에서 'gnt'를 포함하는 단어 변환\n",
    "[word for word in text4 if word.find('gnt') > 0] #내가 푼 것\n",
    "[word for word in text4 if 'gnt' in word] #정답\n",
    "#중복 없애려면 (1)set(text4)을 하거나, (2)전체에 set([전체])을 하거나."
   ]
  },
  {
   "cell_type": "code",
   "execution_count": null,
   "id": "65085454-a170-42e3-babf-3221075cb8f0",
   "metadata": {},
   "outputs": [],
   "source": [
    "# text4에서 'gnt'를 포함하는 단어 소문자로 변환+ 중복 없애기 \n",
    "aa = [word.lower() for word in set(text4) if 'gnt' in word]\n",
    "    # the, The - > 연산 -> 리스트 반환\n",
    "b = set([word.lower() for word in text4 if 'gnt' in word])\n",
    "    # 연산 -> 중복 없앰 -> set 반환"
   ]
  },
  {
   "cell_type": "code",
   "execution_count": null,
   "id": "a0bc89ae-3c74-452a-a841-7b5b9d3c64cb",
   "metadata": {},
   "outputs": [],
   "source": [
    "aa"
   ]
  },
  {
   "cell_type": "code",
   "execution_count": null,
   "id": "2ee9bd1e-cc19-47da-91d6-3c50aba82e55",
   "metadata": {},
   "outputs": [],
   "source": [
    "b"
   ]
  },
  {
   "cell_type": "markdown",
   "id": "36049c37-9452-48f8-a00e-8527ebecccec",
   "metadata": {},
   "source": [
    "### [조건을 위한 함수: uncased, cased]\n",
    "- 'the' != 'The'\n",
    "- 형식: str.메소드()\n",
    "- upper(),lower(),title()\n",
    "    - title: 주어진 문자열에서 알파벳 외의 문자(숫자, 특수기호, 띄어쓰기 등)로 나누어져 있는 영단어들의 첫 글자를 모두 대문자로 변환시킨다.\n",
    "- capitalize(), swapcase()\n",
    "    - capitalize: 주어진 문자열에서 맨 첫 글자를 대문자로 변환시킨다.\n",
    "- isupper(), islower(), istitle()\n",
    "    - istitle: 주어진 문자열에서 나누어져있는 영단어의 첫글자가 대문자인지 검사\n",
    "    - 단, 'GOD'.istitle()는 false임. 즉, 모두 대문자면 안됨\n",
    "- endswith(\"\"), startswith(\"\"), isalpha()\n",
    "    - str.startswith(\"str\"): 특정 문자열로 시작하는지 검사 (T/F)\n",
    "    - str.endswith(\"str\"): 특정 문자열로 끝나는지 검사 (T/F)\n",
    "    - str.isalpha(): 문자열이 알파벳으로만 이루어져있는지 검사 "
   ]
  },
  {
   "cell_type": "code",
   "execution_count": null,
   "id": "9caf2b5b-e0cb-4a78-b36a-fa0e55bca952",
   "metadata": {},
   "outputs": [],
   "source": [
    "'word'.upper()"
   ]
  },
  {
   "cell_type": "code",
   "execution_count": null,
   "id": "aed5d983-90b5-44ae-ba58-9c239b5143a6",
   "metadata": {},
   "outputs": [],
   "source": [
    "'word'.startswith('w')"
   ]
  },
  {
   "cell_type": "code",
   "execution_count": null,
   "id": "28f89633-0c32-4bff-803c-9dae08ec65b1",
   "metadata": {},
   "outputs": [],
   "source": [
    "'word'.isupper()"
   ]
  },
  {
   "cell_type": "code",
   "execution_count": null,
   "id": "0faf72ce-2e2d-414f-8de6-2a705d019514",
   "metadata": {},
   "outputs": [],
   "source": [
    "','.startswith('w')"
   ]
  },
  {
   "cell_type": "code",
   "execution_count": null,
   "id": "b753e2e6-22b4-414a-b1a9-e853e18f2d8c",
   "metadata": {},
   "outputs": [],
   "source": [
    "','.isalpha()"
   ]
  },
  {
   "cell_type": "code",
   "execution_count": null,
   "id": "19bfcd13-6106-4532-ae4f-c4ed8afc844c",
   "metadata": {},
   "outputs": [],
   "source": [
    "# tex1에서 'ableness'로 끝나는 단어 변환\n",
    "[word for word in text1 if word.endswith('ableness')]"
   ]
  },
  {
   "cell_type": "code",
   "execution_count": null,
   "id": "f3c1c385-6f53-4b5d-a368-4515f2d3f2b9",
   "metadata": {},
   "outputs": [],
   "source": [
    "# text3에서 대문자로 시작하는 단어들 중에 길이가 3 이상인 단어 -> 중복X 뽑고-> 대문자로 변환\n",
    "# 내 답\n",
    "[word.upper() for word in set(text3) if word[0].isupper() and len(word) >= 3]"
   ]
  },
  {
   "cell_type": "code",
   "execution_count": null,
   "id": "85e088bf-0358-463c-9258-9d98b710a74a",
   "metadata": {},
   "outputs": [],
   "source": [
    "# 첫번째 방법\n",
    "[word.upper() for word in set(text3) if word.istitle() and len(word) == 3]\n",
    "\n",
    "# set으로 거르고\n",
    "god, God => 그러나 set에서 걸러지지 않음\n",
    "# 결과 계산\n",
    "GOD, GOD => 그 결과, 중복이 남는 형태\n",
    "---------------------------------\n",
    "# 두번째 방법\n",
    "set([word.upper() for word in text3 if word[0].isupper() and len(word) == 3]\n",
    "\n",
    "# 계산하고\n",
    "god, God => GOD, GOD #god은 if문에서 걸러지기 때문에 istitle()로 비교하면 좋을듯(내생각)\n",
    "\n",
    "# 거르기\n",
    "GOD"
   ]
  },
  {
   "cell_type": "code",
   "execution_count": null,
   "id": "8525c3f3-f07f-435f-8ea3-44e9eb2dff53",
   "metadata": {},
   "outputs": [],
   "source": [
    "'GOD'.istitle()"
   ]
  },
  {
   "cell_type": "markdown",
   "id": "dc290562-365c-41cc-9630-1d2ea074e6e4",
   "metadata": {},
   "source": [
    "*isupper와 istitle 비교\n",
    "- isupper: God, GOD 둘다 True\n",
    "- istitle: God만 True"
   ]
  },
  {
   "cell_type": "code",
   "execution_count": null,
   "id": "e797d256-e16f-4360-bea3-66d411132c2d",
   "metadata": {},
   "outputs": [],
   "source": [
    "# text4에서 알파벳만 출력, 길이가 4개 이상이고, 빈도수가 5이상인 단어의 길이 반환\n",
    "# 내 답\n",
    "[len(word) for word in text4 if word.isalpha() and len(word) >= 4 and text4.count(word) >= 5]\n",
    "# 비효율적이라 틀림. FreqDist를 활용하면 키에 대한 값을 찾는거라 효율적."
   ]
  },
  {
   "cell_type": "code",
   "execution_count": null,
   "id": "c5dcdb04-bf29-4217-ae16-3d09e4cefb9b",
   "metadata": {},
   "outputs": [],
   "source": [
    "# 다시 푼 나의 답\n",
    "fdist4 = FreqDist(text4)\n",
    "[len(word) for word in text4 if word.isalpha() and len(word) >=4 and fdist4.get(word) >= 5]"
   ]
  },
  {
   "cell_type": "code",
   "execution_count": null,
   "id": "6ba638fe-b0db-4f18-a752-27d3c5e2f68a",
   "metadata": {},
   "outputs": [],
   "source": [
    "fdist4 = FreqDist(text4)\n",
    "fdist4"
   ]
  },
  {
   "cell_type": "code",
   "execution_count": null,
   "id": "f99d419a-f442-43df-b837-6458c7022752",
   "metadata": {},
   "outputs": [],
   "source": [
    "#정답\n",
    "fdist4 = FreqDist(text4)\n",
    "\n",
    "[len(word) for word in text4 if word.isalpha() and (len(word) >= 4) and fdist4[word] >=5]\n",
    "\n",
    "[len(word) for (word,count) in fditst4.items()\\\n",
    "        if(len(word) >= 4) and (count >= 5)] "
   ]
  },
  {
   "cell_type": "code",
   "execution_count": null,
   "id": "9f540f57-22f9-4c88-818f-60d7ca3c97a5",
   "metadata": {},
   "outputs": [],
   "source": [
    "# items()함수 사용해 딕셔너리 순회하는 방법 (키와 값 둘다 출력)\n",
    "for (word,count) in FreqDist(text4).items()\n",
    "# FreqDist에 있는 (키,값)에 대해서...라는 뜻\n",
    "# 딕셔너리.items()가 (키,값)을 튜플로 반환하기에 가능함"
   ]
  },
  {
   "cell_type": "markdown",
   "id": "d5e6ffc3-6849-45e9-a164-e47c021e5310",
   "metadata": {},
   "source": [
    "### [리스트, 스트링]\n",
    "- str.split(''): ''안의 값 기준으로 잘라 리스트에 저장\n",
    "- sep.join(list): sep('')를 넣어 list -> str 로 바꿔줌"
   ]
  },
  {
   "cell_type": "code",
   "execution_count": null,
   "id": "64834308-639f-433e-883e-484f8bf22b82",
   "metadata": {},
   "outputs": [],
   "source": [
    "sent = 'I, am, thirsty'\n",
    "#['I','am','thirsty'] #tokens\n",
    "\n",
    "sent.split() #split의 디폴트는 공백\n",
    "sent.split(',') #이래도 쓸데없는 공백이 남기때문에 strip()해줘야함"
   ]
  },
  {
   "cell_type": "code",
   "execution_count": null,
   "id": "7fd6bb69-4f99-474f-b452-825d0989a840",
   "metadata": {},
   "outputs": [],
   "source": [
    "# 문제: sent = 'I, am, thirsty'를 이용해 ['I','am','thristy']로 출력하기\n",
    "# 답:\n",
    "sent = 'I, am, thirsty'\n",
    "list_sent = sent.split(',')\n",
    "[word.strip() for word in list_sent]"
   ]
  },
  {
   "cell_type": "code",
   "execution_count": null,
   "id": "0d5f346c-3ecb-4a64-87a5-9bab5e28afd2",
   "metadata": {},
   "outputs": [],
   "source": [
    "sent.strip().split(',')"
   ]
  },
  {
   "cell_type": "code",
   "execution_count": null,
   "id": "c1fdf1e0-22d2-4e23-a692-935291e5b2be",
   "metadata": {},
   "outputs": [],
   "source": [
    "# list comprehenstion\n",
    "tokens = sent.split(',')\n",
    "tokens"
   ]
  },
  {
   "cell_type": "code",
   "execution_count": null,
   "id": "63ec0690-c896-416c-88ec-b8ce6cf8af2a",
   "metadata": {},
   "outputs": [],
   "source": [
    "[word.strip() for word in tokens]"
   ]
  },
  {
   "cell_type": "code",
   "execution_count": 1,
   "id": "56a473b9-614f-401c-afce-5149a2f9b42e",
   "metadata": {},
   "outputs": [
    {
     "data": {
      "text/plain": [
       "'I am thirsty'"
      ]
     },
     "execution_count": 1,
     "metadata": {},
     "output_type": "execute_result"
    }
   ],
   "source": [
    "sent = 'I, am, thirsty'\n",
    "tokens = sent.split(',') # => ['I', ' am', ' thirsty']\n",
    "tokens = [word.strip() for word in tokens] # => ['I', 'am', 'thirsty']\n",
    "' '.join(tokens) #리스트를 문자열로 변환해, 문자를 붙여서 출력. 출력시 'str' 이 붙어서 출력"
   ]
  },
  {
   "cell_type": "code",
   "execution_count": 2,
   "id": "f713c7c2-0499-44aa-b571-b1de120f66ba",
   "metadata": {},
   "outputs": [
    {
     "data": {
      "text/plain": [
       "'I-am-thirsty'"
      ]
     },
     "execution_count": 2,
     "metadata": {},
     "output_type": "execute_result"
    }
   ],
   "source": [
    "'-'.join(tokens)"
   ]
  },
  {
   "cell_type": "markdown",
   "id": "ad3a5f71-c0c2-457b-8edb-04fe0fd6876b",
   "metadata": {},
   "source": [
    "# Ch06. 반복문"
   ]
  },
  {
   "cell_type": "markdown",
   "id": "8a7d9f52-913a-4c5f-8e34-4908d7e816f8",
   "metadata": {},
   "source": [
    "### [반복문]\n",
    "- '[word for word in text1]'\n",
    "- 자료구조를 순회할 때 사용됨\n",
    "- 정해진 동작을 반복적으로 수행할 때 내리는 명령어\n",
    "- 시작조건, 종료조건, 수행명령으로 구성됨\n",
    "- for 요소 in 변수범위:\n",
    "    수행명령\n",
    "\n",
    "- for, while\n",
    "- 주의할점: 들여쓰기, 블록 ==> 논리구조\n",
    "- 무한루프가 되지 않도록 주의"
   ]
  },
  {
   "cell_type": "code",
   "execution_count": null,
   "id": "f92b485e-bb35-45f3-be00-82504a6ff3d0",
   "metadata": {},
   "outputs": [],
   "source": [
    "# [word for word in text]\n",
    "\n",
    "for word in text1[:10]:\n",
    "    print(word)"
   ]
  },
  {
   "cell_type": "code",
   "execution_count": null,
   "id": "df0c83fe-1f7f-4ed4-aa84-ed0b4fd2f2d8",
   "metadata": {},
   "outputs": [],
   "source": [
    "# text1의 첫번째부터 10번째 요소를 list에 저장\n",
    "[word for word in text1[:10]]"
   ]
  },
  {
   "cell_type": "code",
   "execution_count": null,
   "id": "5841fa7b-0645-4826-880e-80c40b96a119",
   "metadata": {},
   "outputs": [],
   "source": [
    "alphabet = ['a','b','c']\n",
    "for w in alphabet:\n",
    "    print(w)"
   ]
  },
  {
   "cell_type": "code",
   "execution_count": null,
   "id": "976343b0-89c6-4983-91d9-9db71374d32d",
   "metadata": {},
   "outputs": [],
   "source": [
    "# 숫자 반복: range(start,end,step)\n",
    "for i in range(1,10,2):\n",
    "    print(i)"
   ]
  },
  {
   "cell_type": "code",
   "execution_count": null,
   "id": "cf5cacbe-0a74-43e3-8f6d-a049a4e18d03",
   "metadata": {},
   "outputs": [],
   "source": [
    "# text1-9 #각 테스트의 단어 수를 반환 (쉼표나 (같은 건 제외하지 않고)\n",
    "\n",
    "arr = [0,text1,text2,text3,text4,text5,text6,text7,text8,text9]\n",
    "idx = 1\n",
    "\n",
    "for i in arr[1:]: \n",
    "    print(f\"text{idx}:\",len(i))\n",
    "    idx += 1"
   ]
  },
  {
   "cell_type": "code",
   "execution_count": null,
   "id": "234bedd0-81fd-42b1-ab5e-479ddfb84e73",
   "metadata": {},
   "outputs": [],
   "source": [
    "print(text1[:10])"
   ]
  },
  {
   "cell_type": "markdown",
   "id": "e42abca2-799b-431e-98fa-5ce35a2db131",
   "metadata": {},
   "source": [
    "### 출력 포매팅\n",
    "- 1. f'str....{var변수}'\n",
    "    - f, F 둘다 가능\n",
    "- 2. % #옛날 방식\n",
    "    - '...%자료형' %var\n",
    "- 3. '...{}'.format(var)"
   ]
  },
  {
   "cell_type": "code",
   "execution_count": null,
   "id": "240f3041-57b5-4914-b8ca-7f640ec5f415",
   "metadata": {},
   "outputs": [],
   "source": [
    "name = 'lee'\n",
    "print('My name is', name)"
   ]
  },
  {
   "cell_type": "code",
   "execution_count": null,
   "id": "d60438d6-db43-4aef-8fd4-01b10c36276f",
   "metadata": {},
   "outputs": [],
   "source": [
    "print(f'My name is {name}')"
   ]
  },
  {
   "cell_type": "code",
   "execution_count": null,
   "id": "7df8b8e2-b648-44f5-976f-c545a1d952c4",
   "metadata": {},
   "outputs": [],
   "source": [
    "print('My name is %s' %name)"
   ]
  },
  {
   "cell_type": "code",
   "execution_count": null,
   "id": "99993f41-51c9-4316-8380-e9226c562a0c",
   "metadata": {},
   "outputs": [],
   "source": [
    "print('My name is {}'.format(name))"
   ]
  },
  {
   "cell_type": "code",
   "execution_count": null,
   "id": "2529351a-cc4f-4445-bb6a-7fd8d0c1156f",
   "metadata": {},
   "outputs": [],
   "source": [
    "age = 14"
   ]
  },
  {
   "cell_type": "code",
   "execution_count": null,
   "id": "16755319-8c41-4be4-9260-676d5d07bb57",
   "metadata": {},
   "outputs": [],
   "source": [
    "print('My name is {}. and I am {} years old'.format(name,age))"
   ]
  },
  {
   "cell_type": "code",
   "execution_count": null,
   "id": "3fa05ffd-ad71-4a9a-bfae-742dbfd5167b",
   "metadata": {},
   "outputs": [],
   "source": [
    "a = 0.55555555\n",
    "print('My name is %.3f' %a)"
   ]
  },
  {
   "cell_type": "code",
   "execution_count": null,
   "id": "00058e08-4d4b-4e3b-b92b-ceb80c077b89",
   "metadata": {},
   "outputs": [],
   "source": [
    "print('My name is {:.1}'.format(a))"
   ]
  },
  {
   "cell_type": "code",
   "execution_count": null,
   "id": "59691916-0130-479e-8f14-1a7e191b1505",
   "metadata": {},
   "outputs": [],
   "source": []
  },
  {
   "cell_type": "code",
   "execution_count": null,
   "id": "4ee87151-6dec-4b96-82f3-5e7a5a4fe059",
   "metadata": {},
   "outputs": [],
   "source": []
  },
  {
   "cell_type": "code",
   "execution_count": null,
   "id": "22795c85-fc29-440a-a8a1-66518a49bdb9",
   "metadata": {},
   "outputs": [],
   "source": []
  },
  {
   "cell_type": "code",
   "execution_count": null,
   "id": "35791a67-8e8c-4879-aebe-f293462b676f",
   "metadata": {},
   "outputs": [],
   "source": []
  },
  {
   "cell_type": "code",
   "execution_count": null,
   "id": "a5bc89f0-e2eb-4257-8c92-8efb6f677f79",
   "metadata": {},
   "outputs": [],
   "source": []
  }
 ],
 "metadata": {
  "kernelspec": {
   "display_name": "Python 3 (ipykernel)",
   "language": "python",
   "name": "python3"
  },
  "language_info": {
   "codemirror_mode": {
    "name": "ipython",
    "version": 3
   },
   "file_extension": ".py",
   "mimetype": "text/x-python",
   "name": "python",
   "nbconvert_exporter": "python",
   "pygments_lexer": "ipython3",
   "version": "3.9.7"
  }
 },
 "nbformat": 4,
 "nbformat_minor": 5
}
