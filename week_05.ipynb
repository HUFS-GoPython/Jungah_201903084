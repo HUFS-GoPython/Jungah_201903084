{
 "cells": [
  {
   "cell_type": "markdown",
   "id": "c9928c1b-b2da-4cbb-a44b-6dc4c0cc7886",
   "metadata": {},
   "source": [
    "반복문에 이어서..."
   ]
  },
  {
   "cell_type": "markdown",
   "id": "c09198a9-0417-4473-b077-3b1b5c422694",
   "metadata": {},
   "source": [
    "### [반복문]\n",
    "- while, for loop\n",
    "\n",
    "#### while loop\n",
    "- 어떤 조건이 만족하는 동안 명령 블록을 수행한다.\n",
    "- if + for loop\n",
    "- 해당 조건이 거짓이면 안좋다. => 언제 멈추는지 그 시점을 정확히 파악해야 함.\n",
    "\n",
    "#### for vs while\n",
    "- for: 반복 횟수가 정해짐, 정확함. 변하지 않음\n",
    "    - 예: 전체 학생들의 성적을 산출(전체 학생 수가 있음)\n",
    "- while: 횟수는 정해지지 않음. (중요하지 않다) 어떤 조건을 만족시킬 때 빠져나오게 하는 게 중요할 때 사용\n",
    "    - 예: 가위바위보에서 이겼을 때 끝낸다."
   ]
  },
  {
   "cell_type": "code",
   "execution_count": null,
   "id": "f89ae236-8b42-42f5-bdd4-a40b35a43216",
   "metadata": {},
   "outputs": [],
   "source": [
    "for i in range(10):\n",
    "    print(i)"
   ]
  },
  {
   "cell_type": "code",
   "execution_count": null,
   "id": "d6b6a580-3562-442d-b325-881450870bcb",
   "metadata": {},
   "outputs": [],
   "source": [
    "i = 0 #변수 설정이 되어있어야 함 (초기화)\n",
    "while i < 10 :\n",
    "    print(i)\n",
    "    if i == 6: break\n",
    "    i += 1 #변화 시키는 블록이 있어야함"
   ]
  },
  {
   "cell_type": "code",
   "execution_count": null,
   "id": "569bd611-8cd8-4688-9393-4448d8c6c7cd",
   "metadata": {},
   "outputs": [],
   "source": [
    "i = 0 \n",
    "while i < 3 : #0,1,2,False\n",
    "    print(i) #0,1,2\n",
    "    i += 1 #1,2,3\n",
    "\n",
    "print(\"i: \",i)"
   ]
  },
  {
   "cell_type": "code",
   "execution_count": null,
   "id": "0e7f3416-271d-4afd-9d9a-4ce1911a2cf3",
   "metadata": {},
   "outputs": [],
   "source": [
    "i = 0 \n",
    "while i < 3 : #0,1,2,False\n",
    "    i += 1 #1,2,3\n",
    "    print(i) #0,1,2\n"
   ]
  },
  {
   "cell_type": "code",
   "execution_count": null,
   "id": "9385efea-ad77-48b8-a127-d26a2abdfd36",
   "metadata": {},
   "outputs": [],
   "source": [
    "i"
   ]
  },
  {
   "cell_type": "code",
   "execution_count": null,
   "id": "6078a12f-7c93-490e-b615-08265d7896f8",
   "metadata": {},
   "outputs": [],
   "source": [
    "abcd = [\"a\",\"b\",\"c\",\"d\"]\n",
    "i = 0 \n",
    "while i < len(abcd):\n",
    "    print(abcd[i])\n",
    "    i += 1"
   ]
  },
  {
   "cell_type": "markdown",
   "id": "3a6ead1e-985d-4ead-8bcb-7343df3609c8",
   "metadata": {},
   "source": [
    "### [반복문 제어]\n",
    "- 되도록 사용하지 않는다. 의도치 않은 오류를 우려\n",
    "\n",
    "- break: 논리적으로 반복을 종료시킬 때\n",
    "- else: 어떤 조건이 완전히 끝났을 때 한번 더 실행함. break시에는 실행 안됨.\n",
    "=> 어느 지점에서 종료되었는지 확인할 때\n",
    "- continue: 특정 조건을 건너뛰고 다음 조건 실행"
   ]
  },
  {
   "cell_type": "code",
   "execution_count": null,
   "id": "29d16c27-a2ea-4815-84a6-470ef488c525",
   "metadata": {},
   "outputs": [],
   "source": [
    "#for 문의 경우\n",
    "for i in range(10):\n",
    "    if i ==6: break\n",
    "    print(i) #6은 출력되지 않음! (*중요)"
   ]
  },
  {
   "cell_type": "code",
   "execution_count": null,
   "id": "5cf8afe4-9dc8-4008-bb28-ce533e79ce45",
   "metadata": {},
   "outputs": [],
   "source": [
    "i = 0 #변수 설정이 되어있어야 함 (초기화)\n",
    "while i < 10 :\n",
    "    print(i)\n",
    "    if i == 6: break #continue시 무한루프\n",
    "    i += 1 \n",
    "else:\n",
    "    print(\"ended\")"
   ]
  },
  {
   "cell_type": "code",
   "execution_count": null,
   "id": "24899f89-d11d-4ac8-b4f6-a7cfec3a5aa1",
   "metadata": {},
   "outputs": [],
   "source": [
    "for i in range(10):\n",
    "    if i ==6: continue\n",
    "    print(i) #6은 출력되지 않음! (*중요)\n",
    "else:\n",
    "    print(\"ended\")"
   ]
  },
  {
   "cell_type": "markdown",
   "id": "4b0fa0bb-61e9-485a-992d-ab82741cee8a",
   "metadata": {},
   "source": [
    "### [구구단]\n",
    "변수는 입력을 받아서 사용함.\n",
    "각 숫자마다 구현해보기!! \n",
    "\n",
    "- 1. n단을 출력 \n",
    "    - 1단부터 9단까지만 출력, 입력 크기 넘어가면 안됨(다시 입력하세요) \n",
    "    - 입력시 안내문 줘야함\n",
    "    - \n",
    "    \n",
    "- 2. 1-n까지 출력\n",
    "    - 단 시작할때마다 몇 단인지 보여주고 한 줄 띄워주기\n",
    "    \n",
    "- 3. n,m 모두 입력 받아서 출력\n",
    "    - n > m 일때 어떻게 처리할 건지\n",
    "    \n",
    "- 4. 프로그램으로 만든다\n",
    "    - 메뉴: 1) n 2) 1-n 3) n-m단 \n",
    "    - 메뉴에 없는 옵션 선택할때 (없다고 끝내지말고)\n",
    "    - n이 9를 넘으면 안됨\n",
    "    - 최대한 친절하게 작성\n",
    "    - 첫 단과 끝단 입력 받을때, 여기부터 여기까지 너가 입력한게 맞냐, 이대로 출력할까? -> 예/아니오 선택할 수 있도록. (아니오 선택시 다시 입력..)\n",
    "    - 메뉴가 끝나는 조건 안내\n",
    "    - 메뉴에 정확한 입력을 할 시, 메뉴가 안뜨는 것이 의도. 만약 계속 입력을 받을 경우, 언제 끝나는지 알려줘야 (ex: q를 누르면 빠져 나온다고 메뉴에 넣기)"
   ]
  },
  {
   "cell_type": "code",
   "execution_count": null,
   "id": "b8f2bc70-cb1e-4a17-a7a6-a431d6ce1b4a",
   "metadata": {},
   "outputs": [],
   "source": [
    "# 1"
   ]
  },
  {
   "cell_type": "code",
   "execution_count": null,
   "id": "743091ea-d49a-4c44-b49b-cb764a3bb65d",
   "metadata": {},
   "outputs": [],
   "source": [
    "# 2"
   ]
  },
  {
   "cell_type": "code",
   "execution_count": null,
   "id": "757ab271-020c-44cb-a022-97c830975130",
   "metadata": {},
   "outputs": [],
   "source": [
    "# 3"
   ]
  },
  {
   "cell_type": "code",
   "execution_count": null,
   "id": "6bc4e9c6-ab4f-4107-bbc5-940b9247e507",
   "metadata": {},
   "outputs": [],
   "source": [
    "# 4\n",
    "#피드백: break랑 continue가 넘 많다.\n",
    "#완벽하게 해서 올리기\n",
    "while True:\n",
    "    menu = int(input(\"메뉴를 선택하세요\")) #메뉴를 알 수 없음\n",
    "    if menu not in [1,2,3]:\n",
    "        print(\"menu를 다시 입력하세요\")\n",
    "        continue\n",
    "    \n",
    "    n = int(input(\"몇 단을 출력할까요?\"))\n",
    "    \n",
    "    if n > 9 :\n",
    "        print(\"입력한 단이 9를 넘습니다.\")\n",
    "        continue\n",
    "    \n",
    "    if menu == 1:\n",
    "        for i in range(1,10):\n",
    "            print(f\"{n} * {i} = {n * i} \")\n",
    "            break\n",
    "    elif menu == 2:\n",
    "        for i in range(1,n+1):\n",
    "            print(f\"===={i}단=====\")\n",
    "            for j in range(1,10):\n",
    "                print(f\"{i} * {j} = {i * j} \")\n",
    "                break\n",
    "    elif menu == 3:\n",
    "        while True:\n",
    "            m = int(input(\"몇 단까지 출력할까요?\"))\n",
    "            if n > m:\n",
    "                print(\"방금 입력한 단이 초기 단보다 작습니다\")\n",
    "                continue\n",
    "            for i in range(n,m+1):\n",
    "                    print(f\"==={i}단===\")\n",
    "                    for j in range(1,10):\n",
    "                        print(f\"{i} * {j} = {i * j} \")\n",
    "                    break\n",
    "    else :\n",
    "        print(\"메뉴를 다시 입력하세요\")\n",
    "        continue"
   ]
  },
  {
   "cell_type": "code",
   "execution_count": null,
   "id": "899c4bf9-01af-480b-9007-ac5b96583368",
   "metadata": {},
   "outputs": [],
   "source": [
    "# 잘한 예에서 아이디어 얻기\n",
    "while True:\n",
    "    start = int(input('시작 단 입력'))\n",
    "    end = int(input('끝 단 입력'))\n",
    "    if start > end:\n",
    "        print('시작단이 끝 단보다 큽니다. 다시 입력하세요')\n",
    "    else: # 2번\n",
    "        for loop\n",
    "        break"
   ]
  },
  {
   "cell_type": "code",
   "execution_count": null,
   "id": "fe465227-2618-4fde-807e-8690459f4a5a",
   "metadata": {},
   "outputs": [],
   "source": [
    "# 잘한 예 2\n",
    "while True:\n",
    "    print(\"=== 메뉴 ===\")\n",
    "    print('''\n",
    "    메뉴에서 출력할 구구단의 종류를 선택하세요.\n",
    "    주어진 번호 외의 메뉴 번호를 입력하시면 종료합니다.\n",
    "    \n",
    "    1) n\n",
    "    2) 1-n 까지\n",
    "    3) n-m 까지\n",
    "    \n",
    "    ''')\n",
    "    \n",
    "    menuNumber = int(input('메뉴 번호를 입력하세요.:'))\n",
    "    \n",
    "    if menuNumber == 1:\n",
    "        startDan = int(input('단 수를 입력하세요'))\n",
    "        endDan = startDan\n",
    "    elif menuNumber == 2:\n",
    "        startDan = 1\n",
    "        endDan = int(input('끝 단수를 입력하세요.'))\n",
    "    elif menuNumber == 3:\n",
    "        starDan = int(input('시작 단수를 입력하세요:'))\n",
    "        endDan = int(input('끝 단수를 입력하세요:'))\n",
    "    else:\n",
    "        print(\"종료합니다.\")\n",
    "        break\n",
    "    \n",
    "    if startDan > endDan:\n",
    "        print('시작 단이 끝 단보다 큽니다.',end='\\n\\n')\n",
    "        continue\n",
    "    \n",
    "    for i in range(startDan, endDan + 1):\n",
    "        print(f\"=== {i}단 ===\")\n",
    "        for loop #구구단"
   ]
  },
  {
   "cell_type": "markdown",
   "id": "1268e6fc-a02f-4ae1-ba8a-310ada57630a",
   "metadata": {},
   "source": [
    "-----------------------------nltk 수업------------------------------"
   ]
  },
  {
   "cell_type": "code",
   "execution_count": 2,
   "id": "23de92d2-f771-467e-9888-07f5753e49d2",
   "metadata": {},
   "outputs": [
    {
     "name": "stdout",
     "output_type": "stream",
     "text": [
      "*** Introductory Examples for the NLTK Book ***\n",
      "Loading text1, ..., text9 and sent1, ..., sent9\n",
      "Type the name of the text or sentence to view it.\n",
      "Type: 'texts()' or 'sents()' to list the materials.\n",
      "text1: Moby Dick by Herman Melville 1851\n",
      "text2: Sense and Sensibility by Jane Austen 1811\n",
      "text3: The Book of Genesis\n",
      "text4: Inaugural Address Corpus\n",
      "text5: Chat Corpus\n",
      "text6: Monty Python and the Holy Grail\n",
      "text7: Wall Street Journal\n",
      "text8: Personals Corpus\n",
      "text9: The Man Who Was Thursday by G . K . Chesterton 1908\n"
     ]
    }
   ],
   "source": [
    "import nltk\n",
    "from nltk.book import *\n",
    "# nltk.download('book',quiet=True)"
   ]
  },
  {
   "cell_type": "code",
   "execution_count": null,
   "id": "7a6bcb74-b68b-4226-b896-1e324a43ebd8",
   "metadata": {},
   "outputs": [],
   "source": [
    "# text 1~9까지 가져오기\n",
    "# 방법1: texts = [text1,...]\n",
    "# 방법2\n",
    "# text1 vs 'text1'\n",
    "# 'text1'은 스트링이고, text1은 어떤 기능이 포함되어 있는 변수\n",
    "# 따라서 text1~9 를 스트링으로 가져오고, 스트링에서 기능이 있는 것으로 바꿔줘야 함\n",
    " # text1~9 string 가져오기\n",
    " # string -> 겟 어트리 함수 fx : getattr(library,'string_name')\n",
    " # 'string_name'을 이 라이브러리에 있는 함수로 변경하는 함수"
   ]
  },
  {
   "cell_type": "code",
   "execution_count": 7,
   "id": "a3488f84-2a4f-46ee-ba94-b33cc6b945c1",
   "metadata": {},
   "outputs": [
    {
     "data": {
      "text/plain": [
       "<Text: Moby Dick by Herman Melville 1851>"
      ]
     },
     "execution_count": 7,
     "metadata": {},
     "output_type": "execute_result"
    }
   ],
   "source": [
    "# texts에 text1~9까지 한 번에 넣기.\n",
    "texts = [getattr(nltk.book,  f\"text{i}\") for i in range(1,10)]\n",
    "texts[0] #text1"
   ]
  },
  {
   "cell_type": "markdown",
   "id": "82021fbe-cc84-433d-b54f-6355af5d1c65",
   "metadata": {
    "tags": []
   },
   "source": [
    "### [nltk corpus]\n",
    "- 코퍼스 + 테마 (소설뿐만 아니라 다양)\n",
    "-종류\n",
    "    - brown\n",
    "    - gutenberg #저작권 만료된 문학작품 모아놓은 코퍼스\n",
    "    - inaugural\n",
    "    \n",
    "- 사용할 수 있는 methods\n",
    "    - .words(fileid=''): tokens와 똑같음. 토큰(단어)단위로 자른 것\n",
    "    - .sents(fileid='')\n",
    "    - .raw(fileid=''): '파일의 내용을 통으로 str안에 넣음'\n",
    "    - .fileids()\n",
    "\n"
   ]
  },
  {
   "cell_type": "code",
   "execution_count": 3,
   "id": "e9a7f2d7-9625-4bbc-948c-b02cc862c471",
   "metadata": {},
   "outputs": [
    {
     "name": "stderr",
     "output_type": "stream",
     "text": [
      "[nltk_data] Downloading package brown to\n",
      "[nltk_data]     C:\\Users\\Jung_a\\AppData\\Roaming\\nltk_data...\n",
      "[nltk_data]   Package brown is already up-to-date!\n",
      "[nltk_data] Downloading package gutenberg to\n",
      "[nltk_data]     C:\\Users\\Jung_a\\AppData\\Roaming\\nltk_data...\n",
      "[nltk_data]   Package gutenberg is already up-to-date!\n",
      "[nltk_data] Downloading package inaugural to\n",
      "[nltk_data]     C:\\Users\\Jung_a\\AppData\\Roaming\\nltk_data...\n",
      "[nltk_data]   Package inaugural is already up-to-date!\n"
     ]
    },
    {
     "data": {
      "text/plain": [
       "True"
      ]
     },
     "execution_count": 3,
     "metadata": {},
     "output_type": "execute_result"
    }
   ],
   "source": [
    "# 임포트\n",
    "from nltk.corpus import gutenberg\n",
    "nltk.download(['brown','gutenberg','inaugural'])"
   ]
  },
  {
   "cell_type": "code",
   "execution_count": 7,
   "id": "178a12d1-0313-4303-9f8a-deb46cdfc4d1",
   "metadata": {},
   "outputs": [
    {
     "data": {
      "text/plain": [
       "<PlaintextCorpusReader in 'C:\\\\Users\\\\Jung_a\\\\AppData\\\\Roaming\\\\nltk_data\\\\corpora\\\\gutenberg'>"
      ]
     },
     "execution_count": 7,
     "metadata": {},
     "output_type": "execute_result"
    }
   ],
   "source": [
    "gutenberg # = nltk.corpus.gutenberg"
   ]
  },
  {
   "cell_type": "code",
   "execution_count": 8,
   "id": "6d548478-e06c-463e-8e30-9386d2bcceb2",
   "metadata": {},
   "outputs": [
    {
     "data": {
      "text/plain": [
       "['austen-emma.txt',\n",
       " 'austen-persuasion.txt',\n",
       " 'austen-sense.txt',\n",
       " 'bible-kjv.txt',\n",
       " 'blake-poems.txt',\n",
       " 'bryant-stories.txt',\n",
       " 'burgess-busterbrown.txt',\n",
       " 'carroll-alice.txt',\n",
       " 'chesterton-ball.txt',\n",
       " 'chesterton-brown.txt',\n",
       " 'chesterton-thursday.txt',\n",
       " 'edgeworth-parents.txt',\n",
       " 'melville-moby_dick.txt',\n",
       " 'milton-paradise.txt',\n",
       " 'shakespeare-caesar.txt',\n",
       " 'shakespeare-hamlet.txt',\n",
       " 'shakespeare-macbeth.txt',\n",
       " 'whitman-leaves.txt']"
      ]
     },
     "execution_count": 8,
     "metadata": {},
     "output_type": "execute_result"
    }
   ],
   "source": [
    "gutenberg.fileids()"
   ]
  },
  {
   "cell_type": "code",
   "execution_count": null,
   "id": "ae55cf03-4505-419e-9113-a83ea7b8f78f",
   "metadata": {},
   "outputs": [],
   "source": [
    "# 각 파일마다 word, character, sents개수 출력\n",
    "# 파일에 접근\n",
    "# gutenberg.words(fileids=['원하는 파일이름1','원하는 파일이름2'])\n",
    "# 파일 하나에 접근할 경우, 리스트가 아닌 스트링으로 넣으면 됨"
   ]
  },
  {
   "cell_type": "code",
   "execution_count": 9,
   "id": "7450a528-e46f-4d20-8fbc-61b93ecf7df6",
   "metadata": {},
   "outputs": [
    {
     "name": "stdout",
     "output_type": "stream",
     "text": [
      "austen-emma.txt | 글자수=887071개, 단어수=192427개, 문장수=7752개\n",
      "austen-persuasion.txt | 글자수=466292개, 단어수=98171개, 문장수=3747개\n",
      "austen-sense.txt | 글자수=673022개, 단어수=141576개, 문장수=4999개\n",
      "bible-kjv.txt | 글자수=4332554개, 단어수=1010654개, 문장수=30103개\n",
      "blake-poems.txt | 글자수=38153개, 단어수=8354개, 문장수=438개\n",
      "bryant-stories.txt | 글자수=249439개, 단어수=55563개, 문장수=2863개\n",
      "burgess-busterbrown.txt | 글자수=84663개, 단어수=18963개, 문장수=1054개\n",
      "carroll-alice.txt | 글자수=144395개, 단어수=34110개, 문장수=1703개\n",
      "chesterton-ball.txt | 글자수=457450개, 단어수=96996개, 문장수=4779개\n",
      "chesterton-brown.txt | 글자수=406629개, 단어수=86063개, 문장수=3806개\n",
      "chesterton-thursday.txt | 글자수=320525개, 단어수=69213개, 문장수=3742개\n",
      "edgeworth-parents.txt | 글자수=935158개, 단어수=210663개, 문장수=10230개\n",
      "melville-moby_dick.txt | 글자수=1242990개, 단어수=260819개, 문장수=10059개\n",
      "milton-paradise.txt | 글자수=468220개, 단어수=96825개, 문장수=1851개\n",
      "shakespeare-caesar.txt | 글자수=112310개, 단어수=25833개, 문장수=2163개\n",
      "shakespeare-hamlet.txt | 글자수=162881개, 단어수=37360개, 문장수=3106개\n",
      "shakespeare-macbeth.txt | 글자수=100351개, 단어수=23140개, 문장수=1907개\n",
      "whitman-leaves.txt | 글자수=711215개, 단어수=154883개, 문장수=4250개\n"
     ]
    }
   ],
   "source": [
    "for txt in gutenberg.fileids():\n",
    "    word = gutenberg.words(fileids=txt)\n",
    "    sents = gutenberg.sents(fileids=txt)\n",
    "    character = gutenberg.raw(fileids=txt)\n",
    "    \n",
    "    print(f\"{txt} | 글자수={len(character)}개, 단어수={len(word)}개, 문장수={len(sents)}개\")\n",
    "\n",
    "# auten-emma | 글자수-1개, 단어 수-1개, 문장수-3개"
   ]
  },
  {
   "cell_type": "code",
   "execution_count": 12,
   "id": "3d8cc806-edc7-43d7-8657-cff4e901b310",
   "metadata": {},
   "outputs": [
    {
     "data": {
      "text/plain": [
       "'[Moby Dick by Herman Melville 1851]\\r\\n\\r\\n\\r\\nETYMOLOGY'"
      ]
     },
     "execution_count": 12,
     "metadata": {},
     "output_type": "execute_result"
    }
   ],
   "source": [
    "gutenberg.raw(fileids='melville-moby_dick.txt')[:50]"
   ]
  },
  {
   "cell_type": "code",
   "execution_count": 14,
   "id": "81905f0a-3f9b-4739-ac6e-1da50baabfb7",
   "metadata": {},
   "outputs": [
    {
     "ename": "IndexError",
     "evalue": "Replacement index 1 out of range for positional args tuple",
     "output_type": "error",
     "traceback": [
      "\u001b[1;31m---------------------------------------------------------------------------\u001b[0m",
      "\u001b[1;31mIndexError\u001b[0m                                Traceback (most recent call last)",
      "\u001b[1;32m~\\AppData\\Local\\Temp/ipykernel_14192/997252654.py\u001b[0m in \u001b[0;36m<module>\u001b[1;34m\u001b[0m\n\u001b[0;32m      4\u001b[0m     \u001b[0mcharacters\u001b[0m \u001b[1;33m=\u001b[0m \u001b[0mgutenberg\u001b[0m\u001b[1;33m.\u001b[0m\u001b[0mraw\u001b[0m\u001b[1;33m(\u001b[0m\u001b[0mfile\u001b[0m\u001b[1;33m)\u001b[0m\u001b[1;33m\u001b[0m\u001b[1;33m\u001b[0m\u001b[0m\n\u001b[0;32m      5\u001b[0m \u001b[1;33m\u001b[0m\u001b[0m\n\u001b[1;32m----> 6\u001b[1;33m     \u001b[0mprint\u001b[0m\u001b[1;33m(\u001b[0m\u001b[1;34m'{}{}{}{}'\u001b[0m\u001b[1;33m.\u001b[0m\u001b[0mformat\u001b[0m\u001b[1;33m(\u001b[0m\u001b[0mfile\u001b[0m\u001b[1;33m[\u001b[0m\u001b[1;33m:\u001b[0m\u001b[1;33m-\u001b[0m\u001b[1;36m4\u001b[0m\u001b[1;33m]\u001b[0m\u001b[1;33m)\u001b[0m\u001b[1;33m,\u001b[0m \u001b[0mlen\u001b[0m\u001b[1;33m(\u001b[0m\u001b[0mwords\u001b[0m\u001b[1;33m)\u001b[0m\u001b[1;33m,\u001b[0m \u001b[0mlen\u001b[0m\u001b[1;33m(\u001b[0m\u001b[0msents\u001b[0m\u001b[1;33m)\u001b[0m\u001b[1;33m,\u001b[0m \u001b[0mlen\u001b[0m\u001b[1;33m(\u001b[0m\u001b[0mcharacter\u001b[0m\u001b[1;33m)\u001b[0m\u001b[1;33m)\u001b[0m\u001b[1;33m\u001b[0m\u001b[1;33m\u001b[0m\u001b[0m\n\u001b[0m",
      "\u001b[1;31mIndexError\u001b[0m: Replacement index 1 out of range for positional args tuple"
     ]
    }
   ],
   "source": [
    "for file in gutenberg.fileids():\n",
    "    words = gutenberg.words(file)\n",
    "    sents = gutenberg.sents(file)\n",
    "    characters = gutenberg.raw(file)\n",
    "    \n",
    "    print('{}{}{}{}'.format(file[:-4]), len(words), len(sents), len(character))"
   ]
  },
  {
   "cell_type": "markdown",
   "id": "23fac58a-db5a-4f8c-9c02-f2b8d34363f3",
   "metadata": {},
   "source": [
    "### [gutenberg] \n",
    "- 1. shakespeare-caesar의 중복된 단어를 거르고 각 단어의 길이를 출력\n",
    "- 2. chesterton-thursday에서 길이가 4자 이하인 알파벳 중 ie를 포함하는 단어를 소문자로 출력하고, 개수를 세어라\n",
    "- 3. bryant-stories에서 ch로 끝나는 단어를 출력하는데, 중복없이, 첫 글자(모두 소문자)와 끝 ch만 남기고\n",
    "가운데 글자들은 모두 -로 가려라. (예: much -> \n",
    "m-ch)"
   ]
  },
  {
   "cell_type": "code",
   "execution_count": null,
   "id": "20c386fa-d91d-4c9f-95ea-99d5c6d775fa",
   "metadata": {},
   "outputs": [],
   "source": [
    "#1.\n",
    "# 중복된 단어를 완전히 거르기 위해서 lower로 바꾸고 마지막에  set\n",
    "\n",
    "words = set([word.lower() for word in gutenberg.words(fileids='shakespeare-caesar.txt')])\n",
    "for word in words:\n",
    "    print(f\"{word}의 길이: {len(word)}\")"
   ]
  },
  {
   "cell_type": "code",
   "execution_count": 11,
   "id": "596890a2-a848-4a15-ac96-faf3d821b160",
   "metadata": {},
   "outputs": [
    {
     "name": "stdout",
     "output_type": "stream",
     "text": [
      "{'tied', 'view', 'tie', 'die', 'lie', 'lies', 'erie', 'dies', 'pier', 'pie', 'died', 'foie'} 개수:  12\n"
     ]
    }
   ],
   "source": [
    "#2 chesterton-thursday에서 길이가 4자 이하인 알파벳 중 ie를 포함하는 단어를 소문자로 출력하고, 개수를 세어라\n",
    "words = set([word.lower() for word in gutenberg.words(fileids='chesterton-thursday.txt') if len(word) <= 4 and 'ie' in word ])\n",
    "print(words, \"개수: \",len(words))"
   ]
  },
  {
   "cell_type": "code",
   "execution_count": 17,
   "id": "c92ce61f-0487-40e5-a713-c4bceb8decb0",
   "metadata": {},
   "outputs": [
    {
     "name": "stdout",
     "output_type": "stream",
     "text": [
      "{'s----ch', 'f--ch', 'w--ch', 'f---ch', 's-ch', 'l--ch', 'c---ch', 't--ch', 'e-ch', 'p--ch', 's---ch', 'b---ch', 'a-ch', 'c--ch', 'm-ch', 't---ch', 'b--ch', 'r-ch', 'r--ch'}\n",
      "{'s----ch', 'f--ch', 'w--ch', 'f---ch', 's-ch', 'l--ch', 'c---ch', 't--ch', 'e-ch', 'p--ch', 's---ch', 'b---ch', 'a-ch', 'c--ch', 'm-ch', 't---ch', 'b--ch', 'r-ch', 'r--ch'}\n"
     ]
    }
   ],
   "source": [
    "#3 bryant-stories에서 ch로 끝나는 단어를 출력하는데, 중복없이, 첫 글자(모두 소문자)와 끝 ch만 남기고\n",
    "#가운데 글자들은 모두 -로 가려라.\n",
    "# 내 풀이\n",
    "set([word.lower()[0] + ('-' * (len(word)-3)) + word.lower()[-2:] for word in gutenberg.words(fileids='bryant-stories.txt') if word.endswith('ch')])\n",
    "print(mine)\n",
    "# 다른 사람 풀이: 아이디어 - 바꿔줘야 하는 부분만 바꿔줌\n",
    "set([word.lower().replace(word[1:-2],'-' * (len(word)-3)) for word in gutenberg.words(fileids='bryant-stories.txt') if word.endswith('ch')])"
   ]
  },
  {
   "cell_type": "markdown",
   "id": "25cf3702-f823-4fc0-a5d1-b50162e6b972",
   "metadata": {},
   "source": [
    "### [Brown] \n",
    "- 브라운 대학에서 만든 코퍼스\n",
    "- categories()\n",
    "- 기본적으로 words(), sents() 같은건 다 있음"
   ]
  },
  {
   "cell_type": "code",
   "execution_count": 19,
   "id": "700156fe-87b3-469b-8523-48c0eee791dc",
   "metadata": {},
   "outputs": [
    {
     "data": {
      "text/plain": [
       "['adventure',\n",
       " 'belles_lettres',\n",
       " 'editorial',\n",
       " 'fiction',\n",
       " 'government',\n",
       " 'hobbies',\n",
       " 'humor',\n",
       " 'learned',\n",
       " 'lore',\n",
       " 'mystery',\n",
       " 'news',\n",
       " 'religion',\n",
       " 'reviews',\n",
       " 'romance',\n",
       " 'science_fiction']"
      ]
     },
     "execution_count": 19,
     "metadata": {},
     "output_type": "execute_result"
    }
   ],
   "source": [
    "# 임포트\n",
    "brown = nltk.corpus.brown\n",
    "brown.categories()"
   ]
  },
  {
   "cell_type": "code",
   "execution_count": 21,
   "id": "013fcd43-be40-4116-ab68-9d59048fa301",
   "metadata": {},
   "outputs": [],
   "source": [
    "# FreqDist 사용\n",
    "fdist = nltk.FreqDist([w.lower() for w in brown.words(categories='adventure')])"
   ]
  },
  {
   "cell_type": "code",
   "execution_count": 29,
   "id": "03540dd8-e953-46a3-95d0-f6db59e2cbb5",
   "metadata": {},
   "outputs": [
    {
     "data": {
      "text/plain": [
       "83"
      ]
     },
     "execution_count": 29,
     "metadata": {},
     "output_type": "execute_result"
    }
   ],
   "source": [
    "# adventure에서 men의 Distribution 분포\n",
    "fdist['men']"
   ]
  },
  {
   "cell_type": "code",
   "execution_count": 22,
   "id": "0f8da203-b113-496c-ab6a-9339e7a08fc2",
   "metadata": {},
   "outputs": [
    {
     "name": "stdout",
     "output_type": "stream",
     "text": [
      "can 48\n",
      "could 154\n",
      "would 194\n",
      "may 7\n",
      "might 59\n",
      "will 51\n"
     ]
    }
   ],
   "source": [
    "# modal verbs 조동사\n",
    "modals = ['can','could','would','may','might','will']\n",
    "\n",
    "for verb in modals:\n",
    "    print(verb,fdist[verb])\n",
    "    \n",
    "# 앞에서 fdist = nltk.FreqDist([w.lower() for w in brown.words(categories='adventure')])\n",
    "# 꼭해줘야함!"
   ]
  },
  {
   "cell_type": "markdown",
   "id": "25620e48-bf47-4bd5-98d5-270ed74b908a",
   "metadata": {},
   "source": [
    "### [conditional frequency distribution]\n",
    "- 브라운에서 클래스로 만들어 놓은 것\n",
    "- 조건에 따른 fdist\n"
   ]
  },
  {
   "cell_type": "code",
   "execution_count": 27,
   "id": "219fd935-3001-4a3d-862a-a9aacf9bb8db",
   "metadata": {},
   "outputs": [],
   "source": [
    "cfd = nltk.ConditionalFreqDist(\n",
    "# 각 장르에 따른 frequenct distribution을 만든다. \n",
    "# 리스트 컴프리핸션이 두번. 장르랑 월드.\n",
    "# 장르에 따른 word의 프리퀀시.\n",
    "    (genre, word.lower()) #lower()로 대소문자 \n",
    "    for genre in brown.categories() # 카테고리에서 장르 하나씩 뽑기\n",
    "    for word in brown.words(categories=genre) #장르에 따른 word\n",
    ")\n",
    "\n",
    "# ConditionalFreqDist() 클래스에 장르랑 해당 장르의 단어를 리스트컴프리로 넣으면 \n",
    "# 장르의 단어의 빈도가 저장된다."
   ]
  },
  {
   "cell_type": "code",
   "execution_count": 28,
   "id": "d4e4c0ae-68ad-4f29-83d9-bb02b7af5f5c",
   "metadata": {},
   "outputs": [
    {
     "data": {
      "text/plain": [
       "FreqDist({',': 3899, '.': 3736, 'the': 2758, 'and': 1776, 'to': 1502, 'a': 1335, 'of': 1186, '``': 1045, \"''\": 1044, 'was': 993, ...})"
      ]
     },
     "execution_count": 28,
     "metadata": {},
     "output_type": "execute_result"
    }
   ],
   "source": [
    "cfd['romance']"
   ]
  },
  {
   "cell_type": "code",
   "execution_count": 33,
   "id": "ab9901c1-732c-44f9-977b-1cba2f405f5b",
   "metadata": {},
   "outputs": [
    {
     "data": {
      "text/plain": [
       "[(',', 3899),\n",
       " ('.', 3736),\n",
       " ('the', 2758),\n",
       " ('and', 1776),\n",
       " ('to', 1502),\n",
       " ('a', 1335),\n",
       " ('of', 1186),\n",
       " ('``', 1045),\n",
       " (\"''\", 1044),\n",
       " ('was', 993)]"
      ]
     },
     "execution_count": 33,
     "metadata": {},
     "output_type": "execute_result"
    }
   ],
   "source": [
    "cfd['romance'].most_common(10)"
   ]
  },
  {
   "cell_type": "code",
   "execution_count": 36,
   "id": "6b8b0f71-40ed-4dc8-aee7-d552c2ef0e2b",
   "metadata": {},
   "outputs": [
    {
     "data": {
      "text/plain": [
       "32"
      ]
     },
     "execution_count": 36,
     "metadata": {},
     "output_type": "execute_result"
    }
   ],
   "source": [
    "# 로맨스에서 love의 프리퀀시 찾기\n",
    "cfd['romance']['love']"
   ]
  },
  {
   "cell_type": "code",
   "execution_count": 37,
   "id": "a88bac5e-6843-4084-aff8-423ff0758e27",
   "metadata": {},
   "outputs": [
    {
     "data": {
      "text/plain": [
       "4695"
      ]
     },
     "execution_count": 37,
     "metadata": {},
     "output_type": "execute_result"
    }
   ],
   "source": [
    "len(cfd['romance'].hapaxes())"
   ]
  },
  {
   "cell_type": "code",
   "execution_count": null,
   "id": "d692b864-9a4e-487b-a0b0-4494c5ffbd26",
   "metadata": {},
   "outputs": [],
   "source": []
  },
  {
   "cell_type": "code",
   "execution_count": null,
   "id": "e1eb0997-c228-4436-a032-ee2ac5a87f9c",
   "metadata": {},
   "outputs": [],
   "source": []
  },
  {
   "cell_type": "code",
   "execution_count": null,
   "id": "d1eadf76-bf70-4f74-bc92-39f524381602",
   "metadata": {},
   "outputs": [],
   "source": []
  },
  {
   "cell_type": "code",
   "execution_count": null,
   "id": "7e369abb-30c3-4281-bbaa-fab1c00f1592",
   "metadata": {},
   "outputs": [],
   "source": []
  },
  {
   "cell_type": "code",
   "execution_count": null,
   "id": "016b493d-fc79-483f-84be-94c9cf375924",
   "metadata": {},
   "outputs": [],
   "source": []
  },
  {
   "cell_type": "code",
   "execution_count": null,
   "id": "3cd06fb0-5309-47b4-a747-89c5f278041a",
   "metadata": {},
   "outputs": [],
   "source": []
  },
  {
   "cell_type": "code",
   "execution_count": null,
   "id": "49bf3361-11ad-40d6-870a-9af4d87d9d3c",
   "metadata": {},
   "outputs": [],
   "source": []
  },
  {
   "cell_type": "code",
   "execution_count": null,
   "id": "77954672-2f5b-4f40-91a8-4d663c39bd4c",
   "metadata": {},
   "outputs": [],
   "source": []
  },
  {
   "cell_type": "code",
   "execution_count": null,
   "id": "9d3d26fc-cd9c-40a1-9334-a313969d4fb3",
   "metadata": {},
   "outputs": [],
   "source": []
  },
  {
   "cell_type": "code",
   "execution_count": null,
   "id": "fa207b62-60d8-49d8-ab73-edccff37d992",
   "metadata": {},
   "outputs": [],
   "source": []
  },
  {
   "cell_type": "code",
   "execution_count": null,
   "id": "e80d7b12-6813-434f-b0fc-c4d7e61a8d0e",
   "metadata": {},
   "outputs": [],
   "source": []
  },
  {
   "cell_type": "code",
   "execution_count": null,
   "id": "8f89c521-ea52-4362-8cf5-021360aa3170",
   "metadata": {},
   "outputs": [],
   "source": []
  },
  {
   "cell_type": "code",
   "execution_count": null,
   "id": "54a2ec9a-6a69-4e96-9024-228108196a81",
   "metadata": {},
   "outputs": [],
   "source": []
  },
  {
   "cell_type": "code",
   "execution_count": null,
   "id": "8a52d9fb-f546-4b65-9725-29f45e35cef7",
   "metadata": {},
   "outputs": [],
   "source": []
  },
  {
   "cell_type": "code",
   "execution_count": null,
   "id": "77b0dfdc-a75e-45e8-8a98-8b58de16dcdf",
   "metadata": {},
   "outputs": [],
   "source": []
  },
  {
   "cell_type": "code",
   "execution_count": null,
   "id": "dfb7f57e-13c5-4eba-b982-35fa1fff63b6",
   "metadata": {},
   "outputs": [],
   "source": []
  }
 ],
 "metadata": {
  "kernelspec": {
   "display_name": "Python 3 (ipykernel)",
   "language": "python",
   "name": "python3"
  },
  "language_info": {
   "codemirror_mode": {
    "name": "ipython",
    "version": 3
   },
   "file_extension": ".py",
   "mimetype": "text/x-python",
   "name": "python",
   "nbconvert_exporter": "python",
   "pygments_lexer": "ipython3",
   "version": "3.9.7"
  }
 },
 "nbformat": 4,
 "nbformat_minor": 5
}
