{
 "cells": [
  {
   "cell_type": "markdown",
   "id": "398a1cc3-403a-4894-9b0f-49522f742e59",
   "metadata": {},
   "source": [
    "파이썬 파일과 다른 점. 노트 테이킹을 할 수 있다. \n",
    "누르고 b를 누르면 새 셀이 만들어지고\n",
    "쉬프트 엔터를 누르면 실행가능.\n",
    "마크다운 문법 \n",
    "# 제목1 (#하고 스페이스바 한다음에 쉬프트+엔터 해야함)\n",
    "## 제목2\n",
    "### 제목 3 (점점 줄어듦)\n",
    "혹은 누르고 m을 누르면 마크다운이 됨.\n",
    "마크다운 아이템 설정도 가능\n",
    "- 아이템 #- 하고 띄어쓰기 하면 아이템됨\n",
    "\n",
    "코드라인에 #을 달면 주석\n",
    "\n",
    "삭제는 누르고 dd\n"
   ]
  },
  {
   "cell_type": "code",
   "execution_count": null,
   "id": "c2503be7-f906-41e4-9fc7-9140a259c616",
   "metadata": {},
   "outputs": [],
   "source": []
  },
  {
   "cell_type": "markdown",
   "id": "2c5e0265-3e83-41b3-9dcc-79ceb6183b24",
   "metadata": {
    "tags": []
   },
   "source": [
    "## 프로그래밍\n",
    "    - 프로그래밍 언어를 사용하여 프로그램을 개발하는 것\n",
    "    - 프로그래밍 언어를 배우는 것 자체로 논리적인 사고를 키울 수 있음\n",
    "\n",
    "## programming language?\n",
    "    - 프로그램을 개발 시 사용하는 도구\n",
    "    - 인간이 원하는 것을 컴퓨터에게 명령할 때 사용하는 컴퓨터가 이해할 수 있는 언어\n",
    "\n",
    "## 파이썬?\n",
    "    - 쉽다. 간결하다\n",
    "    - 라이 브러리가 많다. "
   ]
  },
  {
   "cell_type": "markdown",
   "id": "29827837-fbcf-4848-b10a-3ad95cf1ecac",
   "metadata": {},
   "source": [
    "## Chapter 2 Data : Types, Values, Variables, and Names"
   ]
  },
  {
   "cell_type": "code",
   "execution_count": 5,
   "id": "54ef35ad-7c8d-4f4e-b9df-e8dcbbbd28f3",
   "metadata": {},
   "outputs": [],
   "source": [
    "a = 2"
   ]
  },
  {
   "cell_type": "markdown",
   "id": "c425c978-ad7d-4d6d-8431-de059a2d0d45",
   "metadata": {},
   "source": [
    "- 변수 variable: 특정 값을 저장하는 공간\n",
    "- 값 value: 2\n",
    "- 할당하다 assign: 변수에 값을 넣는 과정. \n",
    "    \"2를 a에 넣었다.\"\n",
    "    *** a는 2다 a == 2 (값이 트루, 펄스가 뜸) 둘은 다르다.\n",
    "\n",
    "- 자료형 type : 데이터의 형태\n",
    "    a 데이터의 형태? integer.\n"
   ]
  },
  {
   "cell_type": "markdown",
   "id": "89a925d4-d619-4d3b-a10d-d30a6203876e",
   "metadata": {},
   "source": [
    "type(a)"
   ]
  },
  {
   "cell_type": "code",
   "execution_count": 6,
   "id": "3ba0b7f7-da2d-48d0-84df-40ccaecdcbf1",
   "metadata": {},
   "outputs": [
    {
     "data": {
      "text/plain": [
       "int"
      ]
     },
     "execution_count": 6,
     "metadata": {},
     "output_type": "execute_result"
    }
   ],
   "source": [
    "type(a)"
   ]
  },
  {
   "cell_type": "code",
   "execution_count": 7,
   "id": "cbdfd70b-9d3a-466c-9b35-3922adc36045",
   "metadata": {},
   "outputs": [
    {
     "data": {
      "text/plain": [
       "bool"
      ]
     },
     "execution_count": 7,
     "metadata": {},
     "output_type": "execute_result"
    }
   ],
   "source": [
    "type(a == 2) "
   ]
  },
  {
   "cell_type": "markdown",
   "id": "192d9697-93fe-492a-a69b-a0ad45e03f7e",
   "metadata": {},
   "source": [
    "### Type\n",
    "- integer : 정수 (int)\n",
    "- floating point number(float) : 부동소수점. ex | 1.0,0.4  | 같은 1이라고 해도 1.0은 타입이 다름\n",
    "- string : 문자열(str) | ex : \"I', \"apple\"\n",
    "- boolean : 불리언(bool) | ex : True, False\n",
    "\n",
    "웬만하면 print(\"kim\")하지말고, name = \"kim\" 하고 변수명을 사용해라."
   ]
  },
  {
   "cell_type": "markdown",
   "id": "b6a319f2-4387-4e79-b990-9571e0f07d80",
   "metadata": {},
   "source": [
    "### 할당\n",
    "- = 기호를 사용한다.\n",
    "- 오른쪽의 값을 왼쪽에 할당한다.\n",
    "    1. 오른쪽에 있는 모든 것은 값을 가져야 한다. (초기화를 해야 한다)\n",
    "    2. 같은 변수에 다르값을 넣을 수 있다."
   ]
  },
  {
   "cell_type": "code",
   "execution_count": 12,
   "id": "34debe8d-243d-4117-bbd8-be1d4ddd816c",
   "metadata": {},
   "outputs": [
    {
     "data": {
      "text/plain": [
       "(4, 7)"
      ]
     },
     "execution_count": 12,
     "metadata": {},
     "output_type": "execute_result"
    }
   ],
   "source": [
    "x = 4 # 초기화\n",
    "y = 3 + x\n",
    "x, y"
   ]
  },
  {
   "cell_type": "code",
   "execution_count": 10,
   "id": "af2bbc52-2c6e-4d0c-9863-b550f634621c",
   "metadata": {},
   "outputs": [
    {
     "name": "stdout",
     "output_type": "stream",
     "text": [
      "lee\n"
     ]
    }
   ],
   "source": [
    "name = \"kim\"\n",
    "name = \"lee\"\n",
    "print(name) # 변수명 동일하게 사용하지 말라"
   ]
  },
  {
   "cell_type": "markdown",
   "id": "5b025e3c-9349-406d-a51b-d775a55539e0",
   "metadata": {},
   "source": [
    "### 변수명 정하기\n",
    "- 나쁜 변수명: a,b,c,a1 ... 절대 쓰지 않기.\n",
    "- 의미 있는 이름으로 선언해야 한다,\n",
    "- 소문자, 대문자, 숫자, 언더바를 사용한다. 예: name, name2, my_name, Name, NAME\n",
    "- 쉼표 넣고 싶다면, sep=','로.\n",
    "- 띄어쓰기 대신, 언더바를 쓰거나 카멜 표기법 사용 (myName)"
   ]
  },
  {
   "cell_type": "code",
   "execution_count": 13,
   "id": "74aa233f-3153-4e50-b9f1-7a93b2e6bd14",
   "metadata": {},
   "outputs": [
    {
     "name": "stdout",
     "output_type": "stream",
     "text": [
      "ariana,jessica\n"
     ]
    }
   ],
   "source": [
    "name = \"ariana\"\n",
    "name1 = \"jessica\"\n",
    "print(name, name1, sep=',')"
   ]
  },
  {
   "cell_type": "markdown",
   "id": "2a8d7569-a614-45a2-bbc8-5d47a6ae4c8e",
   "metadata": {},
   "source": [
    "- 안되는 것\n",
    "    - 숫자로 시작할 수 없다.\n",
    "    - 예: 22name, 22_name\n",
    "    - 예약어 | 예: def, false, ...\n",
    "    - 예약어란 문법에서 사용하는 이름\n",
    "    - help(\"keywords\")하면 예약어 알려줌"
   ]
  },
  {
   "cell_type": "code",
   "execution_count": 15,
   "id": "6e1ccdc8-a5d8-4b62-b650-f116aea9783a",
   "metadata": {},
   "outputs": [
    {
     "name": "stdout",
     "output_type": "stream",
     "text": [
      "\n",
      "Here is a list of the Python keywords.  Enter any keyword to get more help.\n",
      "\n",
      "False               break               for                 not\n",
      "None                class               from                or\n",
      "True                continue            global              pass\n",
      "__peg_parser__      def                 if                  raise\n",
      "and                 del                 import              return\n",
      "as                  elif                in                  try\n",
      "assert              else                is                  while\n",
      "async               except              lambda              with\n",
      "await               finally             nonlocal            yield\n",
      "\n"
     ]
    }
   ],
   "source": [
    "help(\"keywords\")"
   ]
  },
  {
   "cell_type": "markdown",
   "id": "d9a89235-4e12-4ab0-8a08-c2e585feb8c5",
   "metadata": {},
   "source": [
    "- 조심할 것 : 특별한 용도가 있기 때문에 지양해야하는 경우\n",
    "    - 언더바로시작하는 변수명 : _name (클래스 내부 변수를 지칭)\n",
    "    - 더블 언더바로 시작하는 변수명 : __name__\n",
    "    - 대문자로 시작하는 변수명: Name\n",
    "    - 전체 대문자 : NAME\n",
    "    - 특수문자 : name!\n"
   ]
  },
  {
   "cell_type": "code",
   "execution_count": 17,
   "id": "9ed97806-a4b3-47b9-962b-5d448754dbe6",
   "metadata": {},
   "outputs": [
    {
     "data": {
      "text/plain": [
       "False"
      ]
     },
     "execution_count": 17,
     "metadata": {},
     "output_type": "execute_result"
    }
   ],
   "source": [
    "# 변수명은 대소문자 구분한다.\n",
    "num = 11\n",
    "Num = 12\n",
    "num == Num"
   ]
  },
  {
   "cell_type": "code",
   "execution_count": 18,
   "id": "1b3e93b6-a047-46a4-8d5b-a08d1c2892da",
   "metadata": {},
   "outputs": [
    {
     "data": {
      "text/plain": [
       "False"
      ]
     },
     "execution_count": 18,
     "metadata": {},
     "output_type": "execute_result"
    }
   ],
   "source": [
    "num = \"number\"\n",
    "Num = \"Number\"\n",
    "num == Num"
   ]
  },
  {
   "cell_type": "code",
   "execution_count": null,
   "id": "34736716-bcc7-4214-8967-32601f71ee1b",
   "metadata": {},
   "outputs": [],
   "source": []
  }
 ],
 "metadata": {
  "kernelspec": {
   "display_name": "Python 3 (ipykernel)",
   "language": "python",
   "name": "python3"
  },
  "language_info": {
   "codemirror_mode": {
    "name": "ipython",
    "version": 3
   },
   "file_extension": ".py",
   "mimetype": "text/x-python",
   "name": "python",
   "nbconvert_exporter": "python",
   "pygments_lexer": "ipython3",
   "version": "3.9.7"
  }
 },
 "nbformat": 4,
 "nbformat_minor": 5
}
