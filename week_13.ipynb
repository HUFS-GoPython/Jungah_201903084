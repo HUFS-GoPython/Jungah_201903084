{
 "cells": [
  {
   "cell_type": "markdown",
   "id": "575b1a3d-51a5-42b4-8052-ec34915f69ae",
   "metadata": {},
   "source": [
    "### Week 13"
   ]
  },
  {
   "cell_type": "markdown",
   "id": "80ea7ce5-50b0-4209-b607-990ca0cc83cb",
   "metadata": {},
   "source": [
    "### [함수 2]\n",
    "- 일급 객체\n",
    "- 중첩 함수\n",
    "- 익명 함수\n",
    "- 제너레이터\n",
    "- 재귀함수"
   ]
  },
  {
   "cell_type": "markdown",
   "id": "9af233c7-7bf8-49d3-a33e-a6775a64bfdc",
   "metadata": {},
   "source": [
    "#### [일급 객체]\n",
    "- first class object, first class citizen\n",
    "- 함수도 파이썬에서는 일급 객체다.\n",
    "- 일급 객체의 조건\n",
    "    - 함수의 인자로 전달된다.\n",
    "        def fx(function) <- 인자에 함수가 들어감\n",
    "    - 함수의 반환값이 된다.\n",
    "        def fx(func):\n",
    "            return func <- func() 가 아님\n",
    "    - 수정, 할당이 된다.\n",
    "        var = fx()\n",
    "        "
   ]
  },
  {
   "cell_type": "code",
   "execution_count": 1,
   "id": "9a0998d8-7302-4f4d-b7cb-53f30b5c85cd",
   "metadata": {},
   "outputs": [
    {
     "name": "stdout",
     "output_type": "stream",
     "text": [
      "42\n"
     ]
    }
   ],
   "source": [
    "def answer():\n",
    "    print(42)\n",
    "\n",
    "def run_sth(func):\n",
    "    func() # func vs func() 차이: ()는 실행하라는 뜻\n",
    "\n",
    "run_sth(answer)"
   ]
  },
  {
   "cell_type": "code",
   "execution_count": 2,
   "id": "0a5ea996-b7b6-41e5-9fe5-b428c342a78d",
   "metadata": {},
   "outputs": [
    {
     "name": "stdout",
     "output_type": "stream",
     "text": [
      "8\n"
     ]
    }
   ],
   "source": [
    "def add_args(arg1,arg2):\n",
    "    print(arg1 + arg2)\n",
    "\n",
    "def run_sth2(func, *args):\n",
    "    func(*args)\n",
    "\n",
    "run_sth2(add_args,3,5)"
   ]
  },
  {
   "cell_type": "markdown",
   "id": "9b4b9381-3b8e-4fcf-a820-7019a97517b4",
   "metadata": {},
   "source": [
    "#### [중첩함수]\n",
    "- 함수 내에서 또 다른 함수를 정의하는 것\n",
    "- 내부함수 캡슐화할 때 사용\n",
    "    - 메모리 절약 (outer을 지워도 inner가 돌아가게 할 수 있음)\n",
    "    - 변수가 섞여서 불필요하게 충돌하는 것을 방지함\n",
    "    - 목적에 맞게 변수를 그룹화 할 수 있음. 관리, 책임 명확히."
   ]
  },
  {
   "cell_type": "code",
   "execution_count": 1,
   "id": "b147c575-d454-4f37-a82b-85319939ba7e",
   "metadata": {},
   "outputs": [
    {
     "data": {
      "text/plain": [
       "2"
      ]
     },
     "execution_count": 1,
     "metadata": {},
     "output_type": "execute_result"
    }
   ],
   "source": [
    "def outer(a,b): # 외부함수\n",
    "    def inner(c,d): # 내부함수\n",
    "        return c+d\n",
    "    return inner(a,b)\n",
    "\n",
    "outer(1,1)"
   ]
  },
  {
   "cell_type": "code",
   "execution_count": 4,
   "id": "3a189983-bd46-4799-b069-95960608eeda",
   "metadata": {},
   "outputs": [
    {
     "ename": "NameError",
     "evalue": "name 'c' is not defined",
     "output_type": "error",
     "traceback": [
      "\u001b[1;31m---------------------------------------------------------------------------\u001b[0m",
      "\u001b[1;31mNameError\u001b[0m                                 Traceback (most recent call last)",
      "\u001b[1;32m~\\AppData\\Local\\Temp/ipykernel_29524/3235490055.py\u001b[0m in \u001b[0;36m<module>\u001b[1;34m\u001b[0m\n\u001b[1;32m----> 1\u001b[1;33m \u001b[0mc\u001b[0m\u001b[1;33m\u001b[0m\u001b[1;33m\u001b[0m\u001b[0m\n\u001b[0m",
      "\u001b[1;31mNameError\u001b[0m: name 'c' is not defined"
     ]
    }
   ],
   "source": [
    "c"
   ]
  },
  {
   "cell_type": "code",
   "execution_count": 4,
   "id": "479cb631-927f-4bf8-92f7-5632832e8a19",
   "metadata": {},
   "outputs": [
    {
     "ename": "NameError",
     "evalue": "name 'inner' is not defined",
     "output_type": "error",
     "traceback": [
      "\u001b[1;31m---------------------------------------------------------------------------\u001b[0m",
      "\u001b[1;31mNameError\u001b[0m                                 Traceback (most recent call last)",
      "\u001b[1;32m~\\AppData\\Local\\Temp/ipykernel_26376/4275376779.py\u001b[0m in \u001b[0;36m<module>\u001b[1;34m\u001b[0m\n\u001b[1;32m----> 1\u001b[1;33m \u001b[0minner\u001b[0m\u001b[1;33m(\u001b[0m\u001b[1;36m1\u001b[0m\u001b[1;33m,\u001b[0m\u001b[1;36m1\u001b[0m\u001b[1;33m)\u001b[0m\u001b[1;33m\u001b[0m\u001b[1;33m\u001b[0m\u001b[0m\n\u001b[0m",
      "\u001b[1;31mNameError\u001b[0m: name 'inner' is not defined"
     ]
    }
   ],
   "source": [
    "inner(1,1)\n",
    "\n",
    "# 안에 있어서 밖에서 건드릴 수 없음"
   ]
  },
  {
   "cell_type": "code",
   "execution_count": 5,
   "id": "8cca64be-7a62-4cef-8465-7489ee1dbe75",
   "metadata": {},
   "outputs": [],
   "source": [
    "def knight(saying):\n",
    "    def inner(): # 내부함수에 외부함수 인자를 안받아도 사용 가능\n",
    "        return f'We are the knights who say: {saying}'\n",
    "    return inner\n",
    "\n",
    "a = knight('hi') #아직 실행은 안됨\n",
    "b = knight('안녕')"
   ]
  },
  {
   "cell_type": "markdown",
   "id": "4e1c1654-9145-453b-89c7-ac1e62af7953",
   "metadata": {},
   "source": [
    "- 내부함수에서 외부함수의 인자를 \"참조\"할 수 있다. \n",
    "- 인자를 수정/활용은 안됨. (어팬드, 값 더하기 등등)\n",
    "- 리스트에다 인자를 넣는다던지는 안됨."
   ]
  },
  {
   "cell_type": "code",
   "execution_count": 6,
   "id": "36cc964e-3e0b-451d-84ed-85cd82dd4453",
   "metadata": {},
   "outputs": [
    {
     "data": {
      "text/plain": [
       "<function __main__.knight.<locals>.inner()>"
      ]
     },
     "execution_count": 6,
     "metadata": {},
     "output_type": "execute_result"
    }
   ],
   "source": [
    "a"
   ]
  },
  {
   "cell_type": "code",
   "execution_count": 7,
   "id": "35e5393b-2a00-4ebb-92b8-86b07e4d1551",
   "metadata": {},
   "outputs": [
    {
     "data": {
      "text/plain": [
       "'We are the knights who say: hi'"
      ]
     },
     "execution_count": 7,
     "metadata": {},
     "output_type": "execute_result"
    }
   ],
   "source": [
    "a()"
   ]
  },
  {
   "cell_type": "markdown",
   "id": "b75c35eb-07ec-4db0-b455-f21c4dd469c4",
   "metadata": {},
   "source": [
    "#### [클로저 | closure]\n",
    "- 조건이 중족되면 클로저\n",
    "    1. 중첩 함수여야 한다.\n",
    "    2. 내부함수가 외부함수의 상태 값을 참조할 것.\n",
    "    3. 외부함수의 리턴 값이 내부함수 자체일 것\n",
    "    \n",
    "- 정의: 외부함수의 상태값을 기억하는 함수(호출 시 사용 가능)    "
   ]
  },
  {
   "cell_type": "code",
   "execution_count": 3,
   "id": "42809e0d-d7a6-4cce-b839-1553425af22f",
   "metadata": {},
   "outputs": [],
   "source": [
    "def multiply(x):\n",
    "    def inner(y):\n",
    "        return x - y\n",
    "    return inner\n"
   ]
  },
  {
   "cell_type": "code",
   "execution_count": 4,
   "id": "35323efc-1d7b-49ec-8223-5b311816d5a5",
   "metadata": {},
   "outputs": [],
   "source": [
    "m = multiply(5) #여기에 들어가는 인자는 외부함수의 인자(x)\n",
    "n = multiply(6)"
   ]
  },
  {
   "cell_type": "code",
   "execution_count": 5,
   "id": "2848f82c-8639-44bb-b7b1-b88d1ea44d85",
   "metadata": {},
   "outputs": [
    {
     "data": {
      "text/plain": [
       "(<function __main__.multiply.<locals>.inner(y)>,\n",
       " <function __main__.multiply.<locals>.inner(y)>)"
      ]
     },
     "execution_count": 5,
     "metadata": {},
     "output_type": "execute_result"
    }
   ],
   "source": [
    "m,n"
   ]
  },
  {
   "cell_type": "code",
   "execution_count": 6,
   "id": "f79350ae-de29-4ab7-bb3a-bdb991ffb6e6",
   "metadata": {},
   "outputs": [
    {
     "data": {
      "text/plain": [
       "-5"
      ]
     },
     "execution_count": 6,
     "metadata": {},
     "output_type": "execute_result"
    }
   ],
   "source": [
    "m(10) #한번 더 하면 내부함수의 인자(y)에 접근"
   ]
  },
  {
   "cell_type": "code",
   "execution_count": 7,
   "id": "23bcfff4-dc3e-4fa2-a598-b7ba8e55b6f4",
   "metadata": {},
   "outputs": [
    {
     "data": {
      "text/plain": [
       "-2"
      ]
     },
     "execution_count": 7,
     "metadata": {},
     "output_type": "execute_result"
    }
   ],
   "source": [
    "multiply(5)(7)"
   ]
  },
  {
   "cell_type": "code",
   "execution_count": 8,
   "id": "ac694dc6-76f5-4d27-aad1-74e394208635",
   "metadata": {},
   "outputs": [
    {
     "data": {
      "text/plain": [
       "<function __main__.multiply.<locals>.inner(y)>"
      ]
     },
     "execution_count": 8,
     "metadata": {},
     "output_type": "execute_result"
    }
   ],
   "source": [
    "multiply(5) #한번만 하면 값이 나오지 않음"
   ]
  },
  {
   "cell_type": "markdown",
   "id": "09c3da23-5007-4462-a587-313e15aed4b1",
   "metadata": {},
   "source": [
    "클로저의 장점 1. 재활용 가능 : m안에 multiply(5)가 있다는 점에서"
   ]
  },
  {
   "cell_type": "code",
   "execution_count": 16,
   "id": "b0e5e733-4859-489c-8033-e568524d254d",
   "metadata": {},
   "outputs": [],
   "source": [
    "del(multiply)"
   ]
  },
  {
   "cell_type": "code",
   "execution_count": 17,
   "id": "a28ea180-8c73-4156-8df7-11abacc8aa24",
   "metadata": {},
   "outputs": [
    {
     "data": {
      "text/plain": [
       "40"
      ]
     },
     "execution_count": 17,
     "metadata": {},
     "output_type": "execute_result"
    }
   ],
   "source": [
    "m(8) # multiply가 지워졌지만, m에 있는 multiply(5)는 남아있음"
   ]
  },
  {
   "cell_type": "code",
   "execution_count": 18,
   "id": "579d0611-b71d-46ca-a2c4-391eae7538a6",
   "metadata": {},
   "outputs": [
    {
     "ename": "NameError",
     "evalue": "name 'multiply' is not defined",
     "output_type": "error",
     "traceback": [
      "\u001b[1;31m---------------------------------------------------------------------------\u001b[0m",
      "\u001b[1;31mNameError\u001b[0m                                 Traceback (most recent call last)",
      "\u001b[1;32m~\\AppData\\Local\\Temp/ipykernel_26376/330517852.py\u001b[0m in \u001b[0;36m<module>\u001b[1;34m\u001b[0m\n\u001b[1;32m----> 1\u001b[1;33m \u001b[0mmultiply\u001b[0m\u001b[1;33m\u001b[0m\u001b[1;33m\u001b[0m\u001b[0m\n\u001b[0m",
      "\u001b[1;31mNameError\u001b[0m: name 'multiply' is not defined"
     ]
    }
   ],
   "source": [
    "multiply"
   ]
  },
  {
   "cell_type": "markdown",
   "id": "32a448da-7640-4796-8947-dbd12b283fcb",
   "metadata": {},
   "source": [
    "클로저의 장점 2. (외부함수가 저장된 )객체는 따로 기억. 메모리가 효율적으로 사용됨"
   ]
  },
  {
   "cell_type": "code",
   "execution_count": null,
   "id": "3d2204d6-f0d4-4960-8522-cfa6ed84a04e",
   "metadata": {},
   "outputs": [],
   "source": [
    "# 실습!\n",
    "# 내부함수가 외부함수의 인자를 가져올때, 그 인자가 함수인 경우"
   ]
  },
  {
   "cell_type": "code",
   "execution_count": null,
   "id": "22d7be5a-48a3-47a8-98fa-8655dcd3271b",
   "metadata": {},
   "outputs": [],
   "source": [
    "def add(a,b):\n",
    "    return a + b\n",
    "\n",
    "# 리턴값 * 리턴값 ( 8 * 8)\n",
    "def square(func):\n",
    "    return"
   ]
  },
  {
   "cell_type": "code",
   "execution_count": 5,
   "id": "34398cc5-ba57-45e1-bd34-ec2ec7c1cee7",
   "metadata": {},
   "outputs": [
    {
     "ename": "NameError",
     "evalue": "name 'add' is not defined",
     "output_type": "error",
     "traceback": [
      "\u001b[1;31m---------------------------------------------------------------------------\u001b[0m",
      "\u001b[1;31mNameError\u001b[0m                                 Traceback (most recent call last)",
      "\u001b[1;32m~\\AppData\\Local\\Temp/ipykernel_29524/2271574230.py\u001b[0m in \u001b[0;36m<module>\u001b[1;34m\u001b[0m\n\u001b[0;32m      4\u001b[0m     \u001b[1;32mreturn\u001b[0m \u001b[0madd\u001b[0m\u001b[1;33m\u001b[0m\u001b[1;33m\u001b[0m\u001b[0m\n\u001b[0;32m      5\u001b[0m \u001b[1;33m\u001b[0m\u001b[0m\n\u001b[1;32m----> 6\u001b[1;33m \u001b[0mx\u001b[0m \u001b[1;33m=\u001b[0m \u001b[0msquare\u001b[0m\u001b[1;33m(\u001b[0m\u001b[0madd\u001b[0m\u001b[1;33m)\u001b[0m\u001b[1;33m\u001b[0m\u001b[1;33m\u001b[0m\u001b[0m\n\u001b[0m\u001b[0;32m      7\u001b[0m \u001b[0mx\u001b[0m\u001b[1;33m(\u001b[0m\u001b[1;36m4\u001b[0m\u001b[1;33m,\u001b[0m\u001b[1;36m5\u001b[0m\u001b[1;33m)\u001b[0m\u001b[1;33m\u001b[0m\u001b[1;33m\u001b[0m\u001b[0m\n",
      "\u001b[1;31mNameError\u001b[0m: name 'add' is not defined"
     ]
    }
   ],
   "source": [
    "def square(add):\n",
    "    def add(a,b):\n",
    "        return (a + b) * (a + b)\n",
    "    return add\n",
    "\n",
    "x = square(add)\n",
    "x(4,5)"
   ]
  },
  {
   "cell_type": "code",
   "execution_count": 8,
   "id": "25484b68-2cd8-4673-932e-324cce84639c",
   "metadata": {},
   "outputs": [
    {
     "data": {
      "text/plain": [
       "81"
      ]
     },
     "execution_count": 8,
     "metadata": {},
     "output_type": "execute_result"
    }
   ],
   "source": [
    "def add(a,b):\n",
    "    return a + b\n",
    "\n",
    "def square(add): # square()안에 func이 아니라 아무거나 해도 되네?\n",
    "    def inner(a,b):\n",
    "        return (a + b) * (a + b)\n",
    "    return inner\n",
    "\n",
    "x = square(add)\n",
    "x(4,5)\n",
    "\n",
    "# 이 풀이는 뭔가 이상한게, square에 넣은 add가 활용되고 있는 느낌이 없음..\n",
    "# square에 add는 넣었는데 inner를 타서 없어진 느낌이랄까?"
   ]
  },
  {
   "cell_type": "markdown",
   "id": "cb49b998-db63-49a4-b112-ca166b3967b3",
   "metadata": {},
   "source": [
    "실행 예: square(add(4,5))"
   ]
  },
  {
   "cell_type": "code",
   "execution_count": null,
   "id": "b6aa408f-66a6-4ff5-a2c7-1664c2c2e224",
   "metadata": {},
   "outputs": [],
   "source": [
    "# 목표\n",
    "x = square(add)\n",
    "x(4,5)"
   ]
  },
  {
   "cell_type": "code",
   "execution_count": 25,
   "id": "8c816f57-20ef-43e0-ba4f-61d22dae26c7",
   "metadata": {},
   "outputs": [],
   "source": [
    "def add(a,b): # 이걸 설정해두지 않으면  add is not defined가 뜸\n",
    "      return a + b\n",
    "\n",
    "def square(func):\n",
    "    def inner(a,b): # 이너가 특별한 함수인가?\n",
    "        return (a + b) * (a + b)\n",
    "    return inner"
   ]
  },
  {
   "cell_type": "code",
   "execution_count": 26,
   "id": "ee798dff-4180-4624-b15a-b34c5749a4f6",
   "metadata": {},
   "outputs": [
    {
     "data": {
      "text/plain": [
       "81"
      ]
     },
     "execution_count": 26,
     "metadata": {},
     "output_type": "execute_result"
    }
   ],
   "source": [
    "x = square(add)\n",
    "x(4,5)"
   ]
  },
  {
   "cell_type": "code",
   "execution_count": 10,
   "id": "63afa90a-a9af-4b86-98b4-de69273ab1c7",
   "metadata": {},
   "outputs": [
    {
     "data": {
      "text/plain": [
       "81"
      ]
     },
     "execution_count": 10,
     "metadata": {},
     "output_type": "execute_result"
    }
   ],
   "source": [
    "# 정답\n",
    "\n",
    "def add(a,b): \n",
    "      return a + b\n",
    "\n",
    "def square(func): # 인자에는 다른거 안넣고 func이 들어가야 함\n",
    "    def inner(a,b): # inner말고 다른 이름 해도 되네!\n",
    "        result = func(a,b)\n",
    "        return result * result\n",
    "    return inner\n",
    "\n",
    "x = square(add)\n",
    "x(4,5)"
   ]
  },
  {
   "cell_type": "code",
   "execution_count": null,
   "id": "d5ff1e97-9d83-473a-a7e2-df0abbbadb5c",
   "metadata": {},
   "outputs": [],
   "source": [
    "# 클로저로 하고 싶었던 것\n",
    "fx = square(add) # 함수를 저장해 놓고\n",
    "fx(4,5) # 인자만 바꿔서 (내부 함수를) 계속 사용 가능하게끔\n",
    "fx(3,3) "
   ]
  },
  {
   "cell_type": "markdown",
   "id": "6a158f05-a427-4715-b98b-b4a363659c65",
   "metadata": {},
   "source": [
    "#### [데코레이터]\n",
    "- 메인 함수에 또 다른 함수를 취해 반환할 수 있게 함\n",
    "- 재사용성 높음\n",
    "- 어떤 함수를 취했는지 알 수 있어서 가독성, 직관성 좋다"
   ]
  },
  {
   "cell_type": "code",
   "execution_count": 30,
   "id": "9db082af-16d6-40f5-9b33-5650616e800e",
   "metadata": {},
   "outputs": [
    {
     "data": {
      "text/plain": [
       "81"
      ]
     },
     "execution_count": 30,
     "metadata": {},
     "output_type": "execute_result"
    }
   ],
   "source": [
    "@square\n",
    "def plus(a,b): \n",
    "      return a + b\n",
    "plus(4,5) # square(plus)(4,5)안해도되고 바로 square를 탄다. "
   ]
  },
  {
   "cell_type": "code",
   "execution_count": null,
   "id": "6fb89ad3-1481-4249-b205-1a3abe7dcb68",
   "metadata": {},
   "outputs": [],
   "source": []
  },
  {
   "cell_type": "markdown",
   "id": "70a2d404-b350-4750-a198-27f01aecd6c5",
   "metadata": {},
   "source": [
    "#### [scope | 범위]\n",
    "- 전역: global\n",
    "- 지역: local\n",
    "- nonlocal: 내부함수 때문에, nonlocal이라는 범위가 더 늘어나게 됨"
   ]
  },
  {
   "cell_type": "code",
   "execution_count": 31,
   "id": "02b28537-193d-4407-84ac-a1dfddd9714d",
   "metadata": {},
   "outputs": [
    {
     "ename": "SyntaxError",
     "evalue": "invalid syntax (Temp/ipykernel_26376/1705997427.py, line 2)",
     "output_type": "error",
     "traceback": [
      "\u001b[1;36m  File \u001b[1;32m\"C:\\Users\\Jung_a\\AppData\\Local\\Temp/ipykernel_26376/1705997427.py\"\u001b[1;36m, line \u001b[1;32m2\u001b[0m\n\u001b[1;33m    def add(a,b)\u001b[0m\n\u001b[1;37m                ^\u001b[0m\n\u001b[1;31mSyntaxError\u001b[0m\u001b[1;31m:\u001b[0m invalid syntax\n"
     ]
    }
   ],
   "source": [
    "a = 1 # global\n",
    "def add(a,b)\n",
    "    x = 2 # local\n",
    "    return a+b\n",
    "\n",
    "def square(func):\n",
    "    # local\n",
    "    def inner(a,b):  #nonlocal\n",
    "        result = func(a,b)\n",
    "        return result * result\n",
    "    return inner"
   ]
  },
  {
   "cell_type": "code",
   "execution_count": 32,
   "id": "cee7106d-9018-4389-ad7d-36cfcef797d4",
   "metadata": {},
   "outputs": [
    {
     "data": {
      "text/plain": [
       "999"
      ]
     },
     "execution_count": 32,
     "metadata": {},
     "output_type": "execute_result"
    }
   ],
   "source": [
    "a = 3 # global\n",
    "def outer(c):\n",
    "    b = 5 # local\n",
    "    def inner():\n",
    "        # 여기까지 c=9지만, 다음 행에서 바뀜\n",
    "        c = 999 # nonlocal\n",
    "        return c\n",
    "    return inner()\n",
    "\n",
    "outer(9)"
   ]
  },
  {
   "cell_type": "code",
   "execution_count": 15,
   "id": "d5c6887a-362b-4868-a24c-51068c32b372",
   "metadata": {},
   "outputs": [
    {
     "ename": "UnboundLocalError",
     "evalue": "local variable 'c' referenced before assignment",
     "output_type": "error",
     "traceback": [
      "\u001b[1;31m---------------------------------------------------------------------------\u001b[0m",
      "\u001b[1;31mUnboundLocalError\u001b[0m                         Traceback (most recent call last)",
      "\u001b[1;32m~\\AppData\\Local\\Temp/ipykernel_29524/794863297.py\u001b[0m in \u001b[0;36m<module>\u001b[1;34m\u001b[0m\n\u001b[0;32m      7\u001b[0m     \u001b[1;32mreturn\u001b[0m \u001b[0minner\u001b[0m\u001b[1;33m(\u001b[0m\u001b[1;33m)\u001b[0m\u001b[1;33m\u001b[0m\u001b[1;33m\u001b[0m\u001b[0m\n\u001b[0;32m      8\u001b[0m \u001b[1;33m\u001b[0m\u001b[0m\n\u001b[1;32m----> 9\u001b[1;33m \u001b[0mouter\u001b[0m\u001b[1;33m(\u001b[0m\u001b[1;36m9\u001b[0m\u001b[1;33m)\u001b[0m\u001b[1;33m\u001b[0m\u001b[1;33m\u001b[0m\u001b[0m\n\u001b[0m\u001b[0;32m     10\u001b[0m \u001b[1;33m\u001b[0m\u001b[0m\n\u001b[0;32m     11\u001b[0m \u001b[1;31m# 오류가 나는 이유?\u001b[0m\u001b[1;33m\u001b[0m\u001b[1;33m\u001b[0m\u001b[0m\n",
      "\u001b[1;32m~\\AppData\\Local\\Temp/ipykernel_29524/794863297.py\u001b[0m in \u001b[0;36mouter\u001b[1;34m(c)\u001b[0m\n\u001b[0;32m      5\u001b[0m         \u001b[0mc\u001b[0m \u001b[1;33m+=\u001b[0m \u001b[1;36m1\u001b[0m\u001b[1;33m\u001b[0m\u001b[1;33m\u001b[0m\u001b[0m\n\u001b[0;32m      6\u001b[0m         \u001b[1;32mreturn\u001b[0m \u001b[0mc\u001b[0m\u001b[1;33m\u001b[0m\u001b[1;33m\u001b[0m\u001b[0m\n\u001b[1;32m----> 7\u001b[1;33m     \u001b[1;32mreturn\u001b[0m \u001b[0minner\u001b[0m\u001b[1;33m(\u001b[0m\u001b[1;33m)\u001b[0m\u001b[1;33m\u001b[0m\u001b[1;33m\u001b[0m\u001b[0m\n\u001b[0m\u001b[0;32m      8\u001b[0m \u001b[1;33m\u001b[0m\u001b[0m\n\u001b[0;32m      9\u001b[0m \u001b[0mouter\u001b[0m\u001b[1;33m(\u001b[0m\u001b[1;36m9\u001b[0m\u001b[1;33m)\u001b[0m\u001b[1;33m\u001b[0m\u001b[1;33m\u001b[0m\u001b[0m\n",
      "\u001b[1;32m~\\AppData\\Local\\Temp/ipykernel_29524/794863297.py\u001b[0m in \u001b[0;36minner\u001b[1;34m()\u001b[0m\n\u001b[0;32m      3\u001b[0m     \u001b[0mb\u001b[0m \u001b[1;33m=\u001b[0m \u001b[1;36m5\u001b[0m\u001b[1;33m\u001b[0m\u001b[1;33m\u001b[0m\u001b[0m\n\u001b[0;32m      4\u001b[0m     \u001b[1;32mdef\u001b[0m \u001b[0minner\u001b[0m\u001b[1;33m(\u001b[0m\u001b[1;33m)\u001b[0m\u001b[1;33m:\u001b[0m\u001b[1;33m\u001b[0m\u001b[1;33m\u001b[0m\u001b[0m\n\u001b[1;32m----> 5\u001b[1;33m         \u001b[0mc\u001b[0m \u001b[1;33m+=\u001b[0m \u001b[1;36m1\u001b[0m\u001b[1;33m\u001b[0m\u001b[1;33m\u001b[0m\u001b[0m\n\u001b[0m\u001b[0;32m      6\u001b[0m         \u001b[1;32mreturn\u001b[0m \u001b[0mc\u001b[0m\u001b[1;33m\u001b[0m\u001b[1;33m\u001b[0m\u001b[0m\n\u001b[0;32m      7\u001b[0m     \u001b[1;32mreturn\u001b[0m \u001b[0minner\u001b[0m\u001b[1;33m(\u001b[0m\u001b[1;33m)\u001b[0m\u001b[1;33m\u001b[0m\u001b[1;33m\u001b[0m\u001b[0m\n",
      "\u001b[1;31mUnboundLocalError\u001b[0m: local variable 'c' referenced before assignment"
     ]
    }
   ],
   "source": [
    "a = 3\n",
    "def outer(c): # c = 9\n",
    "    b = 5\n",
    "    def inner():\n",
    "        # c = 9\n",
    "        c += 1\n",
    "        return c\n",
    "    return inner()\n",
    "\n",
    "outer(9)\n",
    "\n",
    "# 오류가 나는 이유?\n",
    "# \"nonlocal에서 변수 c를 할당한 것이 없다\""
   ]
  },
  {
   "cell_type": "code",
   "execution_count": 16,
   "id": "4a5257d6-e04f-40b7-bcb6-e304f286a1e6",
   "metadata": {},
   "outputs": [
    {
     "name": "stdout",
     "output_type": "stream",
     "text": [
      "10\n",
      "3\n"
     ]
    }
   ],
   "source": [
    "c = 3\n",
    "def outer(c):\n",
    "    b = 5\n",
    "    def inner():\n",
    "        nonlocal c\n",
    "        c += 1\n",
    "        return c\n",
    "    return inner()\n",
    "\n",
    "print(outer(9))\n",
    "print(c)\n"
   ]
  },
  {
   "cell_type": "code",
   "execution_count": null,
   "id": "e1b0c6e6-9796-4bd2-ada2-b1779e4fdc58",
   "metadata": {},
   "outputs": [],
   "source": [
    "#### 실습\n",
    "fx1: speed, limit 내 속도가 제한 속도를 위반하는지 t/f\n",
    "fx2: 클로저. 초과할 경우, 얼마나 초과하는지 프린트 하는 함수\n",
    "실행은 데코레이터로 해서 첫번째 함수를...\n"
   ]
  },
  {
   "cell_type": "code",
   "execution_count": 23,
   "id": "37964df3-a22d-471f-a269-bef2be1b8f05",
   "metadata": {},
   "outputs": [
    {
     "data": {
      "text/plain": [
       "'5만큼 초과하셨습니다.'"
      ]
     },
     "execution_count": 23,
     "metadata": {},
     "output_type": "execute_result"
    }
   ],
   "source": [
    "# 내 풀이\n",
    "\n",
    "@get_differ\n",
    "def check_speed(speed,limit):\n",
    "    if speed > limit: # 줄일 수 있음 return speed > limit으로\n",
    "        return True\n",
    "    return False\n",
    "\n",
    "\n",
    "def get_differ(func):\n",
    "    def inner(speed,limit):\n",
    "        if func(speed,limit):\n",
    "            differ = speed - limit\n",
    "            return f'{differ}만큼 초과하셨습니다.'\n",
    "    return inner\n",
    "\n",
    "\n",
    "check_speed(10,5)"
   ]
  },
  {
   "cell_type": "markdown",
   "id": "f2948986-8dc0-440b-b19e-98202ba4e5d2",
   "metadata": {},
   "source": [
    "틀린이유\n",
    "1. 데코레이터로 실행한다는 것을 이해 못했다.\n",
    "-> 내부함수 위에다가 데코레이터를 넣으면, 실행할때 해당 내부함수로 실행할 수 있다.\n",
    "\n",
    "2. 데코레이터를 언제 왜 어떻게 사용하는지 잘 이해 못했다\n",
    "-> 외부함수의 코드를 재사용할 수 있다. (데코레이터 함수를 재사용할 수 있다.)\n",
    "\n",
    "3. 데코레이터의 위치가 아래에 있어야 함을 몰랐다."
   ]
  },
  {
   "cell_type": "code",
   "execution_count": 21,
   "id": "3633c02b-82e0-43aa-9a21-a45377fe6dc6",
   "metadata": {},
   "outputs": [
    {
     "data": {
      "text/plain": [
       "'10만큼 초과했습니다.'"
      ]
     },
     "execution_count": 21,
     "metadata": {},
     "output_type": "execute_result"
    }
   ],
   "source": [
    "# 다시 풀이\n",
    "\n",
    "def get_differ(funct):\n",
    "    def inner(speed,limit):\n",
    "        if funct(speed,limit):\n",
    "            return f'{speed - limit}만큼 초과했습니다.'\n",
    "        else:\n",
    "            return \"초과하지 않았습니다.\"\n",
    "    return inner\n",
    "\n",
    "@get_differ\n",
    "def check_speed(speed,limit):\n",
    "    return speed > limit\n",
    "\n",
    "\n",
    "check_speed(20,10)\n"
   ]
  },
  {
   "cell_type": "code",
   "execution_count": 39,
   "id": "84b7ead7-af07-44e6-a452-b13baf0cafdb",
   "metadata": {},
   "outputs": [
    {
     "data": {
      "text/plain": [
       "'초과: 20 km/h'"
      ]
     },
     "execution_count": 39,
     "metadata": {},
     "output_type": "execute_result"
    }
   ],
   "source": [
    "# 답\n",
    "\n",
    "def violate(func):\n",
    "    def inner(speed, limit):\n",
    "        if func(speed,limit):\n",
    "            return f'초과: {speed - limit} km/h'\n",
    "        else:\n",
    "            return '정상 속도'\n",
    "    return inner\n",
    "\n",
    "@violate\n",
    "def is_speeding(speed,limit):\n",
    "    return speed > limit\n",
    "\n",
    "is_speeding(100,80)"
   ]
  },
  {
   "cell_type": "code",
   "execution_count": 40,
   "id": "7f859a8a-2f0a-4f84-a2d6-c8ac8f8d8732",
   "metadata": {},
   "outputs": [
    {
     "data": {
      "text/plain": [
       "'정상 속도'"
      ]
     },
     "execution_count": 40,
     "metadata": {},
     "output_type": "execute_result"
    }
   ],
   "source": [
    "is_speeding(80,100)"
   ]
  },
  {
   "cell_type": "markdown",
   "id": "954f432c-5263-4943-aa25-d7234d5e529a",
   "metadata": {},
   "source": [
    "### [익명함수 | lambda]\n",
    "- 이름이 없다\n",
    "def is_speeding():\n",
    "    return\n",
    "- def, return\n",
    "- is_speeding\n",
    "- 함수를 재사용할 필요 없이, 단순한 용도의 함수가 필요한 경우 사용\n",
    "- 잦은 사용은 권하지 않음\n",
    "- 형식: lambda x : <x를 요리할 코드> / x는 인자\n"
   ]
  },
  {
   "cell_type": "code",
   "execution_count": 41,
   "id": "5a4bdbea-0b02-49a6-a3b3-43fe2e0d0fd8",
   "metadata": {},
   "outputs": [
    {
     "data": {
      "text/plain": [
       "3"
      ]
     },
     "execution_count": 41,
     "metadata": {},
     "output_type": "execute_result"
    }
   ],
   "source": [
    "(lambda x: x + 1)(2)"
   ]
  },
  {
   "cell_type": "code",
   "execution_count": 43,
   "id": "52a9388e-746c-4d2e-95b6-b8b8f424216a",
   "metadata": {},
   "outputs": [
    {
     "data": {
      "text/plain": [
       "8"
      ]
     },
     "execution_count": 43,
     "metadata": {},
     "output_type": "execute_result"
    }
   ],
   "source": [
    "f = lambda x,y: x + y #람다에 이름 지어주기\n",
    "f(3,5)"
   ]
  },
  {
   "cell_type": "code",
   "execution_count": 44,
   "id": "2cb020e7-6d53-46b5-8e52-97a6b4926159",
   "metadata": {},
   "outputs": [
    {
     "ename": "SyntaxError",
     "evalue": "invalid syntax (Temp/ipykernel_26376/1405699612.py, line 2)",
     "output_type": "error",
     "traceback": [
      "\u001b[1;36m  File \u001b[1;32m\"C:\\Users\\Jung_a\\AppData\\Local\\Temp/ipykernel_26376/1405699612.py\"\u001b[1;36m, line \u001b[1;32m2\u001b[0m\n\u001b[1;33m    - 단어가 들어왔을 때 첫글자 대문자로 바꾸고 단어 끝에 !를붙이도록 람다\u001b[0m\n\u001b[1;37m          ^\u001b[0m\n\u001b[1;31mSyntaxError\u001b[0m\u001b[1;31m:\u001b[0m invalid syntax\n"
     ]
    }
   ],
   "source": [
    "# 실습\n",
    "- 단어가 들어왔을 때 첫글자 대문자로 바꾸고 단어 끝에 !를붙이도록 람다"
   ]
  },
  {
   "cell_type": "code",
   "execution_count": 47,
   "id": "6ddc00e4-8405-4982-b5c1-c7a72065889f",
   "metadata": {},
   "outputs": [
    {
     "data": {
      "text/plain": [
       "'Hello!'"
      ]
     },
     "execution_count": 47,
     "metadata": {},
     "output_type": "execute_result"
    }
   ],
   "source": [
    "f = lambda x : x[0].upper() + x[1:] + '!' #혹은 capitalize()\n",
    "f('hello')"
   ]
  },
  {
   "cell_type": "markdown",
   "id": "ecb060db-15db-47d3-b1d1-a4ac1986ad64",
   "metadata": {},
   "source": [
    "#### [제너레이터]\n",
    "- return -> yield\n",
    "- 시퀀스를 순회할 때 시퀀스를 생성하는 객체\n",
    "- 한 번 사용되고 사라짐 => 메모리 효율 좋음"
   ]
  },
  {
   "cell_type": "code",
   "execution_count": 49,
   "id": "917fef65-aa90-4360-b5aa-247cc69d0b2c",
   "metadata": {},
   "outputs": [
    {
     "data": {
      "text/plain": [
       "<generator object print_number at 0x000001DB43A18510>"
      ]
     },
     "execution_count": 49,
     "metadata": {},
     "output_type": "execute_result"
    }
   ],
   "source": [
    "def print_number(num):\n",
    "    for i in range(num):\n",
    "        yield i\n",
    "\n",
    "print_number(10)"
   ]
  },
  {
   "cell_type": "code",
   "execution_count": 50,
   "id": "470af05a-a03e-4969-90f7-43937445123f",
   "metadata": {},
   "outputs": [
    {
     "name": "stdout",
     "output_type": "stream",
     "text": [
      "0\n",
      "1\n",
      "2\n",
      "3\n",
      "4\n",
      "5\n",
      "6\n",
      "7\n",
      "8\n",
      "9\n"
     ]
    }
   ],
   "source": [
    "fx = print_number(10)\n",
    "\n",
    "for i in fx: #시퀀스이므로 for를 타야 나옴\n",
    "    print(i)"
   ]
  },
  {
   "cell_type": "code",
   "execution_count": 52,
   "id": "468170ab-c273-4632-b5e0-d947b8cf103b",
   "metadata": {},
   "outputs": [],
   "source": [
    "for i in fx:\n",
    "    print(i)\n",
    "    # 실행한 결과 안됨. 사라짐"
   ]
  },
  {
   "cell_type": "markdown",
   "id": "566102d3-d274-4e8c-8d01-b27ccb971f80",
   "metadata": {},
   "source": [
    "### 실습\n",
    "range() 구현하기\n",
    "- 제너레이터 사용\n",
    "- def my_range(start,end,step): yield\n",
    "\n",
    "ranger = my_range(a,b,c)\n",
    "\n"
   ]
  },
  {
   "cell_type": "code",
   "execution_count": 1,
   "id": "49dab2c4-7153-4667-ad30-f621fbac58d8",
   "metadata": {},
   "outputs": [
    {
     "name": "stdout",
     "output_type": "stream",
     "text": [
      "0\n",
      "2\n",
      "4\n",
      "6\n",
      "8\n"
     ]
    }
   ],
   "source": [
    "# 내 풀이\n",
    "def my_range(end,start=None,step=1):\n",
    "    if start is None:\n",
    "        start = 0\n",
    "    else:\n",
    "        end, start = start , end\n",
    "    \n",
    "    i = start\n",
    "    while i < end:\n",
    "        yield i\n",
    "        i += step\n",
    "        \n",
    "ranger = my_range(0,10,2)\n",
    "for i in ranger:\n",
    "    print(i)"
   ]
  },
  {
   "cell_type": "code",
   "execution_count": 3,
   "id": "53e6b452-dfb4-474b-8e92-b93eb4618384",
   "metadata": {},
   "outputs": [
    {
     "name": "stdout",
     "output_type": "stream",
     "text": [
      "0\n",
      "1\n",
      "2\n",
      "3\n",
      "4\n"
     ]
    }
   ],
   "source": [
    "ranger = my_range(0,5,1)\n",
    "for i in ranger:\n",
    "    print(i)"
   ]
  },
  {
   "cell_type": "code",
   "execution_count": 62,
   "id": "501ca93e-9dc4-42aa-9465-5b61df5217ab",
   "metadata": {},
   "outputs": [
    {
     "data": {
      "text/plain": [
       "<generator object my_range at 0x000001DB43A2A4A0>"
      ]
     },
     "execution_count": 62,
     "metadata": {},
     "output_type": "execute_result"
    }
   ],
   "source": [
    "ranger # 타입은 제너레이터"
   ]
  },
  {
   "cell_type": "code",
   "execution_count": 63,
   "id": "f23573d4-29ed-46d0-a7b3-4455b27b8a39",
   "metadata": {},
   "outputs": [
    {
     "name": "stdout",
     "output_type": "stream",
     "text": [
      "0\n",
      "1\n",
      "2\n",
      "3\n",
      "4\n"
     ]
    }
   ],
   "source": [
    "# [를 괄호로 바꾸면 제너레이터가 됨\n",
    "ranger = (i for i in range(5))\n",
    "for i in ranger:\n",
    "    print(i)"
   ]
  },
  {
   "cell_type": "markdown",
   "id": "97541a79-1848-4b58-8708-b36f49832fd4",
   "metadata": {},
   "source": [
    "#### [재귀함수]\n",
    "- 너무 깊으면 예외 발생 => 무한대. 런타임 에러 발생\n",
    "- 자기 자신을 호출하는 함수\n",
    "- [[1,2,3],[[[1,1]],4,5]] -> [1,2,3,1.1,4,5]\n"
   ]
  },
  {
   "cell_type": "code",
   "execution_count": 64,
   "id": "be3beaee-f338-47d3-92f7-4efbc09bea05",
   "metadata": {},
   "outputs": [
    {
     "data": {
      "text/plain": [
       "False"
      ]
     },
     "execution_count": 64,
     "metadata": {},
     "output_type": "execute_result"
    }
   ],
   "source": [
    "isinstance('h',int)"
   ]
  },
  {
   "cell_type": "code",
   "execution_count": 66,
   "id": "befc6885-5ef1-4ca2-a125-da56c4237fdd",
   "metadata": {},
   "outputs": [],
   "source": [
    "def flatten(sent):\n",
    "    for word in sent:\n",
    "        if isinstance(word,list):\n",
    "            # true\n",
    "            for sub_word in flatten(word): \n",
    "                yield sub_word\n",
    "            # yield from flatten(word)로 두줄 축약 가능\n",
    "        else:\n",
    "            # false\n",
    "            yield word"
   ]
  },
  {
   "cell_type": "code",
   "execution_count": 67,
   "id": "dfd31602-3ab0-470f-a3dd-94ade67baadd",
   "metadata": {},
   "outputs": [
    {
     "data": {
      "text/plain": [
       "<generator object flatten at 0x000001DB43A34040>"
      ]
     },
     "execution_count": 67,
     "metadata": {},
     "output_type": "execute_result"
    }
   ],
   "source": [
    "a = [[1,2,3],[[[1,1]],4,5]]\n",
    "flatten(a)"
   ]
  },
  {
   "cell_type": "code",
   "execution_count": 68,
   "id": "62ff572e-ba9c-43e3-ad0b-cceedae41395",
   "metadata": {},
   "outputs": [
    {
     "name": "stdout",
     "output_type": "stream",
     "text": [
      "1\n",
      "2\n",
      "3\n",
      "1\n",
      "1\n",
      "4\n",
      "5\n"
     ]
    }
   ],
   "source": [
    "for i in flatten(a):\n",
    "    print(i)"
   ]
  },
  {
   "cell_type": "markdown",
   "id": "17f59ec3-ee39-4643-a3d7-96da4920a441",
   "metadata": {},
   "source": [
    "### [예외 처리 | exception handling]\n",
    "- 목적: 프로그램 정상 종료\n",
    "- 예외 발생 시, 사용자에게 알리고 조치 위함\n",
    "- 소프트랜딩"
   ]
  },
  {
   "cell_type": "code",
   "execution_count": 69,
   "id": "0da675bb-50b3-4936-8dda-9bea6325cbaa",
   "metadata": {},
   "outputs": [
    {
     "ename": "ZeroDivisionError",
     "evalue": "division by zero",
     "output_type": "error",
     "traceback": [
      "\u001b[1;31m---------------------------------------------------------------------------\u001b[0m",
      "\u001b[1;31mZeroDivisionError\u001b[0m                         Traceback (most recent call last)",
      "\u001b[1;32m~\\AppData\\Local\\Temp/ipykernel_26376/1725448531.py\u001b[0m in \u001b[0;36m<module>\u001b[1;34m\u001b[0m\n\u001b[1;32m----> 1\u001b[1;33m \u001b[1;36m10\u001b[0m \u001b[1;33m/\u001b[0m \u001b[1;36m0\u001b[0m\u001b[1;33m\u001b[0m\u001b[1;33m\u001b[0m\u001b[0m\n\u001b[0m",
      "\u001b[1;31mZeroDivisionError\u001b[0m: division by zero"
     ]
    }
   ],
   "source": [
    "10 / 0"
   ]
  },
  {
   "cell_type": "code",
   "execution_count": 70,
   "id": "bd4516da-8577-4b09-b8a0-3896abd2c90f",
   "metadata": {},
   "outputs": [
    {
     "ename": "ValueError",
     "evalue": "invalid literal for int() with base 10: 'ss'",
     "output_type": "error",
     "traceback": [
      "\u001b[1;31m---------------------------------------------------------------------------\u001b[0m",
      "\u001b[1;31mValueError\u001b[0m                                Traceback (most recent call last)",
      "\u001b[1;32m~\\AppData\\Local\\Temp/ipykernel_26376/3721245556.py\u001b[0m in \u001b[0;36m<module>\u001b[1;34m\u001b[0m\n\u001b[1;32m----> 1\u001b[1;33m \u001b[0mint\u001b[0m\u001b[1;33m(\u001b[0m\u001b[1;34m'ss'\u001b[0m\u001b[1;33m)\u001b[0m\u001b[1;33m\u001b[0m\u001b[1;33m\u001b[0m\u001b[0m\n\u001b[0m",
      "\u001b[1;31mValueError\u001b[0m: invalid literal for int() with base 10: 'ss'"
     ]
    }
   ],
   "source": [
    "int('ss')"
   ]
  },
  {
   "cell_type": "code",
   "execution_count": 17,
   "id": "c652e1ec-fd16-4441-bc48-00efa3bf11bf",
   "metadata": {},
   "outputs": [
    {
     "name": "stdout",
     "output_type": "stream",
     "text": [
      "0으로 나눌 수 없음\n"
     ]
    }
   ],
   "source": [
    "try:\n",
    "    # 에러 발생한 코드 블럭\n",
    "    10 / 0 \n",
    "except ZeroDivisionError: #에러타입\n",
    "    # 처리할 방법\n",
    "    print('0으로 나눌 수 없음')"
   ]
  },
  {
   "cell_type": "code",
   "execution_count": 72,
   "id": "ed5c7a2c-4012-4c29-8e8f-2a726f5a4bf0",
   "metadata": {},
   "outputs": [
    {
     "name": "stdout",
     "output_type": "stream",
     "text": [
      "error\n"
     ]
    }
   ],
   "source": [
    "try:\n",
    "    for i in range(10):\n",
    "        print(10/i)\n",
    "except ZeroDivisionError:\n",
    "    print('error')\n",
    "# except을 잡는 지점이 중요하다"
   ]
  },
  {
   "cell_type": "code",
   "execution_count": 74,
   "id": "ddeaf2c9-b6a2-4824-83c2-a41f7a30d885",
   "metadata": {},
   "outputs": [
    {
     "name": "stdout",
     "output_type": "stream",
     "text": [
      "error\n",
      "10.0\n",
      "5.0\n",
      "3.3333333333333335\n",
      "2.5\n",
      "2.0\n",
      "1.6666666666666667\n",
      "1.4285714285714286\n",
      "1.25\n",
      "1.1111111111111112\n"
     ]
    }
   ],
   "source": [
    "for i in range(10):\n",
    "    try:\n",
    "        print(10/i)\n",
    "    except ZeroDivisionError: # 에러타입을 안넣으면 뭔지 파악 어려움\n",
    "        print('error')"
   ]
  },
  {
   "cell_type": "code",
   "execution_count": 78,
   "id": "5ef82960-7fdc-4b64-9e10-2fc040b5158b",
   "metadata": {},
   "outputs": [
    {
     "name": "stdin",
     "output_type": "stream",
     "text": [
      "인덱스 입력하세요>  8\n"
     ]
    },
    {
     "name": "stdout",
     "output_type": "stream",
     "text": [
      "index Error\n",
      "string index out of range\n"
     ]
    },
    {
     "name": "stdin",
     "output_type": "stream",
     "text": [
      "인덱스 입력하세요>  ddd\n"
     ]
    },
    {
     "name": "stdout",
     "output_type": "stream",
     "text": [
      "type error\n",
      "invalid literal for int() with base 10: 'ddd'\n"
     ]
    },
    {
     "name": "stdin",
     "output_type": "stream",
     "text": [
      "인덱스 입력하세요>  q\n"
     ]
    }
   ],
   "source": [
    "word = 'hello'\n",
    "while True:\n",
    "    index = input('인덱스 입력하세요> ')\n",
    "    if index == 'q':\n",
    "        break\n",
    "    try:\n",
    "        print(word[int(index)])\n",
    "    except IndexError as e1:\n",
    "        print('index Error')\n",
    "        print(e1)\n",
    "    except ValueError as e2:\n",
    "        print('type error')\n",
    "        print(e2)"
   ]
  },
  {
   "cell_type": "markdown",
   "id": "074f7b9d-7e7d-4a38-a8f4-77651d4ed364",
   "metadata": {},
   "source": [
    "#### 2. 예외 발생시키기\n",
    "- raise : 예외를 발생시키는 느낌\n",
    "- assert : 체크하는 느낌"
   ]
  },
  {
   "cell_type": "code",
   "execution_count": null,
   "id": "e5d674d6-0e05-444f-b0f4-13f03c506e10",
   "metadata": {},
   "outputs": [],
   "source": [
    "raise ValueError('print...')"
   ]
  },
  {
   "cell_type": "code",
   "execution_count": 79,
   "id": "00af70f7-3828-4b31-b292-703811dd51be",
   "metadata": {},
   "outputs": [
    {
     "name": "stdin",
     "output_type": "stream",
     "text": [
      "number>>  d\n"
     ]
    },
    {
     "ename": "ValueError",
     "evalue": "숫자가 아닙니다.",
     "output_type": "error",
     "traceback": [
      "\u001b[1;31m---------------------------------------------------------------------------\u001b[0m",
      "\u001b[1;31mValueError\u001b[0m                                Traceback (most recent call last)",
      "\u001b[1;32m~\\AppData\\Local\\Temp/ipykernel_26376/2941626252.py\u001b[0m in \u001b[0;36m<module>\u001b[1;34m\u001b[0m\n\u001b[0;32m      2\u001b[0m     \u001b[0mnum\u001b[0m \u001b[1;33m=\u001b[0m \u001b[0minput\u001b[0m\u001b[1;33m(\u001b[0m\u001b[1;34m'number>> '\u001b[0m\u001b[1;33m)\u001b[0m\u001b[1;33m\u001b[0m\u001b[1;33m\u001b[0m\u001b[0m\n\u001b[0;32m      3\u001b[0m     \u001b[1;32mif\u001b[0m \u001b[1;32mnot\u001b[0m \u001b[0mnum\u001b[0m\u001b[1;33m.\u001b[0m\u001b[0misdigit\u001b[0m\u001b[1;33m(\u001b[0m\u001b[1;33m)\u001b[0m\u001b[1;33m:\u001b[0m\u001b[1;33m\u001b[0m\u001b[1;33m\u001b[0m\u001b[0m\n\u001b[1;32m----> 4\u001b[1;33m         \u001b[1;32mraise\u001b[0m \u001b[0mValueError\u001b[0m\u001b[1;33m(\u001b[0m\u001b[1;34m'숫자가 아닙니다.'\u001b[0m\u001b[1;33m)\u001b[0m\u001b[1;33m\u001b[0m\u001b[1;33m\u001b[0m\u001b[0m\n\u001b[0m\u001b[0;32m      5\u001b[0m     \u001b[1;32melse\u001b[0m\u001b[1;33m:\u001b[0m\u001b[1;33m\u001b[0m\u001b[1;33m\u001b[0m\u001b[0m\n\u001b[0;32m      6\u001b[0m         \u001b[0mprint\u001b[0m\u001b[1;33m(\u001b[0m\u001b[0mnum\u001b[0m\u001b[1;33m)\u001b[0m\u001b[1;33m\u001b[0m\u001b[1;33m\u001b[0m\u001b[0m\n",
      "\u001b[1;31mValueError\u001b[0m: 숫자가 아닙니다."
     ]
    }
   ],
   "source": [
    "while True:\n",
    "    num = input('number>> ')\n",
    "    if not num.isdigit():\n",
    "        raise ValueError('숫자가 아닙니다.')\n",
    "    else:\n",
    "        print(num)\n",
    "        break"
   ]
  },
  {
   "cell_type": "code",
   "execution_count": null,
   "id": "5b8e6770-1fd7-4108-9dc2-e08fc2f657f3",
   "metadata": {},
   "outputs": [],
   "source": [
    "assert <참인 조건>, '예외 메세지'"
   ]
  },
  {
   "cell_type": "code",
   "execution_count": 81,
   "id": "13cb4019-108b-47bf-9887-eb26c1203d7d",
   "metadata": {},
   "outputs": [
    {
     "ename": "AssertionError",
     "evalue": "정수 아님",
     "output_type": "error",
     "traceback": [
      "\u001b[1;31m---------------------------------------------------------------------------\u001b[0m",
      "\u001b[1;31mAssertionError\u001b[0m                            Traceback (most recent call last)",
      "\u001b[1;32m~\\AppData\\Local\\Temp/ipykernel_26376/1859752484.py\u001b[0m in \u001b[0;36m<module>\u001b[1;34m\u001b[0m\n\u001b[0;32m      3\u001b[0m     \u001b[1;32mreturn\u001b[0m \u001b[0mbin\u001b[0m\u001b[1;33m(\u001b[0m\u001b[0mnum\u001b[0m\u001b[1;33m)\u001b[0m\u001b[1;33m\u001b[0m\u001b[1;33m\u001b[0m\u001b[0m\n\u001b[0;32m      4\u001b[0m \u001b[1;33m\u001b[0m\u001b[0m\n\u001b[1;32m----> 5\u001b[1;33m \u001b[0mget_binary\u001b[0m\u001b[1;33m(\u001b[0m\u001b[1;34m'ee'\u001b[0m\u001b[1;33m)\u001b[0m\u001b[1;33m\u001b[0m\u001b[1;33m\u001b[0m\u001b[0m\n\u001b[0m",
      "\u001b[1;32m~\\AppData\\Local\\Temp/ipykernel_26376/1859752484.py\u001b[0m in \u001b[0;36mget_binary\u001b[1;34m(num)\u001b[0m\n\u001b[0;32m      1\u001b[0m \u001b[1;32mdef\u001b[0m \u001b[0mget_binary\u001b[0m\u001b[1;33m(\u001b[0m\u001b[0mnum\u001b[0m\u001b[1;33m)\u001b[0m\u001b[1;33m:\u001b[0m\u001b[1;33m\u001b[0m\u001b[1;33m\u001b[0m\u001b[0m\n\u001b[1;32m----> 2\u001b[1;33m     \u001b[1;32massert\u001b[0m \u001b[0misinstance\u001b[0m\u001b[1;33m(\u001b[0m\u001b[0mnum\u001b[0m\u001b[1;33m,\u001b[0m\u001b[0mint\u001b[0m\u001b[1;33m)\u001b[0m\u001b[1;33m,\u001b[0m \u001b[1;34m'정수 아님'\u001b[0m\u001b[1;33m\u001b[0m\u001b[1;33m\u001b[0m\u001b[0m\n\u001b[0m\u001b[0;32m      3\u001b[0m     \u001b[1;32mreturn\u001b[0m \u001b[0mbin\u001b[0m\u001b[1;33m(\u001b[0m\u001b[0mnum\u001b[0m\u001b[1;33m)\u001b[0m\u001b[1;33m\u001b[0m\u001b[1;33m\u001b[0m\u001b[0m\n\u001b[0;32m      4\u001b[0m \u001b[1;33m\u001b[0m\u001b[0m\n\u001b[0;32m      5\u001b[0m \u001b[0mget_binary\u001b[0m\u001b[1;33m(\u001b[0m\u001b[1;34m'ee'\u001b[0m\u001b[1;33m)\u001b[0m\u001b[1;33m\u001b[0m\u001b[1;33m\u001b[0m\u001b[0m\n",
      "\u001b[1;31mAssertionError\u001b[0m: 정수 아님"
     ]
    }
   ],
   "source": [
    "def get_binary(num):\n",
    "    assert isinstance(num,int), '정수 아님' # 어디서 오류나는지 체크할 수 있음\n",
    "    return bin(num)\n",
    "\n",
    "get_binary('ee')"
   ]
  },
  {
   "cell_type": "markdown",
   "id": "9468f5c2-ec69-4946-9e04-7f466baf778d",
   "metadata": {},
   "source": [
    "#### 예외 정의하기\n",
    "- 사용자 정의 예외\n",
    "- Exception이라는 부모 클래스를 상속받는다."
   ]
  },
  {
   "cell_type": "code",
   "execution_count": 82,
   "id": "f9d7306c-e213-40e2-8cb3-be11805a4fce",
   "metadata": {},
   "outputs": [],
   "source": [
    "class MyException(Exception):\n",
    "    pass"
   ]
  },
  {
   "cell_type": "code",
   "execution_count": 84,
   "id": "49172ae9-1952-4843-a6fe-01fde65a4a4e",
   "metadata": {},
   "outputs": [
    {
     "name": "stdout",
     "output_type": "stream",
     "text": [
      "a\n",
      "b\n"
     ]
    },
    {
     "ename": "MyException",
     "evalue": "대문자 안 됨!",
     "output_type": "error",
     "traceback": [
      "\u001b[1;31m---------------------------------------------------------------------------\u001b[0m",
      "\u001b[1;31mMyException\u001b[0m                               Traceback (most recent call last)",
      "\u001b[1;32m~\\AppData\\Local\\Temp/ipykernel_26376/3588035176.py\u001b[0m in \u001b[0;36m<module>\u001b[1;34m\u001b[0m\n\u001b[0;32m      1\u001b[0m \u001b[1;32mfor\u001b[0m \u001b[0mword\u001b[0m \u001b[1;32min\u001b[0m \u001b[1;33m[\u001b[0m\u001b[1;34m'a'\u001b[0m\u001b[1;33m,\u001b[0m\u001b[1;34m'b'\u001b[0m\u001b[1;33m,\u001b[0m\u001b[1;34m'C'\u001b[0m\u001b[1;33m]\u001b[0m\u001b[1;33m:\u001b[0m\u001b[1;33m\u001b[0m\u001b[1;33m\u001b[0m\u001b[0m\n\u001b[0;32m      2\u001b[0m     \u001b[1;32mif\u001b[0m \u001b[0mword\u001b[0m\u001b[1;33m.\u001b[0m\u001b[0misupper\u001b[0m\u001b[1;33m(\u001b[0m\u001b[1;33m)\u001b[0m\u001b[1;33m:\u001b[0m\u001b[1;33m\u001b[0m\u001b[1;33m\u001b[0m\u001b[0m\n\u001b[1;32m----> 3\u001b[1;33m         \u001b[1;32mraise\u001b[0m \u001b[0mMyException\u001b[0m\u001b[1;33m(\u001b[0m\u001b[1;34m'대문자 안 됨!'\u001b[0m\u001b[1;33m)\u001b[0m\u001b[1;33m\u001b[0m\u001b[1;33m\u001b[0m\u001b[0m\n\u001b[0m\u001b[0;32m      4\u001b[0m     \u001b[1;32melse\u001b[0m\u001b[1;33m:\u001b[0m\u001b[1;33m\u001b[0m\u001b[1;33m\u001b[0m\u001b[0m\n\u001b[0;32m      5\u001b[0m         \u001b[0mprint\u001b[0m\u001b[1;33m(\u001b[0m\u001b[0mword\u001b[0m\u001b[1;33m)\u001b[0m\u001b[1;33m\u001b[0m\u001b[1;33m\u001b[0m\u001b[0m\n",
      "\u001b[1;31mMyException\u001b[0m: 대문자 안 됨!"
     ]
    }
   ],
   "source": [
    "for word in ['a','b','C']:\n",
    "    if word.isupper():\n",
    "        raise MyException('대문자 안 됨!')\n",
    "    else:\n",
    "        print(word)"
   ]
  },
  {
   "cell_type": "code",
   "execution_count": 85,
   "id": "216b3b41-44ea-4aae-9c97-e98d8fe5892d",
   "metadata": {},
   "outputs": [
    {
     "name": "stdout",
     "output_type": "stream",
     "text": [
      "a\n",
      "b\n"
     ]
    },
    {
     "ename": "UppercaseException",
     "evalue": "대문자 안된다구",
     "output_type": "error",
     "traceback": [
      "\u001b[1;31m---------------------------------------------------------------------------\u001b[0m",
      "\u001b[1;31mUppercaseException\u001b[0m                        Traceback (most recent call last)",
      "\u001b[1;32m~\\AppData\\Local\\Temp/ipykernel_26376/1636490798.py\u001b[0m in \u001b[0;36m<module>\u001b[1;34m\u001b[0m\n\u001b[0;32m      7\u001b[0m \u001b[1;32mfor\u001b[0m \u001b[0mword\u001b[0m \u001b[1;32min\u001b[0m \u001b[1;33m[\u001b[0m\u001b[1;34m'a'\u001b[0m\u001b[1;33m,\u001b[0m\u001b[1;34m'b'\u001b[0m\u001b[1;33m,\u001b[0m\u001b[1;34m'C'\u001b[0m\u001b[1;33m]\u001b[0m\u001b[1;33m:\u001b[0m\u001b[1;33m\u001b[0m\u001b[1;33m\u001b[0m\u001b[0m\n\u001b[0;32m      8\u001b[0m     \u001b[1;32mif\u001b[0m \u001b[0mword\u001b[0m\u001b[1;33m.\u001b[0m\u001b[0misupper\u001b[0m\u001b[1;33m(\u001b[0m\u001b[1;33m)\u001b[0m\u001b[1;33m:\u001b[0m\u001b[1;33m\u001b[0m\u001b[1;33m\u001b[0m\u001b[0m\n\u001b[1;32m----> 9\u001b[1;33m         \u001b[1;32mraise\u001b[0m \u001b[0mUppercaseException\u001b[0m\u001b[1;33m\u001b[0m\u001b[1;33m\u001b[0m\u001b[0m\n\u001b[0m\u001b[0;32m     10\u001b[0m     \u001b[1;32melse\u001b[0m\u001b[1;33m:\u001b[0m\u001b[1;33m\u001b[0m\u001b[1;33m\u001b[0m\u001b[0m\n\u001b[0;32m     11\u001b[0m         \u001b[0mprint\u001b[0m\u001b[1;33m(\u001b[0m\u001b[0mword\u001b[0m\u001b[1;33m)\u001b[0m\u001b[1;33m\u001b[0m\u001b[1;33m\u001b[0m\u001b[0m\n",
      "\u001b[1;31mUppercaseException\u001b[0m: 대문자 안된다구"
     ]
    }
   ],
   "source": [
    "# 2. \n",
    "\n",
    "class UppercaseException(Exception):\n",
    "    def __init__(self):\n",
    "        super().__init__('대문자 안된다구')\n",
    "\n",
    "for word in ['a','b','C']:\n",
    "    if word.isupper():\n",
    "        raise UppercaseException\n",
    "    else:\n",
    "        print(word)"
   ]
  },
  {
   "cell_type": "code",
   "execution_count": null,
   "id": "61eef4cd-a9f1-4c97-842b-6896c8fed9bf",
   "metadata": {},
   "outputs": [],
   "source": [
    "프로젝트 store 발전시키기\n",
    "\n",
    "- 각 팀마다 스페셜한 기능이 있어야함\n",
    "- 중첩 함수, 재귀함수, 제너레이터 등을 다 활용해야함 (넣기 위해 넣은게 아닌 중첩이 들어가야 하는 기능이면 점수+)\n",
    "- 예외처리 다 하기\n",
    "- 다른 팀 깃허브 참조하기"
   ]
  },
  {
   "cell_type": "code",
   "execution_count": null,
   "id": "47ce9d98-a96e-4c1d-a842-88eead4e6923",
   "metadata": {},
   "outputs": [],
   "source": []
  },
  {
   "cell_type": "code",
   "execution_count": null,
   "id": "f025992e-62c9-4b85-9c86-16cd0e154120",
   "metadata": {},
   "outputs": [],
   "source": []
  }
 ],
 "metadata": {
  "kernelspec": {
   "display_name": "Python 3 (ipykernel)",
   "language": "python",
   "name": "python3"
  },
  "language_info": {
   "codemirror_mode": {
    "name": "ipython",
    "version": 3
   },
   "file_extension": ".py",
   "mimetype": "text/x-python",
   "name": "python",
   "nbconvert_exporter": "python",
   "pygments_lexer": "ipython3",
   "version": "3.9.7"
  }
 },
 "nbformat": 4,
 "nbformat_minor": 5
}
